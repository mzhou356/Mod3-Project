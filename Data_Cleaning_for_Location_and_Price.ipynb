{
 "cells": [
  {
   "cell_type": "code",
   "execution_count": 1,
   "metadata": {},
   "outputs": [],
   "source": [
    "# load libraries\n",
    "import matplotlib.pyplot as plt\n",
    "import pickle\n",
    "import pandas as pd\n",
    "import numpy as np\n",
    "import warnings\n",
    "warnings.filterwarnings(\"ignore\")\n",
    "%matplotlib inline"
   ]
  },
  {
   "cell_type": "code",
   "execution_count": 2,
   "metadata": {},
   "outputs": [],
   "source": [
    "# load business detail dataframe\n",
    "yelp_business = pd.read_pickle('data/df_business_details.pkl')"
   ]
  },
  {
   "cell_type": "code",
   "execution_count": 3,
   "metadata": {},
   "outputs": [],
   "source": [
    "# filter out only relevant features\n",
    "# categories, coordinates, is_closed, location, price, rating, review_count\n",
    "filtered_yelp = yelp_business[['categories', 'coordinates', 'is_closed',\n",
    "                               'location', 'price', 'rating', 'review_count']]"
   ]
  },
  {
   "cell_type": "code",
   "execution_count": 4,
   "metadata": {
    "scrolled": false
   },
   "outputs": [
    {
     "data": {
      "text/plain": [
       "categories       object\n",
       "coordinates      object\n",
       "is_closed          bool\n",
       "location         object\n",
       "price            object\n",
       "rating          float64\n",
       "review_count      int64\n",
       "dtype: object"
      ]
     },
     "metadata": {},
     "output_type": "display_data"
    }
   ],
   "source": [
    "# turn data types into usable ones\n",
    "display(filtered_yelp.dtypes)\n",
    "# filtered_yelp.head()"
   ]
  },
  {
   "cell_type": "code",
   "execution_count": 5,
   "metadata": {
    "scrolled": true
   },
   "outputs": [
    {
     "data": {
      "text/plain": [
       "categories      False\n",
       "coordinates     False\n",
       "is_closed       False\n",
       "location        False\n",
       "price            True\n",
       "rating          False\n",
       "review_count    False\n",
       "dtype: bool"
      ]
     },
     "execution_count": 5,
     "metadata": {},
     "output_type": "execute_result"
    }
   ],
   "source": [
    "# check for na values\n",
    "filtered_yelp.isnull().any()  \n",
    "# null value in price"
   ]
  },
  {
   "cell_type": "code",
   "execution_count": 6,
   "metadata": {},
   "outputs": [
    {
     "data": {
      "text/plain": [
       "(6754, 7)"
      ]
     },
     "execution_count": 6,
     "metadata": {},
     "output_type": "execute_result"
    }
   ],
   "source": [
    "# check for rows and column nums\n",
    "filtered_yelp.shape"
   ]
  },
  {
   "cell_type": "code",
   "execution_count": 7,
   "metadata": {},
   "outputs": [],
   "source": [
    "# split lat and lon into 2 separate columns\n",
    "# noticed certian coordinates with zero na for lat and lon \n",
    "filtered_yelp['Lat'] = filtered_yelp.coordinates.apply(lambda x: x['latitude'])\n",
    "filtered_yelp['Lon'] = filtered_yelp.coordinates.apply(\n",
    "    lambda x: x['longitude'])"
   ]
  },
  {
   "cell_type": "code",
   "execution_count": 8,
   "metadata": {
    "scrolled": true
   },
   "outputs": [
    {
     "data": {
      "text/plain": [
       "categories      False\n",
       "coordinates     False\n",
       "is_closed       False\n",
       "location        False\n",
       "price            True\n",
       "rating          False\n",
       "review_count    False\n",
       "Lat              True\n",
       "Lon              True\n",
       "dtype: bool"
      ]
     },
     "execution_count": 8,
     "metadata": {},
     "output_type": "execute_result"
    }
   ],
   "source": [
    "# noticed na values in Lat and Lon \n",
    "filtered_yelp.isnull().any() \n",
    "# NA in price and Lat and Lon will investigate later "
   ]
  },
  {
   "cell_type": "code",
   "execution_count": 9,
   "metadata": {},
   "outputs": [
    {
     "data": {
      "text/plain": [
       "array(['MD', 'VA', 'DC', 'TN', 'KS', 'NDN', 'MN', 'UT', 'OH', 'NLN', 'CA',\n",
       "       'MO', 'GA', 'IL', 'XGM', 'AL', 'AZ', 'LA', 'NE', 'TX'],\n",
       "      dtype=object)"
      ]
     },
     "execution_count": 9,
     "metadata": {},
     "output_type": "execute_result"
    }
   ],
   "source": [
    "# add column for state to split location info into DC, MD, VA\n",
    "states = filtered_yelp.location.apply(lambda x: x['state'])\n",
    "filtered_yelp['state'] = states\n",
    "# check unique states\n",
    "filtered_yelp.state.unique()  # some chain restaurants may be included"
   ]
  },
  {
   "cell_type": "code",
   "execution_count": 10,
   "metadata": {},
   "outputs": [],
   "source": [
    "# filter out only states for VA, MD, and DC\n",
    "filtered_yelp = filtered_yelp[(filtered_yelp['state'] == 'VA') | (\n",
    "    filtered_yelp['state'] == 'MD') | (filtered_yelp['state'] == 'DC')]"
   ]
  },
  {
   "cell_type": "code",
   "execution_count": 11,
   "metadata": {},
   "outputs": [
    {
     "data": {
      "text/plain": [
       "(6728, 10)"
      ]
     },
     "execution_count": 11,
     "metadata": {},
     "output_type": "execute_result"
    }
   ],
   "source": [
    "# check for rows and column nums\n",
    "filtered_yelp.shape"
   ]
  },
  {
   "cell_type": "code",
   "execution_count": 12,
   "metadata": {},
   "outputs": [
    {
     "data": {
      "text/plain": [
       "1028"
      ]
     },
     "execution_count": 12,
     "metadata": {},
     "output_type": "execute_result"
    }
   ],
   "source": [
    "# check for how many price is null\n",
    "sum(filtered_yelp.price.isnull())\n",
    "# we will not remove but replace no price with median price\n",
    "# as we want to keep round dollar sign"
   ]
  },
  {
   "cell_type": "code",
   "execution_count": 13,
   "metadata": {},
   "outputs": [],
   "source": [
    "# convert $ sign into num of $ for non na values\n",
    "filtered_yelp.price[~filtered_yelp.price.isnull(\n",
    ")] = filtered_yelp.price[~filtered_yelp.price.isnull()].apply(lambda x: len(x))\n",
    "median_price = filtered_yelp.price.median()\n",
    "filtered_yelp.price[filtered_yelp.price.isnull()] = median_price"
   ]
  },
  {
   "cell_type": "code",
   "execution_count": 14,
   "metadata": {},
   "outputs": [
    {
     "data": {
      "text/plain": [
       "0"
      ]
     },
     "execution_count": 14,
     "metadata": {},
     "output_type": "execute_result"
    }
   ],
   "source": [
    "# recheck for na to make sure \n",
    "sum(filtered_yelp.price.isnull())"
   ]
  },
  {
   "cell_type": "code",
   "execution_count": 15,
   "metadata": {},
   "outputs": [],
   "source": [
    "# check for variable for is closed\n",
    "filtered_yelp.groupby('is_closed').size()\n",
    "# all are closed so no need for that column\n",
    "filtered_yelp.drop(columns=['is_closed'], inplace=True)"
   ]
  },
  {
   "cell_type": "code",
   "execution_count": 16,
   "metadata": {},
   "outputs": [],
   "source": [
    "# convert category column to a string with combo category with | symbol\n",
    "s = '|'\n",
    "filtered_yelp['categories'] = filtered_yelp.categories.apply(\n",
    "    lambda x: s.join([t['title'] for t in x]))"
   ]
  },
  {
   "cell_type": "code",
   "execution_count": 17,
   "metadata": {},
   "outputs": [
    {
     "data": {
      "text/plain": [
       "31"
      ]
     },
     "execution_count": 17,
     "metadata": {},
     "output_type": "execute_result"
    }
   ],
   "source": [
    "# check for na in coordinates for lat and lon\n",
    "# some rows lat and lon for coordiantes is nan in dictionary \n",
    "filtered_yelp.isnull().any()\n",
    "sum(filtered_yelp.Lat.isnull())\n",
    "# only 31, we will keep the rows and remove later \n",
    "# it can be used for mapping "
   ]
  },
  {
   "cell_type": "code",
   "execution_count": 18,
   "metadata": {
    "scrolled": true
   },
   "outputs": [
    {
     "data": {
      "image/png": "[encoded data removed]",
      "text/plain": [
       "<Figure size 432x288 with 1 Axes>"
      ]
     },
     "metadata": {
      "needs_background": "light"
     },
     "output_type": "display_data"
    }
   ],
   "source": [
    "# price distribution as exploratory analysis\n",
    "filtered_yelp.price.hist(density=True)\n",
    "plt.show()\n",
    "# mostly around 2 dollar signs"
   ]
  },
  {
   "cell_type": "code",
   "execution_count": 19,
   "metadata": {},
   "outputs": [
    {
     "data": {
      "text/plain": [
       "<BarContainer object of 3 artists>"
      ]
     },
     "execution_count": 19,
     "metadata": {},
     "output_type": "execute_result"
    },
    {
     "data": {
      "image/png": "[encoded data removed]",
      "text/plain": [
       "<Figure size 432x288 with 1 Axes>"
      ]
     },
     "metadata": {
      "needs_background": "light"
     },
     "output_type": "display_data"
    }
   ],
   "source": [
    "# check for location for restaurant count as eda\n",
    "plt.bar(x=filtered_yelp.groupby('state').size().index,\n",
    "        height=filtered_yelp.groupby('state').size())"
   ]
  },
  {
   "cell_type": "code",
   "execution_count": 20,
   "metadata": {
    "scrolled": true
   },
   "outputs": [
    {
     "data": {
      "text/plain": [
       "categories\n",
       "Chinese                 231\n",
       "Pizza                   204\n",
       "Sandwiches|Fast Food    148\n",
       "Mexican                 111\n",
       "American (New)           98\n",
       "dtype: int64"
      ]
     },
     "execution_count": 20,
     "metadata": {},
     "output_type": "execute_result"
    }
   ],
   "source": [
    "# top 5 most common restaurant categories\n",
    "filtered_yelp.groupby('categories').size().sort_values(ascending=False)[:5]"
   ]
  },
  {
   "cell_type": "code",
   "execution_count": 21,
   "metadata": {},
   "outputs": [],
   "source": [
    "# remove coordinates, location as no longer useful\n",
    "yelp_price_location = filtered_yelp.drop(columns=['coordinates', 'location'])"
   ]
  },
  {
   "cell_type": "code",
   "execution_count": 22,
   "metadata": {
    "scrolled": true
   },
   "outputs": [
    {
     "data": {
      "text/plain": [
       "False"
      ]
     },
     "execution_count": 22,
     "metadata": {},
     "output_type": "execute_result"
    }
   ],
   "source": [
    "# make sure no duplicated\n",
    "# couldn't earlier due to dictionary as row values\n",
    "yelp_price_location.duplicated().any()"
   ]
  },
  {
   "cell_type": "code",
   "execution_count": 23,
   "metadata": {
    "scrolled": true
   },
   "outputs": [
    {
     "data": {
      "text/html": [
       "<div>\n",
       "<style scoped>\n",
       "    .dataframe tbody tr th:only-of-type {\n",
       "        vertical-align: middle;\n",
       "    }\n",
       "\n",
       "    .dataframe tbody tr th {\n",
       "        vertical-align: top;\n",
       "    }\n",
       "\n",
       "    .dataframe thead th {\n",
       "        text-align: right;\n",
       "    }\n",
       "</style>\n",
       "<table border=\"1\" class=\"dataframe\">\n",
       "  <thead>\n",
       "    <tr style=\"text-align: right;\">\n",
       "      <th></th>\n",
       "      <th>categories</th>\n",
       "      <th>price</th>\n",
       "      <th>rating</th>\n",
       "      <th>review_count</th>\n",
       "      <th>Lat</th>\n",
       "      <th>Lon</th>\n",
       "      <th>state</th>\n",
       "    </tr>\n",
       "  </thead>\n",
       "  <tbody>\n",
       "    <tr>\n",
       "      <th>0</th>\n",
       "      <td>Salad|Seafood|American (Traditional)</td>\n",
       "      <td>2</td>\n",
       "      <td>3.5</td>\n",
       "      <td>372</td>\n",
       "      <td>38.997397</td>\n",
       "      <td>-77.026797</td>\n",
       "      <td>MD</td>\n",
       "    </tr>\n",
       "    <tr>\n",
       "      <th>1</th>\n",
       "      <td>Pizza|American (New)|Salad</td>\n",
       "      <td>2</td>\n",
       "      <td>3.5</td>\n",
       "      <td>192</td>\n",
       "      <td>38.919506</td>\n",
       "      <td>-77.224311</td>\n",
       "      <td>VA</td>\n",
       "    </tr>\n",
       "    <tr>\n",
       "      <th>2</th>\n",
       "      <td>Breakfast &amp; Brunch|American (Traditional)|Burgers</td>\n",
       "      <td>2</td>\n",
       "      <td>2.5</td>\n",
       "      <td>125</td>\n",
       "      <td>39.014190</td>\n",
       "      <td>-76.928270</td>\n",
       "      <td>MD</td>\n",
       "    </tr>\n",
       "    <tr>\n",
       "      <th>3</th>\n",
       "      <td>Seafood</td>\n",
       "      <td>1</td>\n",
       "      <td>4.0</td>\n",
       "      <td>13</td>\n",
       "      <td>38.854145</td>\n",
       "      <td>-76.897896</td>\n",
       "      <td>MD</td>\n",
       "    </tr>\n",
       "    <tr>\n",
       "      <th>4</th>\n",
       "      <td>Donuts|Coffee &amp; Tea|Breakfast &amp; Brunch</td>\n",
       "      <td>1</td>\n",
       "      <td>4.5</td>\n",
       "      <td>2</td>\n",
       "      <td>38.790540</td>\n",
       "      <td>-77.076455</td>\n",
       "      <td>VA</td>\n",
       "    </tr>\n",
       "  </tbody>\n",
       "</table>\n",
       "</div>"
      ],
      "text/plain": [
       "                                          categories price  rating  \\\n",
       "0               Salad|Seafood|American (Traditional)     2     3.5   \n",
       "1                         Pizza|American (New)|Salad     2     3.5   \n",
       "2  Breakfast & Brunch|American (Traditional)|Burgers     2     2.5   \n",
       "3                                            Seafood     1     4.0   \n",
       "4             Donuts|Coffee & Tea|Breakfast & Brunch     1     4.5   \n",
       "\n",
       "   review_count        Lat        Lon state  \n",
       "0           372  38.997397 -77.026797    MD  \n",
       "1           192  38.919506 -77.224311    VA  \n",
       "2           125  39.014190 -76.928270    MD  \n",
       "3            13  38.854145 -76.897896    MD  \n",
       "4             2  38.790540 -77.076455    VA  "
      ]
     },
     "execution_count": 23,
     "metadata": {},
     "output_type": "execute_result"
    }
   ],
   "source": [
    "# final look at the cleaned table before cleaning\n",
    "yelp_price_location.head()"
   ]
  },
  {
   "cell_type": "code",
   "execution_count": 24,
   "metadata": {},
   "outputs": [],
   "source": [
    "# save cleaned dataframe for Location and Price hypothesis\n",
    "yelp_price_location.to_pickle('data/yelp_price_location.pkl')"
   ]
  }
 ],
 "metadata": {
  "kernelspec": {
   "display_name": "Python 3",
   "language": "python",
   "name": "python3"
  },
  "language_info": {
   "codemirror_mode": {
    "name": "ipython",
    "version": 3
   },
   "file_extension": ".py",
   "mimetype": "text/x-python",
   "name": "python",
   "nbconvert_exporter": "python",
   "pygments_lexer": "ipython3",
   "version": "3.7.1"
  }
 },
 "nbformat": 4,
 "nbformat_minor": 2
}
