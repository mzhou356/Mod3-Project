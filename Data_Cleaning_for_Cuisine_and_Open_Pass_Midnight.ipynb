{
 "cells": [
  {
   "cell_type": "markdown",
   "metadata": {},
   "source": [
    "# Restaurant Industry Consulting Firm\n",
    "July 15, 2019<br>\n",
    "Ngoc, Data Cleaning\n",
    "\n",
    "-----------------"
   ]
  },
  {
   "cell_type": "markdown",
   "metadata": {},
   "source": [
    "In this notebook, we want to:\n",
    "- Clean data for Inferential Statistics step\n",
    "- Two independent variables of interest: cuisine and open_pass_midnight\n",
    "- Two targeted variables of interest: rating and review_count\n",
    "\n",
    "-------------------"
   ]
  },
  {
   "cell_type": "markdown",
   "metadata": {},
   "source": [
    "## Import Needed Libraries"
   ]
  },
  {
   "cell_type": "code",
   "execution_count": 1,
   "metadata": {},
   "outputs": [],
   "source": [
    "import warnings\n",
    "import pandas as pd\n",
    "import seaborn as sns\n",
    "import helper_functions as hf\n",
    "import matplotlib.pyplot as plt\n",
    "\n",
    "sns.set_style(\"whitegrid\")\n",
    "warnings.filterwarnings(\"ignore\")"
   ]
  },
  {
   "cell_type": "markdown",
   "metadata": {},
   "source": [
    "## Load Needed Data"
   ]
  },
  {
   "cell_type": "code",
   "execution_count": 2,
   "metadata": {},
   "outputs": [],
   "source": [
    "df = pd.read_pickle(\"data/df_business_details.pkl\")"
   ]
  },
  {
   "cell_type": "markdown",
   "metadata": {},
   "source": [
    "Quick glance:"
   ]
  },
  {
   "cell_type": "code",
   "execution_count": 3,
   "metadata": {},
   "outputs": [
    {
     "name": "stdout",
     "output_type": "stream",
     "text": [
      "6754\n"
     ]
    },
    {
     "data": {
      "text/html": [
       "<div>\n",
       "<style scoped>\n",
       "    .dataframe tbody tr th:only-of-type {\n",
       "        vertical-align: middle;\n",
       "    }\n",
       "\n",
       "    .dataframe tbody tr th {\n",
       "        vertical-align: top;\n",
       "    }\n",
       "\n",
       "    .dataframe thead th {\n",
       "        text-align: right;\n",
       "    }\n",
       "</style>\n",
       "<table border=\"1\" class=\"dataframe\">\n",
       "  <thead>\n",
       "    <tr style=\"text-align: right;\">\n",
       "      <th></th>\n",
       "      <th>alias</th>\n",
       "      <th>categories</th>\n",
       "      <th>coordinates</th>\n",
       "      <th>display_phone</th>\n",
       "      <th>hours</th>\n",
       "      <th>id</th>\n",
       "      <th>image_url</th>\n",
       "      <th>is_claimed</th>\n",
       "      <th>is_closed</th>\n",
       "      <th>location</th>\n",
       "      <th>messaging</th>\n",
       "      <th>name</th>\n",
       "      <th>phone</th>\n",
       "      <th>photos</th>\n",
       "      <th>price</th>\n",
       "      <th>rating</th>\n",
       "      <th>review_count</th>\n",
       "      <th>special_hours</th>\n",
       "      <th>transactions</th>\n",
       "      <th>url</th>\n",
       "    </tr>\n",
       "  </thead>\n",
       "  <tbody>\n",
       "    <tr>\n",
       "      <th>0</th>\n",
       "      <td>not-your-average-joes-silver-spring-2</td>\n",
       "      <td>[{'alias': 'salad', 'title': 'Salad'}, {'alias...</td>\n",
       "      <td>{'latitude': 38.9973970530383, 'longitude': -7...</td>\n",
       "      <td>(240) 839-3400</td>\n",
       "      <td>[{'open': [{'is_overnight': False, 'start': '1...</td>\n",
       "      <td>--saaXOpXBfC6-pvmTP5mw</td>\n",
       "      <td>https://s3-media3.fl.yelpcdn.com/bphoto/mZpusp...</td>\n",
       "      <td>True</td>\n",
       "      <td>False</td>\n",
       "      <td>{'address1': '8661 Colesville Rd', 'address2':...</td>\n",
       "      <td>{'url': 'https://www.yelp.com/raq/not-your-ave...</td>\n",
       "      <td>Not Your Average Joe's</td>\n",
       "      <td>+12408393400</td>\n",
       "      <td>[https://s3-media3.fl.yelpcdn.com/bphoto/mZpus...</td>\n",
       "      <td>$$</td>\n",
       "      <td>3.5</td>\n",
       "      <td>372</td>\n",
       "      <td>NaN</td>\n",
       "      <td>[]</td>\n",
       "      <td>https://www.yelp.com/biz/not-your-average-joes...</td>\n",
       "    </tr>\n",
       "    <tr>\n",
       "      <th>1</th>\n",
       "      <td>california-pizza-kitchen-at-tysons-corner-mcle...</td>\n",
       "      <td>[{'alias': 'pizza', 'title': 'Pizza'}, {'alias...</td>\n",
       "      <td>{'latitude': 38.9195057726529, 'longitude': -7...</td>\n",
       "      <td>(703) 761-1473</td>\n",
       "      <td>[{'open': [{'is_overnight': False, 'start': '1...</td>\n",
       "      <td>-0EptA8Ci4gad0arJph4VQ</td>\n",
       "      <td>https://s3-media1.fl.yelpcdn.com/bphoto/kfu56b...</td>\n",
       "      <td>True</td>\n",
       "      <td>False</td>\n",
       "      <td>{'address1': '7939 Tysons Corner Ctr', 'addres...</td>\n",
       "      <td>NaN</td>\n",
       "      <td>California Pizza Kitchen at Tysons Corner</td>\n",
       "      <td>+17037611473</td>\n",
       "      <td>[https://s3-media1.fl.yelpcdn.com/bphoto/kfu56...</td>\n",
       "      <td>$$</td>\n",
       "      <td>3.5</td>\n",
       "      <td>192</td>\n",
       "      <td>NaN</td>\n",
       "      <td>[delivery, pickup]</td>\n",
       "      <td>https://www.yelp.com/biz/california-pizza-kitc...</td>\n",
       "    </tr>\n",
       "    <tr>\n",
       "      <th>2</th>\n",
       "      <td>ihop-college-park</td>\n",
       "      <td>[{'alias': 'breakfast_brunch', 'title': 'Break...</td>\n",
       "      <td>{'latitude': 39.01419, 'longitude': -76.92827}</td>\n",
       "      <td>(301) 982-7400</td>\n",
       "      <td>[{'open': [{'is_overnight': False, 'start': '0...</td>\n",
       "      <td>-1Jfl_zix9l1RRWOPmzSEQ</td>\n",
       "      <td>https://s3-media2.fl.yelpcdn.com/bphoto/zGN5vL...</td>\n",
       "      <td>True</td>\n",
       "      <td>False</td>\n",
       "      <td>{'address1': '9680 Baltimore Ave', 'address2':...</td>\n",
       "      <td>NaN</td>\n",
       "      <td>IHOP</td>\n",
       "      <td>+13019827400</td>\n",
       "      <td>[https://s3-media2.fl.yelpcdn.com/bphoto/zGN5v...</td>\n",
       "      <td>$$</td>\n",
       "      <td>2.5</td>\n",
       "      <td>125</td>\n",
       "      <td>NaN</td>\n",
       "      <td>[pickup, delivery]</td>\n",
       "      <td>https://www.yelp.com/biz/ihop-college-park?adj...</td>\n",
       "    </tr>\n",
       "    <tr>\n",
       "      <th>3</th>\n",
       "      <td>capitol-seafood-and-crab-district-heights</td>\n",
       "      <td>[{'alias': 'seafood', 'title': 'Seafood'}]</td>\n",
       "      <td>{'latitude': 38.8541450500488, 'longitude': -7...</td>\n",
       "      <td>(301) 568-9234</td>\n",
       "      <td>NaN</td>\n",
       "      <td>-34232Z9Njha7auSGehjdQ</td>\n",
       "      <td>https://s3-media3.fl.yelpcdn.com/bphoto/4Kbfcc...</td>\n",
       "      <td>False</td>\n",
       "      <td>False</td>\n",
       "      <td>{'address1': '6326 Marlboro Pike', 'address2':...</td>\n",
       "      <td>NaN</td>\n",
       "      <td>Capitol Seafood &amp; Crab</td>\n",
       "      <td>+13015689234</td>\n",
       "      <td>[https://s3-media3.fl.yelpcdn.com/bphoto/4Kbfc...</td>\n",
       "      <td>$</td>\n",
       "      <td>4.0</td>\n",
       "      <td>13</td>\n",
       "      <td>NaN</td>\n",
       "      <td>[]</td>\n",
       "      <td>https://www.yelp.com/biz/capitol-seafood-and-c...</td>\n",
       "    </tr>\n",
       "    <tr>\n",
       "      <th>4</th>\n",
       "      <td>dunkin-donuts-alexandria-25</td>\n",
       "      <td>[{'alias': 'donuts', 'title': 'Donuts'}, {'ali...</td>\n",
       "      <td>{'latitude': 38.79054, 'longitude': -77.0764549}</td>\n",
       "      <td>(703) 379-1210</td>\n",
       "      <td>[{'open': [{'is_overnight': False, 'start': '0...</td>\n",
       "      <td>-34O36suTEIwy0DIvpW8PA</td>\n",
       "      <td>https://s3-media2.fl.yelpcdn.com/bphoto/oRtqDM...</td>\n",
       "      <td>False</td>\n",
       "      <td>False</td>\n",
       "      <td>{'address1': '5836B N Kings Hwy', 'address2': ...</td>\n",
       "      <td>NaN</td>\n",
       "      <td>Dunkin’ Donuts</td>\n",
       "      <td>+17033791210</td>\n",
       "      <td>[https://s3-media2.fl.yelpcdn.com/bphoto/oRtqD...</td>\n",
       "      <td>$</td>\n",
       "      <td>4.5</td>\n",
       "      <td>2</td>\n",
       "      <td>NaN</td>\n",
       "      <td>[]</td>\n",
       "      <td>https://www.yelp.com/biz/dunkin-donuts-alexand...</td>\n",
       "    </tr>\n",
       "  </tbody>\n",
       "</table>\n",
       "</div>"
      ],
      "text/plain": [
       "                                               alias  \\\n",
       "0              not-your-average-joes-silver-spring-2   \n",
       "1  california-pizza-kitchen-at-tysons-corner-mcle...   \n",
       "2                                  ihop-college-park   \n",
       "3          capitol-seafood-and-crab-district-heights   \n",
       "4                        dunkin-donuts-alexandria-25   \n",
       "\n",
       "                                          categories  \\\n",
       "0  [{'alias': 'salad', 'title': 'Salad'}, {'alias...   \n",
       "1  [{'alias': 'pizza', 'title': 'Pizza'}, {'alias...   \n",
       "2  [{'alias': 'breakfast_brunch', 'title': 'Break...   \n",
       "3         [{'alias': 'seafood', 'title': 'Seafood'}]   \n",
       "4  [{'alias': 'donuts', 'title': 'Donuts'}, {'ali...   \n",
       "\n",
       "                                         coordinates   display_phone  \\\n",
       "0  {'latitude': 38.9973970530383, 'longitude': -7...  (240) 839-3400   \n",
       "1  {'latitude': 38.9195057726529, 'longitude': -7...  (703) 761-1473   \n",
       "2     {'latitude': 39.01419, 'longitude': -76.92827}  (301) 982-7400   \n",
       "3  {'latitude': 38.8541450500488, 'longitude': -7...  (301) 568-9234   \n",
       "4   {'latitude': 38.79054, 'longitude': -77.0764549}  (703) 379-1210   \n",
       "\n",
       "                                               hours                      id  \\\n",
       "0  [{'open': [{'is_overnight': False, 'start': '1...  --saaXOpXBfC6-pvmTP5mw   \n",
       "1  [{'open': [{'is_overnight': False, 'start': '1...  -0EptA8Ci4gad0arJph4VQ   \n",
       "2  [{'open': [{'is_overnight': False, 'start': '0...  -1Jfl_zix9l1RRWOPmzSEQ   \n",
       "3                                                NaN  -34232Z9Njha7auSGehjdQ   \n",
       "4  [{'open': [{'is_overnight': False, 'start': '0...  -34O36suTEIwy0DIvpW8PA   \n",
       "\n",
       "                                           image_url  is_claimed  is_closed  \\\n",
       "0  https://s3-media3.fl.yelpcdn.com/bphoto/mZpusp...        True      False   \n",
       "1  https://s3-media1.fl.yelpcdn.com/bphoto/kfu56b...        True      False   \n",
       "2  https://s3-media2.fl.yelpcdn.com/bphoto/zGN5vL...        True      False   \n",
       "3  https://s3-media3.fl.yelpcdn.com/bphoto/4Kbfcc...       False      False   \n",
       "4  https://s3-media2.fl.yelpcdn.com/bphoto/oRtqDM...       False      False   \n",
       "\n",
       "                                            location  \\\n",
       "0  {'address1': '8661 Colesville Rd', 'address2':...   \n",
       "1  {'address1': '7939 Tysons Corner Ctr', 'addres...   \n",
       "2  {'address1': '9680 Baltimore Ave', 'address2':...   \n",
       "3  {'address1': '6326 Marlboro Pike', 'address2':...   \n",
       "4  {'address1': '5836B N Kings Hwy', 'address2': ...   \n",
       "\n",
       "                                           messaging  \\\n",
       "0  {'url': 'https://www.yelp.com/raq/not-your-ave...   \n",
       "1                                                NaN   \n",
       "2                                                NaN   \n",
       "3                                                NaN   \n",
       "4                                                NaN   \n",
       "\n",
       "                                        name         phone  \\\n",
       "0                     Not Your Average Joe's  +12408393400   \n",
       "1  California Pizza Kitchen at Tysons Corner  +17037611473   \n",
       "2                                       IHOP  +13019827400   \n",
       "3                     Capitol Seafood & Crab  +13015689234   \n",
       "4                             Dunkin’ Donuts  +17033791210   \n",
       "\n",
       "                                              photos price  rating  \\\n",
       "0  [https://s3-media3.fl.yelpcdn.com/bphoto/mZpus...    $$     3.5   \n",
       "1  [https://s3-media1.fl.yelpcdn.com/bphoto/kfu56...    $$     3.5   \n",
       "2  [https://s3-media2.fl.yelpcdn.com/bphoto/zGN5v...    $$     2.5   \n",
       "3  [https://s3-media3.fl.yelpcdn.com/bphoto/4Kbfc...     $     4.0   \n",
       "4  [https://s3-media2.fl.yelpcdn.com/bphoto/oRtqD...     $     4.5   \n",
       "\n",
       "   review_count special_hours        transactions  \\\n",
       "0           372           NaN                  []   \n",
       "1           192           NaN  [delivery, pickup]   \n",
       "2           125           NaN  [pickup, delivery]   \n",
       "3            13           NaN                  []   \n",
       "4             2           NaN                  []   \n",
       "\n",
       "                                                 url  \n",
       "0  https://www.yelp.com/biz/not-your-average-joes...  \n",
       "1  https://www.yelp.com/biz/california-pizza-kitc...  \n",
       "2  https://www.yelp.com/biz/ihop-college-park?adj...  \n",
       "3  https://www.yelp.com/biz/capitol-seafood-and-c...  \n",
       "4  https://www.yelp.com/biz/dunkin-donuts-alexand...  "
      ]
     },
     "execution_count": 3,
     "metadata": {},
     "output_type": "execute_result"
    }
   ],
   "source": [
    "print(len(df))\n",
    "df.head()"
   ]
  },
  {
   "cell_type": "markdown",
   "metadata": {},
   "source": [
    "## EDA"
   ]
  },
  {
   "cell_type": "markdown",
   "metadata": {},
   "source": [
    "Drop columns (straight out) not needed:"
   ]
  },
  {
   "cell_type": "code",
   "execution_count": 4,
   "metadata": {},
   "outputs": [],
   "source": [
    "df.drop(columns=[\"alias\", \"coordinates\", \"display_phone\", \"image_url\", \"is_claimed\", \"is_closed\",\n",
    "                 \"messaging\", \"phone\", \"photos\", \"price\", \"transactions\", \"url\"], inplace=True, axis=1)"
   ]
  },
  {
   "cell_type": "markdown",
   "metadata": {},
   "source": [
    "More in-depth look:"
   ]
  },
  {
   "cell_type": "code",
   "execution_count": 5,
   "metadata": {},
   "outputs": [
    {
     "data": {
      "text/html": [
       "<div>\n",
       "<style scoped>\n",
       "    .dataframe tbody tr th:only-of-type {\n",
       "        vertical-align: middle;\n",
       "    }\n",
       "\n",
       "    .dataframe tbody tr th {\n",
       "        vertical-align: top;\n",
       "    }\n",
       "\n",
       "    .dataframe thead th {\n",
       "        text-align: right;\n",
       "    }\n",
       "</style>\n",
       "<table border=\"1\" class=\"dataframe\">\n",
       "  <thead>\n",
       "    <tr style=\"text-align: right;\">\n",
       "      <th></th>\n",
       "      <th>categories</th>\n",
       "      <th>hours</th>\n",
       "      <th>id</th>\n",
       "      <th>location</th>\n",
       "      <th>name</th>\n",
       "      <th>rating</th>\n",
       "      <th>review_count</th>\n",
       "      <th>special_hours</th>\n",
       "    </tr>\n",
       "  </thead>\n",
       "  <tbody>\n",
       "    <tr>\n",
       "      <th>0</th>\n",
       "      <td>[{'alias': 'salad', 'title': 'Salad'}, {'alias...</td>\n",
       "      <td>[{'open': [{'is_overnight': False, 'start': '1...</td>\n",
       "      <td>--saaXOpXBfC6-pvmTP5mw</td>\n",
       "      <td>{'address1': '8661 Colesville Rd', 'address2':...</td>\n",
       "      <td>Not Your Average Joe's</td>\n",
       "      <td>3.5</td>\n",
       "      <td>372</td>\n",
       "      <td>NaN</td>\n",
       "    </tr>\n",
       "    <tr>\n",
       "      <th>1</th>\n",
       "      <td>[{'alias': 'pizza', 'title': 'Pizza'}, {'alias...</td>\n",
       "      <td>[{'open': [{'is_overnight': False, 'start': '1...</td>\n",
       "      <td>-0EptA8Ci4gad0arJph4VQ</td>\n",
       "      <td>{'address1': '7939 Tysons Corner Ctr', 'addres...</td>\n",
       "      <td>California Pizza Kitchen at Tysons Corner</td>\n",
       "      <td>3.5</td>\n",
       "      <td>192</td>\n",
       "      <td>NaN</td>\n",
       "    </tr>\n",
       "    <tr>\n",
       "      <th>2</th>\n",
       "      <td>[{'alias': 'breakfast_brunch', 'title': 'Break...</td>\n",
       "      <td>[{'open': [{'is_overnight': False, 'start': '0...</td>\n",
       "      <td>-1Jfl_zix9l1RRWOPmzSEQ</td>\n",
       "      <td>{'address1': '9680 Baltimore Ave', 'address2':...</td>\n",
       "      <td>IHOP</td>\n",
       "      <td>2.5</td>\n",
       "      <td>125</td>\n",
       "      <td>NaN</td>\n",
       "    </tr>\n",
       "    <tr>\n",
       "      <th>3</th>\n",
       "      <td>[{'alias': 'seafood', 'title': 'Seafood'}]</td>\n",
       "      <td>NaN</td>\n",
       "      <td>-34232Z9Njha7auSGehjdQ</td>\n",
       "      <td>{'address1': '6326 Marlboro Pike', 'address2':...</td>\n",
       "      <td>Capitol Seafood &amp; Crab</td>\n",
       "      <td>4.0</td>\n",
       "      <td>13</td>\n",
       "      <td>NaN</td>\n",
       "    </tr>\n",
       "    <tr>\n",
       "      <th>4</th>\n",
       "      <td>[{'alias': 'donuts', 'title': 'Donuts'}, {'ali...</td>\n",
       "      <td>[{'open': [{'is_overnight': False, 'start': '0...</td>\n",
       "      <td>-34O36suTEIwy0DIvpW8PA</td>\n",
       "      <td>{'address1': '5836B N Kings Hwy', 'address2': ...</td>\n",
       "      <td>Dunkin’ Donuts</td>\n",
       "      <td>4.5</td>\n",
       "      <td>2</td>\n",
       "      <td>NaN</td>\n",
       "    </tr>\n",
       "  </tbody>\n",
       "</table>\n",
       "</div>"
      ],
      "text/plain": [
       "                                          categories  \\\n",
       "0  [{'alias': 'salad', 'title': 'Salad'}, {'alias...   \n",
       "1  [{'alias': 'pizza', 'title': 'Pizza'}, {'alias...   \n",
       "2  [{'alias': 'breakfast_brunch', 'title': 'Break...   \n",
       "3         [{'alias': 'seafood', 'title': 'Seafood'}]   \n",
       "4  [{'alias': 'donuts', 'title': 'Donuts'}, {'ali...   \n",
       "\n",
       "                                               hours                      id  \\\n",
       "0  [{'open': [{'is_overnight': False, 'start': '1...  --saaXOpXBfC6-pvmTP5mw   \n",
       "1  [{'open': [{'is_overnight': False, 'start': '1...  -0EptA8Ci4gad0arJph4VQ   \n",
       "2  [{'open': [{'is_overnight': False, 'start': '0...  -1Jfl_zix9l1RRWOPmzSEQ   \n",
       "3                                                NaN  -34232Z9Njha7auSGehjdQ   \n",
       "4  [{'open': [{'is_overnight': False, 'start': '0...  -34O36suTEIwy0DIvpW8PA   \n",
       "\n",
       "                                            location  \\\n",
       "0  {'address1': '8661 Colesville Rd', 'address2':...   \n",
       "1  {'address1': '7939 Tysons Corner Ctr', 'addres...   \n",
       "2  {'address1': '9680 Baltimore Ave', 'address2':...   \n",
       "3  {'address1': '6326 Marlboro Pike', 'address2':...   \n",
       "4  {'address1': '5836B N Kings Hwy', 'address2': ...   \n",
       "\n",
       "                                        name  rating  review_count  \\\n",
       "0                     Not Your Average Joe's     3.5           372   \n",
       "1  California Pizza Kitchen at Tysons Corner     3.5           192   \n",
       "2                                       IHOP     2.5           125   \n",
       "3                     Capitol Seafood & Crab     4.0            13   \n",
       "4                             Dunkin’ Donuts     4.5             2   \n",
       "\n",
       "  special_hours  \n",
       "0           NaN  \n",
       "1           NaN  \n",
       "2           NaN  \n",
       "3           NaN  \n",
       "4           NaN  "
      ]
     },
     "execution_count": 5,
     "metadata": {},
     "output_type": "execute_result"
    }
   ],
   "source": [
    "df.head()"
   ]
  },
  {
   "cell_type": "code",
   "execution_count": 6,
   "metadata": {},
   "outputs": [
    {
     "data": {
      "text/plain": [
       "(6754, 8)"
      ]
     },
     "execution_count": 6,
     "metadata": {},
     "output_type": "execute_result"
    }
   ],
   "source": [
    "df.shape"
   ]
  },
  {
   "cell_type": "markdown",
   "metadata": {},
   "source": [
    "Check for duplicates:"
   ]
  },
  {
   "cell_type": "code",
   "execution_count": 7,
   "metadata": {},
   "outputs": [
    {
     "data": {
      "text/plain": [
       "0"
      ]
     },
     "execution_count": 7,
     "metadata": {},
     "output_type": "execute_result"
    }
   ],
   "source": [
    "sum(df.id.duplicated())"
   ]
  },
  {
   "cell_type": "code",
   "execution_count": 8,
   "metadata": {},
   "outputs": [
    {
     "name": "stdout",
     "output_type": "stream",
     "text": [
      "<class 'pandas.core.frame.DataFrame'>\n",
      "RangeIndex: 6754 entries, 0 to 6753\n",
      "Data columns (total 8 columns):\n",
      "categories       6754 non-null object\n",
      "hours            5650 non-null object\n",
      "id               6754 non-null object\n",
      "location         6754 non-null object\n",
      "name             6754 non-null object\n",
      "rating           6754 non-null float64\n",
      "review_count     6754 non-null int64\n",
      "special_hours    126 non-null object\n",
      "dtypes: float64(1), int64(1), object(6)\n",
      "memory usage: 422.2+ KB\n"
     ]
    }
   ],
   "source": [
    "df.info()"
   ]
  },
  {
   "cell_type": "markdown",
   "metadata": {},
   "source": [
    "hours and special_hours need special treatments."
   ]
  },
  {
   "cell_type": "markdown",
   "metadata": {},
   "source": [
    "### Hours"
   ]
  },
  {
   "cell_type": "code",
   "execution_count": 9,
   "metadata": {},
   "outputs": [
    {
     "data": {
      "text/plain": [
       "[{'open': [{'is_overnight': False, 'start': '1100', 'end': '2200', 'day': 0},\n",
       "   {'is_overnight': False, 'start': '1100', 'end': '2300', 'day': 1},\n",
       "   {'is_overnight': False, 'start': '1100', 'end': '2300', 'day': 2},\n",
       "   {'is_overnight': False, 'start': '1100', 'end': '2300', 'day': 3},\n",
       "   {'is_overnight': False, 'start': '1100', 'end': '0000', 'day': 4},\n",
       "   {'is_overnight': False, 'start': '1100', 'end': '0000', 'day': 5},\n",
       "   {'is_overnight': False, 'start': '1100', 'end': '2200', 'day': 6}],\n",
       "  'hours_type': 'REGULAR',\n",
       "  'is_open_now': False}]"
      ]
     },
     "execution_count": 9,
     "metadata": {},
     "output_type": "execute_result"
    }
   ],
   "source": [
    "df.iloc[0].hours"
   ]
  },
  {
   "cell_type": "markdown",
   "metadata": {},
   "source": [
    "Two things of interest: is_overnight and hours_type"
   ]
  },
  {
   "cell_type": "markdown",
   "metadata": {},
   "source": [
    "**is_overnight**"
   ]
  },
  {
   "cell_type": "code",
   "execution_count": 10,
   "metadata": {},
   "outputs": [],
   "source": [
    "hours = df[~df.hours.isna()]\n",
    "hours.reset_index(inplace=True, drop=True)"
   ]
  },
  {
   "cell_type": "code",
   "execution_count": 11,
   "metadata": {},
   "outputs": [
    {
     "name": "stdout",
     "output_type": "stream",
     "text": [
      "1124\n"
     ]
    },
    {
     "data": {
      "text/plain": [
       "['-1Jfl_zix9l1RRWOPmzSEQ',\n",
       " '-4B2Bm0hXrr043xOj85dog',\n",
       " '-7mtTaJVlmx9TqWM-CAw-A',\n",
       " '-8TkrTNeebNwFGcfDKJgRQ',\n",
       " '-8cgezcs-xEpJ_K4O8LxVA']"
      ]
     },
     "execution_count": 11,
     "metadata": {},
     "output_type": "execute_result"
    }
   ],
   "source": [
    "overnight = []\n",
    "for row in range(len(hours)):\n",
    "    for h in hours.iloc[row].hours[0][\"open\"]:\n",
    "        if h[\"is_overnight\"] != False:\n",
    "            overnight.append(hours.iloc[row].id)\n",
    "            break\n",
    "print(len(overnight))\n",
    "overnight[:5]"
   ]
  },
  {
   "cell_type": "markdown",
   "metadata": {},
   "source": [
    "Check:"
   ]
  },
  {
   "cell_type": "code",
   "execution_count": 12,
   "metadata": {},
   "outputs": [
    {
     "data": {
      "text/plain": [
       "[{'open': [{'is_overnight': True, 'start': '1500', 'end': '0200', 'day': 0},\n",
       "   {'is_overnight': True, 'start': '1500', 'end': '0200', 'day': 1},\n",
       "   {'is_overnight': True, 'start': '1100', 'end': '0200', 'day': 2},\n",
       "   {'is_overnight': True, 'start': '1100', 'end': '0200', 'day': 3},\n",
       "   {'is_overnight': True, 'start': '1100', 'end': '0200', 'day': 4},\n",
       "   {'is_overnight': True, 'start': '1100', 'end': '0200', 'day': 5},\n",
       "   {'is_overnight': True, 'start': '1100', 'end': '0200', 'day': 6}],\n",
       "  'hours_type': 'REGULAR',\n",
       "  'is_open_now': True}]"
      ]
     },
     "execution_count": 12,
     "metadata": {},
     "output_type": "execute_result"
    }
   ],
   "source": [
    "hours[hours.id == \"-8TkrTNeebNwFGcfDKJgRQ\"][\"hours\"].iloc[0]"
   ]
  },
  {
   "cell_type": "code",
   "execution_count": 13,
   "metadata": {},
   "outputs": [
    {
     "data": {
      "text/plain": [
       "[{'open': [{'is_overnight': True, 'start': '0000', 'end': '0000', 'day': 0},\n",
       "   {'is_overnight': True, 'start': '0000', 'end': '0000', 'day': 1},\n",
       "   {'is_overnight': True, 'start': '0000', 'end': '0000', 'day': 2},\n",
       "   {'is_overnight': True, 'start': '0000', 'end': '0000', 'day': 3},\n",
       "   {'is_overnight': True, 'start': '0000', 'end': '0000', 'day': 4},\n",
       "   {'is_overnight': True, 'start': '0000', 'end': '0000', 'day': 5},\n",
       "   {'is_overnight': True, 'start': '0000', 'end': '0000', 'day': 6}],\n",
       "  'hours_type': 'REGULAR',\n",
       "  'is_open_now': True}]"
      ]
     },
     "execution_count": 13,
     "metadata": {},
     "output_type": "execute_result"
    }
   ],
   "source": [
    "hours[hours.id == \"28zGYjDKjDCPOTWWO11NHw\"][\"hours\"].iloc[0]"
   ]
  },
  {
   "cell_type": "markdown",
   "metadata": {},
   "source": [
    "Add an open_pass_midnight column:"
   ]
  },
  {
   "cell_type": "code",
   "execution_count": 14,
   "metadata": {},
   "outputs": [],
   "source": [
    "df[\"open_pass_midnight\"] = [True if i in overnight else False for i in df.id]"
   ]
  },
  {
   "cell_type": "code",
   "execution_count": 15,
   "metadata": {},
   "outputs": [
    {
     "name": "stdout",
     "output_type": "stream",
     "text": [
      "1124\n"
     ]
    },
    {
     "data": {
      "text/html": [
       "<div>\n",
       "<style scoped>\n",
       "    .dataframe tbody tr th:only-of-type {\n",
       "        vertical-align: middle;\n",
       "    }\n",
       "\n",
       "    .dataframe tbody tr th {\n",
       "        vertical-align: top;\n",
       "    }\n",
       "\n",
       "    .dataframe thead th {\n",
       "        text-align: right;\n",
       "    }\n",
       "</style>\n",
       "<table border=\"1\" class=\"dataframe\">\n",
       "  <thead>\n",
       "    <tr style=\"text-align: right;\">\n",
       "      <th></th>\n",
       "      <th>categories</th>\n",
       "      <th>hours</th>\n",
       "      <th>id</th>\n",
       "      <th>location</th>\n",
       "      <th>name</th>\n",
       "      <th>rating</th>\n",
       "      <th>review_count</th>\n",
       "      <th>special_hours</th>\n",
       "      <th>open_pass_midnight</th>\n",
       "    </tr>\n",
       "  </thead>\n",
       "  <tbody>\n",
       "    <tr>\n",
       "      <th>0</th>\n",
       "      <td>[{'alias': 'salad', 'title': 'Salad'}, {'alias...</td>\n",
       "      <td>[{'open': [{'is_overnight': False, 'start': '1...</td>\n",
       "      <td>--saaXOpXBfC6-pvmTP5mw</td>\n",
       "      <td>{'address1': '8661 Colesville Rd', 'address2':...</td>\n",
       "      <td>Not Your Average Joe's</td>\n",
       "      <td>3.5</td>\n",
       "      <td>372</td>\n",
       "      <td>NaN</td>\n",
       "      <td>False</td>\n",
       "    </tr>\n",
       "    <tr>\n",
       "      <th>1</th>\n",
       "      <td>[{'alias': 'pizza', 'title': 'Pizza'}, {'alias...</td>\n",
       "      <td>[{'open': [{'is_overnight': False, 'start': '1...</td>\n",
       "      <td>-0EptA8Ci4gad0arJph4VQ</td>\n",
       "      <td>{'address1': '7939 Tysons Corner Ctr', 'addres...</td>\n",
       "      <td>California Pizza Kitchen at Tysons Corner</td>\n",
       "      <td>3.5</td>\n",
       "      <td>192</td>\n",
       "      <td>NaN</td>\n",
       "      <td>False</td>\n",
       "    </tr>\n",
       "    <tr>\n",
       "      <th>2</th>\n",
       "      <td>[{'alias': 'breakfast_brunch', 'title': 'Break...</td>\n",
       "      <td>[{'open': [{'is_overnight': False, 'start': '0...</td>\n",
       "      <td>-1Jfl_zix9l1RRWOPmzSEQ</td>\n",
       "      <td>{'address1': '9680 Baltimore Ave', 'address2':...</td>\n",
       "      <td>IHOP</td>\n",
       "      <td>2.5</td>\n",
       "      <td>125</td>\n",
       "      <td>NaN</td>\n",
       "      <td>True</td>\n",
       "    </tr>\n",
       "    <tr>\n",
       "      <th>3</th>\n",
       "      <td>[{'alias': 'seafood', 'title': 'Seafood'}]</td>\n",
       "      <td>NaN</td>\n",
       "      <td>-34232Z9Njha7auSGehjdQ</td>\n",
       "      <td>{'address1': '6326 Marlboro Pike', 'address2':...</td>\n",
       "      <td>Capitol Seafood &amp; Crab</td>\n",
       "      <td>4.0</td>\n",
       "      <td>13</td>\n",
       "      <td>NaN</td>\n",
       "      <td>False</td>\n",
       "    </tr>\n",
       "    <tr>\n",
       "      <th>4</th>\n",
       "      <td>[{'alias': 'donuts', 'title': 'Donuts'}, {'ali...</td>\n",
       "      <td>[{'open': [{'is_overnight': False, 'start': '0...</td>\n",
       "      <td>-34O36suTEIwy0DIvpW8PA</td>\n",
       "      <td>{'address1': '5836B N Kings Hwy', 'address2': ...</td>\n",
       "      <td>Dunkin’ Donuts</td>\n",
       "      <td>4.5</td>\n",
       "      <td>2</td>\n",
       "      <td>NaN</td>\n",
       "      <td>False</td>\n",
       "    </tr>\n",
       "  </tbody>\n",
       "</table>\n",
       "</div>"
      ],
      "text/plain": [
       "                                          categories  \\\n",
       "0  [{'alias': 'salad', 'title': 'Salad'}, {'alias...   \n",
       "1  [{'alias': 'pizza', 'title': 'Pizza'}, {'alias...   \n",
       "2  [{'alias': 'breakfast_brunch', 'title': 'Break...   \n",
       "3         [{'alias': 'seafood', 'title': 'Seafood'}]   \n",
       "4  [{'alias': 'donuts', 'title': 'Donuts'}, {'ali...   \n",
       "\n",
       "                                               hours                      id  \\\n",
       "0  [{'open': [{'is_overnight': False, 'start': '1...  --saaXOpXBfC6-pvmTP5mw   \n",
       "1  [{'open': [{'is_overnight': False, 'start': '1...  -0EptA8Ci4gad0arJph4VQ   \n",
       "2  [{'open': [{'is_overnight': False, 'start': '0...  -1Jfl_zix9l1RRWOPmzSEQ   \n",
       "3                                                NaN  -34232Z9Njha7auSGehjdQ   \n",
       "4  [{'open': [{'is_overnight': False, 'start': '0...  -34O36suTEIwy0DIvpW8PA   \n",
       "\n",
       "                                            location  \\\n",
       "0  {'address1': '8661 Colesville Rd', 'address2':...   \n",
       "1  {'address1': '7939 Tysons Corner Ctr', 'addres...   \n",
       "2  {'address1': '9680 Baltimore Ave', 'address2':...   \n",
       "3  {'address1': '6326 Marlboro Pike', 'address2':...   \n",
       "4  {'address1': '5836B N Kings Hwy', 'address2': ...   \n",
       "\n",
       "                                        name  rating  review_count  \\\n",
       "0                     Not Your Average Joe's     3.5           372   \n",
       "1  California Pizza Kitchen at Tysons Corner     3.5           192   \n",
       "2                                       IHOP     2.5           125   \n",
       "3                     Capitol Seafood & Crab     4.0            13   \n",
       "4                             Dunkin’ Donuts     4.5             2   \n",
       "\n",
       "  special_hours  open_pass_midnight  \n",
       "0           NaN               False  \n",
       "1           NaN               False  \n",
       "2           NaN                True  \n",
       "3           NaN               False  \n",
       "4           NaN               False  "
      ]
     },
     "execution_count": 15,
     "metadata": {},
     "output_type": "execute_result"
    }
   ],
   "source": [
    "print(sum(df.open_pass_midnight))\n",
    "df.head()"
   ]
  },
  {
   "cell_type": "markdown",
   "metadata": {},
   "source": [
    "**hours_type**"
   ]
  },
  {
   "cell_type": "code",
   "execution_count": 16,
   "metadata": {},
   "outputs": [
    {
     "name": "stdout",
     "output_type": "stream",
     "text": [
      "0\n"
     ]
    },
    {
     "data": {
      "text/plain": [
       "[]"
      ]
     },
     "execution_count": 16,
     "metadata": {},
     "output_type": "execute_result"
    }
   ],
   "source": [
    "hours_types = []\n",
    "for row in range(len(hours)):\n",
    "    if hours.iloc[row].hours[0][\"hours_type\"] != \"REGULAR\":\n",
    "        hours_types.append(hours.iloc[row].id)\n",
    "print(len(hours_types))\n",
    "hours_types"
   ]
  },
  {
   "cell_type": "markdown",
   "metadata": {},
   "source": [
    "Don't have to worry about this."
   ]
  },
  {
   "cell_type": "markdown",
   "metadata": {},
   "source": [
    "Get rid of hours column:"
   ]
  },
  {
   "cell_type": "code",
   "execution_count": 17,
   "metadata": {},
   "outputs": [],
   "source": [
    "df.drop(columns=[\"hours\"], inplace=True, axis=1)"
   ]
  },
  {
   "cell_type": "code",
   "execution_count": 18,
   "metadata": {},
   "outputs": [
    {
     "data": {
      "text/html": [
       "<div>\n",
       "<style scoped>\n",
       "    .dataframe tbody tr th:only-of-type {\n",
       "        vertical-align: middle;\n",
       "    }\n",
       "\n",
       "    .dataframe tbody tr th {\n",
       "        vertical-align: top;\n",
       "    }\n",
       "\n",
       "    .dataframe thead th {\n",
       "        text-align: right;\n",
       "    }\n",
       "</style>\n",
       "<table border=\"1\" class=\"dataframe\">\n",
       "  <thead>\n",
       "    <tr style=\"text-align: right;\">\n",
       "      <th></th>\n",
       "      <th>categories</th>\n",
       "      <th>id</th>\n",
       "      <th>location</th>\n",
       "      <th>name</th>\n",
       "      <th>rating</th>\n",
       "      <th>review_count</th>\n",
       "      <th>special_hours</th>\n",
       "      <th>open_pass_midnight</th>\n",
       "    </tr>\n",
       "  </thead>\n",
       "  <tbody>\n",
       "    <tr>\n",
       "      <th>0</th>\n",
       "      <td>[{'alias': 'salad', 'title': 'Salad'}, {'alias...</td>\n",
       "      <td>--saaXOpXBfC6-pvmTP5mw</td>\n",
       "      <td>{'address1': '8661 Colesville Rd', 'address2':...</td>\n",
       "      <td>Not Your Average Joe's</td>\n",
       "      <td>3.5</td>\n",
       "      <td>372</td>\n",
       "      <td>NaN</td>\n",
       "      <td>False</td>\n",
       "    </tr>\n",
       "    <tr>\n",
       "      <th>1</th>\n",
       "      <td>[{'alias': 'pizza', 'title': 'Pizza'}, {'alias...</td>\n",
       "      <td>-0EptA8Ci4gad0arJph4VQ</td>\n",
       "      <td>{'address1': '7939 Tysons Corner Ctr', 'addres...</td>\n",
       "      <td>California Pizza Kitchen at Tysons Corner</td>\n",
       "      <td>3.5</td>\n",
       "      <td>192</td>\n",
       "      <td>NaN</td>\n",
       "      <td>False</td>\n",
       "    </tr>\n",
       "    <tr>\n",
       "      <th>2</th>\n",
       "      <td>[{'alias': 'breakfast_brunch', 'title': 'Break...</td>\n",
       "      <td>-1Jfl_zix9l1RRWOPmzSEQ</td>\n",
       "      <td>{'address1': '9680 Baltimore Ave', 'address2':...</td>\n",
       "      <td>IHOP</td>\n",
       "      <td>2.5</td>\n",
       "      <td>125</td>\n",
       "      <td>NaN</td>\n",
       "      <td>True</td>\n",
       "    </tr>\n",
       "    <tr>\n",
       "      <th>3</th>\n",
       "      <td>[{'alias': 'seafood', 'title': 'Seafood'}]</td>\n",
       "      <td>-34232Z9Njha7auSGehjdQ</td>\n",
       "      <td>{'address1': '6326 Marlboro Pike', 'address2':...</td>\n",
       "      <td>Capitol Seafood &amp; Crab</td>\n",
       "      <td>4.0</td>\n",
       "      <td>13</td>\n",
       "      <td>NaN</td>\n",
       "      <td>False</td>\n",
       "    </tr>\n",
       "    <tr>\n",
       "      <th>4</th>\n",
       "      <td>[{'alias': 'donuts', 'title': 'Donuts'}, {'ali...</td>\n",
       "      <td>-34O36suTEIwy0DIvpW8PA</td>\n",
       "      <td>{'address1': '5836B N Kings Hwy', 'address2': ...</td>\n",
       "      <td>Dunkin’ Donuts</td>\n",
       "      <td>4.5</td>\n",
       "      <td>2</td>\n",
       "      <td>NaN</td>\n",
       "      <td>False</td>\n",
       "    </tr>\n",
       "  </tbody>\n",
       "</table>\n",
       "</div>"
      ],
      "text/plain": [
       "                                          categories                      id  \\\n",
       "0  [{'alias': 'salad', 'title': 'Salad'}, {'alias...  --saaXOpXBfC6-pvmTP5mw   \n",
       "1  [{'alias': 'pizza', 'title': 'Pizza'}, {'alias...  -0EptA8Ci4gad0arJph4VQ   \n",
       "2  [{'alias': 'breakfast_brunch', 'title': 'Break...  -1Jfl_zix9l1RRWOPmzSEQ   \n",
       "3         [{'alias': 'seafood', 'title': 'Seafood'}]  -34232Z9Njha7auSGehjdQ   \n",
       "4  [{'alias': 'donuts', 'title': 'Donuts'}, {'ali...  -34O36suTEIwy0DIvpW8PA   \n",
       "\n",
       "                                            location  \\\n",
       "0  {'address1': '8661 Colesville Rd', 'address2':...   \n",
       "1  {'address1': '7939 Tysons Corner Ctr', 'addres...   \n",
       "2  {'address1': '9680 Baltimore Ave', 'address2':...   \n",
       "3  {'address1': '6326 Marlboro Pike', 'address2':...   \n",
       "4  {'address1': '5836B N Kings Hwy', 'address2': ...   \n",
       "\n",
       "                                        name  rating  review_count  \\\n",
       "0                     Not Your Average Joe's     3.5           372   \n",
       "1  California Pizza Kitchen at Tysons Corner     3.5           192   \n",
       "2                                       IHOP     2.5           125   \n",
       "3                     Capitol Seafood & Crab     4.0            13   \n",
       "4                             Dunkin’ Donuts     4.5             2   \n",
       "\n",
       "  special_hours  open_pass_midnight  \n",
       "0           NaN               False  \n",
       "1           NaN               False  \n",
       "2           NaN                True  \n",
       "3           NaN               False  \n",
       "4           NaN               False  "
      ]
     },
     "execution_count": 18,
     "metadata": {},
     "output_type": "execute_result"
    }
   ],
   "source": [
    "df.head()"
   ]
  },
  {
   "cell_type": "markdown",
   "metadata": {},
   "source": [
    "### Special Hours"
   ]
  },
  {
   "cell_type": "code",
   "execution_count": 19,
   "metadata": {},
   "outputs": [],
   "source": [
    "special_hours = df[~df.special_hours.isna()]\n",
    "special_hours.reset_index(inplace=True, drop=True)"
   ]
  },
  {
   "cell_type": "code",
   "execution_count": 20,
   "metadata": {},
   "outputs": [
    {
     "name": "stdout",
     "output_type": "stream",
     "text": [
      "126\n"
     ]
    },
    {
     "data": {
      "text/html": [
       "<div>\n",
       "<style scoped>\n",
       "    .dataframe tbody tr th:only-of-type {\n",
       "        vertical-align: middle;\n",
       "    }\n",
       "\n",
       "    .dataframe tbody tr th {\n",
       "        vertical-align: top;\n",
       "    }\n",
       "\n",
       "    .dataframe thead th {\n",
       "        text-align: right;\n",
       "    }\n",
       "</style>\n",
       "<table border=\"1\" class=\"dataframe\">\n",
       "  <thead>\n",
       "    <tr style=\"text-align: right;\">\n",
       "      <th></th>\n",
       "      <th>categories</th>\n",
       "      <th>id</th>\n",
       "      <th>location</th>\n",
       "      <th>name</th>\n",
       "      <th>rating</th>\n",
       "      <th>review_count</th>\n",
       "      <th>special_hours</th>\n",
       "      <th>open_pass_midnight</th>\n",
       "    </tr>\n",
       "  </thead>\n",
       "  <tbody>\n",
       "    <tr>\n",
       "      <th>0</th>\n",
       "      <td>[{'alias': 'southafrican', 'title': 'South Afr...</td>\n",
       "      <td>-JdOButHwsdCxV7PocnSdg</td>\n",
       "      <td>{'address1': '4401 Wilson Blvd', 'address2': N...</td>\n",
       "      <td>Nando's PERi-PERi</td>\n",
       "      <td>3.5</td>\n",
       "      <td>103</td>\n",
       "      <td>[{'date': '2019-11-28', 'is_closed': True, 'st...</td>\n",
       "      <td>False</td>\n",
       "    </tr>\n",
       "    <tr>\n",
       "      <th>1</th>\n",
       "      <td>[{'alias': 'fooddeliveryservices', 'title': 'F...</td>\n",
       "      <td>068uD-eBFAylOBR7mqutog</td>\n",
       "      <td>{'address1': '5874 Crossroads Ctr', 'address2'...</td>\n",
       "      <td>Paisano's</td>\n",
       "      <td>3.5</td>\n",
       "      <td>92</td>\n",
       "      <td>[{'date': '2019-11-28', 'is_closed': True, 'st...</td>\n",
       "      <td>False</td>\n",
       "    </tr>\n",
       "    <tr>\n",
       "      <th>2</th>\n",
       "      <td>[{'alias': 'seafood', 'title': 'Seafood'}, {'a...</td>\n",
       "      <td>09t1c--C1-NjRnaJ_FIIWw</td>\n",
       "      <td>{'address1': '1475 Pennsylvania Ave NW', 'addr...</td>\n",
       "      <td>The Occidental</td>\n",
       "      <td>3.5</td>\n",
       "      <td>396</td>\n",
       "      <td>[{'date': '2019-09-02', 'is_closed': True, 'st...</td>\n",
       "      <td>False</td>\n",
       "    </tr>\n",
       "    <tr>\n",
       "      <th>3</th>\n",
       "      <td>[{'alias': 'mexican', 'title': 'Mexican'}]</td>\n",
       "      <td>0A0miTWeACDow_gzTEo52w</td>\n",
       "      <td>{'address1': '4600 Wisconsin Ave NW', 'address...</td>\n",
       "      <td>District Taco</td>\n",
       "      <td>3.0</td>\n",
       "      <td>74</td>\n",
       "      <td>[{'date': '2019-11-21', 'is_closed': True, 'st...</td>\n",
       "      <td>False</td>\n",
       "    </tr>\n",
       "    <tr>\n",
       "      <th>4</th>\n",
       "      <td>[{'alias': 'hotdogs', 'title': 'Fast Food'}]</td>\n",
       "      <td>0Bqsb5wAsqzqTcMv2lMemw</td>\n",
       "      <td>{'address1': '12001 Rockville Pike', 'address2...</td>\n",
       "      <td>Chick-fil-A</td>\n",
       "      <td>3.0</td>\n",
       "      <td>175</td>\n",
       "      <td>[{'date': '2019-09-02', 'is_closed': None, 'st...</td>\n",
       "      <td>False</td>\n",
       "    </tr>\n",
       "  </tbody>\n",
       "</table>\n",
       "</div>"
      ],
      "text/plain": [
       "                                          categories                      id  \\\n",
       "0  [{'alias': 'southafrican', 'title': 'South Afr...  -JdOButHwsdCxV7PocnSdg   \n",
       "1  [{'alias': 'fooddeliveryservices', 'title': 'F...  068uD-eBFAylOBR7mqutog   \n",
       "2  [{'alias': 'seafood', 'title': 'Seafood'}, {'a...  09t1c--C1-NjRnaJ_FIIWw   \n",
       "3         [{'alias': 'mexican', 'title': 'Mexican'}]  0A0miTWeACDow_gzTEo52w   \n",
       "4       [{'alias': 'hotdogs', 'title': 'Fast Food'}]  0Bqsb5wAsqzqTcMv2lMemw   \n",
       "\n",
       "                                            location               name  \\\n",
       "0  {'address1': '4401 Wilson Blvd', 'address2': N...  Nando's PERi-PERi   \n",
       "1  {'address1': '5874 Crossroads Ctr', 'address2'...          Paisano's   \n",
       "2  {'address1': '1475 Pennsylvania Ave NW', 'addr...     The Occidental   \n",
       "3  {'address1': '4600 Wisconsin Ave NW', 'address...      District Taco   \n",
       "4  {'address1': '12001 Rockville Pike', 'address2...        Chick-fil-A   \n",
       "\n",
       "   rating  review_count                                      special_hours  \\\n",
       "0     3.5           103  [{'date': '2019-11-28', 'is_closed': True, 'st...   \n",
       "1     3.5            92  [{'date': '2019-11-28', 'is_closed': True, 'st...   \n",
       "2     3.5           396  [{'date': '2019-09-02', 'is_closed': True, 'st...   \n",
       "3     3.0            74  [{'date': '2019-11-21', 'is_closed': True, 'st...   \n",
       "4     3.0           175  [{'date': '2019-09-02', 'is_closed': None, 'st...   \n",
       "\n",
       "   open_pass_midnight  \n",
       "0               False  \n",
       "1               False  \n",
       "2               False  \n",
       "3               False  \n",
       "4               False  "
      ]
     },
     "execution_count": 20,
     "metadata": {},
     "output_type": "execute_result"
    }
   ],
   "source": [
    "print(len(special_hours))\n",
    "special_hours.head()"
   ]
  },
  {
   "cell_type": "code",
   "execution_count": 21,
   "metadata": {},
   "outputs": [
    {
     "name": "stdout",
     "output_type": "stream",
     "text": [
      "1.87%\n"
     ]
    }
   ],
   "source": [
    "print(str(round(len(special_hours) / len(df) * 100, 2)) + \"%\")"
   ]
  },
  {
   "cell_type": "markdown",
   "metadata": {},
   "source": [
    "Very little data to begin with."
   ]
  },
  {
   "cell_type": "markdown",
   "metadata": {},
   "source": [
    "Find restaurants actually having special hours:"
   ]
  },
  {
   "cell_type": "code",
   "execution_count": 22,
   "metadata": {},
   "outputs": [
    {
     "name": "stdout",
     "output_type": "stream",
     "text": [
      "37\n"
     ]
    },
    {
     "data": {
      "text/plain": [
       "['0Bqsb5wAsqzqTcMv2lMemw',\n",
       " '0k8Flxj4LYElTgUNjDB-nA',\n",
       " '3AGZuiT_wrZbywBgQK81Gg',\n",
       " 'BV2E2-sE2EG7IqWWqz-Ckg',\n",
       " 'D17RgrlLBMamQRye9fYwnA']"
      ]
     },
     "execution_count": 22,
     "metadata": {},
     "output_type": "execute_result"
    }
   ],
   "source": [
    "open_special_dates = []\n",
    "for row in range(len(special_hours)):\n",
    "    for sh in special_hours.iloc[row].special_hours:\n",
    "        if sh[\"is_closed\"] != True:\n",
    "            open_special_dates.append(special_hours.iloc[row].id)\n",
    "            break\n",
    "print(len(open_special_dates))\n",
    "open_special_dates[:5]"
   ]
  },
  {
   "cell_type": "markdown",
   "metadata": {},
   "source": [
    "There are only 37 restaurants having special hours."
   ]
  },
  {
   "cell_type": "code",
   "execution_count": 23,
   "metadata": {},
   "outputs": [
    {
     "name": "stdout",
     "output_type": "stream",
     "text": [
      "0.55%\n"
     ]
    }
   ],
   "source": [
    "print(str(round(len(open_special_dates) / len(df) * 100, 2)) + \"%\")"
   ]
  },
  {
   "cell_type": "markdown",
   "metadata": {},
   "source": [
    "Not enough data."
   ]
  },
  {
   "cell_type": "markdown",
   "metadata": {},
   "source": [
    "Just out of curiosity, what are the special dates?"
   ]
  },
  {
   "cell_type": "code",
   "execution_count": 24,
   "metadata": {},
   "outputs": [
    {
     "name": "stdout",
     "output_type": "stream",
     "text": [
      "14\n"
     ]
    },
    {
     "data": {
      "text/plain": [
       "['2019-09-02',\n",
       " '2019-11-29',\n",
       " '2019-12-24',\n",
       " '2019-12-31',\n",
       " '2020-01-01',\n",
       " '2019-11-28',\n",
       " '2019-10-14',\n",
       " '2019-11-11',\n",
       " '2019-07-20',\n",
       " '2019-08-17',\n",
       " '2019-07-13',\n",
       " '2019-08-13',\n",
       " '2019-09-03',\n",
       " '2019-12-25']"
      ]
     },
     "execution_count": 24,
     "metadata": {},
     "output_type": "execute_result"
    }
   ],
   "source": [
    "special_dates = []\n",
    "for row in range(len(special_hours)):\n",
    "    for sh in special_hours.iloc[row].special_hours:\n",
    "        if sh[\"is_closed\"] != True:\n",
    "            if sh[\"date\"] not in special_dates:\n",
    "                special_dates.append(sh[\"date\"])\n",
    "print(len(special_dates))\n",
    "special_dates"
   ]
  },
  {
   "cell_type": "markdown",
   "metadata": {},
   "source": [
    "Any overnight on these special dates?"
   ]
  },
  {
   "cell_type": "code",
   "execution_count": 25,
   "metadata": {},
   "outputs": [
    {
     "name": "stdout",
     "output_type": "stream",
     "text": [
      "1\n"
     ]
    },
    {
     "data": {
      "text/plain": [
       "['0k8Flxj4LYElTgUNjDB-nA']"
      ]
     },
     "execution_count": 25,
     "metadata": {},
     "output_type": "execute_result"
    }
   ],
   "source": [
    "open_overnight_special = []\n",
    "for row in range(len(special_hours)):\n",
    "    for sh in special_hours.iloc[row].special_hours:\n",
    "        if sh[\"is_overnight\"] != False:\n",
    "            if sh[\"is_overnight\"] != None:\n",
    "                open_overnight_special.append(special_hours.iloc[row].id)\n",
    "print(len(open_overnight_special))\n",
    "open_overnight_special"
   ]
  },
  {
   "cell_type": "code",
   "execution_count": 26,
   "metadata": {},
   "outputs": [
    {
     "data": {
      "text/plain": [
       "[{'date': '2019-11-28',\n",
       "  'is_closed': None,\n",
       "  'start': '1500',\n",
       "  'end': '2030',\n",
       "  'is_overnight': False},\n",
       " {'date': '2019-12-24',\n",
       "  'is_closed': None,\n",
       "  'start': '1600',\n",
       "  'end': '2130',\n",
       "  'is_overnight': False},\n",
       " {'date': '2019-12-25',\n",
       "  'is_closed': True,\n",
       "  'start': None,\n",
       "  'end': None,\n",
       "  'is_overnight': None},\n",
       " {'date': '2019-12-26',\n",
       "  'is_closed': True,\n",
       "  'start': None,\n",
       "  'end': None,\n",
       "  'is_overnight': None},\n",
       " {'date': '2019-12-31',\n",
       "  'is_closed': None,\n",
       "  'start': '1700',\n",
       "  'end': '0100',\n",
       "  'is_overnight': True}]"
      ]
     },
     "execution_count": 26,
     "metadata": {},
     "output_type": "execute_result"
    }
   ],
   "source": [
    "df[df.id == \"0k8Flxj4LYElTgUNjDB-nA\"].special_hours.iloc[0]"
   ]
  },
  {
   "cell_type": "code",
   "execution_count": 27,
   "metadata": {},
   "outputs": [
    {
     "name": "stdout",
     "output_type": "stream",
     "text": [
      "0.01%\n"
     ]
    }
   ],
   "source": [
    "print(str(round(len(open_overnight_special) / len(df) * 100, 2)) + \"%\")"
   ]
  },
  {
   "cell_type": "markdown",
   "metadata": {},
   "source": [
    "There is only 1 restaurant open overnight and it's only open on New Year's Eve until 1 a.m. on New Year's Day.<br>\n",
    "Not enough data."
   ]
  },
  {
   "cell_type": "markdown",
   "metadata": {},
   "source": [
    "Get rid of special_hours column:"
   ]
  },
  {
   "cell_type": "code",
   "execution_count": 28,
   "metadata": {},
   "outputs": [],
   "source": [
    "df.drop(columns=[\"special_hours\"], inplace=True, axis=1)"
   ]
  },
  {
   "cell_type": "code",
   "execution_count": 29,
   "metadata": {},
   "outputs": [
    {
     "data": {
      "text/html": [
       "<div>\n",
       "<style scoped>\n",
       "    .dataframe tbody tr th:only-of-type {\n",
       "        vertical-align: middle;\n",
       "    }\n",
       "\n",
       "    .dataframe tbody tr th {\n",
       "        vertical-align: top;\n",
       "    }\n",
       "\n",
       "    .dataframe thead th {\n",
       "        text-align: right;\n",
       "    }\n",
       "</style>\n",
       "<table border=\"1\" class=\"dataframe\">\n",
       "  <thead>\n",
       "    <tr style=\"text-align: right;\">\n",
       "      <th></th>\n",
       "      <th>categories</th>\n",
       "      <th>id</th>\n",
       "      <th>location</th>\n",
       "      <th>name</th>\n",
       "      <th>rating</th>\n",
       "      <th>review_count</th>\n",
       "      <th>open_pass_midnight</th>\n",
       "    </tr>\n",
       "  </thead>\n",
       "  <tbody>\n",
       "    <tr>\n",
       "      <th>0</th>\n",
       "      <td>[{'alias': 'salad', 'title': 'Salad'}, {'alias...</td>\n",
       "      <td>--saaXOpXBfC6-pvmTP5mw</td>\n",
       "      <td>{'address1': '8661 Colesville Rd', 'address2':...</td>\n",
       "      <td>Not Your Average Joe's</td>\n",
       "      <td>3.5</td>\n",
       "      <td>372</td>\n",
       "      <td>False</td>\n",
       "    </tr>\n",
       "    <tr>\n",
       "      <th>1</th>\n",
       "      <td>[{'alias': 'pizza', 'title': 'Pizza'}, {'alias...</td>\n",
       "      <td>-0EptA8Ci4gad0arJph4VQ</td>\n",
       "      <td>{'address1': '7939 Tysons Corner Ctr', 'addres...</td>\n",
       "      <td>California Pizza Kitchen at Tysons Corner</td>\n",
       "      <td>3.5</td>\n",
       "      <td>192</td>\n",
       "      <td>False</td>\n",
       "    </tr>\n",
       "    <tr>\n",
       "      <th>2</th>\n",
       "      <td>[{'alias': 'breakfast_brunch', 'title': 'Break...</td>\n",
       "      <td>-1Jfl_zix9l1RRWOPmzSEQ</td>\n",
       "      <td>{'address1': '9680 Baltimore Ave', 'address2':...</td>\n",
       "      <td>IHOP</td>\n",
       "      <td>2.5</td>\n",
       "      <td>125</td>\n",
       "      <td>True</td>\n",
       "    </tr>\n",
       "    <tr>\n",
       "      <th>3</th>\n",
       "      <td>[{'alias': 'seafood', 'title': 'Seafood'}]</td>\n",
       "      <td>-34232Z9Njha7auSGehjdQ</td>\n",
       "      <td>{'address1': '6326 Marlboro Pike', 'address2':...</td>\n",
       "      <td>Capitol Seafood &amp; Crab</td>\n",
       "      <td>4.0</td>\n",
       "      <td>13</td>\n",
       "      <td>False</td>\n",
       "    </tr>\n",
       "    <tr>\n",
       "      <th>4</th>\n",
       "      <td>[{'alias': 'donuts', 'title': 'Donuts'}, {'ali...</td>\n",
       "      <td>-34O36suTEIwy0DIvpW8PA</td>\n",
       "      <td>{'address1': '5836B N Kings Hwy', 'address2': ...</td>\n",
       "      <td>Dunkin’ Donuts</td>\n",
       "      <td>4.5</td>\n",
       "      <td>2</td>\n",
       "      <td>False</td>\n",
       "    </tr>\n",
       "  </tbody>\n",
       "</table>\n",
       "</div>"
      ],
      "text/plain": [
       "                                          categories                      id  \\\n",
       "0  [{'alias': 'salad', 'title': 'Salad'}, {'alias...  --saaXOpXBfC6-pvmTP5mw   \n",
       "1  [{'alias': 'pizza', 'title': 'Pizza'}, {'alias...  -0EptA8Ci4gad0arJph4VQ   \n",
       "2  [{'alias': 'breakfast_brunch', 'title': 'Break...  -1Jfl_zix9l1RRWOPmzSEQ   \n",
       "3         [{'alias': 'seafood', 'title': 'Seafood'}]  -34232Z9Njha7auSGehjdQ   \n",
       "4  [{'alias': 'donuts', 'title': 'Donuts'}, {'ali...  -34O36suTEIwy0DIvpW8PA   \n",
       "\n",
       "                                            location  \\\n",
       "0  {'address1': '8661 Colesville Rd', 'address2':...   \n",
       "1  {'address1': '7939 Tysons Corner Ctr', 'addres...   \n",
       "2  {'address1': '9680 Baltimore Ave', 'address2':...   \n",
       "3  {'address1': '6326 Marlboro Pike', 'address2':...   \n",
       "4  {'address1': '5836B N Kings Hwy', 'address2': ...   \n",
       "\n",
       "                                        name  rating  review_count  \\\n",
       "0                     Not Your Average Joe's     3.5           372   \n",
       "1  California Pizza Kitchen at Tysons Corner     3.5           192   \n",
       "2                                       IHOP     2.5           125   \n",
       "3                     Capitol Seafood & Crab     4.0            13   \n",
       "4                             Dunkin’ Donuts     4.5             2   \n",
       "\n",
       "   open_pass_midnight  \n",
       "0               False  \n",
       "1               False  \n",
       "2                True  \n",
       "3               False  \n",
       "4               False  "
      ]
     },
     "execution_count": 29,
     "metadata": {},
     "output_type": "execute_result"
    }
   ],
   "source": [
    "df.head()"
   ]
  },
  {
   "cell_type": "markdown",
   "metadata": {},
   "source": [
    "### State"
   ]
  },
  {
   "cell_type": "code",
   "execution_count": 30,
   "metadata": {},
   "outputs": [
    {
     "data": {
      "text/plain": [
       "{'address1': '8661 Colesville Rd',\n",
       " 'address2': 'Ste C-153',\n",
       " 'address3': None,\n",
       " 'city': 'Silver Spring',\n",
       " 'zip_code': '20910',\n",
       " 'country': 'US',\n",
       " 'state': 'MD',\n",
       " 'display_address': ['8661 Colesville Rd',\n",
       "  'Ste C-153',\n",
       "  'Silver Spring, MD 20910'],\n",
       " 'cross_streets': ''}"
      ]
     },
     "execution_count": 30,
     "metadata": {},
     "output_type": "execute_result"
    }
   ],
   "source": [
    "df.location[0]"
   ]
  },
  {
   "cell_type": "markdown",
   "metadata": {},
   "source": [
    "Add a state column:"
   ]
  },
  {
   "cell_type": "code",
   "execution_count": 31,
   "metadata": {},
   "outputs": [],
   "source": [
    "df[\"state\"] = df.location.apply(lambda x: x[\"state\"])"
   ]
  },
  {
   "cell_type": "markdown",
   "metadata": {},
   "source": [
    "Let's check:"
   ]
  },
  {
   "cell_type": "code",
   "execution_count": 32,
   "metadata": {},
   "outputs": [
    {
     "data": {
      "text/plain": [
       "DC     2679\n",
       "VA     2081\n",
       "MD     1968\n",
       "CA        3\n",
       "OH        3\n",
       "LA        2\n",
       "AL        2\n",
       "TN        2\n",
       "MN        2\n",
       "NLN       2\n",
       "IL        1\n",
       "KS        1\n",
       "NE        1\n",
       "NDN       1\n",
       "GA        1\n",
       "MO        1\n",
       "TX        1\n",
       "UT        1\n",
       "AZ        1\n",
       "XGM       1\n",
       "Name: state, dtype: int64"
      ]
     },
     "execution_count": 32,
     "metadata": {},
     "output_type": "execute_result"
    }
   ],
   "source": [
    "df.state.value_counts()"
   ]
  },
  {
   "cell_type": "markdown",
   "metadata": {},
   "source": [
    "Get rid of anything that's not in the DMV area:"
   ]
  },
  {
   "cell_type": "code",
   "execution_count": 33,
   "metadata": {},
   "outputs": [],
   "source": [
    "dmv = [\"DC\", \"VA\", \"MD\"]\n",
    "df = df[df.state.isin(dmv)]"
   ]
  },
  {
   "cell_type": "code",
   "execution_count": 34,
   "metadata": {},
   "outputs": [],
   "source": [
    "df.reset_index(inplace=True, drop=True)"
   ]
  },
  {
   "cell_type": "code",
   "execution_count": 35,
   "metadata": {},
   "outputs": [
    {
     "data": {
      "text/html": [
       "<div>\n",
       "<style scoped>\n",
       "    .dataframe tbody tr th:only-of-type {\n",
       "        vertical-align: middle;\n",
       "    }\n",
       "\n",
       "    .dataframe tbody tr th {\n",
       "        vertical-align: top;\n",
       "    }\n",
       "\n",
       "    .dataframe thead th {\n",
       "        text-align: right;\n",
       "    }\n",
       "</style>\n",
       "<table border=\"1\" class=\"dataframe\">\n",
       "  <thead>\n",
       "    <tr style=\"text-align: right;\">\n",
       "      <th></th>\n",
       "      <th>categories</th>\n",
       "      <th>id</th>\n",
       "      <th>location</th>\n",
       "      <th>name</th>\n",
       "      <th>rating</th>\n",
       "      <th>review_count</th>\n",
       "      <th>open_pass_midnight</th>\n",
       "      <th>state</th>\n",
       "    </tr>\n",
       "  </thead>\n",
       "  <tbody>\n",
       "    <tr>\n",
       "      <th>0</th>\n",
       "      <td>[{'alias': 'salad', 'title': 'Salad'}, {'alias...</td>\n",
       "      <td>--saaXOpXBfC6-pvmTP5mw</td>\n",
       "      <td>{'address1': '8661 Colesville Rd', 'address2':...</td>\n",
       "      <td>Not Your Average Joe's</td>\n",
       "      <td>3.5</td>\n",
       "      <td>372</td>\n",
       "      <td>False</td>\n",
       "      <td>MD</td>\n",
       "    </tr>\n",
       "    <tr>\n",
       "      <th>1</th>\n",
       "      <td>[{'alias': 'pizza', 'title': 'Pizza'}, {'alias...</td>\n",
       "      <td>-0EptA8Ci4gad0arJph4VQ</td>\n",
       "      <td>{'address1': '7939 Tysons Corner Ctr', 'addres...</td>\n",
       "      <td>California Pizza Kitchen at Tysons Corner</td>\n",
       "      <td>3.5</td>\n",
       "      <td>192</td>\n",
       "      <td>False</td>\n",
       "      <td>VA</td>\n",
       "    </tr>\n",
       "    <tr>\n",
       "      <th>2</th>\n",
       "      <td>[{'alias': 'breakfast_brunch', 'title': 'Break...</td>\n",
       "      <td>-1Jfl_zix9l1RRWOPmzSEQ</td>\n",
       "      <td>{'address1': '9680 Baltimore Ave', 'address2':...</td>\n",
       "      <td>IHOP</td>\n",
       "      <td>2.5</td>\n",
       "      <td>125</td>\n",
       "      <td>True</td>\n",
       "      <td>MD</td>\n",
       "    </tr>\n",
       "    <tr>\n",
       "      <th>3</th>\n",
       "      <td>[{'alias': 'seafood', 'title': 'Seafood'}]</td>\n",
       "      <td>-34232Z9Njha7auSGehjdQ</td>\n",
       "      <td>{'address1': '6326 Marlboro Pike', 'address2':...</td>\n",
       "      <td>Capitol Seafood &amp; Crab</td>\n",
       "      <td>4.0</td>\n",
       "      <td>13</td>\n",
       "      <td>False</td>\n",
       "      <td>MD</td>\n",
       "    </tr>\n",
       "    <tr>\n",
       "      <th>4</th>\n",
       "      <td>[{'alias': 'donuts', 'title': 'Donuts'}, {'ali...</td>\n",
       "      <td>-34O36suTEIwy0DIvpW8PA</td>\n",
       "      <td>{'address1': '5836B N Kings Hwy', 'address2': ...</td>\n",
       "      <td>Dunkin’ Donuts</td>\n",
       "      <td>4.5</td>\n",
       "      <td>2</td>\n",
       "      <td>False</td>\n",
       "      <td>VA</td>\n",
       "    </tr>\n",
       "  </tbody>\n",
       "</table>\n",
       "</div>"
      ],
      "text/plain": [
       "                                          categories                      id  \\\n",
       "0  [{'alias': 'salad', 'title': 'Salad'}, {'alias...  --saaXOpXBfC6-pvmTP5mw   \n",
       "1  [{'alias': 'pizza', 'title': 'Pizza'}, {'alias...  -0EptA8Ci4gad0arJph4VQ   \n",
       "2  [{'alias': 'breakfast_brunch', 'title': 'Break...  -1Jfl_zix9l1RRWOPmzSEQ   \n",
       "3         [{'alias': 'seafood', 'title': 'Seafood'}]  -34232Z9Njha7auSGehjdQ   \n",
       "4  [{'alias': 'donuts', 'title': 'Donuts'}, {'ali...  -34O36suTEIwy0DIvpW8PA   \n",
       "\n",
       "                                            location  \\\n",
       "0  {'address1': '8661 Colesville Rd', 'address2':...   \n",
       "1  {'address1': '7939 Tysons Corner Ctr', 'addres...   \n",
       "2  {'address1': '9680 Baltimore Ave', 'address2':...   \n",
       "3  {'address1': '6326 Marlboro Pike', 'address2':...   \n",
       "4  {'address1': '5836B N Kings Hwy', 'address2': ...   \n",
       "\n",
       "                                        name  rating  review_count  \\\n",
       "0                     Not Your Average Joe's     3.5           372   \n",
       "1  California Pizza Kitchen at Tysons Corner     3.5           192   \n",
       "2                                       IHOP     2.5           125   \n",
       "3                     Capitol Seafood & Crab     4.0            13   \n",
       "4                             Dunkin’ Donuts     4.5             2   \n",
       "\n",
       "   open_pass_midnight state  \n",
       "0               False    MD  \n",
       "1               False    VA  \n",
       "2                True    MD  \n",
       "3               False    MD  \n",
       "4               False    VA  "
      ]
     },
     "execution_count": 35,
     "metadata": {},
     "output_type": "execute_result"
    }
   ],
   "source": [
    "df.head()"
   ]
  },
  {
   "cell_type": "markdown",
   "metadata": {},
   "source": [
    "Let's check:"
   ]
  },
  {
   "cell_type": "code",
   "execution_count": 36,
   "metadata": {},
   "outputs": [
    {
     "data": {
      "text/plain": [
       "DC    2679\n",
       "VA    2081\n",
       "MD    1968\n",
       "Name: state, dtype: int64"
      ]
     },
     "execution_count": 36,
     "metadata": {},
     "output_type": "execute_result"
    }
   ],
   "source": [
    "df.state.value_counts()"
   ]
  },
  {
   "cell_type": "code",
   "execution_count": 37,
   "metadata": {},
   "outputs": [
    {
     "data": {
      "image/png": "[encoded data removed]",
      "text/plain": [
       "<Figure size 720x576 with 1 Axes>"
      ]
     },
     "metadata": {
      "needs_background": "light"
     },
     "output_type": "display_data"
    }
   ],
   "source": [
    "state_count = df.state.value_counts()\n",
    "plt.figure(figsize=(10, 8))\n",
    "sns.barplot(state_count.index, state_count.values, color=\"grey\")\n",
    "plt.title(\"Number of Restaurants in the DMV Area\")\n",
    "plt.ylabel(\"Number of Restaurants\")\n",
    "plt.show()"
   ]
  },
  {
   "cell_type": "markdown",
   "metadata": {},
   "source": [
    "Nice! Enough data for each group."
   ]
  },
  {
   "cell_type": "markdown",
   "metadata": {},
   "source": [
    "Get rid of location column:"
   ]
  },
  {
   "cell_type": "code",
   "execution_count": 38,
   "metadata": {},
   "outputs": [],
   "source": [
    "df.drop(columns=[\"location\"], inplace=True, axis=1)"
   ]
  },
  {
   "cell_type": "code",
   "execution_count": 39,
   "metadata": {},
   "outputs": [
    {
     "data": {
      "text/html": [
       "<div>\n",
       "<style scoped>\n",
       "    .dataframe tbody tr th:only-of-type {\n",
       "        vertical-align: middle;\n",
       "    }\n",
       "\n",
       "    .dataframe tbody tr th {\n",
       "        vertical-align: top;\n",
       "    }\n",
       "\n",
       "    .dataframe thead th {\n",
       "        text-align: right;\n",
       "    }\n",
       "</style>\n",
       "<table border=\"1\" class=\"dataframe\">\n",
       "  <thead>\n",
       "    <tr style=\"text-align: right;\">\n",
       "      <th></th>\n",
       "      <th>categories</th>\n",
       "      <th>id</th>\n",
       "      <th>name</th>\n",
       "      <th>rating</th>\n",
       "      <th>review_count</th>\n",
       "      <th>open_pass_midnight</th>\n",
       "      <th>state</th>\n",
       "    </tr>\n",
       "  </thead>\n",
       "  <tbody>\n",
       "    <tr>\n",
       "      <th>0</th>\n",
       "      <td>[{'alias': 'salad', 'title': 'Salad'}, {'alias...</td>\n",
       "      <td>--saaXOpXBfC6-pvmTP5mw</td>\n",
       "      <td>Not Your Average Joe's</td>\n",
       "      <td>3.5</td>\n",
       "      <td>372</td>\n",
       "      <td>False</td>\n",
       "      <td>MD</td>\n",
       "    </tr>\n",
       "    <tr>\n",
       "      <th>1</th>\n",
       "      <td>[{'alias': 'pizza', 'title': 'Pizza'}, {'alias...</td>\n",
       "      <td>-0EptA8Ci4gad0arJph4VQ</td>\n",
       "      <td>California Pizza Kitchen at Tysons Corner</td>\n",
       "      <td>3.5</td>\n",
       "      <td>192</td>\n",
       "      <td>False</td>\n",
       "      <td>VA</td>\n",
       "    </tr>\n",
       "    <tr>\n",
       "      <th>2</th>\n",
       "      <td>[{'alias': 'breakfast_brunch', 'title': 'Break...</td>\n",
       "      <td>-1Jfl_zix9l1RRWOPmzSEQ</td>\n",
       "      <td>IHOP</td>\n",
       "      <td>2.5</td>\n",
       "      <td>125</td>\n",
       "      <td>True</td>\n",
       "      <td>MD</td>\n",
       "    </tr>\n",
       "    <tr>\n",
       "      <th>3</th>\n",
       "      <td>[{'alias': 'seafood', 'title': 'Seafood'}]</td>\n",
       "      <td>-34232Z9Njha7auSGehjdQ</td>\n",
       "      <td>Capitol Seafood &amp; Crab</td>\n",
       "      <td>4.0</td>\n",
       "      <td>13</td>\n",
       "      <td>False</td>\n",
       "      <td>MD</td>\n",
       "    </tr>\n",
       "    <tr>\n",
       "      <th>4</th>\n",
       "      <td>[{'alias': 'donuts', 'title': 'Donuts'}, {'ali...</td>\n",
       "      <td>-34O36suTEIwy0DIvpW8PA</td>\n",
       "      <td>Dunkin’ Donuts</td>\n",
       "      <td>4.5</td>\n",
       "      <td>2</td>\n",
       "      <td>False</td>\n",
       "      <td>VA</td>\n",
       "    </tr>\n",
       "  </tbody>\n",
       "</table>\n",
       "</div>"
      ],
      "text/plain": [
       "                                          categories                      id  \\\n",
       "0  [{'alias': 'salad', 'title': 'Salad'}, {'alias...  --saaXOpXBfC6-pvmTP5mw   \n",
       "1  [{'alias': 'pizza', 'title': 'Pizza'}, {'alias...  -0EptA8Ci4gad0arJph4VQ   \n",
       "2  [{'alias': 'breakfast_brunch', 'title': 'Break...  -1Jfl_zix9l1RRWOPmzSEQ   \n",
       "3         [{'alias': 'seafood', 'title': 'Seafood'}]  -34232Z9Njha7auSGehjdQ   \n",
       "4  [{'alias': 'donuts', 'title': 'Donuts'}, {'ali...  -34O36suTEIwy0DIvpW8PA   \n",
       "\n",
       "                                        name  rating  review_count  \\\n",
       "0                     Not Your Average Joe's     3.5           372   \n",
       "1  California Pizza Kitchen at Tysons Corner     3.5           192   \n",
       "2                                       IHOP     2.5           125   \n",
       "3                     Capitol Seafood & Crab     4.0            13   \n",
       "4                             Dunkin’ Donuts     4.5             2   \n",
       "\n",
       "   open_pass_midnight state  \n",
       "0               False    MD  \n",
       "1               False    VA  \n",
       "2                True    MD  \n",
       "3               False    MD  \n",
       "4               False    VA  "
      ]
     },
     "execution_count": 39,
     "metadata": {},
     "output_type": "execute_result"
    }
   ],
   "source": [
    "df.head()"
   ]
  },
  {
   "cell_type": "markdown",
   "metadata": {},
   "source": [
    "**DFs for open_pass_midnight per state**"
   ]
  },
  {
   "cell_type": "code",
   "execution_count": 40,
   "metadata": {},
   "outputs": [
    {
     "data": {
      "text/plain": [
       "1117"
      ]
     },
     "execution_count": 40,
     "metadata": {},
     "output_type": "execute_result"
    }
   ],
   "source": [
    "sum(df.open_pass_midnight)"
   ]
  },
  {
   "cell_type": "code",
   "execution_count": 41,
   "metadata": {},
   "outputs": [
    {
     "data": {
      "text/plain": [
       "(2679, 6)"
      ]
     },
     "execution_count": 41,
     "metadata": {},
     "output_type": "execute_result"
    }
   ],
   "source": [
    "dc_midnight = df[df.state == \"DC\"]\n",
    "dc_midnight.drop(columns=[\"categories\"], inplace=True, axis=1)\n",
    "dc_midnight.shape"
   ]
  },
  {
   "cell_type": "code",
   "execution_count": 42,
   "metadata": {},
   "outputs": [
    {
     "data": {
      "text/plain": [
       "(2081, 6)"
      ]
     },
     "execution_count": 42,
     "metadata": {},
     "output_type": "execute_result"
    }
   ],
   "source": [
    "va_midnight = df[df.state == \"VA\"]\n",
    "va_midnight.drop(columns=[\"categories\"], inplace=True, axis=1)\n",
    "va_midnight.shape"
   ]
  },
  {
   "cell_type": "code",
   "execution_count": 43,
   "metadata": {},
   "outputs": [
    {
     "data": {
      "text/plain": [
       "(1968, 6)"
      ]
     },
     "execution_count": 43,
     "metadata": {},
     "output_type": "execute_result"
    }
   ],
   "source": [
    "md_midnight = df[df.state == \"MD\"]\n",
    "md_midnight.drop(columns=[\"categories\"], inplace=True, axis=1)\n",
    "md_midnight.shape"
   ]
  },
  {
   "cell_type": "markdown",
   "metadata": {},
   "source": [
    "### Cuisines"
   ]
  },
  {
   "cell_type": "markdown",
   "metadata": {},
   "source": [
    "Study each area's most popular cuisines:"
   ]
  },
  {
   "cell_type": "code",
   "execution_count": 44,
   "metadata": {},
   "outputs": [],
   "source": [
    "df[\"cuisines\"] = df.categories.apply(lambda x: \"|\".join([i[\"title\"] for i in x]))"
   ]
  },
  {
   "cell_type": "markdown",
   "metadata": {},
   "source": [
    "Get rid of categories column:"
   ]
  },
  {
   "cell_type": "code",
   "execution_count": 45,
   "metadata": {},
   "outputs": [],
   "source": [
    "df.drop(columns=[\"categories\"], inplace=True, axis=1)"
   ]
  },
  {
   "cell_type": "code",
   "execution_count": 46,
   "metadata": {},
   "outputs": [
    {
     "data": {
      "text/html": [
       "<div>\n",
       "<style scoped>\n",
       "    .dataframe tbody tr th:only-of-type {\n",
       "        vertical-align: middle;\n",
       "    }\n",
       "\n",
       "    .dataframe tbody tr th {\n",
       "        vertical-align: top;\n",
       "    }\n",
       "\n",
       "    .dataframe thead th {\n",
       "        text-align: right;\n",
       "    }\n",
       "</style>\n",
       "<table border=\"1\" class=\"dataframe\">\n",
       "  <thead>\n",
       "    <tr style=\"text-align: right;\">\n",
       "      <th></th>\n",
       "      <th>id</th>\n",
       "      <th>name</th>\n",
       "      <th>rating</th>\n",
       "      <th>review_count</th>\n",
       "      <th>open_pass_midnight</th>\n",
       "      <th>state</th>\n",
       "      <th>cuisines</th>\n",
       "    </tr>\n",
       "  </thead>\n",
       "  <tbody>\n",
       "    <tr>\n",
       "      <th>0</th>\n",
       "      <td>--saaXOpXBfC6-pvmTP5mw</td>\n",
       "      <td>Not Your Average Joe's</td>\n",
       "      <td>3.5</td>\n",
       "      <td>372</td>\n",
       "      <td>False</td>\n",
       "      <td>MD</td>\n",
       "      <td>Salad|Seafood|American (Traditional)</td>\n",
       "    </tr>\n",
       "    <tr>\n",
       "      <th>1</th>\n",
       "      <td>-0EptA8Ci4gad0arJph4VQ</td>\n",
       "      <td>California Pizza Kitchen at Tysons Corner</td>\n",
       "      <td>3.5</td>\n",
       "      <td>192</td>\n",
       "      <td>False</td>\n",
       "      <td>VA</td>\n",
       "      <td>Pizza|American (New)|Salad</td>\n",
       "    </tr>\n",
       "    <tr>\n",
       "      <th>2</th>\n",
       "      <td>-1Jfl_zix9l1RRWOPmzSEQ</td>\n",
       "      <td>IHOP</td>\n",
       "      <td>2.5</td>\n",
       "      <td>125</td>\n",
       "      <td>True</td>\n",
       "      <td>MD</td>\n",
       "      <td>Breakfast &amp; Brunch|American (Traditional)|Burgers</td>\n",
       "    </tr>\n",
       "    <tr>\n",
       "      <th>3</th>\n",
       "      <td>-34232Z9Njha7auSGehjdQ</td>\n",
       "      <td>Capitol Seafood &amp; Crab</td>\n",
       "      <td>4.0</td>\n",
       "      <td>13</td>\n",
       "      <td>False</td>\n",
       "      <td>MD</td>\n",
       "      <td>Seafood</td>\n",
       "    </tr>\n",
       "    <tr>\n",
       "      <th>4</th>\n",
       "      <td>-34O36suTEIwy0DIvpW8PA</td>\n",
       "      <td>Dunkin’ Donuts</td>\n",
       "      <td>4.5</td>\n",
       "      <td>2</td>\n",
       "      <td>False</td>\n",
       "      <td>VA</td>\n",
       "      <td>Donuts|Coffee &amp; Tea|Breakfast &amp; Brunch</td>\n",
       "    </tr>\n",
       "  </tbody>\n",
       "</table>\n",
       "</div>"
      ],
      "text/plain": [
       "                       id                                       name  rating  \\\n",
       "0  --saaXOpXBfC6-pvmTP5mw                     Not Your Average Joe's     3.5   \n",
       "1  -0EptA8Ci4gad0arJph4VQ  California Pizza Kitchen at Tysons Corner     3.5   \n",
       "2  -1Jfl_zix9l1RRWOPmzSEQ                                       IHOP     2.5   \n",
       "3  -34232Z9Njha7auSGehjdQ                     Capitol Seafood & Crab     4.0   \n",
       "4  -34O36suTEIwy0DIvpW8PA                             Dunkin’ Donuts     4.5   \n",
       "\n",
       "   review_count  open_pass_midnight state  \\\n",
       "0           372               False    MD   \n",
       "1           192               False    VA   \n",
       "2           125                True    MD   \n",
       "3            13               False    MD   \n",
       "4             2               False    VA   \n",
       "\n",
       "                                            cuisines  \n",
       "0               Salad|Seafood|American (Traditional)  \n",
       "1                         Pizza|American (New)|Salad  \n",
       "2  Breakfast & Brunch|American (Traditional)|Burgers  \n",
       "3                                            Seafood  \n",
       "4             Donuts|Coffee & Tea|Breakfast & Brunch  "
      ]
     },
     "execution_count": 46,
     "metadata": {},
     "output_type": "execute_result"
    }
   ],
   "source": [
    "df.head()"
   ]
  },
  {
   "cell_type": "markdown",
   "metadata": {},
   "source": [
    "Use helper function to split cuisines:"
   ]
  },
  {
   "cell_type": "code",
   "execution_count": 47,
   "metadata": {},
   "outputs": [
    {
     "data": {
      "text/html": [
       "<div>\n",
       "<style scoped>\n",
       "    .dataframe tbody tr th:only-of-type {\n",
       "        vertical-align: middle;\n",
       "    }\n",
       "\n",
       "    .dataframe tbody tr th {\n",
       "        vertical-align: top;\n",
       "    }\n",
       "\n",
       "    .dataframe thead th {\n",
       "        text-align: right;\n",
       "    }\n",
       "</style>\n",
       "<table border=\"1\" class=\"dataframe\">\n",
       "  <thead>\n",
       "    <tr style=\"text-align: right;\">\n",
       "      <th></th>\n",
       "      <th>cuisine</th>\n",
       "      <th>id</th>\n",
       "    </tr>\n",
       "  </thead>\n",
       "  <tbody>\n",
       "    <tr>\n",
       "      <th>0</th>\n",
       "      <td>Salad</td>\n",
       "      <td>--saaXOpXBfC6-pvmTP5mw</td>\n",
       "    </tr>\n",
       "    <tr>\n",
       "      <th>1</th>\n",
       "      <td>Seafood</td>\n",
       "      <td>--saaXOpXBfC6-pvmTP5mw</td>\n",
       "    </tr>\n",
       "    <tr>\n",
       "      <th>2</th>\n",
       "      <td>American (Traditional)</td>\n",
       "      <td>--saaXOpXBfC6-pvmTP5mw</td>\n",
       "    </tr>\n",
       "    <tr>\n",
       "      <th>3</th>\n",
       "      <td>Pizza</td>\n",
       "      <td>-0EptA8Ci4gad0arJph4VQ</td>\n",
       "    </tr>\n",
       "    <tr>\n",
       "      <th>4</th>\n",
       "      <td>American (New)</td>\n",
       "      <td>-0EptA8Ci4gad0arJph4VQ</td>\n",
       "    </tr>\n",
       "  </tbody>\n",
       "</table>\n",
       "</div>"
      ],
      "text/plain": [
       "                  cuisine                      id\n",
       "0                   Salad  --saaXOpXBfC6-pvmTP5mw\n",
       "1                 Seafood  --saaXOpXBfC6-pvmTP5mw\n",
       "2  American (Traditional)  --saaXOpXBfC6-pvmTP5mw\n",
       "3                   Pizza  -0EptA8Ci4gad0arJph4VQ\n",
       "4          American (New)  -0EptA8Ci4gad0arJph4VQ"
      ]
     },
     "execution_count": 47,
     "metadata": {},
     "output_type": "execute_result"
    }
   ],
   "source": [
    "df_add = hf.split_rows(df, \"id\", \"cuisines\", \"|\")\n",
    "df_add.rename(columns={\"index\": \"cuisine\", 0: \"id\"}, inplace=True)\n",
    "df_add.head()"
   ]
  },
  {
   "cell_type": "code",
   "execution_count": 48,
   "metadata": {},
   "outputs": [
    {
     "data": {
      "text/html": [
       "<div>\n",
       "<style scoped>\n",
       "    .dataframe tbody tr th:only-of-type {\n",
       "        vertical-align: middle;\n",
       "    }\n",
       "\n",
       "    .dataframe tbody tr th {\n",
       "        vertical-align: top;\n",
       "    }\n",
       "\n",
       "    .dataframe thead th {\n",
       "        text-align: right;\n",
       "    }\n",
       "</style>\n",
       "<table border=\"1\" class=\"dataframe\">\n",
       "  <thead>\n",
       "    <tr style=\"text-align: right;\">\n",
       "      <th></th>\n",
       "      <th>id</th>\n",
       "      <th>name</th>\n",
       "      <th>rating</th>\n",
       "      <th>review_count</th>\n",
       "      <th>open_pass_midnight</th>\n",
       "      <th>state</th>\n",
       "      <th>cuisines</th>\n",
       "    </tr>\n",
       "  </thead>\n",
       "  <tbody>\n",
       "    <tr>\n",
       "      <th>0</th>\n",
       "      <td>--saaXOpXBfC6-pvmTP5mw</td>\n",
       "      <td>Not Your Average Joe's</td>\n",
       "      <td>3.5</td>\n",
       "      <td>372</td>\n",
       "      <td>False</td>\n",
       "      <td>MD</td>\n",
       "      <td>Salad|Seafood|American (Traditional)</td>\n",
       "    </tr>\n",
       "    <tr>\n",
       "      <th>1</th>\n",
       "      <td>-0EptA8Ci4gad0arJph4VQ</td>\n",
       "      <td>California Pizza Kitchen at Tysons Corner</td>\n",
       "      <td>3.5</td>\n",
       "      <td>192</td>\n",
       "      <td>False</td>\n",
       "      <td>VA</td>\n",
       "      <td>Pizza|American (New)|Salad</td>\n",
       "    </tr>\n",
       "    <tr>\n",
       "      <th>2</th>\n",
       "      <td>-1Jfl_zix9l1RRWOPmzSEQ</td>\n",
       "      <td>IHOP</td>\n",
       "      <td>2.5</td>\n",
       "      <td>125</td>\n",
       "      <td>True</td>\n",
       "      <td>MD</td>\n",
       "      <td>Breakfast &amp; Brunch|American (Traditional)|Burgers</td>\n",
       "    </tr>\n",
       "    <tr>\n",
       "      <th>3</th>\n",
       "      <td>-34232Z9Njha7auSGehjdQ</td>\n",
       "      <td>Capitol Seafood &amp; Crab</td>\n",
       "      <td>4.0</td>\n",
       "      <td>13</td>\n",
       "      <td>False</td>\n",
       "      <td>MD</td>\n",
       "      <td>Seafood</td>\n",
       "    </tr>\n",
       "    <tr>\n",
       "      <th>4</th>\n",
       "      <td>-34O36suTEIwy0DIvpW8PA</td>\n",
       "      <td>Dunkin’ Donuts</td>\n",
       "      <td>4.5</td>\n",
       "      <td>2</td>\n",
       "      <td>False</td>\n",
       "      <td>VA</td>\n",
       "      <td>Donuts|Coffee &amp; Tea|Breakfast &amp; Brunch</td>\n",
       "    </tr>\n",
       "  </tbody>\n",
       "</table>\n",
       "</div>"
      ],
      "text/plain": [
       "                       id                                       name  rating  \\\n",
       "0  --saaXOpXBfC6-pvmTP5mw                     Not Your Average Joe's     3.5   \n",
       "1  -0EptA8Ci4gad0arJph4VQ  California Pizza Kitchen at Tysons Corner     3.5   \n",
       "2  -1Jfl_zix9l1RRWOPmzSEQ                                       IHOP     2.5   \n",
       "3  -34232Z9Njha7auSGehjdQ                     Capitol Seafood & Crab     4.0   \n",
       "4  -34O36suTEIwy0DIvpW8PA                             Dunkin’ Donuts     4.5   \n",
       "\n",
       "   review_count  open_pass_midnight state  \\\n",
       "0           372               False    MD   \n",
       "1           192               False    VA   \n",
       "2           125                True    MD   \n",
       "3            13               False    MD   \n",
       "4             2               False    VA   \n",
       "\n",
       "                                            cuisines  \n",
       "0               Salad|Seafood|American (Traditional)  \n",
       "1                         Pizza|American (New)|Salad  \n",
       "2  Breakfast & Brunch|American (Traditional)|Burgers  \n",
       "3                                            Seafood  \n",
       "4             Donuts|Coffee & Tea|Breakfast & Brunch  "
      ]
     },
     "execution_count": 48,
     "metadata": {},
     "output_type": "execute_result"
    }
   ],
   "source": [
    "df.head()"
   ]
  },
  {
   "cell_type": "markdown",
   "metadata": {},
   "source": [
    "Join with original df:"
   ]
  },
  {
   "cell_type": "code",
   "execution_count": 49,
   "metadata": {},
   "outputs": [],
   "source": [
    "df = df.merge(df_add, on=\"id\", how=\"inner\")"
   ]
  },
  {
   "cell_type": "code",
   "execution_count": 50,
   "metadata": {},
   "outputs": [],
   "source": [
    "df.drop(columns=[\"cuisines\"], inplace=True, axis=1)"
   ]
  },
  {
   "cell_type": "code",
   "execution_count": 51,
   "metadata": {},
   "outputs": [
    {
     "data": {
      "text/html": [
       "<div>\n",
       "<style scoped>\n",
       "    .dataframe tbody tr th:only-of-type {\n",
       "        vertical-align: middle;\n",
       "    }\n",
       "\n",
       "    .dataframe tbody tr th {\n",
       "        vertical-align: top;\n",
       "    }\n",
       "\n",
       "    .dataframe thead th {\n",
       "        text-align: right;\n",
       "    }\n",
       "</style>\n",
       "<table border=\"1\" class=\"dataframe\">\n",
       "  <thead>\n",
       "    <tr style=\"text-align: right;\">\n",
       "      <th></th>\n",
       "      <th>id</th>\n",
       "      <th>name</th>\n",
       "      <th>rating</th>\n",
       "      <th>review_count</th>\n",
       "      <th>open_pass_midnight</th>\n",
       "      <th>state</th>\n",
       "      <th>cuisine</th>\n",
       "    </tr>\n",
       "  </thead>\n",
       "  <tbody>\n",
       "    <tr>\n",
       "      <th>0</th>\n",
       "      <td>--saaXOpXBfC6-pvmTP5mw</td>\n",
       "      <td>Not Your Average Joe's</td>\n",
       "      <td>3.5</td>\n",
       "      <td>372</td>\n",
       "      <td>False</td>\n",
       "      <td>MD</td>\n",
       "      <td>Salad</td>\n",
       "    </tr>\n",
       "    <tr>\n",
       "      <th>1</th>\n",
       "      <td>--saaXOpXBfC6-pvmTP5mw</td>\n",
       "      <td>Not Your Average Joe's</td>\n",
       "      <td>3.5</td>\n",
       "      <td>372</td>\n",
       "      <td>False</td>\n",
       "      <td>MD</td>\n",
       "      <td>Seafood</td>\n",
       "    </tr>\n",
       "    <tr>\n",
       "      <th>2</th>\n",
       "      <td>--saaXOpXBfC6-pvmTP5mw</td>\n",
       "      <td>Not Your Average Joe's</td>\n",
       "      <td>3.5</td>\n",
       "      <td>372</td>\n",
       "      <td>False</td>\n",
       "      <td>MD</td>\n",
       "      <td>American (Traditional)</td>\n",
       "    </tr>\n",
       "    <tr>\n",
       "      <th>3</th>\n",
       "      <td>-0EptA8Ci4gad0arJph4VQ</td>\n",
       "      <td>California Pizza Kitchen at Tysons Corner</td>\n",
       "      <td>3.5</td>\n",
       "      <td>192</td>\n",
       "      <td>False</td>\n",
       "      <td>VA</td>\n",
       "      <td>Pizza</td>\n",
       "    </tr>\n",
       "    <tr>\n",
       "      <th>4</th>\n",
       "      <td>-0EptA8Ci4gad0arJph4VQ</td>\n",
       "      <td>California Pizza Kitchen at Tysons Corner</td>\n",
       "      <td>3.5</td>\n",
       "      <td>192</td>\n",
       "      <td>False</td>\n",
       "      <td>VA</td>\n",
       "      <td>American (New)</td>\n",
       "    </tr>\n",
       "    <tr>\n",
       "      <th>5</th>\n",
       "      <td>-0EptA8Ci4gad0arJph4VQ</td>\n",
       "      <td>California Pizza Kitchen at Tysons Corner</td>\n",
       "      <td>3.5</td>\n",
       "      <td>192</td>\n",
       "      <td>False</td>\n",
       "      <td>VA</td>\n",
       "      <td>Salad</td>\n",
       "    </tr>\n",
       "    <tr>\n",
       "      <th>6</th>\n",
       "      <td>-1Jfl_zix9l1RRWOPmzSEQ</td>\n",
       "      <td>IHOP</td>\n",
       "      <td>2.5</td>\n",
       "      <td>125</td>\n",
       "      <td>True</td>\n",
       "      <td>MD</td>\n",
       "      <td>Breakfast &amp; Brunch</td>\n",
       "    </tr>\n",
       "    <tr>\n",
       "      <th>7</th>\n",
       "      <td>-1Jfl_zix9l1RRWOPmzSEQ</td>\n",
       "      <td>IHOP</td>\n",
       "      <td>2.5</td>\n",
       "      <td>125</td>\n",
       "      <td>True</td>\n",
       "      <td>MD</td>\n",
       "      <td>American (Traditional)</td>\n",
       "    </tr>\n",
       "    <tr>\n",
       "      <th>8</th>\n",
       "      <td>-1Jfl_zix9l1RRWOPmzSEQ</td>\n",
       "      <td>IHOP</td>\n",
       "      <td>2.5</td>\n",
       "      <td>125</td>\n",
       "      <td>True</td>\n",
       "      <td>MD</td>\n",
       "      <td>Burgers</td>\n",
       "    </tr>\n",
       "    <tr>\n",
       "      <th>9</th>\n",
       "      <td>-34232Z9Njha7auSGehjdQ</td>\n",
       "      <td>Capitol Seafood &amp; Crab</td>\n",
       "      <td>4.0</td>\n",
       "      <td>13</td>\n",
       "      <td>False</td>\n",
       "      <td>MD</td>\n",
       "      <td>Seafood</td>\n",
       "    </tr>\n",
       "  </tbody>\n",
       "</table>\n",
       "</div>"
      ],
      "text/plain": [
       "                       id                                       name  rating  \\\n",
       "0  --saaXOpXBfC6-pvmTP5mw                     Not Your Average Joe's     3.5   \n",
       "1  --saaXOpXBfC6-pvmTP5mw                     Not Your Average Joe's     3.5   \n",
       "2  --saaXOpXBfC6-pvmTP5mw                     Not Your Average Joe's     3.5   \n",
       "3  -0EptA8Ci4gad0arJph4VQ  California Pizza Kitchen at Tysons Corner     3.5   \n",
       "4  -0EptA8Ci4gad0arJph4VQ  California Pizza Kitchen at Tysons Corner     3.5   \n",
       "5  -0EptA8Ci4gad0arJph4VQ  California Pizza Kitchen at Tysons Corner     3.5   \n",
       "6  -1Jfl_zix9l1RRWOPmzSEQ                                       IHOP     2.5   \n",
       "7  -1Jfl_zix9l1RRWOPmzSEQ                                       IHOP     2.5   \n",
       "8  -1Jfl_zix9l1RRWOPmzSEQ                                       IHOP     2.5   \n",
       "9  -34232Z9Njha7auSGehjdQ                     Capitol Seafood & Crab     4.0   \n",
       "\n",
       "   review_count  open_pass_midnight state                 cuisine  \n",
       "0           372               False    MD                   Salad  \n",
       "1           372               False    MD                 Seafood  \n",
       "2           372               False    MD  American (Traditional)  \n",
       "3           192               False    VA                   Pizza  \n",
       "4           192               False    VA          American (New)  \n",
       "5           192               False    VA                   Salad  \n",
       "6           125                True    MD      Breakfast & Brunch  \n",
       "7           125                True    MD  American (Traditional)  \n",
       "8           125                True    MD                 Burgers  \n",
       "9            13               False    MD                 Seafood  "
      ]
     },
     "execution_count": 51,
     "metadata": {},
     "output_type": "execute_result"
    }
   ],
   "source": [
    "df.head(10)"
   ]
  },
  {
   "cell_type": "code",
   "execution_count": 52,
   "metadata": {},
   "outputs": [
    {
     "data": {
      "text/plain": [
       "13946"
      ]
     },
     "execution_count": 52,
     "metadata": {},
     "output_type": "execute_result"
    }
   ],
   "source": [
    "len(df)"
   ]
  },
  {
   "cell_type": "markdown",
   "metadata": {},
   "source": [
    "Split data, state wise:"
   ]
  },
  {
   "cell_type": "code",
   "execution_count": 53,
   "metadata": {},
   "outputs": [
    {
     "data": {
      "text/plain": [
       "(5594, 7)"
      ]
     },
     "execution_count": 53,
     "metadata": {},
     "output_type": "execute_result"
    }
   ],
   "source": [
    "dc = df[df.state == \"DC\"]\n",
    "dc.shape"
   ]
  },
  {
   "cell_type": "code",
   "execution_count": 54,
   "metadata": {},
   "outputs": [
    {
     "data": {
      "text/plain": [
       "(4382, 7)"
      ]
     },
     "execution_count": 54,
     "metadata": {},
     "output_type": "execute_result"
    }
   ],
   "source": [
    "va = df[df.state == \"VA\"]\n",
    "va.shape"
   ]
  },
  {
   "cell_type": "code",
   "execution_count": 55,
   "metadata": {},
   "outputs": [
    {
     "data": {
      "text/plain": [
       "(3970, 7)"
      ]
     },
     "execution_count": 55,
     "metadata": {},
     "output_type": "execute_result"
    }
   ],
   "source": [
    "md = df[df.state == \"MD\"]\n",
    "md.shape"
   ]
  },
  {
   "cell_type": "markdown",
   "metadata": {},
   "source": [
    "**DC**"
   ]
  },
  {
   "cell_type": "markdown",
   "metadata": {},
   "source": [
    "Total number of restaurants for each cuisine:"
   ]
  },
  {
   "cell_type": "code",
   "execution_count": 56,
   "metadata": {},
   "outputs": [],
   "source": [
    "dc_count_by_cuisine = dc.groupby(\"cuisine\")[\"review_count\"].count()"
   ]
  },
  {
   "cell_type": "code",
   "execution_count": 57,
   "metadata": {},
   "outputs": [
    {
     "data": {
      "text/plain": [
       "cuisine\n",
       "Sandwiches                403\n",
       "Breakfast & Brunch        259\n",
       "American (New)            249\n",
       "American (Traditional)    241\n",
       "Fast Food                 238\n",
       "Name: review_count, dtype: int64"
      ]
     },
     "execution_count": 57,
     "metadata": {},
     "output_type": "execute_result"
    }
   ],
   "source": [
    "dc_count_by_cuisine.sort_values(ascending=False).head()"
   ]
  },
  {
   "cell_type": "markdown",
   "metadata": {},
   "source": [
    "We want cuisines that have at least 20 restaurants:"
   ]
  },
  {
   "cell_type": "code",
   "execution_count": 58,
   "metadata": {},
   "outputs": [],
   "source": [
    "dc_cuisines = dc_count_by_cuisine[dc_count_by_cuisine >= 20].index"
   ]
  },
  {
   "cell_type": "code",
   "execution_count": 59,
   "metadata": {},
   "outputs": [
    {
     "name": "stdout",
     "output_type": "stream",
     "text": [
      "60\n"
     ]
    },
    {
     "data": {
      "text/plain": [
       "Index(['American (New)', 'American (Traditional)', 'Asian Fusion', 'Bakeries',\n",
       "       'Barbeque', 'Bars', 'Beer Bar', 'Breakfast & Brunch', 'Burgers',\n",
       "       'Cafes', 'Caribbean', 'Chicken Shop', 'Chicken Wings', 'Chinese',\n",
       "       'Cocktail Bars', 'Coffee & Tea', 'Delis', 'Desserts', 'Diners',\n",
       "       'Ethiopian', 'Fast Food', 'Food Stands', 'Food Trucks', 'French',\n",
       "       'Gluten-Free', 'Greek', 'Halal', 'Indian', 'Italian', 'Japanese',\n",
       "       'Juice Bars & Smoothies', 'Korean', 'Latin American', 'Lounges',\n",
       "       'Mediterranean', 'Mexican', 'Middle Eastern', 'Pizza', 'Pubs', 'Ramen',\n",
       "       'Salad', 'Salvadoran', 'Sandwiches', 'Seafood', 'Soul Food', 'Soup',\n",
       "       'Southern', 'Spanish', 'Sports Bars', 'Steakhouses', 'Sushi Bars',\n",
       "       'Tacos', 'Tapas/Small Plates', 'Tex-Mex', 'Thai', 'Vegan', 'Vegetarian',\n",
       "       'Venues & Event Spaces', 'Vietnamese', 'Wine Bars'],\n",
       "      dtype='object', name='cuisine')"
      ]
     },
     "execution_count": 59,
     "metadata": {},
     "output_type": "execute_result"
    }
   ],
   "source": [
    "print(len(dc_cuisines))\n",
    "dc_cuisines"
   ]
  },
  {
   "cell_type": "markdown",
   "metadata": {},
   "source": [
    "Update dc df:"
   ]
  },
  {
   "cell_type": "code",
   "execution_count": 60,
   "metadata": {},
   "outputs": [],
   "source": [
    "dc_new = dc[dc.cuisine.isin(dc_cuisines)]\n",
    "dc_new.reset_index(inplace=True, drop=True)"
   ]
  },
  {
   "cell_type": "code",
   "execution_count": 61,
   "metadata": {},
   "outputs": [
    {
     "name": "stdout",
     "output_type": "stream",
     "text": [
      "4882\n"
     ]
    },
    {
     "data": {
      "text/html": [
       "<div>\n",
       "<style scoped>\n",
       "    .dataframe tbody tr th:only-of-type {\n",
       "        vertical-align: middle;\n",
       "    }\n",
       "\n",
       "    .dataframe tbody tr th {\n",
       "        vertical-align: top;\n",
       "    }\n",
       "\n",
       "    .dataframe thead th {\n",
       "        text-align: right;\n",
       "    }\n",
       "</style>\n",
       "<table border=\"1\" class=\"dataframe\">\n",
       "  <thead>\n",
       "    <tr style=\"text-align: right;\">\n",
       "      <th></th>\n",
       "      <th>id</th>\n",
       "      <th>name</th>\n",
       "      <th>rating</th>\n",
       "      <th>review_count</th>\n",
       "      <th>open_pass_midnight</th>\n",
       "      <th>state</th>\n",
       "      <th>cuisine</th>\n",
       "    </tr>\n",
       "  </thead>\n",
       "  <tbody>\n",
       "    <tr>\n",
       "      <th>0</th>\n",
       "      <td>-3r9TfGuLzx_CRh9b8u6iA</td>\n",
       "      <td>Absolute Thai Restaurant</td>\n",
       "      <td>3.5</td>\n",
       "      <td>374</td>\n",
       "      <td>False</td>\n",
       "      <td>DC</td>\n",
       "      <td>Thai</td>\n",
       "    </tr>\n",
       "    <tr>\n",
       "      <th>1</th>\n",
       "      <td>-7AZWvUzAiAI-rnAW-WoqQ</td>\n",
       "      <td>Ricks Cafe</td>\n",
       "      <td>3.5</td>\n",
       "      <td>72</td>\n",
       "      <td>False</td>\n",
       "      <td>DC</td>\n",
       "      <td>Caribbean</td>\n",
       "    </tr>\n",
       "    <tr>\n",
       "      <th>2</th>\n",
       "      <td>-8KtYXAQNOh1339Z7gl4WQ</td>\n",
       "      <td>Chopt Creative Salad Co.</td>\n",
       "      <td>3.0</td>\n",
       "      <td>50</td>\n",
       "      <td>False</td>\n",
       "      <td>DC</td>\n",
       "      <td>Salad</td>\n",
       "    </tr>\n",
       "    <tr>\n",
       "      <th>3</th>\n",
       "      <td>-8KtYXAQNOh1339Z7gl4WQ</td>\n",
       "      <td>Chopt Creative Salad Co.</td>\n",
       "      <td>3.0</td>\n",
       "      <td>50</td>\n",
       "      <td>False</td>\n",
       "      <td>DC</td>\n",
       "      <td>Vegetarian</td>\n",
       "    </tr>\n",
       "    <tr>\n",
       "      <th>4</th>\n",
       "      <td>-8cgezcs-xEpJ_K4O8LxVA</td>\n",
       "      <td>Harry's Restaurant</td>\n",
       "      <td>3.0</td>\n",
       "      <td>449</td>\n",
       "      <td>True</td>\n",
       "      <td>DC</td>\n",
       "      <td>American (Traditional)</td>\n",
       "    </tr>\n",
       "  </tbody>\n",
       "</table>\n",
       "</div>"
      ],
      "text/plain": [
       "                       id                      name  rating  review_count  \\\n",
       "0  -3r9TfGuLzx_CRh9b8u6iA  Absolute Thai Restaurant     3.5           374   \n",
       "1  -7AZWvUzAiAI-rnAW-WoqQ                Ricks Cafe     3.5            72   \n",
       "2  -8KtYXAQNOh1339Z7gl4WQ  Chopt Creative Salad Co.     3.0            50   \n",
       "3  -8KtYXAQNOh1339Z7gl4WQ  Chopt Creative Salad Co.     3.0            50   \n",
       "4  -8cgezcs-xEpJ_K4O8LxVA        Harry's Restaurant     3.0           449   \n",
       "\n",
       "   open_pass_midnight state                 cuisine  \n",
       "0               False    DC                    Thai  \n",
       "1               False    DC               Caribbean  \n",
       "2               False    DC                   Salad  \n",
       "3               False    DC              Vegetarian  \n",
       "4                True    DC  American (Traditional)  "
      ]
     },
     "execution_count": 61,
     "metadata": {},
     "output_type": "execute_result"
    }
   ],
   "source": [
    "print(len(dc_new))\n",
    "dc_new.head()"
   ]
  },
  {
   "cell_type": "markdown",
   "metadata": {},
   "source": [
    "**VA**"
   ]
  },
  {
   "cell_type": "markdown",
   "metadata": {},
   "source": [
    "Total number of restaurants for each cuisine:"
   ]
  },
  {
   "cell_type": "code",
   "execution_count": 62,
   "metadata": {},
   "outputs": [],
   "source": [
    "va_count_by_cuisine = va.groupby(\"cuisine\")[\"review_count\"].count()"
   ]
  },
  {
   "cell_type": "code",
   "execution_count": 63,
   "metadata": {},
   "outputs": [
    {
     "data": {
      "text/plain": [
       "cuisine\n",
       "Sandwiches                288\n",
       "Fast Food                 237\n",
       "Pizza                     216\n",
       "American (Traditional)    191\n",
       "Breakfast & Brunch        153\n",
       "Name: review_count, dtype: int64"
      ]
     },
     "execution_count": 63,
     "metadata": {},
     "output_type": "execute_result"
    }
   ],
   "source": [
    "va_count_by_cuisine.sort_values(ascending=False).head()"
   ]
  },
  {
   "cell_type": "markdown",
   "metadata": {},
   "source": [
    "We want cuisines that have at least 20 restaurants:"
   ]
  },
  {
   "cell_type": "code",
   "execution_count": 64,
   "metadata": {},
   "outputs": [],
   "source": [
    "va_cuisines = va_count_by_cuisine[va_count_by_cuisine >= 20].index"
   ]
  },
  {
   "cell_type": "code",
   "execution_count": 65,
   "metadata": {},
   "outputs": [
    {
     "name": "stdout",
     "output_type": "stream",
     "text": [
      "46\n"
     ]
    },
    {
     "data": {
      "text/plain": [
       "Index(['American (New)', 'American (Traditional)', 'Asian Fusion', 'Bakeries',\n",
       "       'Barbeque', 'Bars', 'Breakfast & Brunch', 'Buffets', 'Burgers', 'Cafes',\n",
       "       'Chicken Shop', 'Chicken Wings', 'Chinese', 'Cocktail Bars',\n",
       "       'Coffee & Tea', 'Delis', 'Desserts', 'Ethiopian', 'Fast Food',\n",
       "       'Food Trucks', 'Greek', 'Halal', 'Indian', 'Italian', 'Japanese',\n",
       "       'Korean', 'Latin American', 'Mediterranean', 'Mexican',\n",
       "       'Middle Eastern', 'Noodles', 'Peruvian', 'Pizza', 'Salad', 'Salvadoran',\n",
       "       'Sandwiches', 'Seafood', 'Soup', 'Sports Bars', 'Steakhouses',\n",
       "       'Sushi Bars', 'Tex-Mex', 'Thai', 'Vegetarian', 'Vietnamese',\n",
       "       'Wine Bars'],\n",
       "      dtype='object', name='cuisine')"
      ]
     },
     "execution_count": 65,
     "metadata": {},
     "output_type": "execute_result"
    }
   ],
   "source": [
    "print(len(va_cuisines))\n",
    "va_cuisines"
   ]
  },
  {
   "cell_type": "markdown",
   "metadata": {},
   "source": [
    "Update va df:"
   ]
  },
  {
   "cell_type": "code",
   "execution_count": 66,
   "metadata": {},
   "outputs": [],
   "source": [
    "va_new = va[va.cuisine.isin(va_cuisines)]\n",
    "va_new.reset_index(inplace=True, drop=True)"
   ]
  },
  {
   "cell_type": "code",
   "execution_count": 67,
   "metadata": {},
   "outputs": [
    {
     "name": "stdout",
     "output_type": "stream",
     "text": [
      "3653\n"
     ]
    },
    {
     "data": {
      "text/html": [
       "<div>\n",
       "<style scoped>\n",
       "    .dataframe tbody tr th:only-of-type {\n",
       "        vertical-align: middle;\n",
       "    }\n",
       "\n",
       "    .dataframe tbody tr th {\n",
       "        vertical-align: top;\n",
       "    }\n",
       "\n",
       "    .dataframe thead th {\n",
       "        text-align: right;\n",
       "    }\n",
       "</style>\n",
       "<table border=\"1\" class=\"dataframe\">\n",
       "  <thead>\n",
       "    <tr style=\"text-align: right;\">\n",
       "      <th></th>\n",
       "      <th>id</th>\n",
       "      <th>name</th>\n",
       "      <th>rating</th>\n",
       "      <th>review_count</th>\n",
       "      <th>open_pass_midnight</th>\n",
       "      <th>state</th>\n",
       "      <th>cuisine</th>\n",
       "    </tr>\n",
       "  </thead>\n",
       "  <tbody>\n",
       "    <tr>\n",
       "      <th>0</th>\n",
       "      <td>-0EptA8Ci4gad0arJph4VQ</td>\n",
       "      <td>California Pizza Kitchen at Tysons Corner</td>\n",
       "      <td>3.5</td>\n",
       "      <td>192</td>\n",
       "      <td>False</td>\n",
       "      <td>VA</td>\n",
       "      <td>Pizza</td>\n",
       "    </tr>\n",
       "    <tr>\n",
       "      <th>1</th>\n",
       "      <td>-0EptA8Ci4gad0arJph4VQ</td>\n",
       "      <td>California Pizza Kitchen at Tysons Corner</td>\n",
       "      <td>3.5</td>\n",
       "      <td>192</td>\n",
       "      <td>False</td>\n",
       "      <td>VA</td>\n",
       "      <td>American (New)</td>\n",
       "    </tr>\n",
       "    <tr>\n",
       "      <th>2</th>\n",
       "      <td>-0EptA8Ci4gad0arJph4VQ</td>\n",
       "      <td>California Pizza Kitchen at Tysons Corner</td>\n",
       "      <td>3.5</td>\n",
       "      <td>192</td>\n",
       "      <td>False</td>\n",
       "      <td>VA</td>\n",
       "      <td>Salad</td>\n",
       "    </tr>\n",
       "    <tr>\n",
       "      <th>3</th>\n",
       "      <td>-34O36suTEIwy0DIvpW8PA</td>\n",
       "      <td>Dunkin’ Donuts</td>\n",
       "      <td>4.5</td>\n",
       "      <td>2</td>\n",
       "      <td>False</td>\n",
       "      <td>VA</td>\n",
       "      <td>Coffee &amp; Tea</td>\n",
       "    </tr>\n",
       "    <tr>\n",
       "      <th>4</th>\n",
       "      <td>-34O36suTEIwy0DIvpW8PA</td>\n",
       "      <td>Dunkin’ Donuts</td>\n",
       "      <td>4.5</td>\n",
       "      <td>2</td>\n",
       "      <td>False</td>\n",
       "      <td>VA</td>\n",
       "      <td>Breakfast &amp; Brunch</td>\n",
       "    </tr>\n",
       "  </tbody>\n",
       "</table>\n",
       "</div>"
      ],
      "text/plain": [
       "                       id                                       name  rating  \\\n",
       "0  -0EptA8Ci4gad0arJph4VQ  California Pizza Kitchen at Tysons Corner     3.5   \n",
       "1  -0EptA8Ci4gad0arJph4VQ  California Pizza Kitchen at Tysons Corner     3.5   \n",
       "2  -0EptA8Ci4gad0arJph4VQ  California Pizza Kitchen at Tysons Corner     3.5   \n",
       "3  -34O36suTEIwy0DIvpW8PA                             Dunkin’ Donuts     4.5   \n",
       "4  -34O36suTEIwy0DIvpW8PA                             Dunkin’ Donuts     4.5   \n",
       "\n",
       "   review_count  open_pass_midnight state             cuisine  \n",
       "0           192               False    VA               Pizza  \n",
       "1           192               False    VA      American (New)  \n",
       "2           192               False    VA               Salad  \n",
       "3             2               False    VA        Coffee & Tea  \n",
       "4             2               False    VA  Breakfast & Brunch  "
      ]
     },
     "execution_count": 67,
     "metadata": {},
     "output_type": "execute_result"
    }
   ],
   "source": [
    "print(len(va_new))\n",
    "va_new.head()"
   ]
  },
  {
   "cell_type": "markdown",
   "metadata": {},
   "source": [
    "**MD**"
   ]
  },
  {
   "cell_type": "markdown",
   "metadata": {},
   "source": [
    "Total number of restaurants for each cuisine:"
   ]
  },
  {
   "cell_type": "code",
   "execution_count": 68,
   "metadata": {},
   "outputs": [],
   "source": [
    "md_count_by_cuisine = md.groupby(\"cuisine\")[\"review_count\"].count()"
   ]
  },
  {
   "cell_type": "code",
   "execution_count": 69,
   "metadata": {},
   "outputs": [
    {
     "data": {
      "text/plain": [
       "cuisine\n",
       "Fast Food     331\n",
       "Sandwiches    249\n",
       "Pizza         214\n",
       "Chinese       172\n",
       "Mexican       162\n",
       "Name: review_count, dtype: int64"
      ]
     },
     "execution_count": 69,
     "metadata": {},
     "output_type": "execute_result"
    }
   ],
   "source": [
    "md_count_by_cuisine.sort_values(ascending=False).head()"
   ]
  },
  {
   "cell_type": "markdown",
   "metadata": {},
   "source": [
    "We want cuisines that have at least 20 restaurants:"
   ]
  },
  {
   "cell_type": "code",
   "execution_count": 70,
   "metadata": {},
   "outputs": [],
   "source": [
    "md_cuisines = md_count_by_cuisine[md_count_by_cuisine >= 20].index"
   ]
  },
  {
   "cell_type": "code",
   "execution_count": 71,
   "metadata": {},
   "outputs": [
    {
     "name": "stdout",
     "output_type": "stream",
     "text": [
      "42\n"
     ]
    },
    {
     "data": {
      "text/plain": [
       "Index(['African', 'American (New)', 'American (Traditional)', 'Asian Fusion',\n",
       "       'Bakeries', 'Barbeque', 'Bars', 'Breakfast & Brunch', 'Burgers',\n",
       "       'Cafes', 'Caribbean', 'Chicken Shop', 'Chicken Wings', 'Chinese',\n",
       "       'Coffee & Tea', 'Delis', 'Ethiopian', 'Fast Food', 'Food Trucks',\n",
       "       'Indian', 'Italian', 'Japanese', 'Korean', 'Latin American',\n",
       "       'Mediterranean', 'Mexican', 'Noodles', 'Peruvian', 'Pizza', 'Salad',\n",
       "       'Salvadoran', 'Sandwiches', 'Seafood', 'Soul Food', 'Soup',\n",
       "       'Sports Bars', 'Steakhouses', 'Sushi Bars', 'Tex-Mex', 'Thai',\n",
       "       'Vegetarian', 'Vietnamese'],\n",
       "      dtype='object', name='cuisine')"
      ]
     },
     "execution_count": 71,
     "metadata": {},
     "output_type": "execute_result"
    }
   ],
   "source": [
    "print(len(md_cuisines))\n",
    "md_cuisines"
   ]
  },
  {
   "cell_type": "markdown",
   "metadata": {},
   "source": [
    "Update md df:"
   ]
  },
  {
   "cell_type": "code",
   "execution_count": 72,
   "metadata": {},
   "outputs": [],
   "source": [
    "md_new = md[md.cuisine.isin(md_cuisines)]\n",
    "md_new.reset_index(inplace=True, drop=True)"
   ]
  },
  {
   "cell_type": "code",
   "execution_count": 73,
   "metadata": {},
   "outputs": [
    {
     "name": "stdout",
     "output_type": "stream",
     "text": [
      "3291\n"
     ]
    },
    {
     "data": {
      "text/html": [
       "<div>\n",
       "<style scoped>\n",
       "    .dataframe tbody tr th:only-of-type {\n",
       "        vertical-align: middle;\n",
       "    }\n",
       "\n",
       "    .dataframe tbody tr th {\n",
       "        vertical-align: top;\n",
       "    }\n",
       "\n",
       "    .dataframe thead th {\n",
       "        text-align: right;\n",
       "    }\n",
       "</style>\n",
       "<table border=\"1\" class=\"dataframe\">\n",
       "  <thead>\n",
       "    <tr style=\"text-align: right;\">\n",
       "      <th></th>\n",
       "      <th>id</th>\n",
       "      <th>name</th>\n",
       "      <th>rating</th>\n",
       "      <th>review_count</th>\n",
       "      <th>open_pass_midnight</th>\n",
       "      <th>state</th>\n",
       "      <th>cuisine</th>\n",
       "    </tr>\n",
       "  </thead>\n",
       "  <tbody>\n",
       "    <tr>\n",
       "      <th>0</th>\n",
       "      <td>--saaXOpXBfC6-pvmTP5mw</td>\n",
       "      <td>Not Your Average Joe's</td>\n",
       "      <td>3.5</td>\n",
       "      <td>372</td>\n",
       "      <td>False</td>\n",
       "      <td>MD</td>\n",
       "      <td>Salad</td>\n",
       "    </tr>\n",
       "    <tr>\n",
       "      <th>1</th>\n",
       "      <td>--saaXOpXBfC6-pvmTP5mw</td>\n",
       "      <td>Not Your Average Joe's</td>\n",
       "      <td>3.5</td>\n",
       "      <td>372</td>\n",
       "      <td>False</td>\n",
       "      <td>MD</td>\n",
       "      <td>Seafood</td>\n",
       "    </tr>\n",
       "    <tr>\n",
       "      <th>2</th>\n",
       "      <td>--saaXOpXBfC6-pvmTP5mw</td>\n",
       "      <td>Not Your Average Joe's</td>\n",
       "      <td>3.5</td>\n",
       "      <td>372</td>\n",
       "      <td>False</td>\n",
       "      <td>MD</td>\n",
       "      <td>American (Traditional)</td>\n",
       "    </tr>\n",
       "    <tr>\n",
       "      <th>3</th>\n",
       "      <td>-1Jfl_zix9l1RRWOPmzSEQ</td>\n",
       "      <td>IHOP</td>\n",
       "      <td>2.5</td>\n",
       "      <td>125</td>\n",
       "      <td>True</td>\n",
       "      <td>MD</td>\n",
       "      <td>Breakfast &amp; Brunch</td>\n",
       "    </tr>\n",
       "    <tr>\n",
       "      <th>4</th>\n",
       "      <td>-1Jfl_zix9l1RRWOPmzSEQ</td>\n",
       "      <td>IHOP</td>\n",
       "      <td>2.5</td>\n",
       "      <td>125</td>\n",
       "      <td>True</td>\n",
       "      <td>MD</td>\n",
       "      <td>American (Traditional)</td>\n",
       "    </tr>\n",
       "  </tbody>\n",
       "</table>\n",
       "</div>"
      ],
      "text/plain": [
       "                       id                    name  rating  review_count  \\\n",
       "0  --saaXOpXBfC6-pvmTP5mw  Not Your Average Joe's     3.5           372   \n",
       "1  --saaXOpXBfC6-pvmTP5mw  Not Your Average Joe's     3.5           372   \n",
       "2  --saaXOpXBfC6-pvmTP5mw  Not Your Average Joe's     3.5           372   \n",
       "3  -1Jfl_zix9l1RRWOPmzSEQ                    IHOP     2.5           125   \n",
       "4  -1Jfl_zix9l1RRWOPmzSEQ                    IHOP     2.5           125   \n",
       "\n",
       "   open_pass_midnight state                 cuisine  \n",
       "0               False    MD                   Salad  \n",
       "1               False    MD                 Seafood  \n",
       "2               False    MD  American (Traditional)  \n",
       "3                True    MD      Breakfast & Brunch  \n",
       "4                True    MD  American (Traditional)  "
      ]
     },
     "execution_count": 73,
     "metadata": {},
     "output_type": "execute_result"
    }
   ],
   "source": [
    "print(len(md_new))\n",
    "md_new.head()"
   ]
  },
  {
   "cell_type": "markdown",
   "metadata": {},
   "source": [
    "## Save Data for Inferential Statistics"
   ]
  },
  {
   "cell_type": "code",
   "execution_count": 74,
   "metadata": {},
   "outputs": [],
   "source": [
    "dc_new.to_csv(\"data/dc_restaurants_cuisine.csv\", index=False)\n",
    "va_new.to_csv(\"data/va_restaurants_cuisine.csv\", index=False)\n",
    "md_new.to_csv(\"data/md_restaurants_cuisine.csv\", index=False)\n",
    "dc_midnight.to_csv(\"data/dc_restaurants_midnight.csv\", index=False)\n",
    "va_midnight.to_csv(\"data/va_restaurants_midnight.csv\", index=False)\n",
    "md_midnight.to_csv(\"data/md_restaurants_midnight.csv\", index=False)"
   ]
  }
 ],
 "metadata": {
  "kernelspec": {
   "display_name": "Python 3",
   "language": "python",
   "name": "python3"
  },
  "language_info": {
   "codemirror_mode": {
    "name": "ipython",
    "version": 3
   },
   "file_extension": ".py",
   "mimetype": "text/x-python",
   "name": "python",
   "nbconvert_exporter": "python",
   "pygments_lexer": "ipython3",
   "version": "3.7.3"
  }
 },
 "nbformat": 4,
 "nbformat_minor": 2
}
