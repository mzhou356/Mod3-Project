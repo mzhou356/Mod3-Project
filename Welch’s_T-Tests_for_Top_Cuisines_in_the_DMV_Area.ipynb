{
 "cells": [
  {
   "cell_type": "markdown",
   "metadata": {},
   "source": [
    "# Restaurant Industry Consulting Firm\n",
    "July 15, 2019<br>\n",
    "Ngoc, Inferential Statistics<br>\n",
    "Welch’s T-Tests for Top Cuisines in the DMV Area\n",
    "\n",
    "-----------------"
   ]
  },
  {
   "cell_type": "markdown",
   "metadata": {},
   "source": [
    "In this notebook, we want to:\n",
    "- Find 2 most popular cuisines in each area (DC, VA, and MD) then t-test to figure out which one is best in each area (vs. number of reviews)\n",
    "- Over night (vs. number of reviews, stars)\n",
    "\n",
    "-------------------"
   ]
  },
  {
   "cell_type": "markdown",
   "metadata": {},
   "source": [
    "## Import Needed Libraries"
   ]
  },
  {
   "cell_type": "code",
   "execution_count": 1,
   "metadata": {},
   "outputs": [],
   "source": [
    "import warnings\n",
    "import numpy as np\n",
    "import pandas as pd\n",
    "import seaborn as sns\n",
    "import matplotlib.pyplot as plt\n",
    "\n",
    "from scipy import stats\n",
    "\n",
    "sns.set_style(\"whitegrid\")\n",
    "warnings.filterwarnings(\"ignore\")"
   ]
  },
  {
   "cell_type": "markdown",
   "metadata": {},
   "source": [
    "## Load Needed Data"
   ]
  },
  {
   "cell_type": "code",
   "execution_count": 2,
   "metadata": {},
   "outputs": [],
   "source": [
    "dc = pd.read_csv(\"data/dc_restaurants.csv\")\n",
    "va = pd.read_csv(\"data/va_restaurants.csv\")\n",
    "md = pd.read_csv(\"data/md_restaurants.csv\")"
   ]
  },
  {
   "cell_type": "markdown",
   "metadata": {},
   "source": [
    "## Inferential Statistics"
   ]
  },
  {
   "cell_type": "markdown",
   "metadata": {},
   "source": [
    "$\\alpha$ = 0.05"
   ]
  },
  {
   "cell_type": "markdown",
   "metadata": {},
   "source": [
    "Helper functions:"
   ]
  },
  {
   "cell_type": "code",
   "execution_count": 3,
   "metadata": {},
   "outputs": [],
   "source": [
    "def bootstrap(sample, n):\n",
    "    return np.random.choice(sample, size=n, replace=True)"
   ]
  },
  {
   "cell_type": "code",
   "execution_count": 4,
   "metadata": {},
   "outputs": [],
   "source": [
    "def sampling(samples, n, num):\n",
    "    sample_means = []\n",
    "    for i in range(num):\n",
    "        sample_means.append(bootstrap(samples, n).mean())\n",
    "    return sample_means"
   ]
  },
  {
   "cell_type": "markdown",
   "metadata": {},
   "source": [
    "### DC"
   ]
  },
  {
   "cell_type": "markdown",
   "metadata": {},
   "source": [
    "H0: , H1: "
   ]
  },
  {
   "cell_type": "markdown",
   "metadata": {},
   "source": [
    "The first cuisine:"
   ]
  },
  {
   "cell_type": "code",
   "execution_count": 5,
   "metadata": {},
   "outputs": [
    {
     "name": "stdout",
     "output_type": "stream",
     "text": [
      "21\n"
     ]
    },
    {
     "data": {
      "text/html": [
       "<div>\n",
       "<style scoped>\n",
       "    .dataframe tbody tr th:only-of-type {\n",
       "        vertical-align: middle;\n",
       "    }\n",
       "\n",
       "    .dataframe tbody tr th {\n",
       "        vertical-align: top;\n",
       "    }\n",
       "\n",
       "    .dataframe thead th {\n",
       "        text-align: right;\n",
       "    }\n",
       "</style>\n",
       "<table border=\"1\" class=\"dataframe\">\n",
       "  <thead>\n",
       "    <tr style=\"text-align: right;\">\n",
       "      <th></th>\n",
       "      <th>hours</th>\n",
       "      <th>id</th>\n",
       "      <th>name</th>\n",
       "      <th>price</th>\n",
       "      <th>rating</th>\n",
       "      <th>review_count</th>\n",
       "      <th>special_hours</th>\n",
       "      <th>state</th>\n",
       "      <th>cuisine</th>\n",
       "    </tr>\n",
       "  </thead>\n",
       "  <tbody>\n",
       "    <tr>\n",
       "      <th>0</th>\n",
       "      <td>[{'open': [{'is_overnight': False, 'start': '1...</td>\n",
       "      <td>5h4xi-s9sYQsa6YSf-LoeQ</td>\n",
       "      <td>Sushi Keiko</td>\n",
       "      <td>$$</td>\n",
       "      <td>4.0</td>\n",
       "      <td>52</td>\n",
       "      <td>NaN</td>\n",
       "      <td>DC</td>\n",
       "      <td>Ramen</td>\n",
       "    </tr>\n",
       "    <tr>\n",
       "      <th>1</th>\n",
       "      <td>[{'open': [{'is_overnight': False, 'start': '1...</td>\n",
       "      <td>637UzQJ7bQ_G8KXqzQVcdw</td>\n",
       "      <td>Paper Horse</td>\n",
       "      <td>$$</td>\n",
       "      <td>3.0</td>\n",
       "      <td>17</td>\n",
       "      <td>NaN</td>\n",
       "      <td>DC</td>\n",
       "      <td>Ramen</td>\n",
       "    </tr>\n",
       "    <tr>\n",
       "      <th>2</th>\n",
       "      <td>[{'open': [{'is_overnight': True, 'start': '15...</td>\n",
       "      <td>6dzlGp9EtHAIHHB8oVyGhw</td>\n",
       "      <td>Chaplin's</td>\n",
       "      <td>$$</td>\n",
       "      <td>4.0</td>\n",
       "      <td>959</td>\n",
       "      <td>NaN</td>\n",
       "      <td>DC</td>\n",
       "      <td>Ramen</td>\n",
       "    </tr>\n",
       "    <tr>\n",
       "      <th>3</th>\n",
       "      <td>NaN</td>\n",
       "      <td>FrUAxcRnUIvwSm9doarThQ</td>\n",
       "      <td>Shaku Ramen Bar</td>\n",
       "      <td>NaN</td>\n",
       "      <td>2.5</td>\n",
       "      <td>3</td>\n",
       "      <td>NaN</td>\n",
       "      <td>DC</td>\n",
       "      <td>Ramen</td>\n",
       "    </tr>\n",
       "    <tr>\n",
       "      <th>4</th>\n",
       "      <td>[{'open': [{'is_overnight': False, 'start': '1...</td>\n",
       "      <td>GMI7ecCz0Ylfw7hGRi56KA</td>\n",
       "      <td>Uzu</td>\n",
       "      <td>$$</td>\n",
       "      <td>4.5</td>\n",
       "      <td>54</td>\n",
       "      <td>NaN</td>\n",
       "      <td>DC</td>\n",
       "      <td>Ramen</td>\n",
       "    </tr>\n",
       "  </tbody>\n",
       "</table>\n",
       "</div>"
      ],
      "text/plain": [
       "                                               hours                      id  \\\n",
       "0  [{'open': [{'is_overnight': False, 'start': '1...  5h4xi-s9sYQsa6YSf-LoeQ   \n",
       "1  [{'open': [{'is_overnight': False, 'start': '1...  637UzQJ7bQ_G8KXqzQVcdw   \n",
       "2  [{'open': [{'is_overnight': True, 'start': '15...  6dzlGp9EtHAIHHB8oVyGhw   \n",
       "3                                                NaN  FrUAxcRnUIvwSm9doarThQ   \n",
       "4  [{'open': [{'is_overnight': False, 'start': '1...  GMI7ecCz0Ylfw7hGRi56KA   \n",
       "\n",
       "              name price  rating  review_count special_hours state cuisine  \n",
       "0      Sushi Keiko    $$     4.0            52           NaN    DC   Ramen  \n",
       "1      Paper Horse    $$     3.0            17           NaN    DC   Ramen  \n",
       "2        Chaplin's    $$     4.0           959           NaN    DC   Ramen  \n",
       "3  Shaku Ramen Bar   NaN     2.5             3           NaN    DC   Ramen  \n",
       "4              Uzu    $$     4.5            54           NaN    DC   Ramen  "
      ]
     },
     "execution_count": 5,
     "metadata": {},
     "output_type": "execute_result"
    }
   ],
   "source": [
    "dc_first = dc[dc.cuisine == \"Ramen\"]\n",
    "dc_first.reset_index(inplace=True, drop=True)\n",
    "print(len(dc_first))\n",
    "dc_first.head()"
   ]
  },
  {
   "cell_type": "code",
   "execution_count": 6,
   "metadata": {},
   "outputs": [],
   "source": [
    "dc_first_review_count = dc_first.review_count"
   ]
  },
  {
   "cell_type": "markdown",
   "metadata": {},
   "source": [
    "The second cuisine:"
   ]
  },
  {
   "cell_type": "code",
   "execution_count": 7,
   "metadata": {},
   "outputs": [
    {
     "name": "stdout",
     "output_type": "stream",
     "text": [
      "20\n"
     ]
    },
    {
     "data": {
      "text/html": [
       "<div>\n",
       "<style scoped>\n",
       "    .dataframe tbody tr th:only-of-type {\n",
       "        vertical-align: middle;\n",
       "    }\n",
       "\n",
       "    .dataframe tbody tr th {\n",
       "        vertical-align: top;\n",
       "    }\n",
       "\n",
       "    .dataframe thead th {\n",
       "        text-align: right;\n",
       "    }\n",
       "</style>\n",
       "<table border=\"1\" class=\"dataframe\">\n",
       "  <thead>\n",
       "    <tr style=\"text-align: right;\">\n",
       "      <th></th>\n",
       "      <th>hours</th>\n",
       "      <th>id</th>\n",
       "      <th>name</th>\n",
       "      <th>price</th>\n",
       "      <th>rating</th>\n",
       "      <th>review_count</th>\n",
       "      <th>special_hours</th>\n",
       "      <th>state</th>\n",
       "      <th>cuisine</th>\n",
       "    </tr>\n",
       "  </thead>\n",
       "  <tbody>\n",
       "    <tr>\n",
       "      <th>0</th>\n",
       "      <td>[{'open': [{'is_overnight': False, 'start': '1...</td>\n",
       "      <td>4MD0XxgyG75VBpr3NZJjPA</td>\n",
       "      <td>Boveda</td>\n",
       "      <td>$$</td>\n",
       "      <td>3.5</td>\n",
       "      <td>77</td>\n",
       "      <td>NaN</td>\n",
       "      <td>DC</td>\n",
       "      <td>Spanish</td>\n",
       "    </tr>\n",
       "    <tr>\n",
       "      <th>1</th>\n",
       "      <td>NaN</td>\n",
       "      <td>4SDuKYt9E9RF1mLHtQXIeg</td>\n",
       "      <td>Paellas &amp; Cos</td>\n",
       "      <td>NaN</td>\n",
       "      <td>5.0</td>\n",
       "      <td>2</td>\n",
       "      <td>NaN</td>\n",
       "      <td>DC</td>\n",
       "      <td>Spanish</td>\n",
       "    </tr>\n",
       "    <tr>\n",
       "      <th>2</th>\n",
       "      <td>[{'open': [{'is_overnight': True, 'start': '11...</td>\n",
       "      <td>5BBKzNPoAdkr_q3JWDO7oQ</td>\n",
       "      <td>Churreria Madrid</td>\n",
       "      <td>$$</td>\n",
       "      <td>3.0</td>\n",
       "      <td>89</td>\n",
       "      <td>NaN</td>\n",
       "      <td>DC</td>\n",
       "      <td>Spanish</td>\n",
       "    </tr>\n",
       "    <tr>\n",
       "      <th>3</th>\n",
       "      <td>[{'open': [{'is_overnight': False, 'start': '1...</td>\n",
       "      <td>8FGizWqfHi9XBL2R6J5uJg</td>\n",
       "      <td>Lauriol Plaza</td>\n",
       "      <td>$$</td>\n",
       "      <td>3.5</td>\n",
       "      <td>1955</td>\n",
       "      <td>NaN</td>\n",
       "      <td>DC</td>\n",
       "      <td>Spanish</td>\n",
       "    </tr>\n",
       "    <tr>\n",
       "      <th>4</th>\n",
       "      <td>[{'open': [{'is_overnight': False, 'start': '1...</td>\n",
       "      <td>8pWrgtRGn4BqcOWb8ExxcA</td>\n",
       "      <td>Boqueria Penn Quarter</td>\n",
       "      <td>NaN</td>\n",
       "      <td>4.5</td>\n",
       "      <td>103</td>\n",
       "      <td>NaN</td>\n",
       "      <td>DC</td>\n",
       "      <td>Spanish</td>\n",
       "    </tr>\n",
       "  </tbody>\n",
       "</table>\n",
       "</div>"
      ],
      "text/plain": [
       "                                               hours                      id  \\\n",
       "0  [{'open': [{'is_overnight': False, 'start': '1...  4MD0XxgyG75VBpr3NZJjPA   \n",
       "1                                                NaN  4SDuKYt9E9RF1mLHtQXIeg   \n",
       "2  [{'open': [{'is_overnight': True, 'start': '11...  5BBKzNPoAdkr_q3JWDO7oQ   \n",
       "3  [{'open': [{'is_overnight': False, 'start': '1...  8FGizWqfHi9XBL2R6J5uJg   \n",
       "4  [{'open': [{'is_overnight': False, 'start': '1...  8pWrgtRGn4BqcOWb8ExxcA   \n",
       "\n",
       "                    name price  rating  review_count special_hours state  \\\n",
       "0                 Boveda    $$     3.5            77           NaN    DC   \n",
       "1          Paellas & Cos   NaN     5.0             2           NaN    DC   \n",
       "2       Churreria Madrid    $$     3.0            89           NaN    DC   \n",
       "3          Lauriol Plaza    $$     3.5          1955           NaN    DC   \n",
       "4  Boqueria Penn Quarter   NaN     4.5           103           NaN    DC   \n",
       "\n",
       "   cuisine  \n",
       "0  Spanish  \n",
       "1  Spanish  \n",
       "2  Spanish  \n",
       "3  Spanish  \n",
       "4  Spanish  "
      ]
     },
     "execution_count": 7,
     "metadata": {},
     "output_type": "execute_result"
    }
   ],
   "source": [
    "dc_second = dc[dc.cuisine == \"Spanish\"]\n",
    "dc_second.reset_index(inplace=True, drop=True)\n",
    "print(len(dc_second))\n",
    "dc_second.head()"
   ]
  },
  {
   "cell_type": "code",
   "execution_count": 8,
   "metadata": {},
   "outputs": [],
   "source": [
    "dc_second_review_count = dc_second.review_count"
   ]
  },
  {
   "cell_type": "markdown",
   "metadata": {},
   "source": [
    "Check if the distributions of the two groups follow the normal distribution:"
   ]
  },
  {
   "cell_type": "markdown",
   "metadata": {},
   "source": [
    "H0: the data was drawn from a normal distribution, H1: the data was not drawn from a normal distribution"
   ]
  },
  {
   "cell_type": "code",
   "execution_count": 9,
   "metadata": {},
   "outputs": [
    {
     "data": {
      "text/plain": [
       "(0.7741931080818176, 0.00027142345788888633)"
      ]
     },
     "execution_count": 9,
     "metadata": {},
     "output_type": "execute_result"
    }
   ],
   "source": [
    "stats.shapiro(dc_first_review_count)"
   ]
  },
  {
   "cell_type": "code",
   "execution_count": 10,
   "metadata": {},
   "outputs": [
    {
     "data": {
      "text/plain": [
       "(0.7949022054672241, 0.0007259448757395148)"
      ]
     },
     "execution_count": 10,
     "metadata": {},
     "output_type": "execute_result"
    }
   ],
   "source": [
    "stats.shapiro(dc_second_review_count)"
   ]
  },
  {
   "cell_type": "markdown",
   "metadata": {},
   "source": [
    "Reject the null hypotheses -> normality assumption is violated"
   ]
  },
  {
   "cell_type": "markdown",
   "metadata": {},
   "source": [
    "Have to bootstrap:"
   ]
  },
  {
   "cell_type": "code",
   "execution_count": 11,
   "metadata": {},
   "outputs": [],
   "source": [
    "dc_first_review_count_bs = sampling(dc_first_review_count, 100000, 1000)\n",
    "dc_second_review_count_bs = sampling(dc_second_review_count, 100000, 1000)"
   ]
  },
  {
   "cell_type": "markdown",
   "metadata": {},
   "source": [
    "Check for normality again:"
   ]
  },
  {
   "cell_type": "code",
   "execution_count": 12,
   "metadata": {},
   "outputs": [
    {
     "data": {
      "text/plain": [
       "(0.9982810020446777, 0.42071017622947693)"
      ]
     },
     "execution_count": 12,
     "metadata": {},
     "output_type": "execute_result"
    }
   ],
   "source": [
    "stats.shapiro(dc_first_review_count_bs)"
   ]
  },
  {
   "cell_type": "code",
   "execution_count": 13,
   "metadata": {},
   "outputs": [
    {
     "data": {
      "text/plain": [
       "(0.9981014728546143, 0.32776689529418945)"
      ]
     },
     "execution_count": 13,
     "metadata": {},
     "output_type": "execute_result"
    }
   ],
   "source": [
    "stats.shapiro(dc_second_review_count_bs)"
   ]
  },
  {
   "cell_type": "markdown",
   "metadata": {},
   "source": [
    "Good!"
   ]
  },
  {
   "cell_type": "code",
   "execution_count": 14,
   "metadata": {},
   "outputs": [
    {
     "data": {
      "text/plain": [
       "Ttest_indResult(statistic=610.8826100740495, pvalue=0.0)"
      ]
     },
     "execution_count": 14,
     "metadata": {},
     "output_type": "execute_result"
    }
   ],
   "source": [
    "stats.ttest_ind(dc_first_review_count_bs, dc_second_review_count_bs, equal_var=False)"
   ]
  },
  {
   "cell_type": "markdown",
   "metadata": {},
   "source": [
    "Reject.... -> Ramen"
   ]
  },
  {
   "cell_type": "code",
   "execution_count": null,
   "metadata": {},
   "outputs": [],
   "source": []
  },
  {
   "cell_type": "markdown",
   "metadata": {},
   "source": [
    "### VA"
   ]
  },
  {
   "cell_type": "code",
   "execution_count": 15,
   "metadata": {},
   "outputs": [
    {
     "name": "stdout",
     "output_type": "stream",
     "text": [
      "110\n"
     ]
    },
    {
     "data": {
      "text/html": [
       "<div>\n",
       "<style scoped>\n",
       "    .dataframe tbody tr th:only-of-type {\n",
       "        vertical-align: middle;\n",
       "    }\n",
       "\n",
       "    .dataframe tbody tr th {\n",
       "        vertical-align: top;\n",
       "    }\n",
       "\n",
       "    .dataframe thead th {\n",
       "        text-align: right;\n",
       "    }\n",
       "</style>\n",
       "<table border=\"1\" class=\"dataframe\">\n",
       "  <thead>\n",
       "    <tr style=\"text-align: right;\">\n",
       "      <th></th>\n",
       "      <th>hours</th>\n",
       "      <th>id</th>\n",
       "      <th>name</th>\n",
       "      <th>price</th>\n",
       "      <th>rating</th>\n",
       "      <th>review_count</th>\n",
       "      <th>special_hours</th>\n",
       "      <th>state</th>\n",
       "      <th>cuisine</th>\n",
       "    </tr>\n",
       "  </thead>\n",
       "  <tbody>\n",
       "    <tr>\n",
       "      <th>0</th>\n",
       "      <td>[{'open': [{'is_overnight': True, 'start': '15...</td>\n",
       "      <td>-8TkrTNeebNwFGcfDKJgRQ</td>\n",
       "      <td>Viva Tequila</td>\n",
       "      <td>$$</td>\n",
       "      <td>1.5</td>\n",
       "      <td>26</td>\n",
       "      <td>NaN</td>\n",
       "      <td>VA</td>\n",
       "      <td>Bars</td>\n",
       "    </tr>\n",
       "    <tr>\n",
       "      <th>1</th>\n",
       "      <td>[{'open': [{'is_overnight': True, 'start': '11...</td>\n",
       "      <td>-ZVeyeJEL0jHiUO_-u8CAw</td>\n",
       "      <td>Rock It Grill</td>\n",
       "      <td>$$</td>\n",
       "      <td>3.0</td>\n",
       "      <td>268</td>\n",
       "      <td>NaN</td>\n",
       "      <td>VA</td>\n",
       "      <td>Bars</td>\n",
       "    </tr>\n",
       "    <tr>\n",
       "      <th>2</th>\n",
       "      <td>[{'open': [{'is_overnight': False, 'start': '1...</td>\n",
       "      <td>07NB7vLf_z9Sm4VW1Xx2KQ</td>\n",
       "      <td>Asia Bistro</td>\n",
       "      <td>$$</td>\n",
       "      <td>3.5</td>\n",
       "      <td>229</td>\n",
       "      <td>NaN</td>\n",
       "      <td>VA</td>\n",
       "      <td>Bars</td>\n",
       "    </tr>\n",
       "    <tr>\n",
       "      <th>3</th>\n",
       "      <td>NaN</td>\n",
       "      <td>085M24RRGm9PpcOV65xUhA</td>\n",
       "      <td>O My Hot Pot &amp; Bar</td>\n",
       "      <td>NaN</td>\n",
       "      <td>5.0</td>\n",
       "      <td>1</td>\n",
       "      <td>NaN</td>\n",
       "      <td>VA</td>\n",
       "      <td>Bars</td>\n",
       "    </tr>\n",
       "    <tr>\n",
       "      <th>4</th>\n",
       "      <td>[{'open': [{'is_overnight': False, 'start': '1...</td>\n",
       "      <td>22aD4k6tzbm5bIpiNBhkOg</td>\n",
       "      <td>Meridian Pint</td>\n",
       "      <td>NaN</td>\n",
       "      <td>4.5</td>\n",
       "      <td>17</td>\n",
       "      <td>NaN</td>\n",
       "      <td>VA</td>\n",
       "      <td>Bars</td>\n",
       "    </tr>\n",
       "  </tbody>\n",
       "</table>\n",
       "</div>"
      ],
      "text/plain": [
       "                                               hours                      id  \\\n",
       "0  [{'open': [{'is_overnight': True, 'start': '15...  -8TkrTNeebNwFGcfDKJgRQ   \n",
       "1  [{'open': [{'is_overnight': True, 'start': '11...  -ZVeyeJEL0jHiUO_-u8CAw   \n",
       "2  [{'open': [{'is_overnight': False, 'start': '1...  07NB7vLf_z9Sm4VW1Xx2KQ   \n",
       "3                                                NaN  085M24RRGm9PpcOV65xUhA   \n",
       "4  [{'open': [{'is_overnight': False, 'start': '1...  22aD4k6tzbm5bIpiNBhkOg   \n",
       "\n",
       "                 name price  rating  review_count special_hours state cuisine  \n",
       "0        Viva Tequila    $$     1.5            26           NaN    VA    Bars  \n",
       "1       Rock It Grill    $$     3.0           268           NaN    VA    Bars  \n",
       "2         Asia Bistro    $$     3.5           229           NaN    VA    Bars  \n",
       "3  O My Hot Pot & Bar   NaN     5.0             1           NaN    VA    Bars  \n",
       "4       Meridian Pint   NaN     4.5            17           NaN    VA    Bars  "
      ]
     },
     "execution_count": 15,
     "metadata": {},
     "output_type": "execute_result"
    }
   ],
   "source": [
    "va_first = va[va.cuisine == \"Bars\"]\n",
    "va_first.reset_index(inplace=True, drop=True)\n",
    "print(len(va_first))\n",
    "va_first.head()"
   ]
  },
  {
   "cell_type": "code",
   "execution_count": 16,
   "metadata": {},
   "outputs": [],
   "source": [
    "va_first_review_count = va_first.review_count"
   ]
  },
  {
   "cell_type": "code",
   "execution_count": 17,
   "metadata": {},
   "outputs": [
    {
     "name": "stdout",
     "output_type": "stream",
     "text": [
      "86\n"
     ]
    },
    {
     "data": {
      "text/html": [
       "<div>\n",
       "<style scoped>\n",
       "    .dataframe tbody tr th:only-of-type {\n",
       "        vertical-align: middle;\n",
       "    }\n",
       "\n",
       "    .dataframe tbody tr th {\n",
       "        vertical-align: top;\n",
       "    }\n",
       "\n",
       "    .dataframe thead th {\n",
       "        text-align: right;\n",
       "    }\n",
       "</style>\n",
       "<table border=\"1\" class=\"dataframe\">\n",
       "  <thead>\n",
       "    <tr style=\"text-align: right;\">\n",
       "      <th></th>\n",
       "      <th>hours</th>\n",
       "      <th>id</th>\n",
       "      <th>name</th>\n",
       "      <th>price</th>\n",
       "      <th>rating</th>\n",
       "      <th>review_count</th>\n",
       "      <th>special_hours</th>\n",
       "      <th>state</th>\n",
       "      <th>cuisine</th>\n",
       "    </tr>\n",
       "  </thead>\n",
       "  <tbody>\n",
       "    <tr>\n",
       "      <th>0</th>\n",
       "      <td>NaN</td>\n",
       "      <td>-q13gJA2tAaLJl2RbxF56g</td>\n",
       "      <td>Chesapeake Bay Seafood House</td>\n",
       "      <td>NaN</td>\n",
       "      <td>5.0</td>\n",
       "      <td>1</td>\n",
       "      <td>NaN</td>\n",
       "      <td>VA</td>\n",
       "      <td>Seafood</td>\n",
       "    </tr>\n",
       "    <tr>\n",
       "      <th>1</th>\n",
       "      <td>[{'open': [{'is_overnight': True, 'start': '11...</td>\n",
       "      <td>0H01dKPAmfjeMpI1xki6MA</td>\n",
       "      <td>William Jeffrey's Tavern</td>\n",
       "      <td>$$</td>\n",
       "      <td>3.5</td>\n",
       "      <td>375</td>\n",
       "      <td>NaN</td>\n",
       "      <td>VA</td>\n",
       "      <td>Seafood</td>\n",
       "    </tr>\n",
       "    <tr>\n",
       "      <th>2</th>\n",
       "      <td>[{'open': [{'is_overnight': False, 'start': '1...</td>\n",
       "      <td>0VuICpMMCjY4brvaqnXpPQ</td>\n",
       "      <td>Catch on the Ave</td>\n",
       "      <td>$$</td>\n",
       "      <td>4.0</td>\n",
       "      <td>66</td>\n",
       "      <td>NaN</td>\n",
       "      <td>VA</td>\n",
       "      <td>Seafood</td>\n",
       "    </tr>\n",
       "    <tr>\n",
       "      <th>3</th>\n",
       "      <td>[{'open': [{'is_overnight': False, 'start': '1...</td>\n",
       "      <td>0X8ubZT59d1c_mBUdFLNwA</td>\n",
       "      <td>Casa Tequila Bar &amp; Grill</td>\n",
       "      <td>NaN</td>\n",
       "      <td>3.5</td>\n",
       "      <td>43</td>\n",
       "      <td>NaN</td>\n",
       "      <td>VA</td>\n",
       "      <td>Seafood</td>\n",
       "    </tr>\n",
       "    <tr>\n",
       "      <th>4</th>\n",
       "      <td>[{'open': [{'is_overnight': False, 'start': '1...</td>\n",
       "      <td>25drr0ej_Lp0xQrvIU2rjg</td>\n",
       "      <td>Eddie V's Prime Seafood</td>\n",
       "      <td>$$$</td>\n",
       "      <td>4.0</td>\n",
       "      <td>727</td>\n",
       "      <td>NaN</td>\n",
       "      <td>VA</td>\n",
       "      <td>Seafood</td>\n",
       "    </tr>\n",
       "  </tbody>\n",
       "</table>\n",
       "</div>"
      ],
      "text/plain": [
       "                                               hours                      id  \\\n",
       "0                                                NaN  -q13gJA2tAaLJl2RbxF56g   \n",
       "1  [{'open': [{'is_overnight': True, 'start': '11...  0H01dKPAmfjeMpI1xki6MA   \n",
       "2  [{'open': [{'is_overnight': False, 'start': '1...  0VuICpMMCjY4brvaqnXpPQ   \n",
       "3  [{'open': [{'is_overnight': False, 'start': '1...  0X8ubZT59d1c_mBUdFLNwA   \n",
       "4  [{'open': [{'is_overnight': False, 'start': '1...  25drr0ej_Lp0xQrvIU2rjg   \n",
       "\n",
       "                           name price  rating  review_count special_hours  \\\n",
       "0  Chesapeake Bay Seafood House   NaN     5.0             1           NaN   \n",
       "1      William Jeffrey's Tavern    $$     3.5           375           NaN   \n",
       "2              Catch on the Ave    $$     4.0            66           NaN   \n",
       "3      Casa Tequila Bar & Grill   NaN     3.5            43           NaN   \n",
       "4       Eddie V's Prime Seafood   $$$     4.0           727           NaN   \n",
       "\n",
       "  state  cuisine  \n",
       "0    VA  Seafood  \n",
       "1    VA  Seafood  \n",
       "2    VA  Seafood  \n",
       "3    VA  Seafood  \n",
       "4    VA  Seafood  "
      ]
     },
     "execution_count": 17,
     "metadata": {},
     "output_type": "execute_result"
    }
   ],
   "source": [
    "va_second = va[va.cuisine == \"Seafood\"]\n",
    "va_second.reset_index(inplace=True, drop=True)\n",
    "print(len(va_second))\n",
    "va_second.head()"
   ]
  },
  {
   "cell_type": "code",
   "execution_count": 18,
   "metadata": {},
   "outputs": [],
   "source": [
    "va_second_review_count = va_second.review_count"
   ]
  },
  {
   "cell_type": "code",
   "execution_count": 19,
   "metadata": {},
   "outputs": [
    {
     "data": {
      "text/plain": [
       "(0.8068469166755676, 1.0536710393083126e-10)"
      ]
     },
     "execution_count": 19,
     "metadata": {},
     "output_type": "execute_result"
    }
   ],
   "source": [
    "stats.shapiro(va_first_review_count)"
   ]
  },
  {
   "cell_type": "code",
   "execution_count": 20,
   "metadata": {},
   "outputs": [
    {
     "data": {
      "text/plain": [
       "(0.8101442456245422, 3.754873745265286e-09)"
      ]
     },
     "execution_count": 20,
     "metadata": {},
     "output_type": "execute_result"
    }
   ],
   "source": [
    "stats.shapiro(va_second_review_count)"
   ]
  },
  {
   "cell_type": "code",
   "execution_count": 21,
   "metadata": {},
   "outputs": [],
   "source": [
    "va_first_review_count_bs = sampling(va_first_review_count, 100000, 1000)\n",
    "va_second_review_count_bs = sampling(va_second_review_count, 100000, 1000)"
   ]
  },
  {
   "cell_type": "code",
   "execution_count": 22,
   "metadata": {},
   "outputs": [
    {
     "data": {
      "text/plain": [
       "(0.9984657764434814, 0.5324946641921997)"
      ]
     },
     "execution_count": 22,
     "metadata": {},
     "output_type": "execute_result"
    }
   ],
   "source": [
    "stats.shapiro(va_first_review_count_bs)"
   ]
  },
  {
   "cell_type": "code",
   "execution_count": 23,
   "metadata": {},
   "outputs": [
    {
     "data": {
      "text/plain": [
       "(0.9985237717628479, 0.5702359676361084)"
      ]
     },
     "execution_count": 23,
     "metadata": {},
     "output_type": "execute_result"
    }
   ],
   "source": [
    "stats.shapiro(va_second_review_count_bs)"
   ]
  },
  {
   "cell_type": "code",
   "execution_count": 24,
   "metadata": {},
   "outputs": [
    {
     "data": {
      "text/plain": [
       "Ttest_indResult(statistic=757.3375435769763, pvalue=0.0)"
      ]
     },
     "execution_count": 24,
     "metadata": {},
     "output_type": "execute_result"
    }
   ],
   "source": [
    "stats.ttest_ind(va_first_review_count_bs, va_second_review_count_bs, equal_var=False)"
   ]
  },
  {
   "cell_type": "markdown",
   "metadata": {},
   "source": [
    "### MD"
   ]
  },
  {
   "cell_type": "code",
   "execution_count": 25,
   "metadata": {},
   "outputs": [
    {
     "name": "stdout",
     "output_type": "stream",
     "text": [
      "56\n"
     ]
    },
    {
     "data": {
      "text/html": [
       "<div>\n",
       "<style scoped>\n",
       "    .dataframe tbody tr th:only-of-type {\n",
       "        vertical-align: middle;\n",
       "    }\n",
       "\n",
       "    .dataframe tbody tr th {\n",
       "        vertical-align: top;\n",
       "    }\n",
       "\n",
       "    .dataframe thead th {\n",
       "        text-align: right;\n",
       "    }\n",
       "</style>\n",
       "<table border=\"1\" class=\"dataframe\">\n",
       "  <thead>\n",
       "    <tr style=\"text-align: right;\">\n",
       "      <th></th>\n",
       "      <th>hours</th>\n",
       "      <th>id</th>\n",
       "      <th>name</th>\n",
       "      <th>price</th>\n",
       "      <th>rating</th>\n",
       "      <th>review_count</th>\n",
       "      <th>special_hours</th>\n",
       "      <th>state</th>\n",
       "      <th>cuisine</th>\n",
       "    </tr>\n",
       "  </thead>\n",
       "  <tbody>\n",
       "    <tr>\n",
       "      <th>0</th>\n",
       "      <td>[{'open': [{'is_overnight': True, 'start': '11...</td>\n",
       "      <td>-HFG7EOMJ_no-rKdYxbojg</td>\n",
       "      <td>Clyde's of Chevy Chase</td>\n",
       "      <td>$$</td>\n",
       "      <td>3.0</td>\n",
       "      <td>421</td>\n",
       "      <td>NaN</td>\n",
       "      <td>MD</td>\n",
       "      <td>Bars</td>\n",
       "    </tr>\n",
       "    <tr>\n",
       "      <th>1</th>\n",
       "      <td>[{'open': [{'is_overnight': False, 'start': '1...</td>\n",
       "      <td>0MF_IBRkZoEAhA2TIYO10Q</td>\n",
       "      <td>Black's Bar &amp; Kitchen</td>\n",
       "      <td>$$$</td>\n",
       "      <td>3.5</td>\n",
       "      <td>547</td>\n",
       "      <td>NaN</td>\n",
       "      <td>MD</td>\n",
       "      <td>Bars</td>\n",
       "    </tr>\n",
       "    <tr>\n",
       "      <th>2</th>\n",
       "      <td>[{'open': [{'is_overnight': False, 'start': '1...</td>\n",
       "      <td>14Z5fHYBRI8RLwTJGBbY6w</td>\n",
       "      <td>Hunter's Bar and Grill</td>\n",
       "      <td>$$</td>\n",
       "      <td>3.0</td>\n",
       "      <td>70</td>\n",
       "      <td>NaN</td>\n",
       "      <td>MD</td>\n",
       "      <td>Bars</td>\n",
       "    </tr>\n",
       "    <tr>\n",
       "      <th>3</th>\n",
       "      <td>[{'open': [{'is_overnight': True, 'start': '08...</td>\n",
       "      <td>3YK9x5aOrHxE27WKzGSw2g</td>\n",
       "      <td>Sheger Spring Cafe</td>\n",
       "      <td>$$</td>\n",
       "      <td>2.5</td>\n",
       "      <td>16</td>\n",
       "      <td>NaN</td>\n",
       "      <td>MD</td>\n",
       "      <td>Bars</td>\n",
       "    </tr>\n",
       "    <tr>\n",
       "      <th>4</th>\n",
       "      <td>[{'open': [{'is_overnight': True, 'start': '11...</td>\n",
       "      <td>3_JkcKgupFjr0Uo_3RWYjA</td>\n",
       "      <td>Tommy Joe's</td>\n",
       "      <td>$$</td>\n",
       "      <td>3.0</td>\n",
       "      <td>96</td>\n",
       "      <td>NaN</td>\n",
       "      <td>MD</td>\n",
       "      <td>Bars</td>\n",
       "    </tr>\n",
       "  </tbody>\n",
       "</table>\n",
       "</div>"
      ],
      "text/plain": [
       "                                               hours                      id  \\\n",
       "0  [{'open': [{'is_overnight': True, 'start': '11...  -HFG7EOMJ_no-rKdYxbojg   \n",
       "1  [{'open': [{'is_overnight': False, 'start': '1...  0MF_IBRkZoEAhA2TIYO10Q   \n",
       "2  [{'open': [{'is_overnight': False, 'start': '1...  14Z5fHYBRI8RLwTJGBbY6w   \n",
       "3  [{'open': [{'is_overnight': True, 'start': '08...  3YK9x5aOrHxE27WKzGSw2g   \n",
       "4  [{'open': [{'is_overnight': True, 'start': '11...  3_JkcKgupFjr0Uo_3RWYjA   \n",
       "\n",
       "                     name price  rating  review_count special_hours state  \\\n",
       "0  Clyde's of Chevy Chase    $$     3.0           421           NaN    MD   \n",
       "1   Black's Bar & Kitchen   $$$     3.5           547           NaN    MD   \n",
       "2  Hunter's Bar and Grill    $$     3.0            70           NaN    MD   \n",
       "3      Sheger Spring Cafe    $$     2.5            16           NaN    MD   \n",
       "4             Tommy Joe's    $$     3.0            96           NaN    MD   \n",
       "\n",
       "  cuisine  \n",
       "0    Bars  \n",
       "1    Bars  \n",
       "2    Bars  \n",
       "3    Bars  \n",
       "4    Bars  "
      ]
     },
     "execution_count": 25,
     "metadata": {},
     "output_type": "execute_result"
    }
   ],
   "source": [
    "md_first = md[md.cuisine == \"Bars\"]\n",
    "md_first.reset_index(inplace=True, drop=True)\n",
    "print(len(md_first))\n",
    "md_first.head()"
   ]
  },
  {
   "cell_type": "code",
   "execution_count": 26,
   "metadata": {},
   "outputs": [],
   "source": [
    "md_first_review_count = md_first.review_count"
   ]
  },
  {
   "cell_type": "code",
   "execution_count": 27,
   "metadata": {},
   "outputs": [
    {
     "name": "stdout",
     "output_type": "stream",
     "text": [
      "92\n"
     ]
    },
    {
     "data": {
      "text/html": [
       "<div>\n",
       "<style scoped>\n",
       "    .dataframe tbody tr th:only-of-type {\n",
       "        vertical-align: middle;\n",
       "    }\n",
       "\n",
       "    .dataframe tbody tr th {\n",
       "        vertical-align: top;\n",
       "    }\n",
       "\n",
       "    .dataframe thead th {\n",
       "        text-align: right;\n",
       "    }\n",
       "</style>\n",
       "<table border=\"1\" class=\"dataframe\">\n",
       "  <thead>\n",
       "    <tr style=\"text-align: right;\">\n",
       "      <th></th>\n",
       "      <th>hours</th>\n",
       "      <th>id</th>\n",
       "      <th>name</th>\n",
       "      <th>price</th>\n",
       "      <th>rating</th>\n",
       "      <th>review_count</th>\n",
       "      <th>special_hours</th>\n",
       "      <th>state</th>\n",
       "      <th>cuisine</th>\n",
       "    </tr>\n",
       "  </thead>\n",
       "  <tbody>\n",
       "    <tr>\n",
       "      <th>0</th>\n",
       "      <td>[{'open': [{'is_overnight': False, 'start': '1...</td>\n",
       "      <td>0MF_IBRkZoEAhA2TIYO10Q</td>\n",
       "      <td>Black's Bar &amp; Kitchen</td>\n",
       "      <td>$$$</td>\n",
       "      <td>3.5</td>\n",
       "      <td>547</td>\n",
       "      <td>NaN</td>\n",
       "      <td>MD</td>\n",
       "      <td>American (New)</td>\n",
       "    </tr>\n",
       "    <tr>\n",
       "      <th>1</th>\n",
       "      <td>[{'open': [{'is_overnight': False, 'start': '0...</td>\n",
       "      <td>0Wczoa7CuBbicdNFiKEoqw</td>\n",
       "      <td>Beltsville Eatery</td>\n",
       "      <td>$</td>\n",
       "      <td>4.5</td>\n",
       "      <td>10</td>\n",
       "      <td>NaN</td>\n",
       "      <td>MD</td>\n",
       "      <td>American (New)</td>\n",
       "    </tr>\n",
       "    <tr>\n",
       "      <th>2</th>\n",
       "      <td>[{'open': [{'is_overnight': False, 'start': '1...</td>\n",
       "      <td>3-zpYxx6zmEMwiN4C3XOUA</td>\n",
       "      <td>Matchbox - Rockville</td>\n",
       "      <td>$$</td>\n",
       "      <td>3.5</td>\n",
       "      <td>1046</td>\n",
       "      <td>NaN</td>\n",
       "      <td>MD</td>\n",
       "      <td>American (New)</td>\n",
       "    </tr>\n",
       "    <tr>\n",
       "      <th>3</th>\n",
       "      <td>[{'open': [{'is_overnight': False, 'start': '1...</td>\n",
       "      <td>4LXoNMiPZCMyMiLV_wt-qA</td>\n",
       "      <td>Marketplace Cafe</td>\n",
       "      <td>$$</td>\n",
       "      <td>3.5</td>\n",
       "      <td>61</td>\n",
       "      <td>NaN</td>\n",
       "      <td>MD</td>\n",
       "      <td>American (New)</td>\n",
       "    </tr>\n",
       "    <tr>\n",
       "      <th>4</th>\n",
       "      <td>[{'open': [{'is_overnight': False, 'start': '1...</td>\n",
       "      <td>4_jyjExsUcWCltYdhzWrYw</td>\n",
       "      <td>Seasons 52</td>\n",
       "      <td>$$</td>\n",
       "      <td>3.5</td>\n",
       "      <td>613</td>\n",
       "      <td>NaN</td>\n",
       "      <td>MD</td>\n",
       "      <td>American (New)</td>\n",
       "    </tr>\n",
       "  </tbody>\n",
       "</table>\n",
       "</div>"
      ],
      "text/plain": [
       "                                               hours                      id  \\\n",
       "0  [{'open': [{'is_overnight': False, 'start': '1...  0MF_IBRkZoEAhA2TIYO10Q   \n",
       "1  [{'open': [{'is_overnight': False, 'start': '0...  0Wczoa7CuBbicdNFiKEoqw   \n",
       "2  [{'open': [{'is_overnight': False, 'start': '1...  3-zpYxx6zmEMwiN4C3XOUA   \n",
       "3  [{'open': [{'is_overnight': False, 'start': '1...  4LXoNMiPZCMyMiLV_wt-qA   \n",
       "4  [{'open': [{'is_overnight': False, 'start': '1...  4_jyjExsUcWCltYdhzWrYw   \n",
       "\n",
       "                    name price  rating  review_count special_hours state  \\\n",
       "0  Black's Bar & Kitchen   $$$     3.5           547           NaN    MD   \n",
       "1      Beltsville Eatery     $     4.5            10           NaN    MD   \n",
       "2   Matchbox - Rockville    $$     3.5          1046           NaN    MD   \n",
       "3       Marketplace Cafe    $$     3.5            61           NaN    MD   \n",
       "4             Seasons 52    $$     3.5           613           NaN    MD   \n",
       "\n",
       "          cuisine  \n",
       "0  American (New)  \n",
       "1  American (New)  \n",
       "2  American (New)  \n",
       "3  American (New)  \n",
       "4  American (New)  "
      ]
     },
     "execution_count": 27,
     "metadata": {},
     "output_type": "execute_result"
    }
   ],
   "source": [
    "md_second = md[md.cuisine == \"American (New)\"]\n",
    "md_second.reset_index(inplace=True, drop=True)\n",
    "print(len(md_second))\n",
    "md_second.head()"
   ]
  },
  {
   "cell_type": "code",
   "execution_count": 28,
   "metadata": {},
   "outputs": [],
   "source": [
    "md_second_review_count = md_second.review_count"
   ]
  },
  {
   "cell_type": "code",
   "execution_count": 29,
   "metadata": {},
   "outputs": [
    {
     "data": {
      "text/plain": [
       "(0.6900336742401123, 1.3818322042169484e-09)"
      ]
     },
     "execution_count": 29,
     "metadata": {},
     "output_type": "execute_result"
    }
   ],
   "source": [
    "stats.shapiro(md_first_review_count)"
   ]
  },
  {
   "cell_type": "code",
   "execution_count": 30,
   "metadata": {},
   "outputs": [
    {
     "data": {
      "text/plain": [
       "(0.6912879943847656, 1.3027578148194774e-12)"
      ]
     },
     "execution_count": 30,
     "metadata": {},
     "output_type": "execute_result"
    }
   ],
   "source": [
    "stats.shapiro(md_second_review_count)"
   ]
  },
  {
   "cell_type": "code",
   "execution_count": 31,
   "metadata": {},
   "outputs": [],
   "source": [
    "md_first_review_count_bs = sampling(md_first_review_count, 100000, 1000)\n",
    "md_second_review_count_bs = sampling(md_second_review_count, 100000, 1000)"
   ]
  },
  {
   "cell_type": "code",
   "execution_count": 32,
   "metadata": {},
   "outputs": [
    {
     "data": {
      "text/plain": [
       "(0.9984540939331055, 0.5250107645988464)"
      ]
     },
     "execution_count": 32,
     "metadata": {},
     "output_type": "execute_result"
    }
   ],
   "source": [
    "stats.shapiro(md_first_review_count_bs)"
   ]
  },
  {
   "cell_type": "code",
   "execution_count": 33,
   "metadata": {},
   "outputs": [
    {
     "data": {
      "text/plain": [
       "(0.9984880089759827, 0.5468243360519409)"
      ]
     },
     "execution_count": 33,
     "metadata": {},
     "output_type": "execute_result"
    }
   ],
   "source": [
    "stats.shapiro(md_second_review_count_bs)"
   ]
  },
  {
   "cell_type": "code",
   "execution_count": 34,
   "metadata": {},
   "outputs": [
    {
     "data": {
      "text/plain": [
       "Ttest_indResult(statistic=1058.4004930913563, pvalue=0.0)"
      ]
     },
     "execution_count": 34,
     "metadata": {},
     "output_type": "execute_result"
    }
   ],
   "source": [
    "stats.ttest_ind(md_first_review_count_bs, md_second_review_count_bs, equal_var=False)"
   ]
  }
 ],
 "metadata": {
  "kernelspec": {
   "display_name": "Python 3",
   "language": "python",
   "name": "python3"
  },
  "language_info": {
   "codemirror_mode": {
    "name": "ipython",
    "version": 3
   },
   "file_extension": ".py",
   "mimetype": "text/x-python",
   "name": "python",
   "nbconvert_exporter": "python",
   "pygments_lexer": "ipython3",
   "version": "3.7.3"
  }
 },
 "nbformat": 4,
 "nbformat_minor": 2
}
