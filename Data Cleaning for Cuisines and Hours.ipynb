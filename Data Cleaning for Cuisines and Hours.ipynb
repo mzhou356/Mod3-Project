{
 "cells": [
  {
   "cell_type": "markdown",
   "metadata": {},
   "source": [
    "# Restaurant Industry Consulting Firm\n",
    "July 15, 2019<br>\n",
    "Ngoc, EDA & Inferential Statistics\n",
    "\n",
    "-----------------"
   ]
  },
  {
   "cell_type": "markdown",
   "metadata": {},
   "source": [
    "In this notebook, we want to:\n",
    "- Find 2 most popular cuisines in each area (DC, VA, and MD) then t-test to figure out which one is best in each area (vs. number of reviews)\n",
    "- Over night (vs. number of reviews, stars)\n",
    "\n",
    "-------------------"
   ]
  },
  {
   "cell_type": "markdown",
   "metadata": {},
   "source": [
    "## Import Needed Libraries"
   ]
  },
  {
   "cell_type": "code",
   "execution_count": 1,
   "metadata": {},
   "outputs": [],
   "source": [
    "import json\n",
    "import requests\n",
    "import warnings\n",
    "import pandas as pd\n",
    "import seaborn as sns\n",
    "import matplotlib.pyplot as plt\n",
    "\n",
    "sns.set_style(\"whitegrid\")\n",
    "warnings.filterwarnings(\"ignore\")"
   ]
  },
  {
   "cell_type": "markdown",
   "metadata": {},
   "source": [
    "## Load Needed Data"
   ]
  },
  {
   "cell_type": "code",
   "execution_count": 2,
   "metadata": {},
   "outputs": [],
   "source": [
    "df = pd.read_pickle(\"data/df_business_details.pkl\")"
   ]
  },
  {
   "cell_type": "markdown",
   "metadata": {},
   "source": [
    "Quick glance:"
   ]
  },
  {
   "cell_type": "code",
   "execution_count": 3,
   "metadata": {},
   "outputs": [
    {
     "name": "stdout",
     "output_type": "stream",
     "text": [
      "6754\n"
     ]
    },
    {
     "data": {
      "text/html": [
       "<div>\n",
       "<style scoped>\n",
       "    .dataframe tbody tr th:only-of-type {\n",
       "        vertical-align: middle;\n",
       "    }\n",
       "\n",
       "    .dataframe tbody tr th {\n",
       "        vertical-align: top;\n",
       "    }\n",
       "\n",
       "    .dataframe thead th {\n",
       "        text-align: right;\n",
       "    }\n",
       "</style>\n",
       "<table border=\"1\" class=\"dataframe\">\n",
       "  <thead>\n",
       "    <tr style=\"text-align: right;\">\n",
       "      <th></th>\n",
       "      <th>alias</th>\n",
       "      <th>categories</th>\n",
       "      <th>coordinates</th>\n",
       "      <th>display_phone</th>\n",
       "      <th>hours</th>\n",
       "      <th>id</th>\n",
       "      <th>image_url</th>\n",
       "      <th>is_claimed</th>\n",
       "      <th>is_closed</th>\n",
       "      <th>location</th>\n",
       "      <th>messaging</th>\n",
       "      <th>name</th>\n",
       "      <th>phone</th>\n",
       "      <th>photos</th>\n",
       "      <th>price</th>\n",
       "      <th>rating</th>\n",
       "      <th>review_count</th>\n",
       "      <th>special_hours</th>\n",
       "      <th>transactions</th>\n",
       "      <th>url</th>\n",
       "    </tr>\n",
       "  </thead>\n",
       "  <tbody>\n",
       "    <tr>\n",
       "      <th>0</th>\n",
       "      <td>not-your-average-joes-silver-spring-2</td>\n",
       "      <td>[{'alias': 'salad', 'title': 'Salad'}, {'alias...</td>\n",
       "      <td>{'latitude': 38.9973970530383, 'longitude': -7...</td>\n",
       "      <td>(240) 839-3400</td>\n",
       "      <td>[{'open': [{'is_overnight': False, 'start': '1...</td>\n",
       "      <td>--saaXOpXBfC6-pvmTP5mw</td>\n",
       "      <td>https://s3-media3.fl.yelpcdn.com/bphoto/mZpusp...</td>\n",
       "      <td>True</td>\n",
       "      <td>False</td>\n",
       "      <td>{'address1': '8661 Colesville Rd', 'address2':...</td>\n",
       "      <td>{'url': 'https://www.yelp.com/raq/not-your-ave...</td>\n",
       "      <td>Not Your Average Joe's</td>\n",
       "      <td>+12408393400</td>\n",
       "      <td>[https://s3-media3.fl.yelpcdn.com/bphoto/mZpus...</td>\n",
       "      <td>$$</td>\n",
       "      <td>3.5</td>\n",
       "      <td>372</td>\n",
       "      <td>NaN</td>\n",
       "      <td>[]</td>\n",
       "      <td>https://www.yelp.com/biz/not-your-average-joes...</td>\n",
       "    </tr>\n",
       "    <tr>\n",
       "      <th>1</th>\n",
       "      <td>california-pizza-kitchen-at-tysons-corner-mcle...</td>\n",
       "      <td>[{'alias': 'pizza', 'title': 'Pizza'}, {'alias...</td>\n",
       "      <td>{'latitude': 38.9195057726529, 'longitude': -7...</td>\n",
       "      <td>(703) 761-1473</td>\n",
       "      <td>[{'open': [{'is_overnight': False, 'start': '1...</td>\n",
       "      <td>-0EptA8Ci4gad0arJph4VQ</td>\n",
       "      <td>https://s3-media1.fl.yelpcdn.com/bphoto/kfu56b...</td>\n",
       "      <td>True</td>\n",
       "      <td>False</td>\n",
       "      <td>{'address1': '7939 Tysons Corner Ctr', 'addres...</td>\n",
       "      <td>NaN</td>\n",
       "      <td>California Pizza Kitchen at Tysons Corner</td>\n",
       "      <td>+17037611473</td>\n",
       "      <td>[https://s3-media1.fl.yelpcdn.com/bphoto/kfu56...</td>\n",
       "      <td>$$</td>\n",
       "      <td>3.5</td>\n",
       "      <td>192</td>\n",
       "      <td>NaN</td>\n",
       "      <td>[delivery, pickup]</td>\n",
       "      <td>https://www.yelp.com/biz/california-pizza-kitc...</td>\n",
       "    </tr>\n",
       "    <tr>\n",
       "      <th>2</th>\n",
       "      <td>ihop-college-park</td>\n",
       "      <td>[{'alias': 'breakfast_brunch', 'title': 'Break...</td>\n",
       "      <td>{'latitude': 39.01419, 'longitude': -76.92827}</td>\n",
       "      <td>(301) 982-7400</td>\n",
       "      <td>[{'open': [{'is_overnight': False, 'start': '0...</td>\n",
       "      <td>-1Jfl_zix9l1RRWOPmzSEQ</td>\n",
       "      <td>https://s3-media2.fl.yelpcdn.com/bphoto/zGN5vL...</td>\n",
       "      <td>True</td>\n",
       "      <td>False</td>\n",
       "      <td>{'address1': '9680 Baltimore Ave', 'address2':...</td>\n",
       "      <td>NaN</td>\n",
       "      <td>IHOP</td>\n",
       "      <td>+13019827400</td>\n",
       "      <td>[https://s3-media2.fl.yelpcdn.com/bphoto/zGN5v...</td>\n",
       "      <td>$$</td>\n",
       "      <td>2.5</td>\n",
       "      <td>125</td>\n",
       "      <td>NaN</td>\n",
       "      <td>[pickup, delivery]</td>\n",
       "      <td>https://www.yelp.com/biz/ihop-college-park?adj...</td>\n",
       "    </tr>\n",
       "    <tr>\n",
       "      <th>3</th>\n",
       "      <td>capitol-seafood-and-crab-district-heights</td>\n",
       "      <td>[{'alias': 'seafood', 'title': 'Seafood'}]</td>\n",
       "      <td>{'latitude': 38.8541450500488, 'longitude': -7...</td>\n",
       "      <td>(301) 568-9234</td>\n",
       "      <td>NaN</td>\n",
       "      <td>-34232Z9Njha7auSGehjdQ</td>\n",
       "      <td>https://s3-media3.fl.yelpcdn.com/bphoto/4Kbfcc...</td>\n",
       "      <td>False</td>\n",
       "      <td>False</td>\n",
       "      <td>{'address1': '6326 Marlboro Pike', 'address2':...</td>\n",
       "      <td>NaN</td>\n",
       "      <td>Capitol Seafood &amp; Crab</td>\n",
       "      <td>+13015689234</td>\n",
       "      <td>[https://s3-media3.fl.yelpcdn.com/bphoto/4Kbfc...</td>\n",
       "      <td>$</td>\n",
       "      <td>4.0</td>\n",
       "      <td>13</td>\n",
       "      <td>NaN</td>\n",
       "      <td>[]</td>\n",
       "      <td>https://www.yelp.com/biz/capitol-seafood-and-c...</td>\n",
       "    </tr>\n",
       "    <tr>\n",
       "      <th>4</th>\n",
       "      <td>dunkin-donuts-alexandria-25</td>\n",
       "      <td>[{'alias': 'donuts', 'title': 'Donuts'}, {'ali...</td>\n",
       "      <td>{'latitude': 38.79054, 'longitude': -77.0764549}</td>\n",
       "      <td>(703) 379-1210</td>\n",
       "      <td>[{'open': [{'is_overnight': False, 'start': '0...</td>\n",
       "      <td>-34O36suTEIwy0DIvpW8PA</td>\n",
       "      <td>https://s3-media2.fl.yelpcdn.com/bphoto/oRtqDM...</td>\n",
       "      <td>False</td>\n",
       "      <td>False</td>\n",
       "      <td>{'address1': '5836B N Kings Hwy', 'address2': ...</td>\n",
       "      <td>NaN</td>\n",
       "      <td>Dunkin’ Donuts</td>\n",
       "      <td>+17033791210</td>\n",
       "      <td>[https://s3-media2.fl.yelpcdn.com/bphoto/oRtqD...</td>\n",
       "      <td>$</td>\n",
       "      <td>4.5</td>\n",
       "      <td>2</td>\n",
       "      <td>NaN</td>\n",
       "      <td>[]</td>\n",
       "      <td>https://www.yelp.com/biz/dunkin-donuts-alexand...</td>\n",
       "    </tr>\n",
       "  </tbody>\n",
       "</table>\n",
       "</div>"
      ],
      "text/plain": [
       "                                               alias  \\\n",
       "0              not-your-average-joes-silver-spring-2   \n",
       "1  california-pizza-kitchen-at-tysons-corner-mcle...   \n",
       "2                                  ihop-college-park   \n",
       "3          capitol-seafood-and-crab-district-heights   \n",
       "4                        dunkin-donuts-alexandria-25   \n",
       "\n",
       "                                          categories  \\\n",
       "0  [{'alias': 'salad', 'title': 'Salad'}, {'alias...   \n",
       "1  [{'alias': 'pizza', 'title': 'Pizza'}, {'alias...   \n",
       "2  [{'alias': 'breakfast_brunch', 'title': 'Break...   \n",
       "3         [{'alias': 'seafood', 'title': 'Seafood'}]   \n",
       "4  [{'alias': 'donuts', 'title': 'Donuts'}, {'ali...   \n",
       "\n",
       "                                         coordinates   display_phone  \\\n",
       "0  {'latitude': 38.9973970530383, 'longitude': -7...  (240) 839-3400   \n",
       "1  {'latitude': 38.9195057726529, 'longitude': -7...  (703) 761-1473   \n",
       "2     {'latitude': 39.01419, 'longitude': -76.92827}  (301) 982-7400   \n",
       "3  {'latitude': 38.8541450500488, 'longitude': -7...  (301) 568-9234   \n",
       "4   {'latitude': 38.79054, 'longitude': -77.0764549}  (703) 379-1210   \n",
       "\n",
       "                                               hours                      id  \\\n",
       "0  [{'open': [{'is_overnight': False, 'start': '1...  --saaXOpXBfC6-pvmTP5mw   \n",
       "1  [{'open': [{'is_overnight': False, 'start': '1...  -0EptA8Ci4gad0arJph4VQ   \n",
       "2  [{'open': [{'is_overnight': False, 'start': '0...  -1Jfl_zix9l1RRWOPmzSEQ   \n",
       "3                                                NaN  -34232Z9Njha7auSGehjdQ   \n",
       "4  [{'open': [{'is_overnight': False, 'start': '0...  -34O36suTEIwy0DIvpW8PA   \n",
       "\n",
       "                                           image_url  is_claimed  is_closed  \\\n",
       "0  https://s3-media3.fl.yelpcdn.com/bphoto/mZpusp...        True      False   \n",
       "1  https://s3-media1.fl.yelpcdn.com/bphoto/kfu56b...        True      False   \n",
       "2  https://s3-media2.fl.yelpcdn.com/bphoto/zGN5vL...        True      False   \n",
       "3  https://s3-media3.fl.yelpcdn.com/bphoto/4Kbfcc...       False      False   \n",
       "4  https://s3-media2.fl.yelpcdn.com/bphoto/oRtqDM...       False      False   \n",
       "\n",
       "                                            location  \\\n",
       "0  {'address1': '8661 Colesville Rd', 'address2':...   \n",
       "1  {'address1': '7939 Tysons Corner Ctr', 'addres...   \n",
       "2  {'address1': '9680 Baltimore Ave', 'address2':...   \n",
       "3  {'address1': '6326 Marlboro Pike', 'address2':...   \n",
       "4  {'address1': '5836B N Kings Hwy', 'address2': ...   \n",
       "\n",
       "                                           messaging  \\\n",
       "0  {'url': 'https://www.yelp.com/raq/not-your-ave...   \n",
       "1                                                NaN   \n",
       "2                                                NaN   \n",
       "3                                                NaN   \n",
       "4                                                NaN   \n",
       "\n",
       "                                        name         phone  \\\n",
       "0                     Not Your Average Joe's  +12408393400   \n",
       "1  California Pizza Kitchen at Tysons Corner  +17037611473   \n",
       "2                                       IHOP  +13019827400   \n",
       "3                     Capitol Seafood & Crab  +13015689234   \n",
       "4                             Dunkin’ Donuts  +17033791210   \n",
       "\n",
       "                                              photos price  rating  \\\n",
       "0  [https://s3-media3.fl.yelpcdn.com/bphoto/mZpus...    $$     3.5   \n",
       "1  [https://s3-media1.fl.yelpcdn.com/bphoto/kfu56...    $$     3.5   \n",
       "2  [https://s3-media2.fl.yelpcdn.com/bphoto/zGN5v...    $$     2.5   \n",
       "3  [https://s3-media3.fl.yelpcdn.com/bphoto/4Kbfc...     $     4.0   \n",
       "4  [https://s3-media2.fl.yelpcdn.com/bphoto/oRtqD...     $     4.5   \n",
       "\n",
       "   review_count special_hours        transactions  \\\n",
       "0           372           NaN                  []   \n",
       "1           192           NaN  [delivery, pickup]   \n",
       "2           125           NaN  [pickup, delivery]   \n",
       "3            13           NaN                  []   \n",
       "4             2           NaN                  []   \n",
       "\n",
       "                                                 url  \n",
       "0  https://www.yelp.com/biz/not-your-average-joes...  \n",
       "1  https://www.yelp.com/biz/california-pizza-kitc...  \n",
       "2  https://www.yelp.com/biz/ihop-college-park?adj...  \n",
       "3  https://www.yelp.com/biz/capitol-seafood-and-c...  \n",
       "4  https://www.yelp.com/biz/dunkin-donuts-alexand...  "
      ]
     },
     "execution_count": 3,
     "metadata": {},
     "output_type": "execute_result"
    }
   ],
   "source": [
    "print(len(df))\n",
    "df.head()"
   ]
  },
  {
   "cell_type": "markdown",
   "metadata": {},
   "source": [
    "## EDA"
   ]
  },
  {
   "cell_type": "markdown",
   "metadata": {},
   "source": [
    "Drop columns (straight out) not needed:"
   ]
  },
  {
   "cell_type": "code",
   "execution_count": 4,
   "metadata": {},
   "outputs": [],
   "source": [
    "df.drop(columns=[\"alias\", \"coordinates\", \"display_phone\", \"image_url\", \"is_claimed\", \"is_closed\",\n",
    "                 \"messaging\", \"phone\", \"photos\", \"transactions\", \"url\"], inplace=True, axis=1)"
   ]
  },
  {
   "cell_type": "markdown",
   "metadata": {},
   "source": [
    "More in-depth look:"
   ]
  },
  {
   "cell_type": "code",
   "execution_count": 5,
   "metadata": {},
   "outputs": [
    {
     "data": {
      "text/html": [
       "<div>\n",
       "<style scoped>\n",
       "    .dataframe tbody tr th:only-of-type {\n",
       "        vertical-align: middle;\n",
       "    }\n",
       "\n",
       "    .dataframe tbody tr th {\n",
       "        vertical-align: top;\n",
       "    }\n",
       "\n",
       "    .dataframe thead th {\n",
       "        text-align: right;\n",
       "    }\n",
       "</style>\n",
       "<table border=\"1\" class=\"dataframe\">\n",
       "  <thead>\n",
       "    <tr style=\"text-align: right;\">\n",
       "      <th></th>\n",
       "      <th>categories</th>\n",
       "      <th>hours</th>\n",
       "      <th>id</th>\n",
       "      <th>location</th>\n",
       "      <th>name</th>\n",
       "      <th>price</th>\n",
       "      <th>rating</th>\n",
       "      <th>review_count</th>\n",
       "      <th>special_hours</th>\n",
       "    </tr>\n",
       "  </thead>\n",
       "  <tbody>\n",
       "    <tr>\n",
       "      <th>0</th>\n",
       "      <td>[{'alias': 'salad', 'title': 'Salad'}, {'alias...</td>\n",
       "      <td>[{'open': [{'is_overnight': False, 'start': '1...</td>\n",
       "      <td>--saaXOpXBfC6-pvmTP5mw</td>\n",
       "      <td>{'address1': '8661 Colesville Rd', 'address2':...</td>\n",
       "      <td>Not Your Average Joe's</td>\n",
       "      <td>$$</td>\n",
       "      <td>3.5</td>\n",
       "      <td>372</td>\n",
       "      <td>NaN</td>\n",
       "    </tr>\n",
       "    <tr>\n",
       "      <th>1</th>\n",
       "      <td>[{'alias': 'pizza', 'title': 'Pizza'}, {'alias...</td>\n",
       "      <td>[{'open': [{'is_overnight': False, 'start': '1...</td>\n",
       "      <td>-0EptA8Ci4gad0arJph4VQ</td>\n",
       "      <td>{'address1': '7939 Tysons Corner Ctr', 'addres...</td>\n",
       "      <td>California Pizza Kitchen at Tysons Corner</td>\n",
       "      <td>$$</td>\n",
       "      <td>3.5</td>\n",
       "      <td>192</td>\n",
       "      <td>NaN</td>\n",
       "    </tr>\n",
       "    <tr>\n",
       "      <th>2</th>\n",
       "      <td>[{'alias': 'breakfast_brunch', 'title': 'Break...</td>\n",
       "      <td>[{'open': [{'is_overnight': False, 'start': '0...</td>\n",
       "      <td>-1Jfl_zix9l1RRWOPmzSEQ</td>\n",
       "      <td>{'address1': '9680 Baltimore Ave', 'address2':...</td>\n",
       "      <td>IHOP</td>\n",
       "      <td>$$</td>\n",
       "      <td>2.5</td>\n",
       "      <td>125</td>\n",
       "      <td>NaN</td>\n",
       "    </tr>\n",
       "    <tr>\n",
       "      <th>3</th>\n",
       "      <td>[{'alias': 'seafood', 'title': 'Seafood'}]</td>\n",
       "      <td>NaN</td>\n",
       "      <td>-34232Z9Njha7auSGehjdQ</td>\n",
       "      <td>{'address1': '6326 Marlboro Pike', 'address2':...</td>\n",
       "      <td>Capitol Seafood &amp; Crab</td>\n",
       "      <td>$</td>\n",
       "      <td>4.0</td>\n",
       "      <td>13</td>\n",
       "      <td>NaN</td>\n",
       "    </tr>\n",
       "    <tr>\n",
       "      <th>4</th>\n",
       "      <td>[{'alias': 'donuts', 'title': 'Donuts'}, {'ali...</td>\n",
       "      <td>[{'open': [{'is_overnight': False, 'start': '0...</td>\n",
       "      <td>-34O36suTEIwy0DIvpW8PA</td>\n",
       "      <td>{'address1': '5836B N Kings Hwy', 'address2': ...</td>\n",
       "      <td>Dunkin’ Donuts</td>\n",
       "      <td>$</td>\n",
       "      <td>4.5</td>\n",
       "      <td>2</td>\n",
       "      <td>NaN</td>\n",
       "    </tr>\n",
       "  </tbody>\n",
       "</table>\n",
       "</div>"
      ],
      "text/plain": [
       "                                          categories  \\\n",
       "0  [{'alias': 'salad', 'title': 'Salad'}, {'alias...   \n",
       "1  [{'alias': 'pizza', 'title': 'Pizza'}, {'alias...   \n",
       "2  [{'alias': 'breakfast_brunch', 'title': 'Break...   \n",
       "3         [{'alias': 'seafood', 'title': 'Seafood'}]   \n",
       "4  [{'alias': 'donuts', 'title': 'Donuts'}, {'ali...   \n",
       "\n",
       "                                               hours                      id  \\\n",
       "0  [{'open': [{'is_overnight': False, 'start': '1...  --saaXOpXBfC6-pvmTP5mw   \n",
       "1  [{'open': [{'is_overnight': False, 'start': '1...  -0EptA8Ci4gad0arJph4VQ   \n",
       "2  [{'open': [{'is_overnight': False, 'start': '0...  -1Jfl_zix9l1RRWOPmzSEQ   \n",
       "3                                                NaN  -34232Z9Njha7auSGehjdQ   \n",
       "4  [{'open': [{'is_overnight': False, 'start': '0...  -34O36suTEIwy0DIvpW8PA   \n",
       "\n",
       "                                            location  \\\n",
       "0  {'address1': '8661 Colesville Rd', 'address2':...   \n",
       "1  {'address1': '7939 Tysons Corner Ctr', 'addres...   \n",
       "2  {'address1': '9680 Baltimore Ave', 'address2':...   \n",
       "3  {'address1': '6326 Marlboro Pike', 'address2':...   \n",
       "4  {'address1': '5836B N Kings Hwy', 'address2': ...   \n",
       "\n",
       "                                        name price  rating  review_count  \\\n",
       "0                     Not Your Average Joe's    $$     3.5           372   \n",
       "1  California Pizza Kitchen at Tysons Corner    $$     3.5           192   \n",
       "2                                       IHOP    $$     2.5           125   \n",
       "3                     Capitol Seafood & Crab     $     4.0            13   \n",
       "4                             Dunkin’ Donuts     $     4.5             2   \n",
       "\n",
       "  special_hours  \n",
       "0           NaN  \n",
       "1           NaN  \n",
       "2           NaN  \n",
       "3           NaN  \n",
       "4           NaN  "
      ]
     },
     "execution_count": 5,
     "metadata": {},
     "output_type": "execute_result"
    }
   ],
   "source": [
    "df.head()"
   ]
  },
  {
   "cell_type": "code",
   "execution_count": 6,
   "metadata": {},
   "outputs": [
    {
     "data": {
      "text/plain": [
       "(6754, 9)"
      ]
     },
     "execution_count": 6,
     "metadata": {},
     "output_type": "execute_result"
    }
   ],
   "source": [
    "df.shape"
   ]
  },
  {
   "cell_type": "markdown",
   "metadata": {},
   "source": [
    "Check for duplicates:"
   ]
  },
  {
   "cell_type": "code",
   "execution_count": 7,
   "metadata": {},
   "outputs": [
    {
     "data": {
      "text/plain": [
       "0"
      ]
     },
     "execution_count": 7,
     "metadata": {},
     "output_type": "execute_result"
    }
   ],
   "source": [
    "sum(df.id.duplicated())"
   ]
  },
  {
   "cell_type": "code",
   "execution_count": 8,
   "metadata": {},
   "outputs": [
    {
     "name": "stdout",
     "output_type": "stream",
     "text": [
      "<class 'pandas.core.frame.DataFrame'>\n",
      "RangeIndex: 6754 entries, 0 to 6753\n",
      "Data columns (total 9 columns):\n",
      "categories       6754 non-null object\n",
      "hours            5650 non-null object\n",
      "id               6754 non-null object\n",
      "location         6754 non-null object\n",
      "name             6754 non-null object\n",
      "price            5720 non-null object\n",
      "rating           6754 non-null float64\n",
      "review_count     6754 non-null int64\n",
      "special_hours    126 non-null object\n",
      "dtypes: float64(1), int64(1), object(7)\n",
      "memory usage: 475.0+ KB\n"
     ]
    }
   ],
   "source": [
    "df.info()"
   ]
  },
  {
   "cell_type": "markdown",
   "metadata": {},
   "source": [
    "**hours, price, and special_hours need special treatments!**"
   ]
  },
  {
   "cell_type": "markdown",
   "metadata": {},
   "source": [
    "### State"
   ]
  },
  {
   "cell_type": "markdown",
   "metadata": {},
   "source": [
    "*location* has *state* information:"
   ]
  },
  {
   "cell_type": "code",
   "execution_count": 9,
   "metadata": {},
   "outputs": [
    {
     "data": {
      "text/plain": [
       "{'address1': '8661 Colesville Rd',\n",
       " 'address2': 'Ste C-153',\n",
       " 'address3': None,\n",
       " 'city': 'Silver Spring',\n",
       " 'zip_code': '20910',\n",
       " 'country': 'US',\n",
       " 'state': 'MD',\n",
       " 'display_address': ['8661 Colesville Rd',\n",
       "  'Ste C-153',\n",
       "  'Silver Spring, MD 20910'],\n",
       " 'cross_streets': ''}"
      ]
     },
     "execution_count": 9,
     "metadata": {},
     "output_type": "execute_result"
    }
   ],
   "source": [
    "df.location[0]"
   ]
  },
  {
   "cell_type": "markdown",
   "metadata": {},
   "source": [
    "Add a state column:"
   ]
  },
  {
   "cell_type": "code",
   "execution_count": 10,
   "metadata": {},
   "outputs": [],
   "source": [
    "df[\"state\"] = df.location.apply(lambda x: x[\"state\"])"
   ]
  },
  {
   "cell_type": "markdown",
   "metadata": {},
   "source": [
    "Let's check:"
   ]
  },
  {
   "cell_type": "code",
   "execution_count": 11,
   "metadata": {},
   "outputs": [
    {
     "data": {
      "text/plain": [
       "DC     2679\n",
       "VA     2081\n",
       "MD     1968\n",
       "CA        3\n",
       "OH        3\n",
       "LA        2\n",
       "NLN       2\n",
       "TN        2\n",
       "AL        2\n",
       "MN        2\n",
       "XGM       1\n",
       "MO        1\n",
       "AZ        1\n",
       "UT        1\n",
       "IL        1\n",
       "NE        1\n",
       "GA        1\n",
       "TX        1\n",
       "NDN       1\n",
       "KS        1\n",
       "Name: state, dtype: int64"
      ]
     },
     "execution_count": 11,
     "metadata": {},
     "output_type": "execute_result"
    }
   ],
   "source": [
    "df.state.value_counts()"
   ]
  },
  {
   "cell_type": "markdown",
   "metadata": {},
   "source": [
    "Get rid of anything that's not in the DMV area:"
   ]
  },
  {
   "cell_type": "code",
   "execution_count": 12,
   "metadata": {},
   "outputs": [],
   "source": [
    "dmv = [\"DC\", \"VA\", \"MD\"]\n",
    "df = df[df.state.isin(dmv)]"
   ]
  },
  {
   "cell_type": "markdown",
   "metadata": {},
   "source": [
    "Let's check:"
   ]
  },
  {
   "cell_type": "code",
   "execution_count": 13,
   "metadata": {},
   "outputs": [
    {
     "data": {
      "text/plain": [
       "DC    2679\n",
       "VA    2081\n",
       "MD    1968\n",
       "Name: state, dtype: int64"
      ]
     },
     "execution_count": 13,
     "metadata": {},
     "output_type": "execute_result"
    }
   ],
   "source": [
    "df.state.value_counts()"
   ]
  },
  {
   "cell_type": "code",
   "execution_count": 14,
   "metadata": {},
   "outputs": [
    {
     "data": {
      "image/png": "[encoded data removed]",
      "text/plain": [
       "<Figure size 720x576 with 1 Axes>"
      ]
     },
     "metadata": {
      "needs_background": "light"
     },
     "output_type": "display_data"
    }
   ],
   "source": [
    "state_count = df.state.value_counts()\n",
    "plt.figure(figsize=(10, 8))\n",
    "sns.barplot(state_count.index, state_count.values, color=\"grey\")\n",
    "plt.title(\"Number of Restaurants in the DMV Area\")\n",
    "plt.ylabel(\"Number of Restaurants\")\n",
    "plt.show()"
   ]
  },
  {
   "cell_type": "markdown",
   "metadata": {},
   "source": [
    "Nice! Enough data for each group."
   ]
  },
  {
   "cell_type": "markdown",
   "metadata": {},
   "source": [
    "Get rid of location column:"
   ]
  },
  {
   "cell_type": "code",
   "execution_count": 15,
   "metadata": {},
   "outputs": [],
   "source": [
    "df.drop(columns=[\"location\"], inplace=True, axis=1)"
   ]
  },
  {
   "cell_type": "code",
   "execution_count": 16,
   "metadata": {},
   "outputs": [
    {
     "data": {
      "text/html": [
       "<div>\n",
       "<style scoped>\n",
       "    .dataframe tbody tr th:only-of-type {\n",
       "        vertical-align: middle;\n",
       "    }\n",
       "\n",
       "    .dataframe tbody tr th {\n",
       "        vertical-align: top;\n",
       "    }\n",
       "\n",
       "    .dataframe thead th {\n",
       "        text-align: right;\n",
       "    }\n",
       "</style>\n",
       "<table border=\"1\" class=\"dataframe\">\n",
       "  <thead>\n",
       "    <tr style=\"text-align: right;\">\n",
       "      <th></th>\n",
       "      <th>categories</th>\n",
       "      <th>hours</th>\n",
       "      <th>id</th>\n",
       "      <th>name</th>\n",
       "      <th>price</th>\n",
       "      <th>rating</th>\n",
       "      <th>review_count</th>\n",
       "      <th>special_hours</th>\n",
       "      <th>state</th>\n",
       "    </tr>\n",
       "  </thead>\n",
       "  <tbody>\n",
       "    <tr>\n",
       "      <th>0</th>\n",
       "      <td>[{'alias': 'salad', 'title': 'Salad'}, {'alias...</td>\n",
       "      <td>[{'open': [{'is_overnight': False, 'start': '1...</td>\n",
       "      <td>--saaXOpXBfC6-pvmTP5mw</td>\n",
       "      <td>Not Your Average Joe's</td>\n",
       "      <td>$$</td>\n",
       "      <td>3.5</td>\n",
       "      <td>372</td>\n",
       "      <td>NaN</td>\n",
       "      <td>MD</td>\n",
       "    </tr>\n",
       "    <tr>\n",
       "      <th>1</th>\n",
       "      <td>[{'alias': 'pizza', 'title': 'Pizza'}, {'alias...</td>\n",
       "      <td>[{'open': [{'is_overnight': False, 'start': '1...</td>\n",
       "      <td>-0EptA8Ci4gad0arJph4VQ</td>\n",
       "      <td>California Pizza Kitchen at Tysons Corner</td>\n",
       "      <td>$$</td>\n",
       "      <td>3.5</td>\n",
       "      <td>192</td>\n",
       "      <td>NaN</td>\n",
       "      <td>VA</td>\n",
       "    </tr>\n",
       "    <tr>\n",
       "      <th>2</th>\n",
       "      <td>[{'alias': 'breakfast_brunch', 'title': 'Break...</td>\n",
       "      <td>[{'open': [{'is_overnight': False, 'start': '0...</td>\n",
       "      <td>-1Jfl_zix9l1RRWOPmzSEQ</td>\n",
       "      <td>IHOP</td>\n",
       "      <td>$$</td>\n",
       "      <td>2.5</td>\n",
       "      <td>125</td>\n",
       "      <td>NaN</td>\n",
       "      <td>MD</td>\n",
       "    </tr>\n",
       "    <tr>\n",
       "      <th>3</th>\n",
       "      <td>[{'alias': 'seafood', 'title': 'Seafood'}]</td>\n",
       "      <td>NaN</td>\n",
       "      <td>-34232Z9Njha7auSGehjdQ</td>\n",
       "      <td>Capitol Seafood &amp; Crab</td>\n",
       "      <td>$</td>\n",
       "      <td>4.0</td>\n",
       "      <td>13</td>\n",
       "      <td>NaN</td>\n",
       "      <td>MD</td>\n",
       "    </tr>\n",
       "    <tr>\n",
       "      <th>4</th>\n",
       "      <td>[{'alias': 'donuts', 'title': 'Donuts'}, {'ali...</td>\n",
       "      <td>[{'open': [{'is_overnight': False, 'start': '0...</td>\n",
       "      <td>-34O36suTEIwy0DIvpW8PA</td>\n",
       "      <td>Dunkin’ Donuts</td>\n",
       "      <td>$</td>\n",
       "      <td>4.5</td>\n",
       "      <td>2</td>\n",
       "      <td>NaN</td>\n",
       "      <td>VA</td>\n",
       "    </tr>\n",
       "  </tbody>\n",
       "</table>\n",
       "</div>"
      ],
      "text/plain": [
       "                                          categories  \\\n",
       "0  [{'alias': 'salad', 'title': 'Salad'}, {'alias...   \n",
       "1  [{'alias': 'pizza', 'title': 'Pizza'}, {'alias...   \n",
       "2  [{'alias': 'breakfast_brunch', 'title': 'Break...   \n",
       "3         [{'alias': 'seafood', 'title': 'Seafood'}]   \n",
       "4  [{'alias': 'donuts', 'title': 'Donuts'}, {'ali...   \n",
       "\n",
       "                                               hours                      id  \\\n",
       "0  [{'open': [{'is_overnight': False, 'start': '1...  --saaXOpXBfC6-pvmTP5mw   \n",
       "1  [{'open': [{'is_overnight': False, 'start': '1...  -0EptA8Ci4gad0arJph4VQ   \n",
       "2  [{'open': [{'is_overnight': False, 'start': '0...  -1Jfl_zix9l1RRWOPmzSEQ   \n",
       "3                                                NaN  -34232Z9Njha7auSGehjdQ   \n",
       "4  [{'open': [{'is_overnight': False, 'start': '0...  -34O36suTEIwy0DIvpW8PA   \n",
       "\n",
       "                                        name price  rating  review_count  \\\n",
       "0                     Not Your Average Joe's    $$     3.5           372   \n",
       "1  California Pizza Kitchen at Tysons Corner    $$     3.5           192   \n",
       "2                                       IHOP    $$     2.5           125   \n",
       "3                     Capitol Seafood & Crab     $     4.0            13   \n",
       "4                             Dunkin’ Donuts     $     4.5             2   \n",
       "\n",
       "  special_hours state  \n",
       "0           NaN    MD  \n",
       "1           NaN    VA  \n",
       "2           NaN    MD  \n",
       "3           NaN    MD  \n",
       "4           NaN    VA  "
      ]
     },
     "execution_count": 16,
     "metadata": {},
     "output_type": "execute_result"
    }
   ],
   "source": [
    "df.head()"
   ]
  },
  {
   "cell_type": "markdown",
   "metadata": {},
   "source": [
    "### Cuisines"
   ]
  },
  {
   "cell_type": "markdown",
   "metadata": {},
   "source": [
    "Study each area's most popular cuisines:"
   ]
  },
  {
   "cell_type": "code",
   "execution_count": 17,
   "metadata": {},
   "outputs": [],
   "source": [
    "df[\"cuisines\"] = df.categories.apply(lambda x: \"|\".join([i[\"title\"] for i in x]))"
   ]
  },
  {
   "cell_type": "markdown",
   "metadata": {},
   "source": [
    "Get rid of categories column:"
   ]
  },
  {
   "cell_type": "code",
   "execution_count": 18,
   "metadata": {},
   "outputs": [],
   "source": [
    "df.drop(columns=[\"categories\"], inplace=True, axis=1)"
   ]
  },
  {
   "cell_type": "code",
   "execution_count": 19,
   "metadata": {},
   "outputs": [
    {
     "data": {
      "text/html": [
       "<div>\n",
       "<style scoped>\n",
       "    .dataframe tbody tr th:only-of-type {\n",
       "        vertical-align: middle;\n",
       "    }\n",
       "\n",
       "    .dataframe tbody tr th {\n",
       "        vertical-align: top;\n",
       "    }\n",
       "\n",
       "    .dataframe thead th {\n",
       "        text-align: right;\n",
       "    }\n",
       "</style>\n",
       "<table border=\"1\" class=\"dataframe\">\n",
       "  <thead>\n",
       "    <tr style=\"text-align: right;\">\n",
       "      <th></th>\n",
       "      <th>hours</th>\n",
       "      <th>id</th>\n",
       "      <th>name</th>\n",
       "      <th>price</th>\n",
       "      <th>rating</th>\n",
       "      <th>review_count</th>\n",
       "      <th>special_hours</th>\n",
       "      <th>state</th>\n",
       "      <th>cuisines</th>\n",
       "    </tr>\n",
       "  </thead>\n",
       "  <tbody>\n",
       "    <tr>\n",
       "      <th>0</th>\n",
       "      <td>[{'open': [{'is_overnight': False, 'start': '1...</td>\n",
       "      <td>--saaXOpXBfC6-pvmTP5mw</td>\n",
       "      <td>Not Your Average Joe's</td>\n",
       "      <td>$$</td>\n",
       "      <td>3.5</td>\n",
       "      <td>372</td>\n",
       "      <td>NaN</td>\n",
       "      <td>MD</td>\n",
       "      <td>Salad|Seafood|American (Traditional)</td>\n",
       "    </tr>\n",
       "    <tr>\n",
       "      <th>1</th>\n",
       "      <td>[{'open': [{'is_overnight': False, 'start': '1...</td>\n",
       "      <td>-0EptA8Ci4gad0arJph4VQ</td>\n",
       "      <td>California Pizza Kitchen at Tysons Corner</td>\n",
       "      <td>$$</td>\n",
       "      <td>3.5</td>\n",
       "      <td>192</td>\n",
       "      <td>NaN</td>\n",
       "      <td>VA</td>\n",
       "      <td>Pizza|American (New)|Salad</td>\n",
       "    </tr>\n",
       "    <tr>\n",
       "      <th>2</th>\n",
       "      <td>[{'open': [{'is_overnight': False, 'start': '0...</td>\n",
       "      <td>-1Jfl_zix9l1RRWOPmzSEQ</td>\n",
       "      <td>IHOP</td>\n",
       "      <td>$$</td>\n",
       "      <td>2.5</td>\n",
       "      <td>125</td>\n",
       "      <td>NaN</td>\n",
       "      <td>MD</td>\n",
       "      <td>Breakfast &amp; Brunch|American (Traditional)|Burgers</td>\n",
       "    </tr>\n",
       "    <tr>\n",
       "      <th>3</th>\n",
       "      <td>NaN</td>\n",
       "      <td>-34232Z9Njha7auSGehjdQ</td>\n",
       "      <td>Capitol Seafood &amp; Crab</td>\n",
       "      <td>$</td>\n",
       "      <td>4.0</td>\n",
       "      <td>13</td>\n",
       "      <td>NaN</td>\n",
       "      <td>MD</td>\n",
       "      <td>Seafood</td>\n",
       "    </tr>\n",
       "    <tr>\n",
       "      <th>4</th>\n",
       "      <td>[{'open': [{'is_overnight': False, 'start': '0...</td>\n",
       "      <td>-34O36suTEIwy0DIvpW8PA</td>\n",
       "      <td>Dunkin’ Donuts</td>\n",
       "      <td>$</td>\n",
       "      <td>4.5</td>\n",
       "      <td>2</td>\n",
       "      <td>NaN</td>\n",
       "      <td>VA</td>\n",
       "      <td>Donuts|Coffee &amp; Tea|Breakfast &amp; Brunch</td>\n",
       "    </tr>\n",
       "  </tbody>\n",
       "</table>\n",
       "</div>"
      ],
      "text/plain": [
       "                                               hours                      id  \\\n",
       "0  [{'open': [{'is_overnight': False, 'start': '1...  --saaXOpXBfC6-pvmTP5mw   \n",
       "1  [{'open': [{'is_overnight': False, 'start': '1...  -0EptA8Ci4gad0arJph4VQ   \n",
       "2  [{'open': [{'is_overnight': False, 'start': '0...  -1Jfl_zix9l1RRWOPmzSEQ   \n",
       "3                                                NaN  -34232Z9Njha7auSGehjdQ   \n",
       "4  [{'open': [{'is_overnight': False, 'start': '0...  -34O36suTEIwy0DIvpW8PA   \n",
       "\n",
       "                                        name price  rating  review_count  \\\n",
       "0                     Not Your Average Joe's    $$     3.5           372   \n",
       "1  California Pizza Kitchen at Tysons Corner    $$     3.5           192   \n",
       "2                                       IHOP    $$     2.5           125   \n",
       "3                     Capitol Seafood & Crab     $     4.0            13   \n",
       "4                             Dunkin’ Donuts     $     4.5             2   \n",
       "\n",
       "  special_hours state                                           cuisines  \n",
       "0           NaN    MD               Salad|Seafood|American (Traditional)  \n",
       "1           NaN    VA                         Pizza|American (New)|Salad  \n",
       "2           NaN    MD  Breakfast & Brunch|American (Traditional)|Burgers  \n",
       "3           NaN    MD                                            Seafood  \n",
       "4           NaN    VA             Donuts|Coffee & Tea|Breakfast & Brunch  "
      ]
     },
     "execution_count": 19,
     "metadata": {},
     "output_type": "execute_result"
    }
   ],
   "source": [
    "df.head()"
   ]
  },
  {
   "cell_type": "markdown",
   "metadata": {},
   "source": [
    "Split data, state wise:"
   ]
  },
  {
   "cell_type": "code",
   "execution_count": 20,
   "metadata": {},
   "outputs": [
    {
     "data": {
      "text/plain": [
       "(2679, 9)"
      ]
     },
     "execution_count": 20,
     "metadata": {},
     "output_type": "execute_result"
    }
   ],
   "source": [
    "dc = df[df.state == \"DC\"]\n",
    "dc.shape"
   ]
  },
  {
   "cell_type": "code",
   "execution_count": 21,
   "metadata": {},
   "outputs": [
    {
     "data": {
      "text/plain": [
       "(2081, 9)"
      ]
     },
     "execution_count": 21,
     "metadata": {},
     "output_type": "execute_result"
    }
   ],
   "source": [
    "va = df[df.state == \"VA\"]\n",
    "va.shape"
   ]
  },
  {
   "cell_type": "code",
   "execution_count": 22,
   "metadata": {},
   "outputs": [
    {
     "data": {
      "text/plain": [
       "(1968, 9)"
      ]
     },
     "execution_count": 22,
     "metadata": {},
     "output_type": "execute_result"
    }
   ],
   "source": [
    "md = df[df.state == \"MD\"]\n",
    "md.shape"
   ]
  },
  {
   "cell_type": "markdown",
   "metadata": {},
   "source": [
    "**DC**"
   ]
  },
  {
   "cell_type": "markdown",
   "metadata": {},
   "source": [
    "Total number of reviews for each cuisine:"
   ]
  },
  {
   "cell_type": "code",
   "execution_count": 23,
   "metadata": {},
   "outputs": [],
   "source": [
    "dc_sum_review_by_cuisine = dc.groupby(\"cuisines\")[\"review_count\"].sum()"
   ]
  },
  {
   "cell_type": "code",
   "execution_count": 24,
   "metadata": {},
   "outputs": [
    {
     "data": {
      "text/plain": [
       "cuisines\n",
       "American (Traditional)|Coffee & Tea|Breakfast & Brunch    12832\n",
       "Italian                                                   11338\n",
       "Pizza                                                     11311\n",
       "Indian                                                     9930\n",
       "Bars|American (Traditional)|Breakfast & Brunch             9676\n",
       "Name: review_count, dtype: int64"
      ]
     },
     "execution_count": 24,
     "metadata": {},
     "output_type": "execute_result"
    }
   ],
   "source": [
    "dc_sum_review_by_cuisine.sort_values(ascending=False).head()"
   ]
  },
  {
   "cell_type": "markdown",
   "metadata": {},
   "source": [
    "Total number of restaurants for each cuisine:"
   ]
  },
  {
   "cell_type": "code",
   "execution_count": 25,
   "metadata": {},
   "outputs": [],
   "source": [
    "dc_count_by_cuisine = dc.groupby(\"cuisines\")[\"review_count\"].count()"
   ]
  },
  {
   "cell_type": "code",
   "execution_count": 26,
   "metadata": {},
   "outputs": [
    {
     "data": {
      "text/plain": [
       "cuisines\n",
       "Pizza                   84\n",
       "Chinese                 79\n",
       "Sandwiches|Fast Food    50\n",
       "American (New)          50\n",
       "Mexican                 40\n",
       "Name: review_count, dtype: int64"
      ]
     },
     "execution_count": 26,
     "metadata": {},
     "output_type": "execute_result"
    }
   ],
   "source": [
    "dc_count_by_cuisine.sort_values(ascending=False).head()"
   ]
  },
  {
   "cell_type": "code",
   "execution_count": 27,
   "metadata": {},
   "outputs": [],
   "source": [
    "# dc.groupby(\"cuisines\")[\"review_count\"].sum().head(10)"
   ]
  },
  {
   "cell_type": "code",
   "execution_count": 28,
   "metadata": {},
   "outputs": [],
   "source": [
    "# dc.groupby(\"cuisines\")[\"review_count\"].count().head(10)"
   ]
  },
  {
   "cell_type": "markdown",
   "metadata": {},
   "source": [
    "\"Standardized\" number of reviews for each cuisine:"
   ]
  },
  {
   "cell_type": "code",
   "execution_count": 29,
   "metadata": {},
   "outputs": [],
   "source": [
    "dc_std_sum_review_by_cuisine = dc_sum_review_by_cuisine / dc_count_by_cuisine"
   ]
  },
  {
   "cell_type": "code",
   "execution_count": 30,
   "metadata": {},
   "outputs": [
    {
     "data": {
      "text/plain": [
       "cuisines\n",
       "American (Traditional)|Coffee & Tea|Breakfast & Brunch    12832.000000\n",
       "Hot Dogs|Burgers|American (Traditional)                    3672.000000\n",
       "American (New)|Breakfast & Brunch|Vegetarian               3418.000000\n",
       "Bars|American (Traditional)|Breakfast & Brunch             3225.333333\n",
       "Brasseries|French|Breakfast & Brunch                       3153.000000\n",
       "Name: review_count, dtype: float64"
      ]
     },
     "execution_count": 30,
     "metadata": {},
     "output_type": "execute_result"
    }
   ],
   "source": [
    "dc_std_sum_review_by_cuisine.sort_values(ascending=False).head()"
   ]
  },
  {
   "cell_type": "markdown",
   "metadata": {},
   "source": [
    "Two-sample t-test -> { American (Traditional)|Coffee & Tea|Breakfast & Brunch } and { Hot Dogs|Burgers|American (Traditional) }"
   ]
  },
  {
   "cell_type": "markdown",
   "metadata": {},
   "source": [
    "**VA**"
   ]
  },
  {
   "cell_type": "markdown",
   "metadata": {},
   "source": [
    "Total number of reviews for each cuisine:"
   ]
  },
  {
   "cell_type": "code",
   "execution_count": 31,
   "metadata": {},
   "outputs": [],
   "source": [
    "va_sum_review_by_cuisine = va.groupby(\"cuisines\")[\"review_count\"].sum()"
   ]
  },
  {
   "cell_type": "code",
   "execution_count": 32,
   "metadata": {},
   "outputs": [
    {
     "data": {
      "text/plain": [
       "cuisines\n",
       "Vietnamese    11490\n",
       "Thai           8685\n",
       "Chinese        7355\n",
       "Mexican        6012\n",
       "Indian         4910\n",
       "Name: review_count, dtype: int64"
      ]
     },
     "execution_count": 32,
     "metadata": {},
     "output_type": "execute_result"
    }
   ],
   "source": [
    "va_sum_review_by_cuisine.sort_values(ascending=False).head()"
   ]
  },
  {
   "cell_type": "markdown",
   "metadata": {},
   "source": [
    "Total number of restaurants for each cuisine:"
   ]
  },
  {
   "cell_type": "code",
   "execution_count": 33,
   "metadata": {},
   "outputs": [],
   "source": [
    "va_count_by_cuisine = va.groupby(\"cuisines\")[\"review_count\"].count()"
   ]
  },
  {
   "cell_type": "code",
   "execution_count": 34,
   "metadata": {},
   "outputs": [
    {
     "data": {
      "text/plain": [
       "cuisines\n",
       "Chinese                 57\n",
       "Pizza                   57\n",
       "Vietnamese              50\n",
       "Sandwiches|Fast Food    47\n",
       "Thai                    34\n",
       "Name: review_count, dtype: int64"
      ]
     },
     "execution_count": 34,
     "metadata": {},
     "output_type": "execute_result"
    }
   ],
   "source": [
    "va_count_by_cuisine.sort_values(ascending=False).head()"
   ]
  },
  {
   "cell_type": "code",
   "execution_count": 35,
   "metadata": {},
   "outputs": [],
   "source": [
    "# va.groupby(\"cuisines\")[\"review_count\"].sum().head(10)"
   ]
  },
  {
   "cell_type": "code",
   "execution_count": 36,
   "metadata": {},
   "outputs": [],
   "source": [
    "# va.groupby(\"cuisines\")[\"review_count\"].count().head(10)"
   ]
  },
  {
   "cell_type": "markdown",
   "metadata": {},
   "source": [
    "\"Standardized\" number of reviews for each cuisine:"
   ]
  },
  {
   "cell_type": "code",
   "execution_count": 37,
   "metadata": {},
   "outputs": [],
   "source": [
    "va_std_sum_review_by_cuisine = va_sum_review_by_cuisine / va_count_by_cuisine"
   ]
  },
  {
   "cell_type": "code",
   "execution_count": 38,
   "metadata": {},
   "outputs": [
    {
     "data": {
      "text/plain": [
       "cuisines\n",
       "Pizza|Italian|Gelato                      1798.0\n",
       "Bars|American (New)|Breakfast & Brunch    1781.0\n",
       "Halal|Pakistani                           1770.0\n",
       "American (Traditional)|Seafood            1763.0\n",
       "Cajun/Creole|Seafood|Bars                 1738.0\n",
       "Name: review_count, dtype: float64"
      ]
     },
     "execution_count": 38,
     "metadata": {},
     "output_type": "execute_result"
    }
   ],
   "source": [
    "va_std_sum_review_by_cuisine.sort_values(ascending=False).head()"
   ]
  },
  {
   "cell_type": "markdown",
   "metadata": {},
   "source": [
    "Two-sample t-test -> { Pizza|Italian|Gelato } and { Bars|American (New)|Breakfast & Brunch }"
   ]
  },
  {
   "cell_type": "markdown",
   "metadata": {},
   "source": [
    "**MD**"
   ]
  },
  {
   "cell_type": "markdown",
   "metadata": {},
   "source": [
    "Total number of reviews for each cuisine:"
   ]
  },
  {
   "cell_type": "code",
   "execution_count": 39,
   "metadata": {},
   "outputs": [],
   "source": [
    "md_sum_review_by_cuisine = md.groupby(\"cuisines\")[\"review_count\"].sum()"
   ]
  },
  {
   "cell_type": "code",
   "execution_count": 40,
   "metadata": {},
   "outputs": [
    {
     "data": {
      "text/plain": [
       "cuisines\n",
       "Pizza                     4105\n",
       "Thai                      3737\n",
       "Chinese                   3421\n",
       "Mexican                   3334\n",
       "American (Traditional)    2916\n",
       "Name: review_count, dtype: int64"
      ]
     },
     "execution_count": 40,
     "metadata": {},
     "output_type": "execute_result"
    }
   ],
   "source": [
    "md_sum_review_by_cuisine.sort_values(ascending=False).head()"
   ]
  },
  {
   "cell_type": "markdown",
   "metadata": {},
   "source": [
    "Total number of restaurants for each cuisine:"
   ]
  },
  {
   "cell_type": "code",
   "execution_count": 41,
   "metadata": {},
   "outputs": [],
   "source": [
    "md_count_by_cuisine = md.groupby(\"cuisines\")[\"review_count\"].count()"
   ]
  },
  {
   "cell_type": "code",
   "execution_count": 42,
   "metadata": {},
   "outputs": [
    {
     "data": {
      "text/plain": [
       "cuisines\n",
       "Chinese                           95\n",
       "Pizza                             63\n",
       "Sandwiches|Fast Food              51\n",
       "Mexican                           42\n",
       "Fast Food|Burgers|Coffee & Tea    38\n",
       "Name: review_count, dtype: int64"
      ]
     },
     "execution_count": 42,
     "metadata": {},
     "output_type": "execute_result"
    }
   ],
   "source": [
    "md_count_by_cuisine.sort_values(ascending=False).head()"
   ]
  },
  {
   "cell_type": "code",
   "execution_count": 43,
   "metadata": {},
   "outputs": [],
   "source": [
    "# md.groupby(\"cuisines\")[\"review_count\"].sum().head(10)"
   ]
  },
  {
   "cell_type": "code",
   "execution_count": 44,
   "metadata": {},
   "outputs": [],
   "source": [
    "# md.groupby(\"cuisines\")[\"review_count\"].count().head(10)"
   ]
  },
  {
   "cell_type": "markdown",
   "metadata": {},
   "source": [
    "\"Standardized\" number of reviews for each cuisine:"
   ]
  },
  {
   "cell_type": "code",
   "execution_count": 45,
   "metadata": {},
   "outputs": [],
   "source": [
    "md_std_sum_review_by_cuisine = md_sum_review_by_cuisine / md_count_by_cuisine"
   ]
  },
  {
   "cell_type": "code",
   "execution_count": 46,
   "metadata": {},
   "outputs": [
    {
     "data": {
      "text/plain": [
       "cuisines\n",
       "American (New)|Breakfast & Brunch|Bars                     2026.0\n",
       "Breakfast & Brunch|Cafes                                   1680.0\n",
       "Southern|American (Traditional)|Breakfast & Brunch         1253.0\n",
       "Breakfast & Brunch|American (Traditional)|Mediterranean    1106.0\n",
       "Pizza|American (New)|Breakfast & Brunch                    1046.0\n",
       "Name: review_count, dtype: float64"
      ]
     },
     "execution_count": 46,
     "metadata": {},
     "output_type": "execute_result"
    }
   ],
   "source": [
    "md_std_sum_review_by_cuisine.sort_values(ascending=False).head()"
   ]
  },
  {
   "cell_type": "markdown",
   "metadata": {},
   "source": [
    "Two-sample t-test -> { American (New)|Breakfast & Brunch|Bars } and { Breakfast & Brunch|Cafes }"
   ]
  }
 ],
 "metadata": {
  "kernelspec": {
   "display_name": "Python 3",
   "language": "python",
   "name": "python3"
  },
  "language_info": {
   "codemirror_mode": {
    "name": "ipython",
    "version": 3
   },
   "file_extension": ".py",
   "mimetype": "text/x-python",
   "name": "python",
   "nbconvert_exporter": "python",
   "pygments_lexer": "ipython3",
   "version": "3.7.3"
  }
 },
 "nbformat": 4,
 "nbformat_minor": 2
}
