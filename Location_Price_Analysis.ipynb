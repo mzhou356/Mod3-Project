{
 "cells": [
  {
   "cell_type": "markdown",
   "metadata": {},
   "source": [
    "## Import helper functions and necessary libaries \n"
   ]
  },
  {
   "cell_type": "code",
   "execution_count": 1,
   "metadata": {},
   "outputs": [],
   "source": [
    "import helper_functions as hf\n",
    "import pickle\n",
    "import numpy as np\n",
    "import pandas as pd\n",
    "import scipy.stats as stats\n",
    "import pingouin    # welch F test\n",
    "from statsmodels.stats.multicomp import pairwise_tukeyhsd, MultiComparison\n",
    "import matplotlib.pyplot as plt\n",
    "%matplotlib inline\n",
    "import seaborn as sns\n",
    "sns.set(style='whitegrid')\n",
    "import warnings\n",
    "warnings.filterwarnings(\"ignore\")"
   ]
  },
  {
   "cell_type": "markdown",
   "metadata": {},
   "source": [
    "### Take a look at restaurant count for each location\n",
    "  * DC appears to have the most number of restaurants \n",
    "  * MD appears to have the least number of restaurants \n",
    "  * All three tend to have around 2000 restaurants "
   ]
  },
  {
   "cell_type": "code",
   "execution_count": 2,
   "metadata": {
    "scrolled": true
   },
   "outputs": [
    {
     "data": {
      "image/png": "[encoded data removed]",
      "text/plain": [
       "<Figure size 432x288 with 1 Axes>"
      ]
     },
     "metadata": {
      "needs_background": "light"
     },
     "output_type": "display_data"
    }
   ],
   "source": [
    "# import location and price df from datacleaning file\n",
    "df_location_price = pd.read_pickle('data/yelp_price_location.pkl')\n",
    "# obtain num_of_restaurant for each location\n",
    "count_state = df_location_price.groupby('state').size(\n",
    ").reset_index().rename(columns={0: 'num of restaurants'})\n",
    "sns.barplot(x='state', y='num of restaurants', order=[\n",
    "            'DC', 'VA', 'MD'], data=count_state)\n",
    "plt.title('Num of Restaurants by Location')\n",
    "plt.show()"
   ]
  },
  {
   "cell_type": "markdown",
   "metadata": {},
   "source": [
    "## Split location_price dataframe into 3 groups:\n",
    "  * DC, VA, MD"
   ]
  },
  {
   "cell_type": "code",
   "execution_count": 3,
   "metadata": {},
   "outputs": [],
   "source": [
    "group_name = ['DC','MD','VA']\n",
    "state_groups = hf.splitgroups(df_location_price, 'state', group_name)\n",
    "DC = state_groups[0]\n",
    "MD = state_groups[1]\n",
    "VA = state_groups[2]"
   ]
  },
  {
   "cell_type": "markdown",
   "metadata": {},
   "source": [
    "## Hypothesis 1:\n",
    "  * restaurants tend to perform better in certain locations than others \n",
    "  * metrics:  \n",
    "    * review_counts (proxy for customer traffic)\n",
    "    * yelp review rating \n",
    "  * Null Hypothesis: there are no differences among the 3 locations \n",
    "  * method: one way anova \n",
    "    * check for anova assumption:  \n",
    "        * Normality:  \n",
    "          * Caveat to this is, if group sizes are equal, the F-statistic is robust to violations of normality  \n",
    "        * Homogeneity of variance  \n",
    "          * Same caveat as above, if group sizes are equal, the F-statistic is robust to this violation  \n",
    "        * Independent observations (assume independent most of the time)"
   ]
  },
  {
   "cell_type": "markdown",
   "metadata": {},
   "source": [
    "### Normality test "
   ]
  },
  {
   "cell_type": "code",
   "execution_count": 4,
   "metadata": {
    "scrolled": true
   },
   "outputs": [
    {
     "data": {
      "text/html": [
       "<div>\n",
       "<style scoped>\n",
       "    .dataframe tbody tr th:only-of-type {\n",
       "        vertical-align: middle;\n",
       "    }\n",
       "\n",
       "    .dataframe tbody tr th {\n",
       "        vertical-align: top;\n",
       "    }\n",
       "\n",
       "    .dataframe thead th {\n",
       "        text-align: right;\n",
       "    }\n",
       "</style>\n",
       "<table border=\"1\" class=\"dataframe\">\n",
       "  <thead>\n",
       "    <tr style=\"text-align: right;\">\n",
       "      <th></th>\n",
       "      <th>DC</th>\n",
       "      <th>MD</th>\n",
       "      <th>VA</th>\n",
       "    </tr>\n",
       "  </thead>\n",
       "  <tbody>\n",
       "    <tr>\n",
       "      <th>rating</th>\n",
       "      <td>not normal</td>\n",
       "      <td>not normal</td>\n",
       "      <td>not normal</td>\n",
       "    </tr>\n",
       "    <tr>\n",
       "      <th>review_count</th>\n",
       "      <td>not normal</td>\n",
       "      <td>not normal</td>\n",
       "      <td>not normal</td>\n",
       "    </tr>\n",
       "  </tbody>\n",
       "</table>\n",
       "</div>"
      ],
      "text/plain": [
       "                      DC          MD          VA\n",
       "rating        not normal  not normal  not normal\n",
       "review_count  not normal  not normal  not normal"
      ]
     },
     "execution_count": 4,
     "metadata": {},
     "output_type": "execute_result"
    }
   ],
   "source": [
    "# create a statistictestclass \n",
    "statisticaltests = hf.InferentialStatisticsHelperFunctions()\n",
    "# check for normality \n",
    "metrics = ['review_count','rating']\n",
    "statisticaltests.normality_tests(state_groups, group_name, metrics)"
   ]
  },
  {
   "cell_type": "markdown",
   "metadata": {},
   "source": [
    "### Distribution is not normal, we will use central limit theorem to produce a normal distribution by performing boostrap sampling "
   ]
  },
  {
   "cell_type": "code",
   "execution_count": 5,
   "metadata": {},
   "outputs": [],
   "source": [
    "# boostrap generate sample means from 100 samples for 100000 times (CLT)\n",
    "DC_review = statisticaltests.sample_category(DC,100,100000,'review_count')\n",
    "MD_review = statisticaltests.sample_category(MD,100,100000,'review_count')\n",
    "VA_review = statisticaltests.sample_category(VA,100,100000,'review_count')\n",
    "DC_rating = statisticaltests.sample_category(DC,100,100000,'rating')\n",
    "MD_rating = statisticaltests.sample_category(MD,100,100000,'rating')\n",
    "VA_rating = statisticaltests.sample_category(VA,100,100000,'rating')"
   ]
  },
  {
   "cell_type": "markdown",
   "metadata": {},
   "source": [
    "### Variance equal test "
   ]
  },
  {
   "cell_type": "code",
   "execution_count": 6,
   "metadata": {
    "scrolled": true
   },
   "outputs": [
    {
     "name": "stdout",
     "output_type": "stream",
     "text": [
      "review_count: not equal variance \n",
      "rating: not equal variance \n"
     ]
    }
   ],
   "source": [
    "group_review = [DC_review, MD_review, VA_review]\n",
    "# create proper table format to perform equal variance test\n",
    "stacked_df_review = hf.table_transform(\n",
    "    group_review, group_name, colname='review_count')\n",
    "print('review_count:', statisticaltests.variance_tests(group_review))\n",
    "group_rating = [DC_rating, MD_rating, VA_rating]\n",
    "# create proper table format to perform equal variance test\n",
    "stacked_df_rating = hf.table_transform(\n",
    "    group_rating, group_name, colname='rating')\n",
    "print('rating:', statisticaltests.variance_tests(group_rating))"
   ]
  },
  {
   "cell_type": "markdown",
   "metadata": {},
   "source": [
    "### Due to equal sample size, we will perform both oneway anova and welch F test to compare results "
   ]
  },
  {
   "cell_type": "code",
   "execution_count": 7,
   "metadata": {},
   "outputs": [
    {
     "name": "stdout",
     "output_type": "stream",
     "text": [
      "review_count: reject Null Hypothesis\n",
      "rating: reject Null Hypothesis\n"
     ]
    }
   ],
   "source": [
    "# one way anova\n",
    "print('review_count:', statisticaltests.one_way_anova(group_review))\n",
    "print('rating:', statisticaltests.one_way_anova(group_rating))"
   ]
  },
  {
   "cell_type": "code",
   "execution_count": 8,
   "metadata": {},
   "outputs": [
    {
     "name": "stdout",
     "output_type": "stream",
     "text": [
      "review_count: reject Null Hypothesis\n",
      "rating: reject Null Hypothesis\n"
     ]
    }
   ],
   "source": [
    "# welch F test (doesn't assume equal variance)\n",
    "print('review_count:', statisticaltests.welch_f_test(\n",
    "    stacked_df_review, 'review_count', 'state'))\n",
    "print('rating:', statisticaltests.welch_f_test(\n",
    "    stacked_df_rating, 'rating', 'state'))"
   ]
  },
  {
   "cell_type": "markdown",
   "metadata": {},
   "source": [
    "## Both reject Null Hypothesis of no difference  \n",
    " * However we don't know where the difference happens\n",
    " * it can be DC different from MD but MD and VA are the same\n",
    " * perform post ANOVA analysis to figure out the details of differences \n",
    " * we will use tukey HSD test "
   ]
  },
  {
   "cell_type": "code",
   "execution_count": 9,
   "metadata": {
    "scrolled": true
   },
   "outputs": [
    {
     "name": "stdout",
     "output_type": "stream",
     "text": [
      "review_count:\n",
      "\n",
      "   Multiple Comparison of Means - Tukey HSD, FWER=0.05   \n",
      "========================================================\n",
      "group1 group2  meandiff p-adj   lower     upper   reject\n",
      "--------------------------------------------------------\n",
      "    DC     MD -113.1641 0.001 -113.4855 -112.8428   True\n",
      "    DC     VA  -38.9312 0.001  -39.2526  -38.6099   True\n",
      "    MD     VA   74.2329 0.001   73.9115   74.5543   True\n",
      "--------------------------------------------------------\n",
      "rating:\n",
      "\n",
      " Multiple Comparison of Means - Tukey HSD, FWER=0.05\n",
      "===================================================\n",
      "group1 group2 meandiff p-adj  lower   upper  reject\n",
      "---------------------------------------------------\n",
      "    DC     MD  -0.2898 0.001 -0.2906 -0.2889   True\n",
      "    DC     VA  -0.0615 0.001 -0.0624 -0.0607   True\n",
      "    MD     VA   0.2282 0.001  0.2273  0.2291   True\n",
      "---------------------------------------------------\n"
     ]
    }
   ],
   "source": [
    "print('review_count:\\n\\n', statisticaltests.tukey_hsd(stacked_df_review,'review_count'))\n",
    "print('rating:\\n\\n',statisticaltests.tukey_hsd(stacked_df_rating, 'rating'))"
   ]
  },
  {
   "cell_type": "markdown",
   "metadata": {},
   "source": [
    "## Results:\n",
    "  * the mean diff for null hypothesis is zero \n",
    "  * the calculated 95% confidence interval is outside zero difference \n",
    "  * we will conclude as following:\n",
    "    * for both rating and review counts \n",
    "      * DC has lower rating and less review counts than MD \n",
    "      * DC has lower rating and less review counts than VA\n",
    "      * MD has higher rating and higher review counts than VA\n",
    "    "
   ]
  },
  {
   "cell_type": "markdown",
   "metadata": {},
   "source": [
    "## Based upon cuisine study, we found the following: \n",
    "  * Bars have the highest normalized review count in VA and MD \n",
    "  * Bars have the highest normalized rating in MD \n",
    "  * Ramen has the highest normalized review count and normalized rating in DC "
   ]
  },
  {
   "cell_type": "markdown",
   "metadata": {},
   "source": [
    "## After hypothesis I and II:\n",
    "### We will first filter out ramen and bars and look at if there are any correlation between location and ramen vs bars "
   ]
  },
  {
   "cell_type": "code",
   "execution_count": 10,
   "metadata": {},
   "outputs": [
    {
     "data": {
      "text/plain": [
       "'fail to reject Null Hypothesis'"
      ]
     },
     "execution_count": 10,
     "metadata": {},
     "output_type": "execute_result"
    }
   ],
   "source": [
    "# split category combo into separate rows\n",
    "table = hf.split_rows(df_location_price,'Lat', 'categories', '|')\n",
    "table = table.rename(columns = {'index': 'category', 0: 'Lat'})\n",
    "# join table \n",
    "mergedtable = pd.merge(df_location_price,table, on = 'Lat')\n",
    "# filter out only bars and ramen \n",
    "filtered_df = mergedtable[(mergedtable.category=='Bars')|(mergedtable.category =='Ramen')]\n",
    "statisticaltests.chisquare_test(filtered_df, 'state','category')"
   ]
  },
  {
   "cell_type": "markdown",
   "metadata": {},
   "source": [
    "### Chisquare independence test result:\n",
    "  * Null Hypothesis says no correlation between category and state \n",
    "  * alternative hypthesis says there are some influence between state and category of food \n",
    "  * we fail to reject null hypothesis so we conclude no correlation between location and ramen or bars"
   ]
  },
  {
   "cell_type": "markdown",
   "metadata": {},
   "source": [
    "## Hypothesis 3:\n",
    "  * prices:\\\\$ to \\\\$\\\\$ and \\\\$\\\\$\\\\$ to \\\\$\\\\$\\\\$\\\\$\n",
    "  * metrics:  \n",
    "    * review_counts (proxy for customer traffic)\n",
    "    * yelp review rating \n",
    "  * Null Hypothesis: there are no differences between \\\\$ to \\\\$\\\\$ and \\\\$\\\\$\\\\$ to \\\\$\\\\$\\\\$\\\\$\n",
    "  * method: welch's T test \n",
    "    * check for welch's T test assumption:  \n",
    "        * Normality\n",
    "\n",
    "### First we will look at how price works across all locations and restaurants \n",
    "  * we replaced the null price values with 3 methods:\n",
    "    * median price \n",
    "    * random value with proportions of the price distribution \n",
    "    * remove null price \n",
    "  * compare results "
   ]
  },
  {
   "cell_type": "code",
   "execution_count": 11,
   "metadata": {},
   "outputs": [],
   "source": [
    "# import location and price df for random, remove na,and median from datacleaning \n",
    "# use median to replace null price values\n",
    "df_median = pd.read_pickle('data/median_price.pkl')  \n",
    "# use np random to replace null price values\n",
    "df_random = pd.read_pickle('data/random_price.pkl')  \n",
    "# remove null price values \n",
    "df_na = pd.read_pickle('data/na_remove.pkl')"
   ]
  },
  {
   "cell_type": "code",
   "execution_count": 12,
   "metadata": {},
   "outputs": [],
   "source": [
    "# generate 3 groups of DC, VA, MD for all three price df \n",
    "median_df = hf.splitgroups(df_median, 'state', group_name)\n",
    "na_df = hf.splitgroups(df_na, 'state',group_name)\n",
    "random_df = hf.splitgroups(df_random, 'state',group_name)"
   ]
  },
  {
   "cell_type": "code",
   "execution_count": 13,
   "metadata": {},
   "outputs": [
    {
     "data": {
      "image/png": "[encoded data removed]",
      "text/plain": [
       "<Figure size 576x432 with 4 Axes>"
      ]
     },
     "metadata": {
      "needs_background": "light"
     },
     "output_type": "display_data"
    }
   ],
   "source": [
    "# check for price distribution visualization comparsion \n",
    "hf.plothist(df_median,median_df) "
   ]
  },
  {
   "cell_type": "code",
   "execution_count": 14,
   "metadata": {},
   "outputs": [
    {
     "data": {
      "image/png": "[encoded data removed]",
      "text/plain": [
       "<Figure size 576x432 with 4 Axes>"
      ]
     },
     "metadata": {
      "needs_background": "light"
     },
     "output_type": "display_data"
    }
   ],
   "source": [
    "hf.plothist(df_na, na_df)\n",
    "# similar distribution across all "
   ]
  },
  {
   "cell_type": "code",
   "execution_count": 15,
   "metadata": {
    "scrolled": false
   },
   "outputs": [
    {
     "data": {
      "image/png": "[encoded data removed]",
      "text/plain": [
       "<Figure size 576x432 with 4 Axes>"
      ]
     },
     "metadata": {
      "needs_background": "light"
     },
     "output_type": "display_data"
    }
   ],
   "source": [
    "hf.plothist(df_random,random_df)\n",
    "# distributions the same all across "
   ]
  },
  {
   "cell_type": "markdown",
   "metadata": {},
   "source": [
    "### All three NA price method seem to produce similar price range distribution \n",
    "\n",
    "### We will split price into 2 groups of above \\\\$\\\\$ and below \\\\$\\\\$\n",
    "  * perform welch T test \n",
    "    * first check normality "
   ]
  },
  {
   "cell_type": "code",
   "execution_count": 16,
   "metadata": {
    "scrolled": true
   },
   "outputs": [
    {
     "name": "stdout",
     "output_type": "stream",
     "text": [
      "median_df:\n",
      "\n",
      "                       DC          MD          VA\n",
      "rating        not normal  not normal  not normal\n",
      "review_count  not normal  not normal  not normal\n",
      "na_df:\n",
      "\n",
      "                       DC          MD          VA\n",
      "rating        not normal  not normal  not normal\n",
      "review_count  not normal  not normal  not normal\n",
      "random_df:\n",
      "\n",
      "                       DC          MD          VA\n",
      "rating        not normal  not normal  not normal\n",
      "review_count  not normal  not normal  not normal\n"
     ]
    }
   ],
   "source": [
    "print('median_df:\\n\\n', statisticaltests.normality_tests(\n",
    "    median_df, group_name, ['review_count', 'rating']))\n",
    "print('na_df:\\n\\n', statisticaltests.normality_tests(\n",
    "    na_df, group_name, ['review_count', 'rating']))\n",
    "print('random_df:\\n\\n', statisticaltests.normality_tests(\n",
    "    random_df, group_name, ['review_count', 'rating']))"
   ]
  },
  {
   "cell_type": "markdown",
   "metadata": {},
   "source": [
    "### None are normally distributed \n",
    "#### Use central limit thereom and perform bootstrap sampling \n",
    "  * first split each data into high low price range for comparison \n",
    "  * bootstrap for each group \n",
    "  * perform welch T test (assume unequal variance)"
   ]
  },
  {
   "cell_type": "code",
   "execution_count": 17,
   "metadata": {},
   "outputs": [
    {
     "name": "stdout",
     "output_type": "stream",
     "text": [
      "df_median review_count:\n",
      "$$$-$$$$ appears to statistically perform better than $-$$\n",
      "df_na review_count:\n",
      "$$$-$$$$ appears to statistically perform better than $-$$\n",
      "df_random review_count:\n",
      "$$$-$$$$ appears to statistically perform better than $-$$\n"
     ]
    }
   ],
   "source": [
    "names = ['$$$-$$$$','$-$$']\n",
    "print ('df_median review_count:')\n",
    "print(statisticaltests.price_welcht(df_median,'price',2,'review_count',100,100000,names))\n",
    "print ('df_na review_count:')\n",
    "print(statisticaltests.price_welcht(df_na,'price',2,'review_count',100,100000,names))\n",
    "print ('df_random review_count:')\n",
    "print(statisticaltests.price_welcht(df_random,'price',2,'review_count',100,100000,names))"
   ]
  },
  {
   "cell_type": "code",
   "execution_count": 18,
   "metadata": {
    "scrolled": true
   },
   "outputs": [
    {
     "name": "stdout",
     "output_type": "stream",
     "text": [
      "df_median rating:\n",
      "$$$-$$$$ appears to statistically perform better than $-$$\n",
      "df_na rating:\n",
      "$$$-$$$$ appears to statistically perform better than $-$$\n",
      "df_random rating:\n",
      "$$$-$$$$ appears to statistically perform better than $-$$\n"
     ]
    }
   ],
   "source": [
    "names = ['$$$-$$$$','$-$$']\n",
    "print ('df_median rating:')\n",
    "print(statisticaltests.price_welcht(df_median,'price',2,'rating',100,100000,names))\n",
    "print ('df_na rating:')\n",
    "print(statisticaltests.price_welcht(df_na,'price',2,'rating',100,100000,names))\n",
    "print ('df_random rating:')\n",
    "print(statisticaltests.price_welcht(df_random,'price',2,'rating',100,100000,names))"
   ]
  },
  {
   "cell_type": "markdown",
   "metadata": {},
   "source": [
    "### Let's focus on MD and focus on bars "
   ]
  },
  {
   "cell_type": "code",
   "execution_count": 23,
   "metadata": {},
   "outputs": [],
   "source": [
    "# look at maryland and bar only \n",
    "mask = (mergedtable.category == 'Bars') & (mergedtable.state =='MD')\n",
    "MD_bars = mergedtable[mask]\n",
    "# fill the value with np.random \n",
    "np.random.seed(42)\n",
    "proportions = MD_bars.price.value_counts(normalize=True)\n",
    "rows = []\n",
    "for i, row in MD_bars[MD_bars.price.isnull()].iterrows():\n",
    "    rows.append(np.random.choice(\n",
    "        a=proportions.index, replace=True, p=proportions))\n",
    "MD_bars.price[MD_bars.price.isnull()] = rows\n",
    "MD_bars.price = MD_bars.price.astype('int')"
   ]
  },
  {
   "cell_type": "code",
   "execution_count": 27,
   "metadata": {},
   "outputs": [
    {
     "name": "stdout",
     "output_type": "stream",
     "text": [
      "review_count welch t test:\n",
      "$$$-$$$$ appears to statistically perform better than $-$$\n",
      "rating welch t test\n",
      "$$$-$$$$ appears to statistically perform better than $-$$\n"
     ]
    }
   ],
   "source": [
    "np.random.seed(100)\n",
    "print('review_count welch t test:')\n",
    "print(statisticaltests.price_welcht(MD_bars, 'price', 2,\n",
    "                                    'review_count', 50, 100000, ['$$$-$$$$', '$-$$']))\n",
    "print('rating welch t test')\n",
    "print(statisticaltests.price_welcht(MD_bars, 'price',\n",
    "                                    2, 'rating', 50, 100000, ['$$$-$$$$', '$-$$']))"
   ]
  },
  {
   "cell_type": "markdown",
   "metadata": {},
   "source": [
    "### Welch T test result for price tag:\n",
    "  * all category of foods and all 3 locations:\n",
    "    * all 3 price na fill value provide the same result:\n",
    "      * reject Null Hypothesis \n",
    "      * higher than \\\\$\\\\$ performs better in both rating and review_count  \n",
    "  * looking at MD and Bar (using np.random with proportion to fill):  \n",
    "      * reject Null Hypothesis \n",
    "      * higher than \\\\$\\\\$ performs better in both rating and review_count"
   ]
  },
  {
   "cell_type": "markdown",
   "metadata": {},
   "source": [
    "### Visualization of the MD_bar high low price rating and review count distribution\n",
    "  * bootstrap sampling from original samples. "
   ]
  },
  {
   "cell_type": "code",
   "execution_count": 25,
   "metadata": {},
   "outputs": [
    {
     "data": {
      "image/png": "[encoded data removed]",
      "text/plain": [
       "<Figure size 432x288 with 1 Axes>"
      ]
     },
     "metadata": {
      "needs_background": "light"
     },
     "output_type": "display_data"
    }
   ],
   "source": [
    "np.random.seed(20)\n",
    "price_splits_rt = hf.samples(MD_bars, 'price', 2, 'rating')\n",
    "price_high_rt = statisticaltests.sampling(price_splits_rt[0],50,100000)\n",
    "price_low_rt = statisticaltests.sampling(price_splits_rt[1],50,100000)\n",
    "statisticaltests.plot_distribution(price_high_rt,price_low_rt, [' High Price','Low Price'],featurename='Rating')"
   ]
  },
  {
   "cell_type": "code",
   "execution_count": 26,
   "metadata": {
    "scrolled": false
   },
   "outputs": [
    {
     "data": {
      "image/png": "[encoded data removed]",
      "text/plain": [
       "<Figure size 432x288 with 1 Axes>"
      ]
     },
     "metadata": {
      "needs_background": "light"
     },
     "output_type": "display_data"
    }
   ],
   "source": [
    "np.random.seed(18)\n",
    "price_splits_re = hf.samples(MD_bars, 'price', 2, 'review_count')\n",
    "price_high_re = statisticaltests.sampling(price_splits_re[0],50,100000)\n",
    "price_low_re = statisticaltests.sampling(price_splits_re[1],50,100000)\n",
    "statisticaltests.plot_distribution(price_high_re,price_low_re, [' High Price','Low Price'],'Review Count')"
   ]
  },
  {
   "cell_type": "markdown",
   "metadata": {},
   "source": [
    "* Sources:  \n",
    "\n",
    "  * https://www.yelp.com/developers/documentation/v3/business\n",
    "  * https://docs.scipy.org/doc/scipy/reference/generated/scipy.stats.ttest_ind.html\n",
    "  * https://docs.scipy.org/doc/scipy-0.14.0/reference/generated/scipy.stats.levene.html\n",
    "  * https://docs.scipy.org/doc/scipy/reference/generated/scipy.stats.shapiro.html\n",
    "  * https://docs.scipy.org/doc/scipy/reference/generated/scipy.stats.normaltest.html\n",
    "  * https://docs.scipy.org/doc/scipy/reference/generated/scipy.stats.f_oneway.html\n",
    "  * https://pingouin-stats.org/generated/pingouin.welch_anova.html#pingouin.welch_anova\n",
    "  * https://docs.scipy.org/doc/scipy/reference/stats.html\n",
    "  * https://www.statsmodels.org/stable/generated/statsmodels.stats.multicomp.pairwise_tukeyhsd.html\n"
   ]
  }
 ],
 "metadata": {
  "kernelspec": {
   "display_name": "Python 3",
   "language": "python",
   "name": "python3"
  },
  "language_info": {
   "codemirror_mode": {
    "name": "ipython",
    "version": 3
   },
   "file_extension": ".py",
   "mimetype": "text/x-python",
   "name": "python",
   "nbconvert_exporter": "python",
   "pygments_lexer": "ipython3",
   "version": "3.7.1"
  }
 },
 "nbformat": 4,
 "nbformat_minor": 2
}
