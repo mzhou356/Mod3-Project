{
 "cells": [
  {
   "cell_type": "markdown",
   "metadata": {},
   "source": [
    "# Restaurant Industry Consulting Firm\n",
    "July 16, 2019<br>\n",
    "Mindy & Ngoc, Helper Functions\n",
    "\n",
    "-----------------"
   ]
  },
  {
   "cell_type": "markdown",
   "metadata": {},
   "source": [
    "## Import Needed Libraries"
   ]
  },
  {
   "cell_type": "code",
   "execution_count": 1,
   "metadata": {},
   "outputs": [],
   "source": [
    "import numpy as np\n",
    "import pandas as pd\n",
    "import seaborn as sns\n",
    "import matplotlib.pyplot as plt\n",
    "\n",
    "sns.set(style=\"whitegrid\")"
   ]
  },
  {
   "cell_type": "markdown",
   "metadata": {},
   "source": [
    "## For Cleaning"
   ]
  },
  {
   "cell_type": "code",
   "execution_count": 2,
   "metadata": {},
   "outputs": [],
   "source": [
    "def split_rows(df, col1, col2, sep):\n",
    "    '''\n",
    "    input:\n",
    "    df: dataframe to use\n",
    "    col1 and col2 (use col2 to split)\n",
    "    return:\n",
    "    a df table with col1 as common col and col2 split into multiple rows\n",
    "    '''\n",
    "    series = [pd.Series(row[col1], row[col2].split(sep))\n",
    "              for _, row in df.iterrows()]\n",
    "    table = pd.concat(series).reset_index()\n",
    "    return table"
   ]
  },
  {
   "cell_type": "markdown",
   "metadata": {},
   "source": [
    "## For Inferential Statistics"
   ]
  },
  {
   "cell_type": "code",
   "execution_count": 3,
   "metadata": {},
   "outputs": [],
   "source": [
    "class InferentialStatisticsHelperFunctions:\n",
    "    def bootstrap(self, sample, n):\n",
    "        '''\n",
    "        input:\n",
    "        sample: sample to use (1-d array)\n",
    "        n: desired size of the sampling sample (int)\n",
    "        return:\n",
    "        a list of n random numbers drawn from the input sample with replacement\n",
    "        '''\n",
    "        return np.random.choice(sample, size=n, replace=True)\n",
    "    \n",
    "    \n",
    "    def sampling(self, sample, n, num):\n",
    "        '''\n",
    "        input:\n",
    "        sample: sample to use (1-d array)\n",
    "        n: desired size of the sampling sample (int)\n",
    "        num: desired size of the sampling method\n",
    "        return:\n",
    "        a list of num sampling means\n",
    "        '''\n",
    "        sample_means = []\n",
    "        for i in range(num):\n",
    "            sample_means.append(self.bootstrap(sample, n).mean())\n",
    "        return sample_means\n",
    "    \n",
    "    \n",
    "    def top_two_cuisines(self, df, metric):\n",
    "        '''\n",
    "\n",
    "        '''\n",
    "        # Total number of reviews for each cuisine:\n",
    "        sum_review_by_cuisine = df.groupby(\"cuisine\")[metric].sum()\n",
    "        # Total number of restaurants for each cuisine:\n",
    "        count_by_cuisine = df.groupby(\"cuisine\")[metric].count()\n",
    "        # \"Standardized\" number of reviews for each cuisine:\n",
    "        std_sum_review_by_cuisine = sum_review_by_cuisine / count_by_cuisine\n",
    "        print(std_sum_review_by_cuisine.sort_values(ascending=False).head(2).index)\n",
    "    \n",
    "    \n",
    "    def get_cuisine(self, df, cuisine):\n",
    "        '''\n",
    "        \n",
    "        '''\n",
    "        new_df = df[df.cuisine == cuisine]\n",
    "        new_df.reset_index(inplace=True, drop=True)\n",
    "        df_review_count = new_df.review_count\n",
    "        df_rating = new_df.rating\n",
    "        return df_review_count, df_rating\n",
    "    \n",
    "    \n",
    "    def get_bars_open_info(self, df):\n",
    "        '''\n",
    "        \n",
    "        '''\n",
    "        bars = df[df.cuisine == \"Bars\"]\n",
    "        bars.reset_index(inplace=True, drop=True)\n",
    "        pass_midnight = bars[bars.open_pass_midnight == True]\n",
    "        pass_midnight.reset_index(inplace=True, drop=True)\n",
    "        not_pass_midnight = bars[bars.open_pass_midnight == False]\n",
    "        not_pass_midnight.reset_index(inplace=True, drop=True)\n",
    "        pass_midnight_review_count = pass_midnight.review_count\n",
    "        pass_midnight_rating = pass_midnight.rating\n",
    "        not_pass_midnight_review_count = not_pass_midnight.review_count\n",
    "        not_pass_midnight_rating = not_pass_midnight.rating\n",
    "        return pass_midnight_review_count, pass_midnight_rating, not_pass_midnight_review_count, not_pass_midnight_rating\n",
    "    \n",
    "    \n",
    "    def plot_distribution(self, array1, array2, labels, title):\n",
    "        '''\n",
    "        array1: 1 d array\n",
    "        array2: 1 d array\n",
    "        labels: a list of string for label array1 and array2\n",
    "        return: histogram plot with 2 plots on the same ax\n",
    "        '''\n",
    "        sns.distplot(array1, label=labels[0], color=\"red\")\n",
    "        sns.distplot(array2, label=labels[1], color=\"blue\")\n",
    "        plt.ylabel(\"Probability Density\", fontdict={\"size\":10})\n",
    "        plt.title(f\"Probability Density Plot for {labels[0]} and {labels[1]} - {title}\",\n",
    "                  fontdict={\"size\": 12})\n",
    "        plt.legend()\n",
    "        plt.show()"
   ]
  }
 ],
 "metadata": {
  "kernelspec": {
   "display_name": "Python 3",
   "language": "python",
   "name": "python3"
  },
  "language_info": {
   "codemirror_mode": {
    "name": "ipython",
    "version": 3
   },
   "file_extension": ".py",
   "mimetype": "text/x-python",
   "name": "python",
   "nbconvert_exporter": "python",
   "pygments_lexer": "ipython3",
   "version": "3.7.3"
  }
 },
 "nbformat": 4,
 "nbformat_minor": 2
}
