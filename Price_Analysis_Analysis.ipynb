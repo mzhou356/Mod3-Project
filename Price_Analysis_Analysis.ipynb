{
 "cells": [
  {
   "cell_type": "code",
   "execution_count": 1,
   "metadata": {},
   "outputs": [],
   "source": [
    "# import libraries\n",
    "import scipy.stats as stats\n",
    "from statsmodels.stats import weightstats\n",
    "import pandas as pd\n",
    "import numpy as np\n",
    "import pickle\n",
    "import matplotlib.pyplot as plt\n",
    "%matplotlib inline\n",
    "import seaborn as sns\n",
    "np.random.seed(42)  # for producibility "
   ]
  },
  {
   "cell_type": "code",
   "execution_count": 57,
   "metadata": {},
   "outputs": [],
   "source": [
    "# import location and price df for random, remove na , and median \n",
    "df_median = pd.read_pickle('data/median_price.pkl')\n",
    "df_random = pd.read_pickle('data/random_price.pkl')\n",
    "df_na = pd.read_pickle('data/na_remove.pkl')"
   ]
  },
  {
   "cell_type": "code",
   "execution_count": 17,
   "metadata": {
    "scrolled": true
   },
   "outputs": [
    {
     "data": {
      "text/html": [
       "<div>\n",
       "<style scoped>\n",
       "    .dataframe tbody tr th:only-of-type {\n",
       "        vertical-align: middle;\n",
       "    }\n",
       "\n",
       "    .dataframe tbody tr th {\n",
       "        vertical-align: top;\n",
       "    }\n",
       "\n",
       "    .dataframe thead th {\n",
       "        text-align: right;\n",
       "    }\n",
       "</style>\n",
       "<table border=\"1\" class=\"dataframe\">\n",
       "  <thead>\n",
       "    <tr style=\"text-align: right;\">\n",
       "      <th></th>\n",
       "      <th>categories</th>\n",
       "      <th>price</th>\n",
       "      <th>rating</th>\n",
       "      <th>review_count</th>\n",
       "      <th>Lat</th>\n",
       "      <th>Lon</th>\n",
       "      <th>state</th>\n",
       "    </tr>\n",
       "  </thead>\n",
       "  <tbody>\n",
       "    <tr>\n",
       "      <th>0</th>\n",
       "      <td>Salad|Seafood|American (Traditional)</td>\n",
       "      <td>2</td>\n",
       "      <td>3.5</td>\n",
       "      <td>372</td>\n",
       "      <td>38.997397</td>\n",
       "      <td>-77.026797</td>\n",
       "      <td>MD</td>\n",
       "    </tr>\n",
       "    <tr>\n",
       "      <th>1</th>\n",
       "      <td>Pizza|American (New)|Salad</td>\n",
       "      <td>2</td>\n",
       "      <td>3.5</td>\n",
       "      <td>192</td>\n",
       "      <td>38.919506</td>\n",
       "      <td>-77.224311</td>\n",
       "      <td>VA</td>\n",
       "    </tr>\n",
       "  </tbody>\n",
       "</table>\n",
       "</div>"
      ],
      "text/plain": [
       "                             categories price  rating  review_count  \\\n",
       "0  Salad|Seafood|American (Traditional)     2     3.5           372   \n",
       "1            Pizza|American (New)|Salad     2     3.5           192   \n",
       "\n",
       "         Lat        Lon state  \n",
       "0  38.997397 -77.026797    MD  \n",
       "1  38.919506 -77.224311    VA  "
      ]
     },
     "execution_count": 17,
     "metadata": {},
     "output_type": "execute_result"
    }
   ],
   "source": [
    "df_na.head(2)"
   ]
  },
  {
   "cell_type": "code",
   "execution_count": 58,
   "metadata": {},
   "outputs": [],
   "source": [
    "# define a function split into 3 groups DC, MD, VA\n",
    "def splitgroups(df, colname, names):\n",
    "    '''\n",
    "    df: dataframe to split the groups \n",
    "    colname: name of the column, a string\n",
    "    names: criteria a list of string to split column of interest\n",
    "    return: separate dfs, num is length of names\n",
    "    '''\n",
    "    dfs = []\n",
    "    for i in range(len(names)):\n",
    "        mask = df[colname] == names[i]\n",
    "        dfs.append(df[mask].reset_index())\n",
    "    return dfs"
   ]
  },
  {
   "cell_type": "code",
   "execution_count": 59,
   "metadata": {},
   "outputs": [],
   "source": [
    "# generate 6 samples and look at distribution \n",
    "median_df = splitgroups(df_median, 'state',['DC','MD','VA'])\n",
    "na_df = splitgroups(df_na, 'state',['DC','MD','VA'])\n",
    "random_df = splitgroups(df_random, 'state',['DC','MD','VA'])"
   ]
  },
  {
   "cell_type": "code",
   "execution_count": 60,
   "metadata": {},
   "outputs": [],
   "source": [
    "def plothist(join_df, df):\n",
    "    fig = plt.figure(figsize = (8,6))\n",
    "    fig.add_subplot(221)\n",
    "    plt.hist(join_df.price, label = 'Metroplex')\n",
    "    plt.legend()\n",
    "    fig.add_subplot(222)\n",
    "    plt.hist(df[0].price, label = 'DC')\n",
    "    plt.legend()\n",
    "    fig.add_subplot(223)\n",
    "    plt.hist(df[1].price, label = 'MD')\n",
    "    plt.legend()\n",
    "    fig.add_subplot(224)\n",
    "    plt.hist(df[2].price, label = 'VA')\n",
    "    plt.legend()\n"
   ]
  },
  {
   "cell_type": "code",
   "execution_count": 61,
   "metadata": {
    "scrolled": true
   },
   "outputs": [
    {
     "data": {
      "image/png": "[encoded data removed]",
      "text/plain": [
       "<Figure size 576x432 with 4 Axes>"
      ]
     },
     "metadata": {
      "needs_background": "light"
     },
     "output_type": "display_data"
    }
   ],
   "source": [
    "plothist(df_median,median_df)\n",
    "# similar distribution across all  "
   ]
  },
  {
   "cell_type": "code",
   "execution_count": 62,
   "metadata": {
    "scrolled": true
   },
   "outputs": [
    {
     "data": {
      "image/png": "[encoded data removed]",
      "text/plain": [
       "<Figure size 576x432 with 4 Axes>"
      ]
     },
     "metadata": {
      "needs_background": "light"
     },
     "output_type": "display_data"
    }
   ],
   "source": [
    "plothist(df_na, na_df)\n",
    "# similar distribution across all "
   ]
  },
  {
   "cell_type": "code",
   "execution_count": 65,
   "metadata": {},
   "outputs": [
    {
     "data": {
      "image/png": "[encoded data removed]",
      "text/plain": [
       "<Figure size 576x432 with 4 Axes>"
      ]
     },
     "metadata": {
      "needs_background": "light"
     },
     "output_type": "display_data"
    }
   ],
   "source": [
    "plothist(df_random,random_df)\n",
    "# distributions the same all across "
   ]
  },
  {
   "cell_type": "code",
   "execution_count": null,
   "metadata": {},
   "outputs": [],
   "source": [
    "# we will split price into 2 groups so we will perform welch's T test \n",
    "# we need to check for normality assumption "
   ]
  },
  {
   "cell_type": "code",
   "execution_count": null,
   "metadata": {},
   "outputs": [],
   "source": [
    "# df median"
   ]
  },
  {
   "cell_type": "code",
   "execution_count": 67,
   "metadata": {
    "scrolled": true
   },
   "outputs": [
    {
     "data": {
      "text/plain": [
       "NormaltestResult(statistic=161.168335339302, pvalue=1.0063305388340853e-35)"
      ]
     },
     "execution_count": 67,
     "metadata": {},
     "output_type": "execute_result"
    }
   ],
   "source": [
    "# check for normality for review count and rating \n",
    "stats.normaltest(df_median.price) # not normal distribution "
   ]
  },
  {
   "cell_type": "code",
   "execution_count": 68,
   "metadata": {},
   "outputs": [
    {
     "data": {
      "text/plain": [
       "NormaltestResult(statistic=391.5581540679273, pvalue=9.423824117901497e-86)"
      ]
     },
     "execution_count": 68,
     "metadata": {},
     "output_type": "execute_result"
    }
   ],
   "source": [
    "stats.normaltest(df_median.rating) # not normal distribution "
   ]
  },
  {
   "cell_type": "code",
   "execution_count": null,
   "metadata": {},
   "outputs": [],
   "source": [
    "# we will use central limit thereom \n",
    "# and look at rating mean and review count mean for each price tag"
   ]
  },
  {
   "cell_type": "code",
   "execution_count": 69,
   "metadata": {},
   "outputs": [],
   "source": [
    "# randomly generate 100 samples for 100000 times \n",
    "def boostrap_sample(samples, n):\n",
    "    return np.random.choice(samples, size = n, replace = True )\n",
    "# generate sample means\n",
    "def sampling(samples, n, num):\n",
    "    sample_means = []\n",
    "    for i in range(num):\n",
    "        sample_means.append(boostrap_sample(samples, n).mean())\n",
    "    return sample_means\n",
    "# generate 2 samples function for split value \n",
    "# split data into high price and low price \n",
    "def samples(df, colname, criteria, value):\n",
    "    '''\n",
    "    df: a dataframe\n",
    "    colname: colname of interest for split \n",
    "    criteria: an int for filter for colname\n",
    "    value: colname for actual comparsion \n",
    "    return 2 samples of 1 day numpy array, data1 uses mask, data2 complement mask\n",
    "    '''\n",
    "    mask = df[colname]>= criteria\n",
    "    data1 = df[mask].reset_index()[value]\n",
    "    data2 = df[~mask].reset_index()[value]\n",
    "    return (data1, data2)"
   ]
  },
  {
   "cell_type": "code",
   "execution_count": 70,
   "metadata": {},
   "outputs": [],
   "source": [
    "# split into 2 datasets for pricelow and high \n",
    "price_splits_review = samples(df_median, 'price', 2, 'review_count')\n",
    "price_high_review = price_splits_review[0]\n",
    "price_low_review = price_splits_review[1]"
   ]
  },
  {
   "cell_type": "code",
   "execution_count": 71,
   "metadata": {},
   "outputs": [],
   "source": [
    "high_means_review = sampling(price_high_review,100,10000)"
   ]
  },
  {
   "cell_type": "code",
   "execution_count": 72,
   "metadata": {},
   "outputs": [
    {
     "data": {
      "text/plain": [
       "<matplotlib.axes._subplots.AxesSubplot at 0x12ef7b128>"
      ]
     },
     "execution_count": 72,
     "metadata": {},
     "output_type": "execute_result"
    },
    {
     "data": {
      "image/png": "[encoded data removed]",
      "text/plain": [
       "<Figure size 432x288 with 1 Axes>"
      ]
     },
     "metadata": {
      "needs_background": "light"
     },
     "output_type": "display_data"
    }
   ],
   "source": [
    "sns.distplot(high_means_review)"
   ]
  },
  {
   "cell_type": "code",
   "execution_count": 73,
   "metadata": {},
   "outputs": [],
   "source": [
    "low_means_review = np.array(sampling(price_low_review, 100, 10000))"
   ]
  },
  {
   "cell_type": "code",
   "execution_count": 74,
   "metadata": {},
   "outputs": [
    {
     "data": {
      "text/plain": [
       "<matplotlib.axes._subplots.AxesSubplot at 0x12ef7b240>"
      ]
     },
     "execution_count": 74,
     "metadata": {},
     "output_type": "execute_result"
    },
    {
     "data": {
      "image/png": "[encoded data removed]",
      "text/plain": [
       "<Figure size 432x288 with 1 Axes>"
      ]
     },
     "metadata": {
      "needs_background": "light"
     },
     "output_type": "display_data"
    }
   ],
   "source": [
    "sns.distplot(low_means_review)"
   ]
  },
  {
   "cell_type": "code",
   "execution_count": 75,
   "metadata": {
    "scrolled": true
   },
   "outputs": [
    {
     "data": {
      "text/plain": [
       "Ttest_indResult(statistic=318.02828193010896, pvalue=0.0)"
      ]
     },
     "execution_count": 75,
     "metadata": {},
     "output_type": "execute_result"
    }
   ],
   "source": [
    "stats.ttest_ind(high_means_review, low_means_review, equal_var=False)\n",
    "# high price restaurant has higher review counts "
   ]
  },
  {
   "cell_type": "code",
   "execution_count": 76,
   "metadata": {},
   "outputs": [],
   "source": [
    "# split using rating \n",
    "price_splits_rating = samples(df_median, 'price', 2, 'rating')\n",
    "price_high_rating = price_splits_rating[0]\n",
    "price_low_rating = price_splits_rating[1]"
   ]
  },
  {
   "cell_type": "code",
   "execution_count": 77,
   "metadata": {},
   "outputs": [],
   "source": [
    "high_means_rating = sampling(price_high_rating,100,100000)\n",
    "low_means_rating = sampling(price_low_rating,100,1000000)"
   ]
  },
  {
   "cell_type": "code",
   "execution_count": 78,
   "metadata": {},
   "outputs": [
    {
     "data": {
      "image/png": "[encoded data removed]",
      "text/plain": [
       "<Figure size 432x288 with 1 Axes>"
      ]
     },
     "metadata": {
      "needs_background": "light"
     },
     "output_type": "display_data"
    }
   ],
   "source": [
    "stats.probplot(high_means_rating, dist=\"norm\", plot=plt)\n",
    "plt.show()"
   ]
  },
  {
   "cell_type": "code",
   "execution_count": 79,
   "metadata": {},
   "outputs": [
    {
     "data": {
      "image/png": "[encoded data removed]",
      "text/plain": [
       "<Figure size 432x288 with 1 Axes>"
      ]
     },
     "metadata": {
      "needs_background": "light"
     },
     "output_type": "display_data"
    }
   ],
   "source": [
    "stats.probplot(low_means_rating, dist=\"norm\", plot=plt)\n",
    "plt.show()"
   ]
  },
  {
   "cell_type": "code",
   "execution_count": 80,
   "metadata": {},
   "outputs": [
    {
     "data": {
      "text/plain": [
       "Ttest_indResult(statistic=1496.610698302983, pvalue=0.0)"
      ]
     },
     "execution_count": 80,
     "metadata": {},
     "output_type": "execute_result"
    }
   ],
   "source": [
    "stats.ttest_ind(high_means_rating, low_means_rating, equal_var=False)\n",
    "# high price restaurant has higher rating "
   ]
  },
  {
   "cell_type": "code",
   "execution_count": 86,
   "metadata": {},
   "outputs": [],
   "source": [
    "def price_welcht(DF, colname, criteria, metric, n, num):\n",
    "    price_splits = samples(DF, colname, 2, metric)\n",
    "    price_high = price_splits_review[0]\n",
    "    price_low = price_splits_review[1]\n",
    "    # sampling\n",
    "    high_means = np.array(sampling(price_high_review, n, num))\n",
    "    low_means = np.array(sampling(price_low_review, n, num))\n",
    "    return stats.ttest_ind(high_means, low_means, equal_var=False)"
   ]
  },
  {
   "cell_type": "code",
   "execution_count": 88,
   "metadata": {},
   "outputs": [
    {
     "data": {
      "text/plain": [
       "Ttest_indResult(statistic=1011.815258520106, pvalue=0.0)"
      ]
     },
     "metadata": {},
     "output_type": "display_data"
    },
    {
     "data": {
      "text/plain": [
       "Ttest_indResult(statistic=1011.4471721278982, pvalue=0.0)"
      ]
     },
     "execution_count": 88,
     "metadata": {},
     "output_type": "execute_result"
    }
   ],
   "source": [
    "display(price_welcht(df_na, 'price', 2, 'review_count', 100, 100000))\n",
    "price_welcht(df_na, 'price', 2, 'rating', 100, 100000)\n",
    "# high price tag works better for review count and rating "
   ]
  },
  {
   "cell_type": "code",
   "execution_count": 89,
   "metadata": {},
   "outputs": [
    {
     "data": {
      "text/plain": [
       "Ttest_indResult(statistic=1010.0067465524457, pvalue=0.0)"
      ]
     },
     "metadata": {},
     "output_type": "display_data"
    },
    {
     "data": {
      "text/plain": [
       "Ttest_indResult(statistic=1016.0574027139359, pvalue=0.0)"
      ]
     },
     "execution_count": 89,
     "metadata": {},
     "output_type": "execute_result"
    }
   ],
   "source": [
    "# median value \n",
    "display(price_welcht(df_median, 'price', 2, 'review_count', 100, 100000))\n",
    "price_welcht(df_median, 'price', 2, 'rating', 100, 100000)\n",
    "# high price tag works better in this case "
   ]
  },
  {
   "cell_type": "code",
   "execution_count": 90,
   "metadata": {},
   "outputs": [
    {
     "data": {
      "text/plain": [
       "Ttest_indResult(statistic=1012.9169493575149, pvalue=0.0)"
      ]
     },
     "metadata": {},
     "output_type": "display_data"
    },
    {
     "data": {
      "text/plain": [
       "Ttest_indResult(statistic=1008.3761842760459, pvalue=0.0)"
      ]
     },
     "execution_count": 90,
     "metadata": {},
     "output_type": "execute_result"
    }
   ],
   "source": [
    "# random value\n",
    "display(price_welcht(df_random, 'price', 2, 'review_count', 100, 100000))\n",
    "price_welcht(df_random, 'price', 2, 'rating', 100, 100000)"
   ]
  }
 ],
 "metadata": {
  "kernelspec": {
   "display_name": "Python 3",
   "language": "python",
   "name": "python3"
  },
  "language_info": {
   "codemirror_mode": {
    "name": "ipython",
    "version": 3
   },
   "file_extension": ".py",
   "mimetype": "text/x-python",
   "name": "python",
   "nbconvert_exporter": "python",
   "pygments_lexer": "ipython3",
   "version": "3.7.1"
  }
 },
 "nbformat": 4,
 "nbformat_minor": 2
}
