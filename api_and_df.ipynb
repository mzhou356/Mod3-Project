{
 "cells": [
  {
   "cell_type": "code",
   "execution_count": 1,
   "metadata": {},
   "outputs": [],
   "source": [
    "import json\n",
    "# import base64\n",
    "# import pymongo\n",
    "# import sqlite3\n",
    "import requests\n",
    "import pandas as pd\n",
    "import seaborn as sns\n",
    "# from datetime import datetime\n",
    "import matplotlib.pyplot as plt\n",
    "\n",
    "sns.set_style(\"whitegrid\")"
   ]
  },
  {
   "cell_type": "markdown",
   "metadata": {},
   "source": [
    "**How do I get more than 50 results per request and how to get more than 1000 businesses?**<br>\n",
    "The API can only return up to 1,000 results at this time. The API doesn't allow more than 50 per request. You need to use the offset parameter to get the next page of results. (For using offset, give it any number. If you have limit=50, that means you're getting results 1-50, so give it offset=51 and you'll get 51-100.)"
   ]
  },
  {
   "cell_type": "code",
   "execution_count": null,
   "metadata": {},
   "outputs": [],
   "source": [
    "class YelpDataGetter:\n",
    "    def businessSearch(self, offset=0):\n",
    "        with open(\"yelp_secret.json\") as f:\n",
    "            d = json.load(f)\n",
    "            API_KEY = d[\"API Key\"]\n",
    "            \n",
    "        LOCATION = \"Washington DC\"\n",
    "        SEARCH_LIMIT = 3\n",
    "        URL = \"https://api.yelp.com/v3/businesses/search\"\n",
    "        \n",
    "        header = {\"Authorization\": f\"Bearer {API_KEY}\"}\n",
    "        url_params = {\"location\": LOCATION.replace(\" \", \"+\"),\n",
    "                      \"limit\": SEARCH_LIMIT,\n",
    "                      \"offset\": offset}\n",
    "        \n",
    "        response = requests.get(URL, headers=header, params=url_params)\n",
    "        \n",
    "        yelp_info = dict(response.json())\n",
    "        return yelp_info\n",
    "#         day_weather = day_info[\"daily\"][\"data\"][0][\"icon\"]\n",
    "#         self.daily_weather_dict[key] = day_weather\n",
    "    \n",
    "#     def makeSoccerInfoDF(self):\n",
    "#         daily_weather = pd.DataFrame(self.daily_weather_dict, index=[0]).T\n",
    "#         daily_weather[\"Date\"] = daily_weather.index\n",
    "#         self.df_with_weather = self.soccerInfoDF.join(daily_weather, how=\"left\", on=\"Date\", lsuffix=\"Left\")\n",
    "#         self.df_with_weather.columns = [\"Match_ID\", \"Season\", \"Date\", \"HomeTeam\", \"AwayTeam\", \"FTHG\",\n",
    "#                                         \"FTAG\", \"FTR\", \"Weather\", \"Date2\"]\n",
    "#         self.df_with_weather.drop(columns=\"Date2\", inplace=True)\n",
    "#         return self.df_with_weather\n",
    "\n",
    "    def businessDetails(self, businessID):\n",
    "        with open(\"yelp_secret.json\") as f:\n",
    "            d = json.load(f)\n",
    "            API_KEY = d[\"API Key\"]\n",
    "            \n",
    "        ID = businessID\n",
    "        URL = f\"https://api.yelp.com/v3/businesses/{ID}\"\n",
    "        \n",
    "        header = {\"Authorization\": f\"Bearer {API_KEY}\"}\n",
    "        \n",
    "        response = requests.get(URL, headers=header)\n",
    "        \n",
    "        yelp_info = dict(response.json())\n",
    "        return yelp_info"
   ]
  },
  {
   "cell_type": "code",
   "execution_count": null,
   "metadata": {},
   "outputs": [],
   "source": [
    "ydg = YelpDataGetter()\n",
    "data = ydg.businessSearch(4)\n",
    "data"
   ]
  },
  {
   "cell_type": "code",
   "execution_count": null,
   "metadata": {},
   "outputs": [],
   "source": [
    "df = pd.DataFrame.from_dict(data['businesses'])"
   ]
  },
  {
   "cell_type": "code",
   "execution_count": null,
   "metadata": {},
   "outputs": [],
   "source": [
    "df"
   ]
  },
  {
   "cell_type": "code",
   "execution_count": null,
   "metadata": {},
   "outputs": [],
   "source": [
    "df.categories[0]"
   ]
  },
  {
   "cell_type": "code",
   "execution_count": null,
   "metadata": {},
   "outputs": [],
   "source": [
    "df.coordinates[0]"
   ]
  },
  {
   "cell_type": "code",
   "execution_count": null,
   "metadata": {},
   "outputs": [],
   "source": [
    "df.location[0]"
   ]
  },
  {
   "cell_type": "code",
   "execution_count": null,
   "metadata": {},
   "outputs": [],
   "source": [
    "df.to_csv(\"yelp.csv\", index=False)"
   ]
  },
  {
   "cell_type": "code",
   "execution_count": null,
   "metadata": {},
   "outputs": [],
   "source": []
  },
  {
   "cell_type": "code",
   "execution_count": null,
   "metadata": {},
   "outputs": [],
   "source": []
  },
  {
   "cell_type": "code",
   "execution_count": null,
   "metadata": {},
   "outputs": [],
   "source": []
  },
  {
   "cell_type": "code",
   "execution_count": null,
   "metadata": {},
   "outputs": [],
   "source": []
  },
  {
   "cell_type": "markdown",
   "metadata": {},
   "source": [
    "# start here"
   ]
  },
  {
   "cell_type": "code",
   "execution_count": 2,
   "metadata": {},
   "outputs": [],
   "source": [
    "df = pd.read_csv(\"yelp.csv\")"
   ]
  },
  {
   "cell_type": "code",
   "execution_count": 3,
   "metadata": {},
   "outputs": [
    {
     "data": {
      "text/html": [
       "<div>\n",
       "<style scoped>\n",
       "    .dataframe tbody tr th:only-of-type {\n",
       "        vertical-align: middle;\n",
       "    }\n",
       "\n",
       "    .dataframe tbody tr th {\n",
       "        vertical-align: top;\n",
       "    }\n",
       "\n",
       "    .dataframe thead th {\n",
       "        text-align: right;\n",
       "    }\n",
       "</style>\n",
       "<table border=\"1\" class=\"dataframe\">\n",
       "  <thead>\n",
       "    <tr style=\"text-align: right;\">\n",
       "      <th></th>\n",
       "      <th>alias</th>\n",
       "      <th>categories</th>\n",
       "      <th>coordinates</th>\n",
       "      <th>display_phone</th>\n",
       "      <th>distance</th>\n",
       "      <th>id</th>\n",
       "      <th>image_url</th>\n",
       "      <th>is_closed</th>\n",
       "      <th>location</th>\n",
       "      <th>name</th>\n",
       "      <th>phone</th>\n",
       "      <th>price</th>\n",
       "      <th>rating</th>\n",
       "      <th>review_count</th>\n",
       "      <th>transactions</th>\n",
       "      <th>url</th>\n",
       "    </tr>\n",
       "  </thead>\n",
       "  <tbody>\n",
       "    <tr>\n",
       "      <th>0</th>\n",
       "      <td>founding-farmers-washington-washington-2</td>\n",
       "      <td>[{'alias': 'tradamerican', 'title': 'American ...</td>\n",
       "      <td>{'latitude': 38.90029, 'longitude': -77.04442}</td>\n",
       "      <td>(202) 822-8783</td>\n",
       "      <td>1715.308448</td>\n",
       "      <td>VA8aPObRynlwR1TGzbzraQ</td>\n",
       "      <td>https://s3-media2.fl.yelpcdn.com/bphoto/AWpidG...</td>\n",
       "      <td>False</td>\n",
       "      <td>{'address1': '1924 Pennsylvania Ave NW', 'addr...</td>\n",
       "      <td>Founding Farmers - Washington</td>\n",
       "      <td>12028228783</td>\n",
       "      <td>$$</td>\n",
       "      <td>4.0</td>\n",
       "      <td>12832</td>\n",
       "      <td>[]</td>\n",
       "      <td>https://www.yelp.com/biz/founding-farmers-wash...</td>\n",
       "    </tr>\n",
       "    <tr>\n",
       "      <th>1</th>\n",
       "      <td>old-ebbitt-grill-washington</td>\n",
       "      <td>[{'alias': 'bars', 'title': 'Bars'}, {'alias':...</td>\n",
       "      <td>{'latitude': 38.898005, 'longitude': -77.033362}</td>\n",
       "      <td>(202) 347-4800</td>\n",
       "      <td>1496.279982</td>\n",
       "      <td>iyBbcXtQSBfiwFQZwVBNaQ</td>\n",
       "      <td>https://s3-media3.fl.yelpcdn.com/bphoto/_3geLj...</td>\n",
       "      <td>False</td>\n",
       "      <td>{'address1': '675 15th St NW', 'address2': '',...</td>\n",
       "      <td>Old Ebbitt Grill</td>\n",
       "      <td>12023474800</td>\n",
       "      <td>$$</td>\n",
       "      <td>4.0</td>\n",
       "      <td>7879</td>\n",
       "      <td>[]</td>\n",
       "      <td>https://www.yelp.com/biz/old-ebbitt-grill-wash...</td>\n",
       "    </tr>\n",
       "    <tr>\n",
       "      <th>2</th>\n",
       "      <td>baked-and-wired-washington</td>\n",
       "      <td>[{'alias': 'bakeries', 'title': 'Bakeries'}, {...</td>\n",
       "      <td>{'latitude': 38.9039128490789, 'longitude': -7...</td>\n",
       "      <td>(202) 333-2500</td>\n",
       "      <td>2690.156314</td>\n",
       "      <td>Es64Je53efmpWh-BXHjguQ</td>\n",
       "      <td>https://s3-media3.fl.yelpcdn.com/bphoto/nKJIkm...</td>\n",
       "      <td>False</td>\n",
       "      <td>{'address1': '1052 Thomas Jefferson St NW', 'a...</td>\n",
       "      <td>Baked &amp; Wired</td>\n",
       "      <td>12023332500</td>\n",
       "      <td>$$</td>\n",
       "      <td>4.5</td>\n",
       "      <td>4264</td>\n",
       "      <td>[]</td>\n",
       "      <td>https://www.yelp.com/biz/baked-and-wired-washi...</td>\n",
       "    </tr>\n",
       "  </tbody>\n",
       "</table>\n",
       "</div>"
      ],
      "text/plain": [
       "                                      alias  \\\n",
       "0  founding-farmers-washington-washington-2   \n",
       "1               old-ebbitt-grill-washington   \n",
       "2                baked-and-wired-washington   \n",
       "\n",
       "                                          categories  \\\n",
       "0  [{'alias': 'tradamerican', 'title': 'American ...   \n",
       "1  [{'alias': 'bars', 'title': 'Bars'}, {'alias':...   \n",
       "2  [{'alias': 'bakeries', 'title': 'Bakeries'}, {...   \n",
       "\n",
       "                                         coordinates   display_phone  \\\n",
       "0     {'latitude': 38.90029, 'longitude': -77.04442}  (202) 822-8783   \n",
       "1   {'latitude': 38.898005, 'longitude': -77.033362}  (202) 347-4800   \n",
       "2  {'latitude': 38.9039128490789, 'longitude': -7...  (202) 333-2500   \n",
       "\n",
       "      distance                      id  \\\n",
       "0  1715.308448  VA8aPObRynlwR1TGzbzraQ   \n",
       "1  1496.279982  iyBbcXtQSBfiwFQZwVBNaQ   \n",
       "2  2690.156314  Es64Je53efmpWh-BXHjguQ   \n",
       "\n",
       "                                           image_url  is_closed  \\\n",
       "0  https://s3-media2.fl.yelpcdn.com/bphoto/AWpidG...      False   \n",
       "1  https://s3-media3.fl.yelpcdn.com/bphoto/_3geLj...      False   \n",
       "2  https://s3-media3.fl.yelpcdn.com/bphoto/nKJIkm...      False   \n",
       "\n",
       "                                            location  \\\n",
       "0  {'address1': '1924 Pennsylvania Ave NW', 'addr...   \n",
       "1  {'address1': '675 15th St NW', 'address2': '',...   \n",
       "2  {'address1': '1052 Thomas Jefferson St NW', 'a...   \n",
       "\n",
       "                            name        phone price  rating  review_count  \\\n",
       "0  Founding Farmers - Washington  12028228783    $$     4.0         12832   \n",
       "1               Old Ebbitt Grill  12023474800    $$     4.0          7879   \n",
       "2                  Baked & Wired  12023332500    $$     4.5          4264   \n",
       "\n",
       "  transactions                                                url  \n",
       "0           []  https://www.yelp.com/biz/founding-farmers-wash...  \n",
       "1           []  https://www.yelp.com/biz/old-ebbitt-grill-wash...  \n",
       "2           []  https://www.yelp.com/biz/baked-and-wired-washi...  "
      ]
     },
     "execution_count": 3,
     "metadata": {},
     "output_type": "execute_result"
    }
   ],
   "source": [
    "df"
   ]
  },
  {
   "cell_type": "code",
   "execution_count": 4,
   "metadata": {},
   "outputs": [
    {
     "name": "stdout",
     "output_type": "stream",
     "text": [
      "<class 'pandas.core.frame.DataFrame'>\n",
      "RangeIndex: 3 entries, 0 to 2\n",
      "Data columns (total 16 columns):\n",
      "alias            3 non-null object\n",
      "categories       3 non-null object\n",
      "coordinates      3 non-null object\n",
      "display_phone    3 non-null object\n",
      "distance         3 non-null float64\n",
      "id               3 non-null object\n",
      "image_url        3 non-null object\n",
      "is_closed        3 non-null bool\n",
      "location         3 non-null object\n",
      "name             3 non-null object\n",
      "phone            3 non-null int64\n",
      "price            3 non-null object\n",
      "rating           3 non-null float64\n",
      "review_count     3 non-null int64\n",
      "transactions     3 non-null object\n",
      "url              3 non-null object\n",
      "dtypes: bool(1), float64(2), int64(2), object(11)\n",
      "memory usage: 443.0+ bytes\n"
     ]
    }
   ],
   "source": [
    "df.info()"
   ]
  },
  {
   "cell_type": "markdown",
   "metadata": {},
   "source": [
    "# observing"
   ]
  },
  {
   "cell_type": "code",
   "execution_count": 5,
   "metadata": {},
   "outputs": [
    {
     "data": {
      "text/plain": [
       "\"[{'alias': 'tradamerican', 'title': 'American (Traditional)'}, {'alias': 'coffee', 'title': 'Coffee & Tea'}, {'alias': 'breakfast_brunch', 'title': 'Breakfast & Brunch'}]\""
      ]
     },
     "execution_count": 5,
     "metadata": {},
     "output_type": "execute_result"
    }
   ],
   "source": [
    "df.categories[0]"
   ]
  },
  {
   "cell_type": "code",
   "execution_count": 6,
   "metadata": {},
   "outputs": [
    {
     "data": {
      "text/plain": [
       "\"{'latitude': 38.90029, 'longitude': -77.04442}\""
      ]
     },
     "execution_count": 6,
     "metadata": {},
     "output_type": "execute_result"
    }
   ],
   "source": [
    "df.coordinates[0]"
   ]
  },
  {
   "cell_type": "code",
   "execution_count": 7,
   "metadata": {},
   "outputs": [
    {
     "data": {
      "text/plain": [
       "\"{'address1': '1924 Pennsylvania Ave NW', 'address2': '', 'address3': '', 'city': 'Washington, DC', 'zip_code': '20006', 'country': 'US', 'state': 'DC', 'display_address': ['1924 Pennsylvania Ave NW', 'Washington, DC 20006']}\""
      ]
     },
     "execution_count": 7,
     "metadata": {},
     "output_type": "execute_result"
    }
   ],
   "source": [
    "df.location[0]"
   ]
  },
  {
   "cell_type": "code",
   "execution_count": 8,
   "metadata": {},
   "outputs": [
    {
     "data": {
      "text/plain": [
       "'https://www.yelp.com/biz/founding-farmers-washington-washington-2?adjust_creative=ea9KL2MCxdAS19D4hvjY0A&utm_campaign=yelp_api_v3&utm_medium=api_v3_business_search&utm_source=ea9KL2MCxdAS19D4hvjY0A'"
      ]
     },
     "execution_count": 8,
     "metadata": {},
     "output_type": "execute_result"
    }
   ],
   "source": [
    "df.url[0]"
   ]
  },
  {
   "cell_type": "markdown",
   "metadata": {},
   "source": [
    "# cleaning"
   ]
  },
  {
   "cell_type": "code",
   "execution_count": 9,
   "metadata": {},
   "outputs": [],
   "source": [
    "df.drop(labels=[\"alias\", \"distance\"], inplace=True, axis=1)"
   ]
  },
  {
   "cell_type": "code",
   "execution_count": 10,
   "metadata": {},
   "outputs": [],
   "source": [
    "def strDictToDict(s):\n",
    "    s = s.replace(\"None\", \"''\")\n",
    "    s = s.replace(\"'\", \"\\\"\")\n",
    "    return json.loads(s)"
   ]
  },
  {
   "cell_type": "code",
   "execution_count": 11,
   "metadata": {},
   "outputs": [],
   "source": [
    "df.coordinates = df.coordinates.apply(lambda x: strDictToDict(x))\n",
    "df[\"latitude\"] = df.coordinates.apply(lambda x: x[\"latitude\"])\n",
    "df[\"longitude\"] = df.coordinates.apply(lambda x: x[\"longitude\"])\n",
    "df.drop(\"coordinates\", inplace=True, axis=1)"
   ]
  },
  {
   "cell_type": "code",
   "execution_count": 12,
   "metadata": {},
   "outputs": [],
   "source": [
    "df.location = df.location.apply(lambda x: strDictToDict(x))\n",
    "df[\"zip_code\"] = df.location.apply(lambda x: x[\"zip_code\"])\n",
    "df[\"dc_quadrant\"] = df.location.apply(lambda x: x[\"address1\"][-2:])\n",
    "df.drop(\"location\", inplace=True, axis=1)"
   ]
  },
  {
   "cell_type": "code",
   "execution_count": 13,
   "metadata": {},
   "outputs": [],
   "source": [
    "df.categories = df.categories.apply(lambda x: strDictToDict(x))"
   ]
  },
  {
   "cell_type": "code",
   "execution_count": 14,
   "metadata": {},
   "outputs": [
    {
     "data": {
      "text/html": [
       "<div>\n",
       "<style scoped>\n",
       "    .dataframe tbody tr th:only-of-type {\n",
       "        vertical-align: middle;\n",
       "    }\n",
       "\n",
       "    .dataframe tbody tr th {\n",
       "        vertical-align: top;\n",
       "    }\n",
       "\n",
       "    .dataframe thead th {\n",
       "        text-align: right;\n",
       "    }\n",
       "</style>\n",
       "<table border=\"1\" class=\"dataframe\">\n",
       "  <thead>\n",
       "    <tr style=\"text-align: right;\">\n",
       "      <th></th>\n",
       "      <th>categories</th>\n",
       "      <th>display_phone</th>\n",
       "      <th>id</th>\n",
       "      <th>image_url</th>\n",
       "      <th>is_closed</th>\n",
       "      <th>name</th>\n",
       "      <th>phone</th>\n",
       "      <th>price</th>\n",
       "      <th>rating</th>\n",
       "      <th>review_count</th>\n",
       "      <th>transactions</th>\n",
       "      <th>url</th>\n",
       "      <th>latitude</th>\n",
       "      <th>longitude</th>\n",
       "      <th>zip_code</th>\n",
       "      <th>dc_quadrant</th>\n",
       "    </tr>\n",
       "  </thead>\n",
       "  <tbody>\n",
       "    <tr>\n",
       "      <th>0</th>\n",
       "      <td>[{'alias': 'tradamerican', 'title': 'American ...</td>\n",
       "      <td>(202) 822-8783</td>\n",
       "      <td>VA8aPObRynlwR1TGzbzraQ</td>\n",
       "      <td>https://s3-media2.fl.yelpcdn.com/bphoto/AWpidG...</td>\n",
       "      <td>False</td>\n",
       "      <td>Founding Farmers - Washington</td>\n",
       "      <td>12028228783</td>\n",
       "      <td>$$</td>\n",
       "      <td>4.0</td>\n",
       "      <td>12832</td>\n",
       "      <td>[]</td>\n",
       "      <td>https://www.yelp.com/biz/founding-farmers-wash...</td>\n",
       "      <td>38.900290</td>\n",
       "      <td>-77.044420</td>\n",
       "      <td>20006</td>\n",
       "      <td>NW</td>\n",
       "    </tr>\n",
       "    <tr>\n",
       "      <th>1</th>\n",
       "      <td>[{'alias': 'bars', 'title': 'Bars'}, {'alias':...</td>\n",
       "      <td>(202) 347-4800</td>\n",
       "      <td>iyBbcXtQSBfiwFQZwVBNaQ</td>\n",
       "      <td>https://s3-media3.fl.yelpcdn.com/bphoto/_3geLj...</td>\n",
       "      <td>False</td>\n",
       "      <td>Old Ebbitt Grill</td>\n",
       "      <td>12023474800</td>\n",
       "      <td>$$</td>\n",
       "      <td>4.0</td>\n",
       "      <td>7879</td>\n",
       "      <td>[]</td>\n",
       "      <td>https://www.yelp.com/biz/old-ebbitt-grill-wash...</td>\n",
       "      <td>38.898005</td>\n",
       "      <td>-77.033362</td>\n",
       "      <td>20005</td>\n",
       "      <td>NW</td>\n",
       "    </tr>\n",
       "    <tr>\n",
       "      <th>2</th>\n",
       "      <td>[{'alias': 'bakeries', 'title': 'Bakeries'}, {...</td>\n",
       "      <td>(202) 333-2500</td>\n",
       "      <td>Es64Je53efmpWh-BXHjguQ</td>\n",
       "      <td>https://s3-media3.fl.yelpcdn.com/bphoto/nKJIkm...</td>\n",
       "      <td>False</td>\n",
       "      <td>Baked &amp; Wired</td>\n",
       "      <td>12023332500</td>\n",
       "      <td>$$</td>\n",
       "      <td>4.5</td>\n",
       "      <td>4264</td>\n",
       "      <td>[]</td>\n",
       "      <td>https://www.yelp.com/biz/baked-and-wired-washi...</td>\n",
       "      <td>38.903913</td>\n",
       "      <td>-77.060248</td>\n",
       "      <td>20007</td>\n",
       "      <td>NW</td>\n",
       "    </tr>\n",
       "  </tbody>\n",
       "</table>\n",
       "</div>"
      ],
      "text/plain": [
       "                                          categories   display_phone  \\\n",
       "0  [{'alias': 'tradamerican', 'title': 'American ...  (202) 822-8783   \n",
       "1  [{'alias': 'bars', 'title': 'Bars'}, {'alias':...  (202) 347-4800   \n",
       "2  [{'alias': 'bakeries', 'title': 'Bakeries'}, {...  (202) 333-2500   \n",
       "\n",
       "                       id                                          image_url  \\\n",
       "0  VA8aPObRynlwR1TGzbzraQ  https://s3-media2.fl.yelpcdn.com/bphoto/AWpidG...   \n",
       "1  iyBbcXtQSBfiwFQZwVBNaQ  https://s3-media3.fl.yelpcdn.com/bphoto/_3geLj...   \n",
       "2  Es64Je53efmpWh-BXHjguQ  https://s3-media3.fl.yelpcdn.com/bphoto/nKJIkm...   \n",
       "\n",
       "   is_closed                           name        phone price  rating  \\\n",
       "0      False  Founding Farmers - Washington  12028228783    $$     4.0   \n",
       "1      False               Old Ebbitt Grill  12023474800    $$     4.0   \n",
       "2      False                  Baked & Wired  12023332500    $$     4.5   \n",
       "\n",
       "   review_count transactions  \\\n",
       "0         12832           []   \n",
       "1          7879           []   \n",
       "2          4264           []   \n",
       "\n",
       "                                                 url   latitude  longitude  \\\n",
       "0  https://www.yelp.com/biz/founding-farmers-wash...  38.900290 -77.044420   \n",
       "1  https://www.yelp.com/biz/old-ebbitt-grill-wash...  38.898005 -77.033362   \n",
       "2  https://www.yelp.com/biz/baked-and-wired-washi...  38.903913 -77.060248   \n",
       "\n",
       "  zip_code dc_quadrant  \n",
       "0    20006          NW  \n",
       "1    20005          NW  \n",
       "2    20007          NW  "
      ]
     },
     "execution_count": 14,
     "metadata": {},
     "output_type": "execute_result"
    }
   ],
   "source": [
    "df"
   ]
  },
  {
   "cell_type": "code",
   "execution_count": null,
   "metadata": {},
   "outputs": [],
   "source": []
  }
 ],
 "metadata": {
  "kernelspec": {
   "display_name": "Python 3",
   "language": "python",
   "name": "python3"
  },
  "language_info": {
   "codemirror_mode": {
    "name": "ipython",
    "version": 3
   },
   "file_extension": ".py",
   "mimetype": "text/x-python",
   "name": "python",
   "nbconvert_exporter": "python",
   "pygments_lexer": "ipython3",
   "version": "3.7.3"
  }
 },
 "nbformat": 4,
 "nbformat_minor": 2
}
