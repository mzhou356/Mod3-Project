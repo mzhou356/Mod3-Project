{
 "cells": [
  {
   "cell_type": "markdown",
   "metadata": {},
   "source": [
    "\n"
   ]
  },
  {
   "cell_type": "markdown",
   "metadata": {},
   "source": [
    "# Restaurant Industry Consulting Firm\n",
    "July 17, 2019<br>\n",
    "Ngoc, Mindy, Inferential Statistics<br>\n",
    "one way anova, Welch anova, Tukey HSD for location in the DMV Area\n",
    "Welch’s T-Tests and T-Tests for Cuisine, Price Range, and Hours of Operation in the DMV Area\n",
    "\n",
    "-----------------"
   ]
  },
  {
   "cell_type": "markdown",
   "metadata": {},
   "source": [
    "In this notebook, we want to:\n",
    "\n",
    "- Find the best location (DC, MD, VA) to open a restaurant\n",
    "- Find the 2 most popular cuisines in each DMV area\n",
    "- Apply Welch’s t-tests and t-tests to figure out the more popular cuisine\n",
    "- Apply Welch’s t-tests and t-tests to figure out the higher rating cuisine\n",
    "- Apply Welch’s t-tests to figure out the better price range\n",
    "- Apply Welch’s t-tests and t-tests to figure out the better hours of operation\n",
    "\n",
    "-------------------"
   ]
  },
  {
   "cell_type": "markdown",
   "metadata": {},
   "source": [
    "## Import Needed Libraries"
   ]
  },
  {
   "cell_type": "code",
   "execution_count": 1,
   "metadata": {},
   "outputs": [],
   "source": [
    "import helper_functions as hf\n",
    "import pickle\n",
    "import numpy as np\n",
    "import pandas as pd\n",
    "import scipy.stats as stats\n",
    "import pingouin    # welch F test\n",
    "from statsmodels.stats.multicomp import pairwise_tukeyhsd, MultiComparison\n",
    "import matplotlib.pyplot as plt\n",
    "%matplotlib inline\n",
    "import seaborn as sns\n",
    "sns.set(style='whitegrid')\n",
    "import warnings\n",
    "warnings.filterwarnings(\"ignore\")"
   ]
  },
  {
   "cell_type": "markdown",
   "metadata": {},
   "source": [
    "### Take a look at restaurant count for each location\n",
    "  * DC appears to have the most number of restaurants \n",
    "  * MD appears to have the least number of restaurants \n",
    "  * All three tend to have around 2000 restaurants "
   ]
  },
  {
   "cell_type": "code",
   "execution_count": 2,
   "metadata": {
    "scrolled": true
   },
   "outputs": [
    {
     "data": {
      "image/png": "[encoded data removed]",
      "text/plain": [
       "<Figure size 432x288 with 1 Axes>"
      ]
     },
     "metadata": {
      "needs_background": "light"
     },
     "output_type": "display_data"
    }
   ],
   "source": [
    "# import location and price df from datacleaning file\n",
    "df_location_price = pd.read_pickle('data/yelp_price_location.pkl')\n",
    "# obtain num_of_restaurant for each location\n",
    "count_state = df_location_price.groupby('state').size(\n",
    ").reset_index().rename(columns={0: 'num of restaurants'})\n",
    "sns.barplot(x='state', y='num of restaurants', order=[\n",
    "            'DC', 'VA', 'MD'], data=count_state)\n",
    "plt.title('Num of Restaurants by Location')\n",
    "plt.show()"
   ]
  },
  {
   "cell_type": "markdown",
   "metadata": {},
   "source": [
    "## Split location_price dataframe into 3 groups:\n",
    "  * DC, VA, MD"
   ]
  },
  {
   "cell_type": "code",
   "execution_count": 3,
   "metadata": {},
   "outputs": [],
   "source": [
    "group_name = ['DC','MD','VA']\n",
    "state_groups = hf.splitgroups(df_location_price, 'state', group_name)\n",
    "DC = state_groups[0]\n",
    "MD = state_groups[1]\n",
    "VA = state_groups[2]"
   ]
  },
  {
   "cell_type": "markdown",
   "metadata": {},
   "source": [
    "## Hypothesis 1:\n",
    "  * restaurants tend to perform better in certain locations than others \n",
    "  * metrics:  \n",
    "    * review_counts (proxy for customer traffic)\n",
    "    * yelp review rating \n",
    "  * Null Hypothesis: there are no differences among the 3 locations \n",
    "  * method: one way anova \n",
    "    * check for anova assumption:  \n",
    "        * Normality:  \n",
    "          * Caveat to this is, if group sizes are equal, the F-statistic is robust to violations of normality  \n",
    "        * Homogeneity of variance  \n",
    "          * Same caveat as above, if group sizes are equal, the F-statistic is robust to this violation  \n",
    "        * Independent observations (assume independent most of the time)"
   ]
  },
  {
   "cell_type": "markdown",
   "metadata": {},
   "source": [
    "### Normality test "
   ]
  },
  {
   "cell_type": "code",
   "execution_count": 4,
   "metadata": {
    "scrolled": true
   },
   "outputs": [
    {
     "data": {
      "text/html": [
       "<div>\n",
       "<style scoped>\n",
       "    .dataframe tbody tr th:only-of-type {\n",
       "        vertical-align: middle;\n",
       "    }\n",
       "\n",
       "    .dataframe tbody tr th {\n",
       "        vertical-align: top;\n",
       "    }\n",
       "\n",
       "    .dataframe thead th {\n",
       "        text-align: right;\n",
       "    }\n",
       "</style>\n",
       "<table border=\"1\" class=\"dataframe\">\n",
       "  <thead>\n",
       "    <tr style=\"text-align: right;\">\n",
       "      <th></th>\n",
       "      <th>DC</th>\n",
       "      <th>MD</th>\n",
       "      <th>VA</th>\n",
       "    </tr>\n",
       "  </thead>\n",
       "  <tbody>\n",
       "    <tr>\n",
       "      <th>rating</th>\n",
       "      <td>not normal</td>\n",
       "      <td>not normal</td>\n",
       "      <td>not normal</td>\n",
       "    </tr>\n",
       "    <tr>\n",
       "      <th>review_count</th>\n",
       "      <td>not normal</td>\n",
       "      <td>not normal</td>\n",
       "      <td>not normal</td>\n",
       "    </tr>\n",
       "  </tbody>\n",
       "</table>\n",
       "</div>"
      ],
      "text/plain": [
       "                      DC          MD          VA\n",
       "rating        not normal  not normal  not normal\n",
       "review_count  not normal  not normal  not normal"
      ]
     },
     "execution_count": 4,
     "metadata": {},
     "output_type": "execute_result"
    }
   ],
   "source": [
    "# create a statistictestclass \n",
    "statisticaltests = hf.InferentialStatisticsHelperFunctions()\n",
    "# check for normality \n",
    "metrics = ['review_count','rating']\n",
    "statisticaltests.normality_tests(state_groups, group_name, metrics)"
   ]
  },
  {
   "cell_type": "markdown",
   "metadata": {},
   "source": [
    "### Distribution is not normal, we will use central limit theorem to produce a normal distribution by performing boostrap sampling "
   ]
  },
  {
   "cell_type": "code",
   "execution_count": 5,
   "metadata": {},
   "outputs": [],
   "source": [
    "# boostrap generate sample means from 100 samples for 100000 times (CLT)\n",
    "DC_review = statisticaltests.sample_category(DC,100,100000,'review_count')\n",
    "MD_review = statisticaltests.sample_category(MD,100,100000,'review_count')\n",
    "VA_review = statisticaltests.sample_category(VA,100,100000,'review_count')\n",
    "DC_rating = statisticaltests.sample_category(DC,100,100000,'rating')\n",
    "MD_rating = statisticaltests.sample_category(MD,100,100000,'rating')\n",
    "VA_rating = statisticaltests.sample_category(VA,100,100000,'rating')"
   ]
  },
  {
   "cell_type": "markdown",
   "metadata": {},
   "source": [
    "### Variance equal test "
   ]
  },
  {
   "cell_type": "code",
   "execution_count": 6,
   "metadata": {
    "scrolled": true
   },
   "outputs": [
    {
     "name": "stdout",
     "output_type": "stream",
     "text": [
      "review_count: not equal variance \n",
      "rating: not equal variance \n"
     ]
    }
   ],
   "source": [
    "group_review = [DC_review, MD_review, VA_review]\n",
    "# create proper table format to perform equal variance test\n",
    "stacked_df_review = hf.table_transform(\n",
    "    group_review, group_name, colname='review_count')\n",
    "print('review_count:', statisticaltests.variance_tests(group_review))\n",
    "group_rating = [DC_rating, MD_rating, VA_rating]\n",
    "# create proper table format to perform equal variance test\n",
    "stacked_df_rating = hf.table_transform(\n",
    "    group_rating, group_name, colname='rating')\n",
    "print('rating:', statisticaltests.variance_tests(group_rating))"
   ]
  },
  {
   "cell_type": "markdown",
   "metadata": {},
   "source": [
    "### Due to equal sample size, we will perform both oneway anova and welch F test to compare results "
   ]
  },
  {
   "cell_type": "code",
   "execution_count": 7,
   "metadata": {},
   "outputs": [
    {
     "name": "stdout",
     "output_type": "stream",
     "text": [
      "review_count: reject Null Hypothesis\n",
      "rating: reject Null Hypothesis\n"
     ]
    }
   ],
   "source": [
    "# one way anova\n",
    "print('review_count:', statisticaltests.one_way_anova(group_review))\n",
    "print('rating:', statisticaltests.one_way_anova(group_rating))"
   ]
  },
  {
   "cell_type": "code",
   "execution_count": 8,
   "metadata": {},
   "outputs": [
    {
     "name": "stdout",
     "output_type": "stream",
     "text": [
      "review_count: reject Null Hypothesis\n",
      "rating: reject Null Hypothesis\n"
     ]
    }
   ],
   "source": [
    "# welch F test (doesn't assume equal variance)\n",
    "print('review_count:', statisticaltests.welch_f_test(\n",
    "    stacked_df_review, 'review_count', 'state'))\n",
    "print('rating:', statisticaltests.welch_f_test(\n",
    "    stacked_df_rating, 'rating', 'state'))"
   ]
  },
  {
   "cell_type": "markdown",
   "metadata": {},
   "source": [
    "## Both reject Null Hypothesis of no difference  \n",
    " * However we don't know where the difference happens\n",
    " * it can be DC different from MD but MD and VA are the same\n",
    " * perform post ANOVA analysis to figure out the details of differences \n",
    " * we will use tukey HSD test "
   ]
  },
  {
   "cell_type": "code",
   "execution_count": 9,
   "metadata": {
    "scrolled": true
   },
   "outputs": [
    {
     "name": "stdout",
     "output_type": "stream",
     "text": [
      "review_count:\n",
      "\n",
      "   Multiple Comparison of Means - Tukey HSD, FWER=0.05   \n",
      "========================================================\n",
      "group1 group2  meandiff p-adj   lower     upper   reject\n",
      "--------------------------------------------------------\n",
      "    DC     MD -113.1641 0.001 -113.4855 -112.8428   True\n",
      "    DC     VA  -38.9312 0.001  -39.2526  -38.6099   True\n",
      "    MD     VA   74.2329 0.001   73.9115   74.5543   True\n",
      "--------------------------------------------------------\n",
      "rating:\n",
      "\n",
      " Multiple Comparison of Means - Tukey HSD, FWER=0.05\n",
      "===================================================\n",
      "group1 group2 meandiff p-adj  lower   upper  reject\n",
      "---------------------------------------------------\n",
      "    DC     MD  -0.2898 0.001 -0.2906 -0.2889   True\n",
      "    DC     VA  -0.0615 0.001 -0.0624 -0.0607   True\n",
      "    MD     VA   0.2282 0.001  0.2273  0.2291   True\n",
      "---------------------------------------------------\n"
     ]
    }
   ],
   "source": [
    "print('review_count:\\n\\n', statisticaltests.tukey_hsd(stacked_df_review,'review_count'))\n",
    "print('rating:\\n\\n',statisticaltests.tukey_hsd(stacked_df_rating, 'rating'))"
   ]
  },
  {
   "cell_type": "markdown",
   "metadata": {},
   "source": [
    "## Results:\n",
    "  * the mean diff for null hypothesis is zero \n",
    "  * the calculated 95% confidence interval is outside zero difference \n",
    "  * we will conclude as following:\n",
    "    * for both rating and review counts \n",
    "      * DC has lower rating and less review counts than MD \n",
    "      * DC has lower rating and less review counts than VA\n",
    "      * MD has higher rating and higher review counts than VA\n",
    "    "
   ]
  },
  {
   "cell_type": "markdown",
   "metadata": {},
   "source": [
    "### Hypothesis 2: \n",
    "-----------------------\n",
    "## - cuisine\n",
    "\n",
    "#### Load Needed Data"
   ]
  },
  {
   "cell_type": "code",
   "execution_count": 3,
   "metadata": {},
   "outputs": [],
   "source": [
    "dc = pd.read_csv(\"data/dc_restaurants_cuisine.csv\")\n",
    "va = pd.read_csv(\"data/va_restaurants_cuisine.csv\")\n",
    "md = pd.read_csv(\"data/md_restaurants_cuisine.csv\")"
   ]
  },
  {
   "cell_type": "markdown",
   "metadata": {},
   "source": [
    "## Inferential Statistics\n",
    "\n",
    "Use $\\alpha = 0.05$ throughout this notebook.\n",
    "\n",
    "Get helper functions:"
   ]
  },
  {
   "cell_type": "code",
   "execution_count": null,
   "metadata": {},
   "outputs": [],
   "source": [
    "hf = helper_functions.InferentialStatisticsHelperFunctions()"
   ]
  },
  {
   "cell_type": "markdown",
   "metadata": {},
   "source": [
    "### DC\n",
    "**Find the 2 most popular cuisines:**\n",
    "\n",
    "What are the 2 most popular cuisines in DC, based on the \"standardized\" number of reviews? Note: We use review_count to imply popularity."
   ]
  },
  {
   "cell_type": "code",
   "execution_count": null,
   "metadata": {},
   "outputs": [],
   "source": [
    "hf.top_two_cuisines(dc, \"review_count\")"
   ]
  },
  {
   "cell_type": "markdown",
   "metadata": {},
   "source": [
    "----------------------\n",
    "Our candidates are Ramen and Spanish. We want to know if there are statistical differences between these two.<br><br>\n",
    "H0: $\\mu_{Ramen} = \\mu_{Spanish}$<br>\n",
    "H1: $\\mu_{Ramen} \\neq \\mu_{Spanish}$\n",
    "\n",
    "---------------------------"
   ]
  },
  {
   "cell_type": "markdown",
   "metadata": {},
   "source": [
    "## Based upon cuisine study, we found the following: \n",
    "  * Bars have the highest normalized review count in VA and MD \n",
    "  * Bars have the highest normalized rating in MD \n",
    "  * Ramen has the highest normalized review count and normalized rating in DC \n",
    "  \n",
    "  The first cuisine:"
   ]
  },
  {
   "cell_type": "code",
   "execution_count": null,
   "metadata": {},
   "outputs": [],
   "source": [
    "dc_first_review_count, dc_first_rating = hf.get_cuisine(dc, \"Ramen\")"
   ]
  },
  {
   "cell_type": "markdown",
   "metadata": {},
   "source": [
    "The second cuisine:"
   ]
  },
  {
   "cell_type": "code",
   "execution_count": null,
   "metadata": {},
   "outputs": [],
   "source": [
    "dc_second_review_count, dc_second_rating = hf.get_cuisine(dc, \"Spanish\")"
   ]
  },
  {
   "cell_type": "markdown",
   "metadata": {},
   "source": [
    "**Check if the distributions of the two groups follow the normal distribution:**\n",
    "\n",
    "H0: the data was drawn from a normal distribution<br>\n",
    "H1: the data was not drawn from a normal distribution\n",
    "\n",
    "*review_count*"
   ]
  },
  {
   "cell_type": "code",
   "execution_count": null,
   "metadata": {},
   "outputs": [],
   "source": [
    "stats.shapiro(dc_first_review_count)"
   ]
  },
  {
   "cell_type": "code",
   "execution_count": null,
   "metadata": {},
   "outputs": [],
   "source": [
    "stats.shapiro(dc_second_review_count)"
   ]
  },
  {
   "cell_type": "markdown",
   "metadata": {},
   "source": [
    "*rating*"
   ]
  },
  {
   "cell_type": "code",
   "execution_count": null,
   "metadata": {},
   "outputs": [],
   "source": [
    "stats.shapiro(dc_first_rating)"
   ]
  },
  {
   "cell_type": "code",
   "execution_count": null,
   "metadata": {},
   "outputs": [],
   "source": [
    "stats.shapiro(dc_second_rating)"
   ]
  },
  {
   "cell_type": "markdown",
   "metadata": {},
   "source": [
    "Rejecting the null hypotheses leads to normality assumption being violated.\n",
    "\n",
    "**Have to bootstrap:**"
   ]
  },
  {
   "cell_type": "code",
   "execution_count": null,
   "metadata": {},
   "outputs": [],
   "source": [
    "np.random.seed(546435)\n",
    "dc_first_review_count_bs = hf.sampling(dc_first_review_count, 100000, 1000)\n",
    "dc_second_review_count_bs = hf.sampling(dc_second_review_count, 100000, 1000)\n",
    "dc_first_rating_bs = hf.sampling(dc_first_rating, 100000, 1000)\n",
    "dc_second_rating_bs = hf.sampling(dc_second_rating, 100000, 1000)"
   ]
  },
  {
   "cell_type": "markdown",
   "metadata": {},
   "source": [
    "**Check for normality again:**\n",
    "\n",
    "*review_count*"
   ]
  },
  {
   "cell_type": "code",
   "execution_count": null,
   "metadata": {},
   "outputs": [],
   "source": [
    "stats.shapiro(dc_first_review_count_bs)"
   ]
  },
  {
   "cell_type": "code",
   "execution_count": null,
   "metadata": {},
   "outputs": [],
   "source": [
    "stats.shapiro(dc_second_review_count_bs)"
   ]
  },
  {
   "cell_type": "markdown",
   "metadata": {},
   "source": [
    "*rating*"
   ]
  },
  {
   "cell_type": "markdown",
   "metadata": {},
   "source": [
    "Fail to reject the null hypotheses. Good!"
   ]
  },
  {
   "cell_type": "markdown",
   "metadata": {},
   "source": [
    "**Check if the two groups are from populations with equal variances:**"
   ]
  },
  {
   "cell_type": "markdown",
   "metadata": {},
   "source": [
    "*review_count*"
   ]
  },
  {
   "cell_type": "code",
   "execution_count": 16,
   "metadata": {},
   "outputs": [
    {
     "data": {
      "text/plain": [
       "LeveneResult(statistic=13.93471430305082, pvalue=0.0001945633357491114)"
      ]
     },
     "execution_count": 16,
     "metadata": {},
     "output_type": "execute_result"
    }
   ],
   "source": [
    "stats.levene(dc_first_review_count_bs, dc_second_review_count_bs)"
   ]
  },
  {
   "cell_type": "markdown",
   "metadata": {},
   "source": [
    "Rejecting the null hypothesis leads to variance assumption being violated."
   ]
  },
  {
   "cell_type": "markdown",
   "metadata": {},
   "source": [
    "*rating*"
   ]
  },
  {
   "cell_type": "code",
   "execution_count": 17,
   "metadata": {},
   "outputs": [
    {
     "data": {
      "text/plain": [
       "LeveneResult(statistic=1.989322751018498, pvalue=0.15856737164793835)"
      ]
     },
     "execution_count": 17,
     "metadata": {},
     "output_type": "execute_result"
    }
   ],
   "source": [
    "stats.levene(dc_first_rating_bs, dc_second_rating_bs)"
   ]
  },
  {
   "cell_type": "markdown",
   "metadata": {},
   "source": [
    "Fail to reject the null hypothesis. Good!"
   ]
  },
  {
   "cell_type": "markdown",
   "metadata": {},
   "source": [
    "**Desired Inferential Statistics:**"
   ]
  },
  {
   "cell_type": "markdown",
   "metadata": {},
   "source": [
    "Welch’s t-test:<br>\n",
    "We want: Ramen's popularity is not the same as Spanish's popularity."
   ]
  },
  {
   "cell_type": "code",
   "execution_count": 18,
   "metadata": {},
   "outputs": [
    {
     "data": {
      "text/plain": [
       "Ttest_indResult(statistic=597.529963772672, pvalue=0.0)"
      ]
     },
     "execution_count": 18,
     "metadata": {},
     "output_type": "execute_result"
    }
   ],
   "source": [
    "stats.ttest_ind(dc_first_review_count_bs, dc_second_review_count_bs, equal_var=False)"
   ]
  },
  {
   "cell_type": "markdown",
   "metadata": {},
   "source": [
    "Reject the null hypothesis. t-statistic is positive.<br>\n",
    "Ramen wins!"
   ]
  },
  {
   "cell_type": "markdown",
   "metadata": {},
   "source": [
    "t-test:<br>\n",
    "We want: Ramen's rating is not the same as Spanish's rating."
   ]
  },
  {
   "cell_type": "code",
   "execution_count": 19,
   "metadata": {},
   "outputs": [
    {
     "data": {
      "text/plain": [
       "Ttest_indResult(statistic=807.1305078288788, pvalue=0.0)"
      ]
     },
     "execution_count": 19,
     "metadata": {},
     "output_type": "execute_result"
    }
   ],
   "source": [
    "stats.ttest_ind(dc_first_rating_bs, dc_second_rating_bs)"
   ]
  },
  {
   "cell_type": "markdown",
   "metadata": {},
   "source": [
    "Reject the null hypothesis. t-statistic is positive.<br>\n",
    "Ramen wins!"
   ]
  },
  {
   "cell_type": "markdown",
   "metadata": {},
   "source": [
    "**Plot the Two Groups:**"
   ]
  },
  {
   "cell_type": "markdown",
   "metadata": {},
   "source": [
    "*review_count*"
   ]
  },
  {
   "cell_type": "code",
   "execution_count": 20,
   "metadata": {},
   "outputs": [
    {
     "data": {
      "image/png": "[encoded data removed]",
      "text/plain": [
       "<Figure size 432x288 with 1 Axes>"
      ]
     },
     "metadata": {
      "needs_background": "light"
     },
     "output_type": "display_data"
    }
   ],
   "source": [
    "hf.plot_distribution(dc_first_review_count_bs, dc_second_review_count_bs, [\"Ramen\", \"Spanish\"], \"review_count - DC\")"
   ]
  },
  {
   "cell_type": "markdown",
   "metadata": {},
   "source": [
    "*rating*"
   ]
  },
  {
   "cell_type": "code",
   "execution_count": 21,
   "metadata": {},
   "outputs": [
    {
     "data": {
      "image/png": "[encoded data removed]",
      "text/plain": [
       "<Figure size 432x288 with 1 Axes>"
      ]
     },
     "metadata": {
      "needs_background": "light"
     },
     "output_type": "display_data"
    }
   ],
   "source": [
    "hf.plot_distribution(dc_first_rating_bs, dc_second_rating_bs, [\"Ramen\", \"Spanish\"], \"rating - DC\")"
   ]
  },
  {
   "cell_type": "markdown",
   "metadata": {},
   "source": [
    "**Conclusion:** We'd want to open a Ramen restaurant in DC."
   ]
  },
  {
   "cell_type": "markdown",
   "metadata": {},
   "source": [
    "### VA"
   ]
  },
  {
   "cell_type": "markdown",
   "metadata": {},
   "source": [
    "**Find the 2 most popular cuisines:**"
   ]
  },
  {
   "cell_type": "markdown",
   "metadata": {},
   "source": [
    "What are the 2 most popular cuisines in VA, based on the \"standardized\" number of reviews? Note: We use review_count to imply popularity."
   ]
  },
  {
   "cell_type": "code",
   "execution_count": 22,
   "metadata": {},
   "outputs": [
    {
     "name": "stdout",
     "output_type": "stream",
     "text": [
      "Index(['Bars', 'Seafood'], dtype='object', name='cuisine')\n"
     ]
    }
   ],
   "source": [
    "hf.top_two_cuisines(va, \"review_count\")"
   ]
  },
  {
   "cell_type": "markdown",
   "metadata": {},
   "source": [
    "----------------------\n",
    "Our candidates are Bars and Seafood. We want to know if there are statistical differences between these two.<br><br>\n",
    "H0: $\\mu_{Bars} = \\mu_{Seafood}$<br>\n",
    "H1: $\\mu_{Bars} \\neq \\mu_{Seafood}$\n",
    "\n",
    "---------------------------"
   ]
  },
  {
   "cell_type": "markdown",
   "metadata": {},
   "source": [
    "The first cuisine:"
   ]
  },
  {
   "cell_type": "code",
   "execution_count": 23,
   "metadata": {},
   "outputs": [],
   "source": [
    "va_first_review_count, va_first_rating = hf.get_cuisine(va, \"Bars\")"
   ]
  },
  {
   "cell_type": "markdown",
   "metadata": {},
   "source": [
    "The second cuisine:"
   ]
  },
  {
   "cell_type": "code",
   "execution_count": 24,
   "metadata": {},
   "outputs": [],
   "source": [
    "va_second_review_count, va_second_rating = hf.get_cuisine(va, \"Seafood\")"
   ]
  },
  {
   "cell_type": "markdown",
   "metadata": {},
   "source": [
    "**Check if the distributions of the two groups follow the normal distribution:**"
   ]
  },
  {
   "cell_type": "markdown",
   "metadata": {},
   "source": [
    "H0: the data was drawn from a normal distribution<br>\n",
    "H1: the data was not drawn from a normal distribution"
   ]
  },
  {
   "cell_type": "markdown",
   "metadata": {},
   "source": [
    "*review_count*"
   ]
  },
  {
   "cell_type": "code",
   "execution_count": 25,
   "metadata": {},
   "outputs": [
    {
     "data": {
      "text/plain": [
       "(0.8068469166755676, 1.0536710393083126e-10)"
      ]
     },
     "execution_count": 25,
     "metadata": {},
     "output_type": "execute_result"
    }
   ],
   "source": [
    "stats.shapiro(va_first_review_count)"
   ]
  },
  {
   "cell_type": "code",
   "execution_count": 26,
   "metadata": {},
   "outputs": [
    {
     "data": {
      "text/plain": [
       "(0.8101442456245422, 3.754873745265286e-09)"
      ]
     },
     "execution_count": 26,
     "metadata": {},
     "output_type": "execute_result"
    }
   ],
   "source": [
    "stats.shapiro(va_second_review_count)"
   ]
  },
  {
   "cell_type": "markdown",
   "metadata": {},
   "source": [
    "*rating*"
   ]
  },
  {
   "cell_type": "code",
   "execution_count": 27,
   "metadata": {},
   "outputs": [
    {
     "data": {
      "text/plain": [
       "(0.9266953468322754, 1.3774934814136941e-05)"
      ]
     },
     "execution_count": 27,
     "metadata": {},
     "output_type": "execute_result"
    }
   ],
   "source": [
    "stats.shapiro(va_first_rating)"
   ]
  },
  {
   "cell_type": "code",
   "execution_count": 28,
   "metadata": {},
   "outputs": [
    {
     "data": {
      "text/plain": [
       "(0.8725098371505737, 4.7185949370032176e-07)"
      ]
     },
     "execution_count": 28,
     "metadata": {},
     "output_type": "execute_result"
    }
   ],
   "source": [
    "stats.shapiro(va_second_rating)"
   ]
  },
  {
   "cell_type": "markdown",
   "metadata": {},
   "source": [
    "Rejecting the null hypotheses leads to normality assumption being violated."
   ]
  },
  {
   "cell_type": "markdown",
   "metadata": {},
   "source": [
    "**Have to bootstrap:**"
   ]
  },
  {
   "cell_type": "code",
   "execution_count": 29,
   "metadata": {},
   "outputs": [],
   "source": [
    "np.random.seed(314874)\n",
    "va_first_review_count_bs = hf.sampling(va_first_review_count, 100000, 1000)\n",
    "va_second_review_count_bs = hf.sampling(va_second_review_count, 100000, 1000)\n",
    "va_first_rating_bs = hf.sampling(va_first_rating, 100000, 1000)\n",
    "va_second_rating_bs = hf.sampling(va_second_rating, 100000, 1000)"
   ]
  },
  {
   "cell_type": "markdown",
   "metadata": {},
   "source": [
    "**Check for normality again:**"
   ]
  },
  {
   "cell_type": "markdown",
   "metadata": {},
   "source": [
    "*review_count*"
   ]
  },
  {
   "cell_type": "code",
   "execution_count": 30,
   "metadata": {},
   "outputs": [
    {
     "data": {
      "text/plain": [
       "(0.998667299747467, 0.6664901971817017)"
      ]
     },
     "execution_count": 30,
     "metadata": {},
     "output_type": "execute_result"
    }
   ],
   "source": [
    "stats.shapiro(va_first_review_count_bs)"
   ]
  },
  {
   "cell_type": "code",
   "execution_count": 31,
   "metadata": {},
   "outputs": [
    {
     "data": {
      "text/plain": [
       "(0.998412013053894, 0.49850475788116455)"
      ]
     },
     "execution_count": 31,
     "metadata": {},
     "output_type": "execute_result"
    }
   ],
   "source": [
    "stats.shapiro(va_second_review_count_bs)"
   ]
  },
  {
   "cell_type": "markdown",
   "metadata": {},
   "source": [
    "*rating*"
   ]
  },
  {
   "cell_type": "code",
   "execution_count": 32,
   "metadata": {},
   "outputs": [
    {
     "data": {
      "text/plain": [
       "(0.9991390705108643, 0.9347654581069946)"
      ]
     },
     "execution_count": 32,
     "metadata": {},
     "output_type": "execute_result"
    }
   ],
   "source": [
    "stats.shapiro(va_first_rating_bs)"
   ]
  },
  {
   "cell_type": "code",
   "execution_count": 33,
   "metadata": {},
   "outputs": [
    {
     "data": {
      "text/plain": [
       "(0.999219536781311, 0.960389256477356)"
      ]
     },
     "execution_count": 33,
     "metadata": {},
     "output_type": "execute_result"
    }
   ],
   "source": [
    "stats.shapiro(va_second_rating_bs)"
   ]
  },
  {
   "cell_type": "markdown",
   "metadata": {},
   "source": [
    "Fail to reject the null hypotheses. Good!"
   ]
  },
  {
   "cell_type": "markdown",
   "metadata": {},
   "source": [
    "**Check if the two groups are from populations with equal variances:**"
   ]
  },
  {
   "cell_type": "markdown",
   "metadata": {},
   "source": [
    "*review_count*"
   ]
  },
  {
   "cell_type": "code",
   "execution_count": 34,
   "metadata": {},
   "outputs": [
    {
     "data": {
      "text/plain": [
       "LeveneResult(statistic=0.14040278431161762, pvalue=0.7079206841429102)"
      ]
     },
     "execution_count": 34,
     "metadata": {},
     "output_type": "execute_result"
    }
   ],
   "source": [
    "stats.levene(va_first_review_count_bs, va_second_review_count_bs)"
   ]
  },
  {
   "cell_type": "markdown",
   "metadata": {},
   "source": [
    "*rating*"
   ]
  },
  {
   "cell_type": "code",
   "execution_count": 35,
   "metadata": {},
   "outputs": [
    {
     "data": {
      "text/plain": [
       "LeveneResult(statistic=0.3347071435428664, pvalue=0.5629656153001051)"
      ]
     },
     "execution_count": 35,
     "metadata": {},
     "output_type": "execute_result"
    }
   ],
   "source": [
    "stats.levene(va_first_rating_bs, va_second_rating_bs)"
   ]
  },
  {
   "cell_type": "markdown",
   "metadata": {},
   "source": [
    "Fail to reject the null hypotheses. Good!"
   ]
  },
  {
   "cell_type": "markdown",
   "metadata": {},
   "source": [
    "**Desired Inferential Statistics:**"
   ]
  },
  {
   "cell_type": "markdown",
   "metadata": {},
   "source": [
    "t-test:<br>\n",
    "We want: Bars' popularity is not the same as Seafood's popularity."
   ]
  },
  {
   "cell_type": "code",
   "execution_count": 36,
   "metadata": {},
   "outputs": [
    {
     "data": {
      "text/plain": [
       "Ttest_indResult(statistic=757.4645546550039, pvalue=0.0)"
      ]
     },
     "execution_count": 36,
     "metadata": {},
     "output_type": "execute_result"
    }
   ],
   "source": [
    "stats.ttest_ind(va_first_review_count_bs, va_second_review_count_bs)"
   ]
  },
  {
   "cell_type": "markdown",
   "metadata": {},
   "source": [
    "Reject the null hypothesis. t-statistic is positive.<br>\n",
    "Bars wins!"
   ]
  },
  {
   "cell_type": "markdown",
   "metadata": {},
   "source": [
    "t-test:<br>\n",
    "We want: Bars' rating is not the same as Seafood's rating."
   ]
  },
  {
   "cell_type": "code",
   "execution_count": 37,
   "metadata": {},
   "outputs": [
    {
     "data": {
      "text/plain": [
       "Ttest_indResult(statistic=-774.3715293190149, pvalue=0.0)"
      ]
     },
     "execution_count": 37,
     "metadata": {},
     "output_type": "execute_result"
    }
   ],
   "source": [
    "stats.ttest_ind(va_first_rating_bs, va_second_rating_bs)"
   ]
  },
  {
   "cell_type": "markdown",
   "metadata": {},
   "source": [
    "Reject the null hypothesis. t-statistic is negative.<br>\n",
    "Seafood wins!"
   ]
  },
  {
   "cell_type": "markdown",
   "metadata": {},
   "source": [
    "**Plot the Two Groups:**"
   ]
  },
  {
   "cell_type": "markdown",
   "metadata": {},
   "source": [
    "*review_count*"
   ]
  },
  {
   "cell_type": "code",
   "execution_count": 38,
   "metadata": {
    "scrolled": true
   },
   "outputs": [
    {
     "data": {
      "image/png": "[encoded data removed]",
      "text/plain": [
       "<Figure size 432x288 with 1 Axes>"
      ]
     },
     "metadata": {
      "needs_background": "light"
     },
     "output_type": "display_data"
    }
   ],
   "source": [
    "hf.plot_distribution(va_first_review_count_bs, va_second_review_count_bs, [\"Bars\", \"Seafood\"], \"review_count - VA\")"
   ]
  },
  {
   "cell_type": "markdown",
   "metadata": {},
   "source": [
    "**Conclusion:** Bars have more traffic but rating favors Seafood restaurants."
   ]
  },
  {
   "cell_type": "markdown",
   "metadata": {},
   "source": [
    "*rating*"
   ]
  },
  {
   "cell_type": "code",
   "execution_count": 39,
   "metadata": {},
   "outputs": [
    {
     "data": {
      "image/png": "[encoded data removed]",
      "text/plain": [
       "<Figure size 432x288 with 1 Axes>"
      ]
     },
     "metadata": {
      "needs_background": "light"
     },
     "output_type": "display_data"
    }
   ],
   "source": [
    "hf.plot_distribution(va_first_rating_bs, va_second_rating_bs, [\"Bars\", \"Seafood\"], \"rating - VA\")"
   ]
  },
  {
   "cell_type": "markdown",
   "metadata": {},
   "source": [
    "### MD"
   ]
  },
  {
   "cell_type": "markdown",
   "metadata": {},
   "source": [
    "**Find the 2 most popular cuisines:**"
   ]
  },
  {
   "cell_type": "markdown",
   "metadata": {},
   "source": [
    "What are the 2 most popular cuisines in MD, based on the \"standardized\" number of reviews? Note: We use review_count to imply popularity."
   ]
  },
  {
   "cell_type": "code",
   "execution_count": 40,
   "metadata": {},
   "outputs": [
    {
     "name": "stdout",
     "output_type": "stream",
     "text": [
      "Index(['Bars', 'American (New)'], dtype='object', name='cuisine')\n"
     ]
    }
   ],
   "source": [
    "hf.top_two_cuisines(md, \"review_count\")"
   ]
  },
  {
   "cell_type": "markdown",
   "metadata": {},
   "source": [
    "----------------------\n",
    "Our candidates are Bars and American (New). We want to know if there are statistical differences between these two.<br><br>\n",
    "H0: $\\mu_{Bars} = \\mu_{American (New)}$<br>\n",
    "H1: $\\mu_{Bars} \\neq \\mu_{American (New)}$\n",
    "\n",
    "---------------------------"
   ]
  },
  {
   "cell_type": "markdown",
   "metadata": {},
   "source": [
    "The first cuisine:"
   ]
  },
  {
   "cell_type": "code",
   "execution_count": 41,
   "metadata": {},
   "outputs": [],
   "source": [
    "md_first_review_count, md_first_rating = hf.get_cuisine(md, \"Bars\")"
   ]
  },
  {
   "cell_type": "markdown",
   "metadata": {},
   "source": [
    "The second cuisine:"
   ]
  },
  {
   "cell_type": "code",
   "execution_count": 42,
   "metadata": {},
   "outputs": [],
   "source": [
    "md_second_review_count, md_second_rating = hf.get_cuisine(md, \"American (New)\")"
   ]
  },
  {
   "cell_type": "markdown",
   "metadata": {},
   "source": [
    "**Check if the distributions of the two groups follow the normal distribution:**"
   ]
  },
  {
   "cell_type": "markdown",
   "metadata": {},
   "source": [
    "H0: the data was drawn from a normal distribution<br>\n",
    "H1: the data was not drawn from a normal distribution"
   ]
  },
  {
   "cell_type": "markdown",
   "metadata": {},
   "source": [
    "*review_count*"
   ]
  },
  {
   "cell_type": "code",
   "execution_count": 43,
   "metadata": {},
   "outputs": [
    {
     "data": {
      "text/plain": [
       "(0.6900336742401123, 1.3818322042169484e-09)"
      ]
     },
     "execution_count": 43,
     "metadata": {},
     "output_type": "execute_result"
    }
   ],
   "source": [
    "stats.shapiro(md_first_review_count)"
   ]
  },
  {
   "cell_type": "code",
   "execution_count": 44,
   "metadata": {},
   "outputs": [
    {
     "data": {
      "text/plain": [
       "(0.6912879943847656, 1.3027578148194774e-12)"
      ]
     },
     "execution_count": 44,
     "metadata": {},
     "output_type": "execute_result"
    }
   ],
   "source": [
    "stats.shapiro(md_second_review_count)"
   ]
  },
  {
   "cell_type": "markdown",
   "metadata": {},
   "source": [
    "*rating*"
   ]
  },
  {
   "cell_type": "code",
   "execution_count": 45,
   "metadata": {},
   "outputs": [
    {
     "data": {
      "text/plain": [
       "(0.9410432577133179, 0.008609042502939701)"
      ]
     },
     "execution_count": 45,
     "metadata": {},
     "output_type": "execute_result"
    }
   ],
   "source": [
    "stats.shapiro(md_first_rating)"
   ]
  },
  {
   "cell_type": "code",
   "execution_count": 46,
   "metadata": {},
   "outputs": [
    {
     "data": {
      "text/plain": [
       "(0.9171949028968811, 2.141371078323573e-05)"
      ]
     },
     "execution_count": 46,
     "metadata": {},
     "output_type": "execute_result"
    }
   ],
   "source": [
    "stats.shapiro(md_second_rating)"
   ]
  },
  {
   "cell_type": "markdown",
   "metadata": {},
   "source": [
    "Rejecting the null hypotheses leads to normality assumption being violated."
   ]
  },
  {
   "cell_type": "markdown",
   "metadata": {},
   "source": [
    "**Have to bootstrap:**"
   ]
  },
  {
   "cell_type": "code",
   "execution_count": 47,
   "metadata": {},
   "outputs": [],
   "source": [
    "np.random.seed(35457)\n",
    "md_first_review_count_bs = hf.sampling(md_first_review_count, 100000, 1000)\n",
    "md_second_review_count_bs = hf.sampling(md_second_review_count, 100000, 1000)\n",
    "md_first_rating_bs = hf.sampling(md_first_rating, 100000, 1000)\n",
    "md_second_rating_bs = hf.sampling(md_second_rating, 100000, 1000)"
   ]
  },
  {
   "cell_type": "markdown",
   "metadata": {},
   "source": [
    "**Check for normality again:**"
   ]
  },
  {
   "cell_type": "markdown",
   "metadata": {},
   "source": [
    "*review_count*"
   ]
  },
  {
   "cell_type": "code",
   "execution_count": 48,
   "metadata": {},
   "outputs": [
    {
     "data": {
      "text/plain": [
       "(0.9992197751998901, 0.9604592323303223)"
      ]
     },
     "execution_count": 48,
     "metadata": {},
     "output_type": "execute_result"
    }
   ],
   "source": [
    "stats.shapiro(md_first_review_count_bs)"
   ]
  },
  {
   "cell_type": "code",
   "execution_count": 49,
   "metadata": {},
   "outputs": [
    {
     "data": {
      "text/plain": [
       "(0.9986486434936523, 0.6538873314857483)"
      ]
     },
     "execution_count": 49,
     "metadata": {},
     "output_type": "execute_result"
    }
   ],
   "source": [
    "stats.shapiro(md_second_review_count_bs)"
   ]
  },
  {
   "cell_type": "markdown",
   "metadata": {},
   "source": [
    "*rating*"
   ]
  },
  {
   "cell_type": "code",
   "execution_count": 50,
   "metadata": {},
   "outputs": [
    {
     "data": {
      "text/plain": [
       "(0.9986286759376526, 0.6403818726539612)"
      ]
     },
     "execution_count": 50,
     "metadata": {},
     "output_type": "execute_result"
    }
   ],
   "source": [
    "stats.shapiro(md_first_rating_bs)"
   ]
  },
  {
   "cell_type": "code",
   "execution_count": 51,
   "metadata": {},
   "outputs": [
    {
     "data": {
      "text/plain": [
       "(0.9983735680580139, 0.4748717248439789)"
      ]
     },
     "execution_count": 51,
     "metadata": {},
     "output_type": "execute_result"
    }
   ],
   "source": [
    "stats.shapiro(md_second_rating_bs)"
   ]
  },
  {
   "cell_type": "markdown",
   "metadata": {},
   "source": [
    "Fail to reject the null hypotheses. Good!"
   ]
  },
  {
   "cell_type": "markdown",
   "metadata": {},
   "source": [
    "**Check if the two groups are from populations with equal variances:**"
   ]
  },
  {
   "cell_type": "markdown",
   "metadata": {},
   "source": [
    "*review_count*"
   ]
  },
  {
   "cell_type": "code",
   "execution_count": 52,
   "metadata": {},
   "outputs": [
    {
     "data": {
      "text/plain": [
       "LeveneResult(statistic=3.1097143410194996, pvalue=0.07797943583985648)"
      ]
     },
     "execution_count": 52,
     "metadata": {},
     "output_type": "execute_result"
    }
   ],
   "source": [
    "stats.levene(md_first_review_count_bs, md_second_review_count_bs)"
   ]
  },
  {
   "cell_type": "markdown",
   "metadata": {},
   "source": [
    "Fail to reject the null hypothesis. Good!"
   ]
  },
  {
   "cell_type": "markdown",
   "metadata": {},
   "source": [
    "*rating*"
   ]
  },
  {
   "cell_type": "code",
   "execution_count": 53,
   "metadata": {},
   "outputs": [
    {
     "data": {
      "text/plain": [
       "LeveneResult(statistic=12.365938167164519, pvalue=0.0004469930215481184)"
      ]
     },
     "execution_count": 53,
     "metadata": {},
     "output_type": "execute_result"
    }
   ],
   "source": [
    "stats.levene(md_first_rating_bs, md_second_rating_bs)"
   ]
  },
  {
   "cell_type": "markdown",
   "metadata": {},
   "source": [
    "Rejecting the null hypothesis leads to variance assumption being violated."
   ]
  },
  {
   "cell_type": "markdown",
   "metadata": {},
   "source": [
    "**Desired Inferential Statistics:**"
   ]
  },
  {
   "cell_type": "markdown",
   "metadata": {},
   "source": [
    "t-test:<br>\n",
    "We want: Bars' popularity is not the same as American (New)'s popularity."
   ]
  },
  {
   "cell_type": "code",
   "execution_count": 54,
   "metadata": {},
   "outputs": [
    {
     "data": {
      "text/plain": [
       "Ttest_indResult(statistic=1011.6349050663866, pvalue=0.0)"
      ]
     },
     "execution_count": 54,
     "metadata": {},
     "output_type": "execute_result"
    }
   ],
   "source": [
    "stats.ttest_ind(md_first_review_count_bs, md_second_review_count_bs)"
   ]
  },
  {
   "cell_type": "markdown",
   "metadata": {},
   "source": [
    "Reject the null hypothesis. t-statistic is positive.<br>\n",
    "Bars wins!"
   ]
  },
  {
   "cell_type": "markdown",
   "metadata": {},
   "source": [
    "Welch’s t-test:<br>\n",
    "We want: Bars' rating is not the same as American (New)'s rating."
   ]
  },
  {
   "cell_type": "code",
   "execution_count": 55,
   "metadata": {},
   "outputs": [
    {
     "data": {
      "text/plain": [
       "Ttest_indResult(statistic=853.6946379107173, pvalue=0.0)"
      ]
     },
     "execution_count": 55,
     "metadata": {},
     "output_type": "execute_result"
    }
   ],
   "source": [
    "stats.ttest_ind(md_first_rating_bs, md_second_rating_bs, equal_var=False)"
   ]
  },
  {
   "cell_type": "markdown",
   "metadata": {},
   "source": [
    "Reject the null hypothesis. t-statistic is positive.<br>\n",
    "Bars wins!"
   ]
  },
  {
   "cell_type": "markdown",
   "metadata": {},
   "source": [
    "**Plot the Two Groups:**"
   ]
  },
  {
   "cell_type": "markdown",
   "metadata": {},
   "source": [
    "*review_count*"
   ]
  },
  {
   "cell_type": "code",
   "execution_count": 56,
   "metadata": {},
   "outputs": [
    {
     "data": {
      "image/png": "[encoded data removed]",
      "text/plain": [
       "<Figure size 432x288 with 1 Axes>"
      ]
     },
     "metadata": {
      "needs_background": "light"
     },
     "output_type": "display_data"
    }
   ],
   "source": [
    "hf.plot_distribution(md_first_review_count_bs, md_second_review_count_bs, [\"Bars\", \"American (New)\"], \"review_count - MD\")"
   ]
  },
  {
   "cell_type": "markdown",
   "metadata": {},
   "source": [
    "*rating*"
   ]
  },
  {
   "cell_type": "code",
   "execution_count": 57,
   "metadata": {},
   "outputs": [
    {
     "data": {
      "image/png": "[encoded data removed]",
      "text/plain": [
       "<Figure size 432x288 with 1 Axes>"
      ]
     },
     "metadata": {
      "needs_background": "light"
     },
     "output_type": "display_data"
    }
   ],
   "source": [
    "hf.plot_distribution(md_first_rating_bs, md_second_rating_bs, [\"Bars\", \"American (New)\"], \"rating - MD\")"
   ]
  },
  {
   "cell_type": "markdown",
   "metadata": {},
   "source": [
    "**Conclusion:** We'd want to open a bar in MD."
   ]
  },
  {
   "cell_type": "markdown",
   "metadata": {},
   "source": [
    "**Conclusion:** Bars have more traffic but rating favors Seafood restaurants."
   ]
  },
  {
   "cell_type": "markdown",
   "metadata": {},
   "source": [
    "## After hypothesis I and II:\n",
    "### We will first filter out ramen and bars and look at if there are any correlation between location and ramen vs bars "
   ]
  },
  {
   "cell_type": "code",
   "execution_count": 10,
   "metadata": {},
   "outputs": [
    {
     "data": {
      "text/plain": [
       "'fail to reject Null Hypothesis'"
      ]
     },
     "execution_count": 10,
     "metadata": {},
     "output_type": "execute_result"
    }
   ],
   "source": [
    "# split category combo into separate rows\n",
    "table = hf.split_rows(df_location_price,'Lat', 'categories', '|')\n",
    "table = table.rename(columns = {'index': 'category', 0: 'Lat'})\n",
    "# join table \n",
    "mergedtable = pd.merge(df_location_price,table, on = 'Lat')\n",
    "# filter out only bars and ramen \n",
    "filtered_df = mergedtable[(mergedtable.category=='Bars')|(mergedtable.category =='Ramen')]\n",
    "statisticaltests.chisquare_test(filtered_df, 'state','category')"
   ]
  },
  {
   "cell_type": "markdown",
   "metadata": {},
   "source": [
    "### Chisquare independence test result:\n",
    "  * Null Hypothesis says no correlation between category and state \n",
    "  * alternative hypthesis says there are some influence between state and category of food \n",
    "  * we fail to reject null hypothesis so we conclude no correlation between location and ramen or bars"
   ]
  },
  {
   "cell_type": "markdown",
   "metadata": {},
   "source": [
    "## Hypothesis 3:\n",
    "  * prices:\\\\$ to \\\\$\\\\$ and \\\\$\\\\$\\\\$ to \\\\$\\\\$\\\\$\\\\$\n",
    "  * metrics:  \n",
    "    * review_counts (proxy for customer traffic)\n",
    "    * yelp review rating \n",
    "  * Null Hypothesis: there are no differences between \\\\$ to \\\\$\\\\$ and \\\\$\\\\$\\\\$ to \\\\$\\\\$\\\\$\\\\$\n",
    "  * method: welch's T test \n",
    "    * check for welch's T test assumption:  \n",
    "        * Normality\n",
    "\n",
    "### First we will look at how price works across all locations and restaurants \n",
    "  * we replaced the null price values with 3 methods:\n",
    "    * median price \n",
    "    * random value with proportions of the price distribution \n",
    "    * remove null price \n",
    "  * compare results "
   ]
  },
  {
   "cell_type": "code",
   "execution_count": 11,
   "metadata": {},
   "outputs": [],
   "source": [
    "# import location and price df for random, remove na,and median from datacleaning \n",
    "# use median to replace null price values\n",
    "df_median = pd.read_pickle('data/median_price.pkl')  \n",
    "# use np random to replace null price values\n",
    "df_random = pd.read_pickle('data/random_price.pkl')  \n",
    "# remove null price values \n",
    "df_na = pd.read_pickle('data/na_remove.pkl')"
   ]
  },
  {
   "cell_type": "code",
   "execution_count": 12,
   "metadata": {},
   "outputs": [],
   "source": [
    "# generate 3 groups of DC, VA, MD for all three price df \n",
    "median_df = hf.splitgroups(df_median, 'state', group_name)\n",
    "na_df = hf.splitgroups(df_na, 'state',group_name)\n",
    "random_df = hf.splitgroups(df_random, 'state',group_name)"
   ]
  },
  {
   "cell_type": "code",
   "execution_count": 13,
   "metadata": {},
   "outputs": [
    {
     "data": {
      "image/png": "[encoded data removed]",
      "text/plain": [
       "<Figure size 576x432 with 4 Axes>"
      ]
     },
     "metadata": {
      "needs_background": "light"
     },
     "output_type": "display_data"
    }
   ],
   "source": [
    "# check for price distribution visualization comparsion \n",
    "hf.plothist(df_median,median_df) "
   ]
  },
  {
   "cell_type": "code",
   "execution_count": 14,
   "metadata": {},
   "outputs": [
    {
     "data": {
      "image/png": "[encoded data removed]",
      "text/plain": [
       "<Figure size 576x432 with 4 Axes>"
      ]
     },
     "metadata": {
      "needs_background": "light"
     },
     "output_type": "display_data"
    }
   ],
   "source": [
    "hf.plothist(df_na, na_df)\n",
    "# similar distribution across all "
   ]
  },
  {
   "cell_type": "code",
   "execution_count": 15,
   "metadata": {
    "scrolled": false
   },
   "outputs": [
    {
     "data": {
      "image/png": "[encoded data removed]",
      "text/plain": [
       "<Figure size 576x432 with 4 Axes>"
      ]
     },
     "metadata": {
      "needs_background": "light"
     },
     "output_type": "display_data"
    }
   ],
   "source": [
    "hf.plothist(df_random,random_df)\n",
    "# distributions the same all across "
   ]
  },
  {
   "cell_type": "markdown",
   "metadata": {},
   "source": [
    "### All three NA price method seem to produce similar price range distribution \n",
    "\n",
    "### We will split price into 2 groups of above \\\\$\\\\$ and below \\\\$\\\\$\n",
    "  * perform welch T test \n",
    "    * first check normality "
   ]
  },
  {
   "cell_type": "code",
   "execution_count": 16,
   "metadata": {
    "scrolled": true
   },
   "outputs": [
    {
     "name": "stdout",
     "output_type": "stream",
     "text": [
      "median_df:\n",
      "\n",
      "                       DC          MD          VA\n",
      "rating        not normal  not normal  not normal\n",
      "review_count  not normal  not normal  not normal\n",
      "na_df:\n",
      "\n",
      "                       DC          MD          VA\n",
      "rating        not normal  not normal  not normal\n",
      "review_count  not normal  not normal  not normal\n",
      "random_df:\n",
      "\n",
      "                       DC          MD          VA\n",
      "rating        not normal  not normal  not normal\n",
      "review_count  not normal  not normal  not normal\n"
     ]
    }
   ],
   "source": [
    "print('median_df:\\n\\n', statisticaltests.normality_tests(\n",
    "    median_df, group_name, ['review_count', 'rating']))\n",
    "print('na_df:\\n\\n', statisticaltests.normality_tests(\n",
    "    na_df, group_name, ['review_count', 'rating']))\n",
    "print('random_df:\\n\\n', statisticaltests.normality_tests(\n",
    "    random_df, group_name, ['review_count', 'rating']))"
   ]
  },
  {
   "cell_type": "markdown",
   "metadata": {},
   "source": [
    "### None are normally distributed \n",
    "#### Use central limit thereom and perform bootstrap sampling \n",
    "  * first split each data into high low price range for comparison \n",
    "  * bootstrap for each group \n",
    "  * perform welch T test (assume unequal variance)"
   ]
  },
  {
   "cell_type": "code",
   "execution_count": 17,
   "metadata": {},
   "outputs": [
    {
     "name": "stdout",
     "output_type": "stream",
     "text": [
      "df_median review_count:\n",
      "$$$-$$$$ appears to statistically perform better than $-$$\n",
      "df_na review_count:\n",
      "$$$-$$$$ appears to statistically perform better than $-$$\n",
      "df_random review_count:\n",
      "$$$-$$$$ appears to statistically perform better than $-$$\n"
     ]
    }
   ],
   "source": [
    "names = ['$$$-$$$$','$-$$']\n",
    "print ('df_median review_count:')\n",
    "print(statisticaltests.price_welcht(df_median,'price',2,'review_count',100,100000,names))\n",
    "print ('df_na review_count:')\n",
    "print(statisticaltests.price_welcht(df_na,'price',2,'review_count',100,100000,names))\n",
    "print ('df_random review_count:')\n",
    "print(statisticaltests.price_welcht(df_random,'price',2,'review_count',100,100000,names))"
   ]
  },
  {
   "cell_type": "code",
   "execution_count": 18,
   "metadata": {
    "scrolled": true
   },
   "outputs": [
    {
     "name": "stdout",
     "output_type": "stream",
     "text": [
      "df_median rating:\n",
      "$$$-$$$$ appears to statistically perform better than $-$$\n",
      "df_na rating:\n",
      "$$$-$$$$ appears to statistically perform better than $-$$\n",
      "df_random rating:\n",
      "$$$-$$$$ appears to statistically perform better than $-$$\n"
     ]
    }
   ],
   "source": [
    "names = ['$$$-$$$$','$-$$']\n",
    "print ('df_median rating:')\n",
    "print(statisticaltests.price_welcht(df_median,'price',2,'rating',100,100000,names))\n",
    "print ('df_na rating:')\n",
    "print(statisticaltests.price_welcht(df_na,'price',2,'rating',100,100000,names))\n",
    "print ('df_random rating:')\n",
    "print(statisticaltests.price_welcht(df_random,'price',2,'rating',100,100000,names))"
   ]
  },
  {
   "cell_type": "markdown",
   "metadata": {},
   "source": [
    "### Let's focus on MD and focus on bars "
   ]
  },
  {
   "cell_type": "code",
   "execution_count": 23,
   "metadata": {},
   "outputs": [],
   "source": [
    "# look at maryland and bar only \n",
    "mask = (mergedtable.category == 'Bars') & (mergedtable.state =='MD')\n",
    "MD_bars = mergedtable[mask]\n",
    "# fill the value with np.random \n",
    "np.random.seed(42)\n",
    "proportions = MD_bars.price.value_counts(normalize=True)\n",
    "rows = []\n",
    "for i, row in MD_bars[MD_bars.price.isnull()].iterrows():\n",
    "    rows.append(np.random.choice(\n",
    "        a=proportions.index, replace=True, p=proportions))\n",
    "MD_bars.price[MD_bars.price.isnull()] = rows\n",
    "MD_bars.price = MD_bars.price.astype('int')"
   ]
  },
  {
   "cell_type": "code",
   "execution_count": 27,
   "metadata": {},
   "outputs": [
    {
     "name": "stdout",
     "output_type": "stream",
     "text": [
      "review_count welch t test:\n",
      "$$$-$$$$ appears to statistically perform better than $-$$\n",
      "rating welch t test\n",
      "$$$-$$$$ appears to statistically perform better than $-$$\n"
     ]
    }
   ],
   "source": [
    "np.random.seed(100)\n",
    "print('review_count welch t test:')\n",
    "print(statisticaltests.price_welcht(MD_bars, 'price', 2,\n",
    "                                    'review_count', 50, 100000, ['$$$-$$$$', '$-$$']))\n",
    "print('rating welch t test')\n",
    "print(statisticaltests.price_welcht(MD_bars, 'price',\n",
    "                                    2, 'rating', 50, 100000, ['$$$-$$$$', '$-$$']))"
   ]
  },
  {
   "cell_type": "markdown",
   "metadata": {},
   "source": [
    "### Welch T test result for price tag:\n",
    "  * all category of foods and all 3 locations:\n",
    "    * all 3 price na fill value provide the same result:\n",
    "      * reject Null Hypothesis \n",
    "      * higher than \\\\$\\\\$ performs better in both rating and review_count  \n",
    "  * looking at MD and Bar (using np.random with proportion to fill):  \n",
    "      * reject Null Hypothesis \n",
    "      * higher than \\\\$\\\\$ performs better in both rating and review_count"
   ]
  },
  {
   "cell_type": "markdown",
   "metadata": {},
   "source": [
    "### Visualization of the MD_bar high low price rating and review count distribution\n",
    "  * bootstrap sampling from original samples. "
   ]
  },
  {
   "cell_type": "code",
   "execution_count": 25,
   "metadata": {},
   "outputs": [
    {
     "data": {
      "image/png": "[encoded data removed]",
      "text/plain": [
       "<Figure size 432x288 with 1 Axes>"
      ]
     },
     "metadata": {
      "needs_background": "light"
     },
     "output_type": "display_data"
    }
   ],
   "source": [
    "np.random.seed(20)\n",
    "price_splits_rt = hf.samples(MD_bars, 'price', 2, 'rating')\n",
    "price_high_rt = statisticaltests.sampling(price_splits_rt[0],50,100000)\n",
    "price_low_rt = statisticaltests.sampling(price_splits_rt[1],50,100000)\n",
    "statisticaltests.plot_distribution(price_high_rt,price_low_rt, [' High Price','Low Price'],featurename='Rating')"
   ]
  },
  {
   "cell_type": "code",
   "execution_count": 26,
   "metadata": {
    "scrolled": true
   },
   "outputs": [
    {
     "data": {
      "image/png": "[encoded data removed]",
      "text/plain": [
       "<Figure size 432x288 with 1 Axes>"
      ]
     },
     "metadata": {
      "needs_background": "light"
     },
     "output_type": "display_data"
    }
   ],
   "source": [
    "np.random.seed(18)\n",
    "price_splits_re = hf.samples(MD_bars, 'price', 2, 'review_count')\n",
    "price_high_re = statisticaltests.sampling(price_splits_re[0],50,100000)\n",
    "price_low_re = statisticaltests.sampling(price_splits_re[1],50,100000)\n",
    "statisticaltests.plot_distribution(price_high_re,price_low_re, [' High Price','Low Price'],'Review Count')"
   ]
  },
  {
   "cell_type": "markdown",
   "metadata": {},
   "source": [
    "---------------------------------\n",
    "## - open_pass_midnight\n",
    "We have decided to run a bar in MD. Should we open pass midnight or should we close early?"
   ]
  },
  {
   "cell_type": "markdown",
   "metadata": {},
   "source": [
    "**Create 2 data sets:**\n",
    "\n",
    "- bars in MD, open pass midnight\n",
    "- bars in MD, closed before midnight"
   ]
  },
  {
   "cell_type": "code",
   "execution_count": 58,
   "metadata": {},
   "outputs": [],
   "source": [
    "pass_midnight_review_count, pass_midnight_rating, not_pass_midnight_review_count, not_pass_midnight_rating = hf.get_bars_open_info(md)"
   ]
  },
  {
   "cell_type": "markdown",
   "metadata": {},
   "source": [
    "**Check if the distributions of the two groups follow the normal distribution:**"
   ]
  },
  {
   "cell_type": "markdown",
   "metadata": {},
   "source": [
    "H0: the data was drawn from a normal distribution<br>\n",
    "H1: the data was not drawn from a normal distribution"
   ]
  },
  {
   "cell_type": "markdown",
   "metadata": {},
   "source": [
    "*review_count*"
   ]
  },
  {
   "cell_type": "code",
   "execution_count": 59,
   "metadata": {},
   "outputs": [
    {
     "data": {
      "text/plain": [
       "(0.8629341125488281, 0.007154344115406275)"
      ]
     },
     "execution_count": 59,
     "metadata": {},
     "output_type": "execute_result"
    }
   ],
   "source": [
    "stats.shapiro(pass_midnight_review_count)"
   ]
  },
  {
   "cell_type": "code",
   "execution_count": 60,
   "metadata": {},
   "outputs": [
    {
     "data": {
      "text/plain": [
       "(0.6778969764709473, 1.7195308998907421e-07)"
      ]
     },
     "execution_count": 60,
     "metadata": {},
     "output_type": "execute_result"
    }
   ],
   "source": [
    "stats.shapiro(not_pass_midnight_review_count)"
   ]
  },
  {
   "cell_type": "markdown",
   "metadata": {},
   "source": [
    "*rating*"
   ]
  },
  {
   "cell_type": "code",
   "execution_count": 61,
   "metadata": {},
   "outputs": [
    {
     "data": {
      "text/plain": [
       "(0.9260075688362122, 0.11447566747665405)"
      ]
     },
     "execution_count": 61,
     "metadata": {},
     "output_type": "execute_result"
    }
   ],
   "source": [
    "stats.shapiro(pass_midnight_rating)"
   ]
  },
  {
   "cell_type": "code",
   "execution_count": 62,
   "metadata": {},
   "outputs": [
    {
     "data": {
      "text/plain": [
       "(0.8766323328018188, 0.0009863132145255804)"
      ]
     },
     "execution_count": 62,
     "metadata": {},
     "output_type": "execute_result"
    }
   ],
   "source": [
    "stats.shapiro(not_pass_midnight_rating)"
   ]
  },
  {
   "cell_type": "markdown",
   "metadata": {},
   "source": [
    "**Bootstrap:**"
   ]
  },
  {
   "cell_type": "code",
   "execution_count": 63,
   "metadata": {},
   "outputs": [],
   "source": [
    "np.random.seed(45984531)\n",
    "pass_midnight_review_count_bs = hf.sampling(pass_midnight_review_count, 100000, 1000)\n",
    "not_pass_midnight_review_count_bs = hf.sampling(not_pass_midnight_review_count, 100000, 1000)\n",
    "pass_midnight_rating_bs = hf.sampling(pass_midnight_rating, 100000, 1000)\n",
    "not_pass_midnight_rating_bs = hf.sampling(not_pass_midnight_rating, 100000, 1000)"
   ]
  },
  {
   "cell_type": "markdown",
   "metadata": {},
   "source": [
    "**Check for normality again:**"
   ]
  },
  {
   "cell_type": "markdown",
   "metadata": {},
   "source": [
    "*review_count*"
   ]
  },
  {
   "cell_type": "code",
   "execution_count": 64,
   "metadata": {},
   "outputs": [
    {
     "data": {
      "text/plain": [
       "(0.9987057447433472, 0.6924406290054321)"
      ]
     },
     "execution_count": 64,
     "metadata": {},
     "output_type": "execute_result"
    }
   ],
   "source": [
    "stats.shapiro(pass_midnight_review_count_bs)"
   ]
  },
  {
   "cell_type": "code",
   "execution_count": 65,
   "metadata": {},
   "outputs": [
    {
     "data": {
      "text/plain": [
       "(0.9987625479698181, 0.7303594946861267)"
      ]
     },
     "execution_count": 65,
     "metadata": {},
     "output_type": "execute_result"
    }
   ],
   "source": [
    "stats.shapiro(not_pass_midnight_review_count_bs)"
   ]
  },
  {
   "cell_type": "markdown",
   "metadata": {},
   "source": [
    "*rating*"
   ]
  },
  {
   "cell_type": "code",
   "execution_count": 66,
   "metadata": {},
   "outputs": [
    {
     "data": {
      "text/plain": [
       "(0.998740553855896, 0.715727686882019)"
      ]
     },
     "execution_count": 66,
     "metadata": {},
     "output_type": "execute_result"
    }
   ],
   "source": [
    "stats.shapiro(pass_midnight_rating_bs)"
   ]
  },
  {
   "cell_type": "code",
   "execution_count": 67,
   "metadata": {},
   "outputs": [
    {
     "data": {
      "text/plain": [
       "(0.9971408843994141, 0.07214023172855377)"
      ]
     },
     "execution_count": 67,
     "metadata": {},
     "output_type": "execute_result"
    }
   ],
   "source": [
    "stats.shapiro(not_pass_midnight_rating_bs)"
   ]
  },
  {
   "cell_type": "markdown",
   "metadata": {},
   "source": [
    "Fail to reject the null hypotheses. Good!"
   ]
  },
  {
   "cell_type": "markdown",
   "metadata": {},
   "source": [
    "**Check if the two groups are from populations with equal variances:**"
   ]
  },
  {
   "cell_type": "markdown",
   "metadata": {},
   "source": [
    "*review_count*"
   ]
  },
  {
   "cell_type": "code",
   "execution_count": 68,
   "metadata": {},
   "outputs": [
    {
     "data": {
      "text/plain": [
       "LeveneResult(statistic=289.8198016346828, pvalue=8.535837781318509e-61)"
      ]
     },
     "execution_count": 68,
     "metadata": {},
     "output_type": "execute_result"
    }
   ],
   "source": [
    "stats.levene(pass_midnight_review_count_bs, not_pass_midnight_review_count_bs)"
   ]
  },
  {
   "cell_type": "markdown",
   "metadata": {},
   "source": [
    "*rating*"
   ]
  },
  {
   "cell_type": "code",
   "execution_count": 69,
   "metadata": {},
   "outputs": [
    {
     "data": {
      "text/plain": [
       "LeveneResult(statistic=60.093135959589276, pvalue=1.4298654424913025e-14)"
      ]
     },
     "execution_count": 69,
     "metadata": {},
     "output_type": "execute_result"
    }
   ],
   "source": [
    "stats.levene(pass_midnight_rating_bs, not_pass_midnight_rating_bs)"
   ]
  },
  {
   "cell_type": "markdown",
   "metadata": {},
   "source": [
    "Rejecting the null hypothesis leads to variance assumption being violated."
   ]
  },
  {
   "cell_type": "markdown",
   "metadata": {},
   "source": [
    "**Desired Inferential Statistics:**"
   ]
  },
  {
   "cell_type": "markdown",
   "metadata": {},
   "source": [
    "Welch’s t-test:<br>\n",
    "We want: pass_midnight's review_count is not the same as not_pass_midnight's review_count."
   ]
  },
  {
   "cell_type": "code",
   "execution_count": 70,
   "metadata": {},
   "outputs": [
    {
     "data": {
      "text/plain": [
       "Ttest_indResult(statistic=-2383.4886945376957, pvalue=0.0)"
      ]
     },
     "execution_count": 70,
     "metadata": {},
     "output_type": "execute_result"
    }
   ],
   "source": [
    "stats.ttest_ind(pass_midnight_review_count_bs, not_pass_midnight_review_count_bs, equal_var=False)"
   ]
  },
  {
   "cell_type": "markdown",
   "metadata": {},
   "source": [
    "Reject the null hypothesis. t-statistic is negative.<br>\n",
    "not_pass_midnight wins!"
   ]
  },
  {
   "cell_type": "markdown",
   "metadata": {},
   "source": [
    "Welch’s t-test:<br>\n",
    "We want: pass_midnight's rating is not the same as not_pass_midnight's rating."
   ]
  },
  {
   "cell_type": "code",
   "execution_count": 71,
   "metadata": {},
   "outputs": [
    {
     "data": {
      "text/plain": [
       "Ttest_indResult(statistic=-4237.331040257049, pvalue=0.0)"
      ]
     },
     "execution_count": 71,
     "metadata": {},
     "output_type": "execute_result"
    }
   ],
   "source": [
    "stats.ttest_ind(pass_midnight_rating_bs, not_pass_midnight_rating_bs, equal_var=False)"
   ]
  },
  {
   "cell_type": "markdown",
   "metadata": {},
   "source": [
    "Reject the null hypothesis. t-statistic is negative.<br>\n",
    "not_pass_midnight wins!"
   ]
  },
  {
   "cell_type": "markdown",
   "metadata": {},
   "source": [
    "**Plot the Two Groups:**"
   ]
  },
  {
   "cell_type": "markdown",
   "metadata": {},
   "source": [
    "*review_count*"
   ]
  },
  {
   "cell_type": "code",
   "execution_count": 72,
   "metadata": {},
   "outputs": [
    {
     "data": {
      "image/png": "[encoded data removed]",
      "text/plain": [
       "<Figure size 432x288 with 1 Axes>"
      ]
     },
     "metadata": {
      "needs_background": "light"
     },
     "output_type": "display_data"
    }
   ],
   "source": [
    "hf.plot_distribution(pass_midnight_review_count_bs, not_pass_midnight_review_count_bs, [\"pass_midnight\", \"not_pass_midnight\"], \"review_count - MD\")"
   ]
  },
  {
   "cell_type": "markdown",
   "metadata": {},
   "source": [
    "*rating*"
   ]
  },
  {
   "cell_type": "code",
   "execution_count": 73,
   "metadata": {},
   "outputs": [
    {
     "data": {
      "image/png": "[encoded data removed]",
      "text/plain": [
       "<Figure size 432x288 with 1 Axes>"
      ]
     },
     "metadata": {
      "needs_background": "light"
     },
     "output_type": "display_data"
    }
   ],
   "source": [
    "hf.plot_distribution(pass_midnight_rating_bs, not_pass_midnight_rating_bs, [\"pass_midnight\", \"not_pass_midnight\"], \"rating - MD\")"
   ]
  },
  {
   "cell_type": "markdown",
   "metadata": {},
   "source": [
    "**Conclusion:** We'd want to close our bar in MD before midnight."
   ]
  },
  {
   "cell_type": "markdown",
   "metadata": {},
   "source": [
    "* Sources:  \n",
    "\n",
    "  * https://www.yelp.com/developers/documentation/v3/business\n",
    "  * https://docs.scipy.org/doc/scipy/reference/generated/scipy.stats.ttest_ind.html\n",
    "  * https://docs.scipy.org/doc/scipy-0.14.0/reference/generated/scipy.stats.levene.html\n",
    "  * https://docs.scipy.org/doc/scipy/reference/generated/scipy.stats.shapiro.html\n",
    "  * https://docs.scipy.org/doc/scipy/reference/generated/scipy.stats.normaltest.html\n",
    "  * https://docs.scipy.org/doc/scipy/reference/generated/scipy.stats.f_oneway.html\n",
    "  * https://pingouin-stats.org/generated/pingouin.welch_anova.html#pingouin.welch_anova\n",
    "  * https://docs.scipy.org/doc/scipy/reference/stats.html\n",
    "  * https://www.statsmodels.org/stable/generated/statsmodels.stats.multicomp.pairwise_tukeyhsd.html\n"
   ]
  }
 ],
 "metadata": {
  "kernelspec": {
   "display_name": "Python 3",
   "language": "python",
   "name": "python3"
  },
  "language_info": {
   "codemirror_mode": {
    "name": "ipython",
    "version": 3
   },
   "file_extension": ".py",
   "mimetype": "text/x-python",
   "name": "python",
   "nbconvert_exporter": "python",
   "pygments_lexer": "ipython3",
   "version": "3.7.1"
  }
 },
 "nbformat": 4,
 "nbformat_minor": 2
}
