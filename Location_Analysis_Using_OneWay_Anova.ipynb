{
 "cells": [
  {
   "cell_type": "code",
   "execution_count": 1,
   "metadata": {},
   "outputs": [],
   "source": [
    "# import libraries\n",
    "from statsmodels.stats.multicomp import pairwise_tukeyhsd, MultiComparison\n",
    "import scipy.stats as stats\n",
    "import pandas as pd\n",
    "import numpy as np\n",
    "import pickle\n",
    "import matplotlib.pyplot as plt\n",
    "%matplotlib inline"
   ]
  },
  {
   "cell_type": "code",
   "execution_count": 68,
   "metadata": {},
   "outputs": [],
   "source": [
    "# import location and price df\n",
    "df_location_price = pd.read_pickle('data/yelp_price_location.pkl')"
   ]
  },
  {
   "cell_type": "code",
   "execution_count": 73,
   "metadata": {
    "scrolled": true
   },
   "outputs": [
    {
     "data": {
      "text/html": [
       "<div>\n",
       "<style scoped>\n",
       "    .dataframe tbody tr th:only-of-type {\n",
       "        vertical-align: middle;\n",
       "    }\n",
       "\n",
       "    .dataframe tbody tr th {\n",
       "        vertical-align: top;\n",
       "    }\n",
       "\n",
       "    .dataframe thead th {\n",
       "        text-align: right;\n",
       "    }\n",
       "</style>\n",
       "<table border=\"1\" class=\"dataframe\">\n",
       "  <thead>\n",
       "    <tr style=\"text-align: right;\">\n",
       "      <th></th>\n",
       "      <th>categories</th>\n",
       "      <th>price</th>\n",
       "      <th>rating</th>\n",
       "      <th>review_count</th>\n",
       "      <th>Lat</th>\n",
       "      <th>Lon</th>\n",
       "      <th>state</th>\n",
       "    </tr>\n",
       "  </thead>\n",
       "  <tbody>\n",
       "    <tr>\n",
       "      <th>0</th>\n",
       "      <td>Salad|Seafood|American (Traditional)</td>\n",
       "      <td>2</td>\n",
       "      <td>3.5</td>\n",
       "      <td>372</td>\n",
       "      <td>38.997397</td>\n",
       "      <td>-77.026797</td>\n",
       "      <td>MD</td>\n",
       "    </tr>\n",
       "    <tr>\n",
       "      <th>1</th>\n",
       "      <td>Pizza|American (New)|Salad</td>\n",
       "      <td>2</td>\n",
       "      <td>3.5</td>\n",
       "      <td>192</td>\n",
       "      <td>38.919506</td>\n",
       "      <td>-77.224311</td>\n",
       "      <td>VA</td>\n",
       "    </tr>\n",
       "  </tbody>\n",
       "</table>\n",
       "</div>"
      ],
      "text/plain": [
       "                             categories price  rating  review_count  \\\n",
       "0  Salad|Seafood|American (Traditional)     2     3.5           372   \n",
       "1            Pizza|American (New)|Salad     2     3.5           192   \n",
       "\n",
       "         Lat        Lon state  \n",
       "0  38.997397 -77.026797    MD  \n",
       "1  38.919506 -77.224311    VA  "
      ]
     },
     "execution_count": 73,
     "metadata": {},
     "output_type": "execute_result"
    }
   ],
   "source": [
    "df_location_price.head(2)"
   ]
  },
  {
   "cell_type": "code",
   "execution_count": 5,
   "metadata": {},
   "outputs": [],
   "source": [
    "# look at review count and rating vs state first split into 3 groups\n",
    "# DC, VA, MD\n",
    "DC = df_location_price[df_location_price.state == 'DC'][[\n",
    "    'state', 'review_count', 'rating']].reset_index()\n",
    "MD = df_location_price[df_location_price.state == 'MD'][[\n",
    "    'state', 'review_count', 'rating']].reset_index()\n",
    "VA = df_location_price[df_location_price.state == 'VA'][[\n",
    "    'state', 'review_count', 'rating']].reset_index()"
   ]
  },
  {
   "cell_type": "code",
   "execution_count": 11,
   "metadata": {},
   "outputs": [
    {
     "data": {
      "text/plain": [
       "NormaltestResult(statistic=4771.567353319586, pvalue=0.0)"
      ]
     },
     "execution_count": 11,
     "metadata": {},
     "output_type": "execute_result"
    }
   ],
   "source": [
    "# normality test \n",
    "stats.normaltest(DC.rating)\n",
    "stats.normaltest(MD.rating)\n",
    "stats.normaltest(VA.rating)\n",
    "stats.normaltest(DC.review_count)\n",
    "stats.normaltest(MD.review_count)\n",
    "stats.normaltest(VA.review_count)\n",
    "# not normal "
   ]
  },
  {
   "cell_type": "code",
   "execution_count": 36,
   "metadata": {},
   "outputs": [],
   "source": [
    "# randomly generate 100 samples for 100000 times \n",
    "def boostrap_sample(samples, n):\n",
    "    return np.random.choice(samples, size = n, replace = True )\n",
    "# generate sample means\n",
    "def sampling(samples, n, num):\n",
    "    sample_means = []\n",
    "    for i in range(num):\n",
    "        sample_means.append(boostrap_sample(samples, n).mean())\n",
    "    return sample_means\n",
    "def sample_category(samples,n,num, feature):\n",
    "    return sampling(samples[feature], n, num)"
   ]
  },
  {
   "cell_type": "code",
   "execution_count": 37,
   "metadata": {},
   "outputs": [],
   "source": [
    "# set up tukey hsd for post anova with significance\n",
    "def tukey_hsd(datas, group_names, colname):\n",
    "    '''\n",
    "    datas: from one_way_anova function, a list of data for each group\n",
    "    group_names: a list of strings with group names, datas order should be same as group_names\n",
    "    colname: string, the category to compare \n",
    "    return tukeyhsd table result and stacked table \n",
    "    '''\n",
    "    # arrange to proper df format for tukey hsd\n",
    "    df = pd.DataFrame()\n",
    "    for i in range(len(group_names)):\n",
    "        df[group_names[i]] = datas[i]\n",
    "    stacked_df = df.stack().reset_index()\n",
    "    stacked_df = stacked_df.rename(\n",
    "        columns={'level_0': 'id', 'level_1': 'state', 0: colname})\n",
    "    MultiComp = MultiComparison(stacked_df[colname],\n",
    "                                stacked_df['state'])\n",
    "    return (stacked_df, MultiComp.tukeyhsd().summary())"
   ]
  },
  {
   "cell_type": "code",
   "execution_count": 38,
   "metadata": {},
   "outputs": [],
   "source": [
    "# create datasets for DC, MD, VA with review_count\n",
    "DC_review = sample_category(DC,100,100000,'review_count')\n",
    "MD_review = sample_category(MD,100,100000,'review_count')\n",
    "VA_review = sample_category(VA,100,100000,'review_count')"
   ]
  },
  {
   "cell_type": "code",
   "execution_count": 39,
   "metadata": {
    "scrolled": false
   },
   "outputs": [
    {
     "data": {
      "text/plain": [
       "F_onewayResult(statistic=353154.1970175773, pvalue=0.0)"
      ]
     },
     "execution_count": 39,
     "metadata": {},
     "output_type": "execute_result"
    }
   ],
   "source": [
    "stats.f_oneway(DC_review, MD_review, VA_review)"
   ]
  },
  {
   "cell_type": "code",
   "execution_count": 41,
   "metadata": {},
   "outputs": [
    {
     "data": {
      "text/html": [
       "<table class=\"simpletable\">\n",
       "<caption>Multiple Comparison of Means - Tukey HSD,FWER=0.05</caption>\n",
       "<tr>\n",
       "  <th>group1</th> <th>group2</th> <th>meandiff</th>    <th>lower</th>     <th>upper</th>   <th>reject</th>\n",
       "</tr>\n",
       "<tr>\n",
       "    <td>DC</td>     <td>MD</td>   <td>-113.2844</td> <td>-113.6053</td> <td>-112.9634</td>  <td>True</td> \n",
       "</tr>\n",
       "<tr>\n",
       "    <td>DC</td>     <td>VA</td>   <td>-39.1057</td>  <td>-39.4266</td>  <td>-38.7848</td>   <td>True</td> \n",
       "</tr>\n",
       "<tr>\n",
       "    <td>MD</td>     <td>VA</td>    <td>74.1787</td>   <td>73.8577</td>   <td>74.4996</td>   <td>True</td> \n",
       "</tr>\n",
       "</table>"
      ],
      "text/plain": [
       "<class 'statsmodels.iolib.table.SimpleTable'>"
      ]
     },
     "execution_count": 41,
     "metadata": {},
     "output_type": "execute_result"
    }
   ],
   "source": [
    "tukey_hsd([DC_review,MD_review,VA_review], ['DC','MD','VA'],'review_count')[1]\n",
    "# MD has the most traffic then VA then DC"
   ]
  },
  {
   "cell_type": "code",
   "execution_count": 42,
   "metadata": {},
   "outputs": [],
   "source": [
    "# create datasets for DC, MD, VA with review_count\n",
    "DC_rating = sample_category(DC,100,100000,'rating')\n",
    "MD_rating = sample_category(MD,100,100000,'rating')\n",
    "VA_rating = sample_category(VA,100,100000,'rating')"
   ]
  },
  {
   "cell_type": "code",
   "execution_count": 49,
   "metadata": {
    "scrolled": true
   },
   "outputs": [
    {
     "data": {
      "image/png": "[encoded data removed]",
      "text/plain": [
       "<Figure size 432x288 with 1 Axes>"
      ]
     },
     "metadata": {
      "needs_background": "light"
     },
     "output_type": "display_data"
    }
   ],
   "source": [
    "stats.probplot(DC_rating, dist=\"norm\", plot=plt)\n",
    "plt.show()"
   ]
  },
  {
   "cell_type": "code",
   "execution_count": 54,
   "metadata": {},
   "outputs": [
    {
     "data": {
      "image/png": "[encoded data removed]",
      "text/plain": [
       "<Figure size 432x288 with 1 Axes>"
      ]
     },
     "metadata": {
      "needs_background": "light"
     },
     "output_type": "display_data"
    }
   ],
   "source": [
    "stats.probplot(MD_rating, dist=\"norm\", plot=plt)\n",
    "plt.show()"
   ]
  },
  {
   "cell_type": "code",
   "execution_count": 55,
   "metadata": {},
   "outputs": [
    {
     "data": {
      "image/png": "[encoded data removed]",
      "text/plain": [
       "<Figure size 432x288 with 1 Axes>"
      ]
     },
     "metadata": {
      "needs_background": "light"
     },
     "output_type": "display_data"
    }
   ],
   "source": [
    "stats.probplot(VA_rating, dist=\"norm\", plot=plt)\n",
    "plt.show()"
   ]
  },
  {
   "cell_type": "code",
   "execution_count": 44,
   "metadata": {},
   "outputs": [
    {
     "data": {
      "text/plain": [
       "F_onewayResult(statistic=320582.82278036047, pvalue=0.0)"
      ]
     },
     "execution_count": 44,
     "metadata": {},
     "output_type": "execute_result"
    }
   ],
   "source": [
    "stats.f_oneway(DC_rating, MD_rating,VA_rating)"
   ]
  },
  {
   "cell_type": "code",
   "execution_count": 45,
   "metadata": {
    "scrolled": true
   },
   "outputs": [
    {
     "data": {
      "text/html": [
       "<table class=\"simpletable\">\n",
       "<caption>Multiple Comparison of Means - Tukey HSD,FWER=0.05</caption>\n",
       "<tr>\n",
       "  <th>group1</th> <th>group2</th> <th>meandiff</th>  <th>lower</th>   <th>upper</th>  <th>reject</th>\n",
       "</tr>\n",
       "<tr>\n",
       "    <td>DC</td>     <td>MD</td>    <td>-0.2886</td> <td>-0.2895</td> <td>-0.2877</td>  <td>True</td> \n",
       "</tr>\n",
       "<tr>\n",
       "    <td>DC</td>     <td>VA</td>    <td>-0.0614</td> <td>-0.0623</td> <td>-0.0605</td>  <td>True</td> \n",
       "</tr>\n",
       "<tr>\n",
       "    <td>MD</td>     <td>VA</td>    <td>0.2272</td>  <td>0.2263</td>  <td>0.2281</td>   <td>True</td> \n",
       "</tr>\n",
       "</table>"
      ],
      "text/plain": [
       "<class 'statsmodels.iolib.table.SimpleTable'>"
      ]
     },
     "execution_count": 45,
     "metadata": {},
     "output_type": "execute_result"
    }
   ],
   "source": [
    "tukey_hsd([DC_rating,MD_rating,VA_rating],['DC','MD','VA'],'rating')[1]\n",
    "# MD has highest rating then VA then DC"
   ]
  },
  {
   "cell_type": "code",
   "execution_count": 74,
   "metadata": {},
   "outputs": [],
   "source": [
    "# split the rows \n",
    "def split_rows(df, col1, col2, sep):\n",
    "    '''\n",
    "    input: \n",
    "    df: dataframe to use\n",
    "    col1 and col2 (use col2 to split )\n",
    "    return:\n",
    "    a df table with col1 as common col and col2 split into multiple rows\n",
    "    '''\n",
    "    series = [pd.Series(row[col1], row[col2].split(sep))\n",
    "              for _, row in df.iterrows()]\n",
    "    table = pd.concat(series).reset_index()\n",
    "    return table"
   ]
  },
  {
   "cell_type": "code",
   "execution_count": 77,
   "metadata": {},
   "outputs": [],
   "source": [
    "table = split_rows(df_location_price,'Lat', 'categories', '|')\n",
    "table = table.rename(columns = {'index': 'category', 0: 'Lat'})"
   ]
  },
  {
   "cell_type": "code",
   "execution_count": 79,
   "metadata": {},
   "outputs": [],
   "source": [
    "# join table \n",
    "mergedtable = pd.merge(df_location_price,table, on = 'Lat')"
   ]
  },
  {
   "cell_type": "code",
   "execution_count": 100,
   "metadata": {},
   "outputs": [],
   "source": [
    "filtered_df = mergedtable[(mergedtable.category=='Bars')|(mergedtable.category =='Ramen')]"
   ]
  },
  {
   "cell_type": "code",
   "execution_count": 109,
   "metadata": {},
   "outputs": [],
   "source": [
    "counts = filtered_df.groupby(['state','category']).size().reset_index()"
   ]
  },
  {
   "cell_type": "code",
   "execution_count": 112,
   "metadata": {},
   "outputs": [],
   "source": [
    "table= counts.pivot(index = 'state', columns='category', values=0)"
   ]
  },
  {
   "cell_type": "code",
   "execution_count": 114,
   "metadata": {},
   "outputs": [
    {
     "data": {
      "text/html": [
       "<div>\n",
       "<style scoped>\n",
       "    .dataframe tbody tr th:only-of-type {\n",
       "        vertical-align: middle;\n",
       "    }\n",
       "\n",
       "    .dataframe tbody tr th {\n",
       "        vertical-align: top;\n",
       "    }\n",
       "\n",
       "    .dataframe thead th {\n",
       "        text-align: right;\n",
       "    }\n",
       "</style>\n",
       "<table border=\"1\" class=\"dataframe\">\n",
       "  <thead>\n",
       "    <tr style=\"text-align: right;\">\n",
       "      <th>category</th>\n",
       "      <th>Bars</th>\n",
       "      <th>Ramen</th>\n",
       "    </tr>\n",
       "    <tr>\n",
       "      <th>state</th>\n",
       "      <th></th>\n",
       "      <th></th>\n",
       "    </tr>\n",
       "  </thead>\n",
       "  <tbody>\n",
       "    <tr>\n",
       "      <th>DC</th>\n",
       "      <td>221</td>\n",
       "      <td>46</td>\n",
       "    </tr>\n",
       "    <tr>\n",
       "      <th>MD</th>\n",
       "      <td>61</td>\n",
       "      <td>8</td>\n",
       "    </tr>\n",
       "    <tr>\n",
       "      <th>VA</th>\n",
       "      <td>143</td>\n",
       "      <td>19</td>\n",
       "    </tr>\n",
       "  </tbody>\n",
       "</table>\n",
       "</div>"
      ],
      "text/plain": [
       "category  Bars  Ramen\n",
       "state                \n",
       "DC         221     46\n",
       "MD          61      8\n",
       "VA         143     19"
      ]
     },
     "execution_count": 114,
     "metadata": {},
     "output_type": "execute_result"
    }
   ],
   "source": [
    "table.head()"
   ]
  },
  {
   "cell_type": "code",
   "execution_count": 115,
   "metadata": {},
   "outputs": [],
   "source": [
    "dc = [221,46]\n",
    "md = [61, 8]\n",
    "va = [143,19]\n",
    "tables = np.array([dc,md,va])"
   ]
  },
  {
   "cell_type": "code",
   "execution_count": 116,
   "metadata": {},
   "outputs": [
    {
     "data": {
      "text/plain": [
       "array([[221,  46],\n",
       "       [ 61,   8],\n",
       "       [143,  19]])"
      ]
     },
     "execution_count": 116,
     "metadata": {},
     "output_type": "execute_result"
    }
   ],
   "source": [
    "tables"
   ]
  },
  {
   "cell_type": "code",
   "execution_count": 117,
   "metadata": {},
   "outputs": [
    {
     "data": {
      "text/plain": [
       "(3.039371664444074, 0.218780609974467, 2, array([[227.86144578,  39.13855422],\n",
       "        [ 58.88554217,  10.11445783],\n",
       "        [138.25301205,  23.74698795]]))"
      ]
     },
     "execution_count": 117,
     "metadata": {},
     "output_type": "execute_result"
    }
   ],
   "source": [
    "stats.chi2_contingency(tables)\n",
    "# chi2 is 3.03\n",
    "# p value is 0.218 > alpha (0.05)\n",
    "# dof = 2 \n",
    "# no depedency between location and ramen or bar "
   ]
  }
 ],
 "metadata": {
  "kernelspec": {
   "display_name": "Python 3",
   "language": "python",
   "name": "python3"
  },
  "language_info": {
   "codemirror_mode": {
    "name": "ipython",
    "version": 3
   },
   "file_extension": ".py",
   "mimetype": "text/x-python",
   "name": "python",
   "nbconvert_exporter": "python",
   "pygments_lexer": "ipython3",
   "version": "3.7.1"
  }
 },
 "nbformat": 4,
 "nbformat_minor": 2
}
