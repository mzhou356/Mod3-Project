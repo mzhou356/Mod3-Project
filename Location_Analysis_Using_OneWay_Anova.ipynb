{
 "cells": [
  {
   "cell_type": "code",
   "execution_count": 1,
   "metadata": {},
   "outputs": [],
   "source": [
    "# import libraries\n",
    "from statsmodels.stats.multicomp import pairwise_tukeyhsd, MultiComparison\n",
    "import scipy.stats as stats\n",
    "import pandas as pd\n",
    "import numpy as np\n",
    "import pickle\n",
    "import matplotlib.pyplot as plt\n",
    "%matplotlib inline"
   ]
  },
  {
   "cell_type": "code",
   "execution_count": 2,
   "metadata": {},
   "outputs": [],
   "source": [
    "# import location and price df\n",
    "df_location_price = pd.read_pickle('data/yelp_price_location.pkl')"
   ]
  },
  {
   "cell_type": "code",
   "execution_count": 3,
   "metadata": {},
   "outputs": [
    {
     "data": {
      "text/html": [
       "<div>\n",
       "<style scoped>\n",
       "    .dataframe tbody tr th:only-of-type {\n",
       "        vertical-align: middle;\n",
       "    }\n",
       "\n",
       "    .dataframe tbody tr th {\n",
       "        vertical-align: top;\n",
       "    }\n",
       "\n",
       "    .dataframe thead th {\n",
       "        text-align: right;\n",
       "    }\n",
       "</style>\n",
       "<table border=\"1\" class=\"dataframe\">\n",
       "  <thead>\n",
       "    <tr style=\"text-align: right;\">\n",
       "      <th></th>\n",
       "      <th>categories</th>\n",
       "      <th>price</th>\n",
       "      <th>rating</th>\n",
       "      <th>review_count</th>\n",
       "      <th>Lat</th>\n",
       "      <th>Lon</th>\n",
       "      <th>state</th>\n",
       "    </tr>\n",
       "  </thead>\n",
       "  <tbody>\n",
       "    <tr>\n",
       "      <th>0</th>\n",
       "      <td>Salad|Seafood|American (Traditional)</td>\n",
       "      <td>2</td>\n",
       "      <td>3.5</td>\n",
       "      <td>372</td>\n",
       "      <td>38.997397</td>\n",
       "      <td>-77.026797</td>\n",
       "      <td>MD</td>\n",
       "    </tr>\n",
       "    <tr>\n",
       "      <th>1</th>\n",
       "      <td>Pizza|American (New)|Salad</td>\n",
       "      <td>2</td>\n",
       "      <td>3.5</td>\n",
       "      <td>192</td>\n",
       "      <td>38.919506</td>\n",
       "      <td>-77.224311</td>\n",
       "      <td>VA</td>\n",
       "    </tr>\n",
       "    <tr>\n",
       "      <th>2</th>\n",
       "      <td>Breakfast &amp; Brunch|American (Traditional)|Burgers</td>\n",
       "      <td>2</td>\n",
       "      <td>2.5</td>\n",
       "      <td>125</td>\n",
       "      <td>39.014190</td>\n",
       "      <td>-76.928270</td>\n",
       "      <td>MD</td>\n",
       "    </tr>\n",
       "    <tr>\n",
       "      <th>3</th>\n",
       "      <td>Seafood</td>\n",
       "      <td>1</td>\n",
       "      <td>4.0</td>\n",
       "      <td>13</td>\n",
       "      <td>38.854145</td>\n",
       "      <td>-76.897896</td>\n",
       "      <td>MD</td>\n",
       "    </tr>\n",
       "    <tr>\n",
       "      <th>4</th>\n",
       "      <td>Donuts|Coffee &amp; Tea|Breakfast &amp; Brunch</td>\n",
       "      <td>1</td>\n",
       "      <td>4.5</td>\n",
       "      <td>2</td>\n",
       "      <td>38.790540</td>\n",
       "      <td>-77.076455</td>\n",
       "      <td>VA</td>\n",
       "    </tr>\n",
       "  </tbody>\n",
       "</table>\n",
       "</div>"
      ],
      "text/plain": [
       "                                          categories price  rating  \\\n",
       "0               Salad|Seafood|American (Traditional)     2     3.5   \n",
       "1                         Pizza|American (New)|Salad     2     3.5   \n",
       "2  Breakfast & Brunch|American (Traditional)|Burgers     2     2.5   \n",
       "3                                            Seafood     1     4.0   \n",
       "4             Donuts|Coffee & Tea|Breakfast & Brunch     1     4.5   \n",
       "\n",
       "   review_count        Lat        Lon state  \n",
       "0           372  38.997397 -77.026797    MD  \n",
       "1           192  38.919506 -77.224311    VA  \n",
       "2           125  39.014190 -76.928270    MD  \n",
       "3            13  38.854145 -76.897896    MD  \n",
       "4             2  38.790540 -77.076455    VA  "
      ]
     },
     "execution_count": 3,
     "metadata": {},
     "output_type": "execute_result"
    }
   ],
   "source": [
    "df_location_price.head()"
   ]
  },
  {
   "cell_type": "code",
   "execution_count": 4,
   "metadata": {},
   "outputs": [],
   "source": [
    "# look at review count and rating vs state first split into 3 groups\n",
    "# DC, VA, MD\n",
    "DC = df_location_price[df_location_price.state == 'DC'][[\n",
    "    'state', 'review_count', 'rating']].reset_index()\n",
    "MD = df_location_price[df_location_price.state == 'MD'][[\n",
    "    'state', 'review_count', 'rating']].reset_index()\n",
    "VA = df_location_price[df_location_price.state == 'VA'][[\n",
    "    'state', 'review_count', 'rating']].reset_index()"
   ]
  },
  {
   "cell_type": "code",
   "execution_count": 18,
   "metadata": {},
   "outputs": [],
   "source": [
    "# set up one way anova test and tukey hsd \n",
    "def one_way_anove(groups, colname):\n",
    "    '''\n",
    "    groups: a list of dataframes for comparision\n",
    "    filters: a string, colname for comparison\n",
    "    return: datas with compare data in a list of arrays and anova result \n",
    "    '''\n",
    "    datas = []\n",
    "    n = len(groups)\n",
    "    for i in range(n):\n",
    "        data_i = groups[i][colname]\n",
    "        datas.append(data_i)\n",
    "    return (stats.f_oneway(*datas), datas)"
   ]
  },
  {
   "cell_type": "code",
   "execution_count": 34,
   "metadata": {},
   "outputs": [],
   "source": [
    "# set up tukey hsd for post anova with significance \n",
    "def tukey_hsd(datas, group_names, colname):\n",
    "    '''\n",
    "    datas: from one_way_anova function, a list of data for each group\n",
    "    group_names: a list of strings with group names, datas order should be same as group_names\n",
    "    colname: string, the category to compare \n",
    "    return tukeyhsd table result and stacked table \n",
    "    '''\n",
    "    # arrange to proper df format for tukey hsd\n",
    "    df = pd.DataFrame()\n",
    "    for i in range(len(group_names)):\n",
    "        df[group_names[i]] = datas[i]\n",
    "    stacked_df = df.stack().reset_index()\n",
    "    stacked_df = stacked_df.rename(columns ={'level_0':'id','level_1':'state',0:colname})\n",
    "    MultiComp = MultiComparison(stacked_df[colname],\n",
    "                            stacked_df['state'])\n",
    "    return (stacked_df, MultiComp.tukeyhsd().summary())"
   ]
  },
  {
   "cell_type": "code",
   "execution_count": 38,
   "metadata": {
    "scrolled": false
   },
   "outputs": [
    {
     "data": {
      "text/plain": [
       "F_onewayResult(statistic=70.58696711367261, pvalue=4.589897527593301e-31)"
      ]
     },
     "execution_count": 38,
     "metadata": {},
     "output_type": "execute_result"
    }
   ],
   "source": [
    "# one way anova of 3 samples_review count \n",
    "datas_review = one_way_anove([DC,MD,VA],'review_count')[1]\n",
    "anova_result_review = one_way_anove([DC,MD,VA],'review_count')[0]\n",
    "anova_result\n",
    "# p value is way below 0.05 so we will assume there is significance "
   ]
  },
  {
   "cell_type": "code",
   "execution_count": 42,
   "metadata": {
    "scrolled": true
   },
   "outputs": [
    {
     "data": {
      "text/html": [
       "<table class=\"simpletable\">\n",
       "<caption>Multiple Comparison of Means - Tukey HSD,FWER=0.05</caption>\n",
       "<tr>\n",
       "  <th>group1</th> <th>group2</th> <th>meandiff</th>    <th>lower</th>     <th>upper</th>  <th>reject</th>\n",
       "</tr>\n",
       "<tr>\n",
       "    <td>DC</td>     <td>MD</td>   <td>-113.3569</td> <td>-135.8076</td> <td>-90.9062</td>  <td>True</td> \n",
       "</tr>\n",
       "<tr>\n",
       "    <td>DC</td>     <td>VA</td>    <td>-39.189</td>  <td>-61.2855</td>  <td>-17.0926</td>  <td>True</td> \n",
       "</tr>\n",
       "<tr>\n",
       "    <td>MD</td>     <td>VA</td>    <td>74.1679</td>   <td>50.3903</td>   <td>97.9454</td>  <td>True</td> \n",
       "</tr>\n",
       "</table>"
      ],
      "text/plain": [
       "<class 'statsmodels.iolib.table.SimpleTable'>"
      ]
     },
     "execution_count": 42,
     "metadata": {},
     "output_type": "execute_result"
    }
   ],
   "source": [
    "# tukey to figure out what is going on in details \n",
    "stacked_review = tukey_hsd(datas_review,['DC','MD','VA'],'review_count')[0]\n",
    "tukey_result_review = tukey_hsd(datas_review,['DC','MD','VA'],'review_count')[1]\n",
    "tukey_result_review\n",
    "# MD has the most traffic then VA then DC "
   ]
  },
  {
   "cell_type": "code",
   "execution_count": 43,
   "metadata": {},
   "outputs": [
    {
     "data": {
      "text/plain": [
       "F_onewayResult(statistic=70.06362167068008, pvalue=7.663599803048584e-31)"
      ]
     },
     "execution_count": 43,
     "metadata": {},
     "output_type": "execute_result"
    }
   ],
   "source": [
    "# check for rating \n",
    "datas_rating = one_way_anove([DC,MD,VA],'rating')[1]\n",
    "anova_result_rating = one_way_anove([DC,MD,VA],'rating')[0]\n",
    "anova_result_rating\n",
    "# p value is way below 0.05 so we will assume there is significance "
   ]
  },
  {
   "cell_type": "code",
   "execution_count": 44,
   "metadata": {},
   "outputs": [
    {
     "data": {
      "text/html": [
       "<table class=\"simpletable\">\n",
       "<caption>Multiple Comparison of Means - Tukey HSD,FWER=0.05</caption>\n",
       "<tr>\n",
       "  <th>group1</th> <th>group2</th> <th>meandiff</th>    <th>lower</th>     <th>upper</th>  <th>reject</th>\n",
       "</tr>\n",
       "<tr>\n",
       "    <td>DC</td>     <td>MD</td>   <td>-113.3569</td> <td>-135.8076</td> <td>-90.9062</td>  <td>True</td> \n",
       "</tr>\n",
       "<tr>\n",
       "    <td>DC</td>     <td>VA</td>    <td>-39.189</td>  <td>-61.2855</td>  <td>-17.0926</td>  <td>True</td> \n",
       "</tr>\n",
       "<tr>\n",
       "    <td>MD</td>     <td>VA</td>    <td>74.1679</td>   <td>50.3903</td>   <td>97.9454</td>  <td>True</td> \n",
       "</tr>\n",
       "</table>"
      ],
      "text/plain": [
       "<class 'statsmodels.iolib.table.SimpleTable'>"
      ]
     },
     "execution_count": 44,
     "metadata": {},
     "output_type": "execute_result"
    }
   ],
   "source": [
    "# tukey to figure out what is going on in details \n",
    "stacked_rating = tukey_hsd(datas_review,['DC','MD','VA'],'rating')[0]\n",
    "tukey_result_rating = tukey_hsd(datas_review,['DC','MD','VA'],'rating')[1]\n",
    "tukey_result_rating\n",
    "# MD has the most traffic then VA then DC "
   ]
  }
 ],
 "metadata": {
  "kernelspec": {
   "display_name": "Python 3",
   "language": "python",
   "name": "python3"
  },
  "language_info": {
   "codemirror_mode": {
    "name": "ipython",
    "version": 3
   },
   "file_extension": ".py",
   "mimetype": "text/x-python",
   "name": "python",
   "nbconvert_exporter": "python",
   "pygments_lexer": "ipython3",
   "version": "3.7.1"
  }
 },
 "nbformat": 4,
 "nbformat_minor": 2
}
