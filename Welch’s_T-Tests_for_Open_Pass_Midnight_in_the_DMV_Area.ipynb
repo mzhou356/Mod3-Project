{
 "cells": [
  {
   "cell_type": "markdown",
   "metadata": {},
   "source": [
    "# Restaurant Industry Consulting Firm\n",
    "July 16, 2019<br>\n",
    "Ngoc, Inferential Statistics<br>\n",
    "Welch’s T-Tests for Open_Pass_Midnight in the DMV Area\n",
    "\n",
    "-----------------"
   ]
  },
  {
   "cell_type": "markdown",
   "metadata": {},
   "source": [
    "In this notebook, we want to:\n",
    "- Find 2 most popular cuisines in each area (DC, VA, and MD) then t-test to figure out which one is best in each area (vs. number of reviews)\n",
    "- Over night (vs. number of reviews, stars)\n",
    "\n",
    "-------------------"
   ]
  },
  {
   "cell_type": "markdown",
   "metadata": {},
   "source": [
    "## Import Needed Libraries"
   ]
  },
  {
   "cell_type": "code",
   "execution_count": 1,
   "metadata": {},
   "outputs": [],
   "source": [
    "import warnings\n",
    "import numpy as np\n",
    "import pandas as pd\n",
    "import seaborn as sns\n",
    "import helper_functions as hf\n",
    "import matplotlib.pyplot as plt\n",
    "\n",
    "from scipy import stats\n",
    "\n",
    "sns.set_style(\"whitegrid\")\n",
    "warnings.filterwarnings(\"ignore\")"
   ]
  },
  {
   "cell_type": "markdown",
   "metadata": {},
   "source": [
    "## Load Needed Data"
   ]
  },
  {
   "cell_type": "code",
   "execution_count": 2,
   "metadata": {},
   "outputs": [],
   "source": [
    "dc = pd.read_csv(\"data/dc_restaurants_midnight.csv\")\n",
    "va = pd.read_csv(\"data/va_restaurants_midnight.csv\")\n",
    "md = pd.read_csv(\"data/md_restaurants_midnight.csv\")"
   ]
  },
  {
   "cell_type": "markdown",
   "metadata": {},
   "source": [
    "## Inferential Statistics"
   ]
  },
  {
   "cell_type": "markdown",
   "metadata": {},
   "source": [
    "$\\alpha$ = 0.05"
   ]
  },
  {
   "cell_type": "markdown",
   "metadata": {},
   "source": [
    "Helper functions:"
   ]
  },
  {
   "cell_type": "code",
   "execution_count": 3,
   "metadata": {},
   "outputs": [],
   "source": [
    "def bootstrap(sample, n):\n",
    "    return np.random.choice(sample, size=n, replace=True)"
   ]
  },
  {
   "cell_type": "code",
   "execution_count": 4,
   "metadata": {},
   "outputs": [],
   "source": [
    "def sampling(samples, n, num):\n",
    "    sample_means = []\n",
    "    for i in range(num):\n",
    "        sample_means.append(bootstrap(samples, n).mean())\n",
    "    return sample_means"
   ]
  },
  {
   "cell_type": "markdown",
   "metadata": {},
   "source": [
    "### DC"
   ]
  },
  {
   "cell_type": "code",
   "execution_count": 5,
   "metadata": {},
   "outputs": [
    {
     "name": "stdout",
     "output_type": "stream",
     "text": [
      "527\n"
     ]
    },
    {
     "data": {
      "text/html": [
       "<div>\n",
       "<style scoped>\n",
       "    .dataframe tbody tr th:only-of-type {\n",
       "        vertical-align: middle;\n",
       "    }\n",
       "\n",
       "    .dataframe tbody tr th {\n",
       "        vertical-align: top;\n",
       "    }\n",
       "\n",
       "    .dataframe thead th {\n",
       "        text-align: right;\n",
       "    }\n",
       "</style>\n",
       "<table border=\"1\" class=\"dataframe\">\n",
       "  <thead>\n",
       "    <tr style=\"text-align: right;\">\n",
       "      <th></th>\n",
       "      <th>id</th>\n",
       "      <th>name</th>\n",
       "      <th>price</th>\n",
       "      <th>rating</th>\n",
       "      <th>review_count</th>\n",
       "      <th>open_pass_midnight</th>\n",
       "      <th>state</th>\n",
       "    </tr>\n",
       "  </thead>\n",
       "  <tbody>\n",
       "    <tr>\n",
       "      <th>0</th>\n",
       "      <td>-8cgezcs-xEpJ_K4O8LxVA</td>\n",
       "      <td>Harry's Restaurant</td>\n",
       "      <td>$$</td>\n",
       "      <td>3.0</td>\n",
       "      <td>449</td>\n",
       "      <td>True</td>\n",
       "      <td>DC</td>\n",
       "    </tr>\n",
       "    <tr>\n",
       "      <th>1</th>\n",
       "      <td>-OMQv4qP5wTkQ5viTIDVuw</td>\n",
       "      <td>Oyster Riot @ Old Ebbitt Grill</td>\n",
       "      <td>$$$$</td>\n",
       "      <td>4.0</td>\n",
       "      <td>18</td>\n",
       "      <td>True</td>\n",
       "      <td>DC</td>\n",
       "    </tr>\n",
       "    <tr>\n",
       "      <th>2</th>\n",
       "      <td>-XkoQgIL-wgHCkqRg9rhQQ</td>\n",
       "      <td>Ben's Next Door</td>\n",
       "      <td>$$</td>\n",
       "      <td>3.5</td>\n",
       "      <td>687</td>\n",
       "      <td>True</td>\n",
       "      <td>DC</td>\n",
       "    </tr>\n",
       "    <tr>\n",
       "      <th>3</th>\n",
       "      <td>-bEH3OOngPUCYRGJsnkkDQ</td>\n",
       "      <td>Dupont Italian Kitchen</td>\n",
       "      <td>$$</td>\n",
       "      <td>3.5</td>\n",
       "      <td>319</td>\n",
       "      <td>True</td>\n",
       "      <td>DC</td>\n",
       "    </tr>\n",
       "    <tr>\n",
       "      <th>4</th>\n",
       "      <td>-bEzBJAavdMoQTHWxUJ4bA</td>\n",
       "      <td>El Don Restaurant</td>\n",
       "      <td>$</td>\n",
       "      <td>3.0</td>\n",
       "      <td>7</td>\n",
       "      <td>True</td>\n",
       "      <td>DC</td>\n",
       "    </tr>\n",
       "  </tbody>\n",
       "</table>\n",
       "</div>"
      ],
      "text/plain": [
       "                       id                            name price  rating  \\\n",
       "0  -8cgezcs-xEpJ_K4O8LxVA              Harry's Restaurant    $$     3.0   \n",
       "1  -OMQv4qP5wTkQ5viTIDVuw  Oyster Riot @ Old Ebbitt Grill  $$$$     4.0   \n",
       "2  -XkoQgIL-wgHCkqRg9rhQQ                 Ben's Next Door    $$     3.5   \n",
       "3  -bEH3OOngPUCYRGJsnkkDQ          Dupont Italian Kitchen    $$     3.5   \n",
       "4  -bEzBJAavdMoQTHWxUJ4bA               El Don Restaurant     $     3.0   \n",
       "\n",
       "   review_count  open_pass_midnight state  \n",
       "0           449                True    DC  \n",
       "1            18                True    DC  \n",
       "2           687                True    DC  \n",
       "3           319                True    DC  \n",
       "4             7                True    DC  "
      ]
     },
     "execution_count": 5,
     "metadata": {},
     "output_type": "execute_result"
    }
   ],
   "source": [
    "dc_is_open = dc[dc.open_pass_midnight == True]\n",
    "dc_is_open.reset_index(inplace=True, drop=True)\n",
    "print(len(dc_is_open))\n",
    "dc_is_open.head()"
   ]
  },
  {
   "cell_type": "code",
   "execution_count": 6,
   "metadata": {},
   "outputs": [],
   "source": [
    "dc_is_open_review_count = dc_is_open.review_count"
   ]
  },
  {
   "cell_type": "code",
   "execution_count": 7,
   "metadata": {},
   "outputs": [
    {
     "name": "stdout",
     "output_type": "stream",
     "text": [
      "2152\n"
     ]
    },
    {
     "data": {
      "text/html": [
       "<div>\n",
       "<style scoped>\n",
       "    .dataframe tbody tr th:only-of-type {\n",
       "        vertical-align: middle;\n",
       "    }\n",
       "\n",
       "    .dataframe tbody tr th {\n",
       "        vertical-align: top;\n",
       "    }\n",
       "\n",
       "    .dataframe thead th {\n",
       "        text-align: right;\n",
       "    }\n",
       "</style>\n",
       "<table border=\"1\" class=\"dataframe\">\n",
       "  <thead>\n",
       "    <tr style=\"text-align: right;\">\n",
       "      <th></th>\n",
       "      <th>id</th>\n",
       "      <th>name</th>\n",
       "      <th>price</th>\n",
       "      <th>rating</th>\n",
       "      <th>review_count</th>\n",
       "      <th>open_pass_midnight</th>\n",
       "      <th>state</th>\n",
       "    </tr>\n",
       "  </thead>\n",
       "  <tbody>\n",
       "    <tr>\n",
       "      <th>0</th>\n",
       "      <td>-3r9TfGuLzx_CRh9b8u6iA</td>\n",
       "      <td>Absolute Thai Restaurant</td>\n",
       "      <td>$$</td>\n",
       "      <td>3.5</td>\n",
       "      <td>374</td>\n",
       "      <td>False</td>\n",
       "      <td>DC</td>\n",
       "    </tr>\n",
       "    <tr>\n",
       "      <th>1</th>\n",
       "      <td>-7AZWvUzAiAI-rnAW-WoqQ</td>\n",
       "      <td>Ricks Cafe</td>\n",
       "      <td>$$</td>\n",
       "      <td>3.5</td>\n",
       "      <td>72</td>\n",
       "      <td>False</td>\n",
       "      <td>DC</td>\n",
       "    </tr>\n",
       "    <tr>\n",
       "      <th>2</th>\n",
       "      <td>-8KtYXAQNOh1339Z7gl4WQ</td>\n",
       "      <td>Chopt Creative Salad Co.</td>\n",
       "      <td>$</td>\n",
       "      <td>3.0</td>\n",
       "      <td>50</td>\n",
       "      <td>False</td>\n",
       "      <td>DC</td>\n",
       "    </tr>\n",
       "    <tr>\n",
       "      <th>3</th>\n",
       "      <td>-9X0Ukem1bpQP0wEW7RRSg</td>\n",
       "      <td>KT Pizza</td>\n",
       "      <td>$$</td>\n",
       "      <td>4.0</td>\n",
       "      <td>34</td>\n",
       "      <td>False</td>\n",
       "      <td>DC</td>\n",
       "    </tr>\n",
       "    <tr>\n",
       "      <th>4</th>\n",
       "      <td>-9sZ7KDcpFEY1hLKMI33Vw</td>\n",
       "      <td>Mario's House Pizza</td>\n",
       "      <td>$</td>\n",
       "      <td>4.5</td>\n",
       "      <td>18</td>\n",
       "      <td>False</td>\n",
       "      <td>DC</td>\n",
       "    </tr>\n",
       "  </tbody>\n",
       "</table>\n",
       "</div>"
      ],
      "text/plain": [
       "                       id                      name price  rating  \\\n",
       "0  -3r9TfGuLzx_CRh9b8u6iA  Absolute Thai Restaurant    $$     3.5   \n",
       "1  -7AZWvUzAiAI-rnAW-WoqQ                Ricks Cafe    $$     3.5   \n",
       "2  -8KtYXAQNOh1339Z7gl4WQ  Chopt Creative Salad Co.     $     3.0   \n",
       "3  -9X0Ukem1bpQP0wEW7RRSg                  KT Pizza    $$     4.0   \n",
       "4  -9sZ7KDcpFEY1hLKMI33Vw       Mario's House Pizza     $     4.5   \n",
       "\n",
       "   review_count  open_pass_midnight state  \n",
       "0           374               False    DC  \n",
       "1            72               False    DC  \n",
       "2            50               False    DC  \n",
       "3            34               False    DC  \n",
       "4            18               False    DC  "
      ]
     },
     "execution_count": 7,
     "metadata": {},
     "output_type": "execute_result"
    }
   ],
   "source": [
    "dc_is_close = dc[dc.open_pass_midnight == False]\n",
    "dc_is_close.reset_index(inplace=True, drop=True)\n",
    "print(len(dc_is_close))\n",
    "dc_is_close.head()"
   ]
  },
  {
   "cell_type": "code",
   "execution_count": 8,
   "metadata": {},
   "outputs": [],
   "source": [
    "dc_is_close_review_count = dc_is_close.review_count"
   ]
  },
  {
   "cell_type": "code",
   "execution_count": 9,
   "metadata": {},
   "outputs": [
    {
     "data": {
      "text/plain": [
       "(0.48723721504211426, 2.7566316485267286e-36)"
      ]
     },
     "execution_count": 9,
     "metadata": {},
     "output_type": "execute_result"
    }
   ],
   "source": [
    "stats.shapiro(dc_is_open_review_count)"
   ]
  },
  {
   "cell_type": "code",
   "execution_count": 10,
   "metadata": {},
   "outputs": [
    {
     "data": {
      "text/plain": [
       "(0.37596583366394043, 0.0)"
      ]
     },
     "execution_count": 10,
     "metadata": {},
     "output_type": "execute_result"
    }
   ],
   "source": [
    "stats.shapiro(dc_is_close_review_count)"
   ]
  },
  {
   "cell_type": "code",
   "execution_count": 11,
   "metadata": {},
   "outputs": [],
   "source": [
    "np.random.seed(654121)\n",
    "dc_is_open_review_count_bs = sampling(dc_is_open_review_count, 100000, 1000)\n",
    "dc_is_close_review_count_bs = sampling(dc_is_close_review_count, 100000, 1000)"
   ]
  },
  {
   "cell_type": "code",
   "execution_count": 12,
   "metadata": {},
   "outputs": [
    {
     "data": {
      "text/plain": [
       "(0.9985178709030151, 0.5663415789604187)"
      ]
     },
     "execution_count": 12,
     "metadata": {},
     "output_type": "execute_result"
    }
   ],
   "source": [
    "stats.shapiro(dc_is_open_review_count_bs)"
   ]
  },
  {
   "cell_type": "markdown",
   "metadata": {},
   "source": [
    "(0.9985178709030151, 0.5663415789604187)"
   ]
  },
  {
   "cell_type": "code",
   "execution_count": 13,
   "metadata": {},
   "outputs": [
    {
     "data": {
      "text/plain": [
       "(0.9976388812065125, 0.1620471328496933)"
      ]
     },
     "execution_count": 13,
     "metadata": {},
     "output_type": "execute_result"
    }
   ],
   "source": [
    "stats.shapiro(dc_is_close_review_count_bs)"
   ]
  },
  {
   "cell_type": "markdown",
   "metadata": {},
   "source": [
    "(0.9976388812065125, 0.1620471328496933)"
   ]
  },
  {
   "cell_type": "code",
   "execution_count": 14,
   "metadata": {},
   "outputs": [
    {
     "data": {
      "text/plain": [
       "Ttest_indResult(statistic=1600.7247146141156, pvalue=0.0)"
      ]
     },
     "execution_count": 14,
     "metadata": {},
     "output_type": "execute_result"
    }
   ],
   "source": [
    "stats.ttest_ind(dc_is_open_review_count_bs, dc_is_close_review_count_bs, equal_var=False)"
   ]
  },
  {
   "cell_type": "code",
   "execution_count": null,
   "metadata": {},
   "outputs": [],
   "source": []
  },
  {
   "cell_type": "code",
   "execution_count": null,
   "metadata": {},
   "outputs": [],
   "source": []
  },
  {
   "cell_type": "markdown",
   "metadata": {},
   "source": [
    "### VA"
   ]
  },
  {
   "cell_type": "code",
   "execution_count": 15,
   "metadata": {},
   "outputs": [
    {
     "name": "stdout",
     "output_type": "stream",
     "text": [
      "313\n"
     ]
    },
    {
     "data": {
      "text/html": [
       "<div>\n",
       "<style scoped>\n",
       "    .dataframe tbody tr th:only-of-type {\n",
       "        vertical-align: middle;\n",
       "    }\n",
       "\n",
       "    .dataframe tbody tr th {\n",
       "        vertical-align: top;\n",
       "    }\n",
       "\n",
       "    .dataframe thead th {\n",
       "        text-align: right;\n",
       "    }\n",
       "</style>\n",
       "<table border=\"1\" class=\"dataframe\">\n",
       "  <thead>\n",
       "    <tr style=\"text-align: right;\">\n",
       "      <th></th>\n",
       "      <th>id</th>\n",
       "      <th>name</th>\n",
       "      <th>price</th>\n",
       "      <th>rating</th>\n",
       "      <th>review_count</th>\n",
       "      <th>open_pass_midnight</th>\n",
       "      <th>state</th>\n",
       "    </tr>\n",
       "  </thead>\n",
       "  <tbody>\n",
       "    <tr>\n",
       "      <th>0</th>\n",
       "      <td>-7mtTaJVlmx9TqWM-CAw-A</td>\n",
       "      <td>Breeze Bakery Cafe</td>\n",
       "      <td>$</td>\n",
       "      <td>4.0</td>\n",
       "      <td>874</td>\n",
       "      <td>True</td>\n",
       "      <td>VA</td>\n",
       "    </tr>\n",
       "    <tr>\n",
       "      <th>1</th>\n",
       "      <td>-8TkrTNeebNwFGcfDKJgRQ</td>\n",
       "      <td>Viva Tequila</td>\n",
       "      <td>$$</td>\n",
       "      <td>1.5</td>\n",
       "      <td>26</td>\n",
       "      <td>True</td>\n",
       "      <td>VA</td>\n",
       "    </tr>\n",
       "    <tr>\n",
       "      <th>2</th>\n",
       "      <td>-ZVeyeJEL0jHiUO_-u8CAw</td>\n",
       "      <td>Rock It Grill</td>\n",
       "      <td>$$</td>\n",
       "      <td>3.0</td>\n",
       "      <td>268</td>\n",
       "      <td>True</td>\n",
       "      <td>VA</td>\n",
       "    </tr>\n",
       "    <tr>\n",
       "      <th>3</th>\n",
       "      <td>-fJExaZdJT03DbTGmxEuCg</td>\n",
       "      <td>Fuzion Hookah Lounge &amp; Vape</td>\n",
       "      <td>$$</td>\n",
       "      <td>2.5</td>\n",
       "      <td>40</td>\n",
       "      <td>True</td>\n",
       "      <td>VA</td>\n",
       "    </tr>\n",
       "    <tr>\n",
       "      <th>4</th>\n",
       "      <td>-fZ_-5koplvoYPLegzeXQw</td>\n",
       "      <td>Vermilion</td>\n",
       "      <td>$$$</td>\n",
       "      <td>4.0</td>\n",
       "      <td>807</td>\n",
       "      <td>True</td>\n",
       "      <td>VA</td>\n",
       "    </tr>\n",
       "  </tbody>\n",
       "</table>\n",
       "</div>"
      ],
      "text/plain": [
       "                       id                         name price  rating  \\\n",
       "0  -7mtTaJVlmx9TqWM-CAw-A           Breeze Bakery Cafe     $     4.0   \n",
       "1  -8TkrTNeebNwFGcfDKJgRQ                 Viva Tequila    $$     1.5   \n",
       "2  -ZVeyeJEL0jHiUO_-u8CAw                Rock It Grill    $$     3.0   \n",
       "3  -fJExaZdJT03DbTGmxEuCg  Fuzion Hookah Lounge & Vape    $$     2.5   \n",
       "4  -fZ_-5koplvoYPLegzeXQw                    Vermilion   $$$     4.0   \n",
       "\n",
       "   review_count  open_pass_midnight state  \n",
       "0           874                True    VA  \n",
       "1            26                True    VA  \n",
       "2           268                True    VA  \n",
       "3            40                True    VA  \n",
       "4           807                True    VA  "
      ]
     },
     "execution_count": 15,
     "metadata": {},
     "output_type": "execute_result"
    }
   ],
   "source": [
    "va_is_open = va[va.open_pass_midnight == True]\n",
    "va_is_open.reset_index(inplace=True, drop=True)\n",
    "print(len(va_is_open))\n",
    "va_is_open.head()"
   ]
  },
  {
   "cell_type": "code",
   "execution_count": 16,
   "metadata": {},
   "outputs": [],
   "source": [
    "va_is_open_review_count = va_is_open.review_count"
   ]
  },
  {
   "cell_type": "code",
   "execution_count": 17,
   "metadata": {},
   "outputs": [
    {
     "name": "stdout",
     "output_type": "stream",
     "text": [
      "1768\n"
     ]
    },
    {
     "data": {
      "text/html": [
       "<div>\n",
       "<style scoped>\n",
       "    .dataframe tbody tr th:only-of-type {\n",
       "        vertical-align: middle;\n",
       "    }\n",
       "\n",
       "    .dataframe tbody tr th {\n",
       "        vertical-align: top;\n",
       "    }\n",
       "\n",
       "    .dataframe thead th {\n",
       "        text-align: right;\n",
       "    }\n",
       "</style>\n",
       "<table border=\"1\" class=\"dataframe\">\n",
       "  <thead>\n",
       "    <tr style=\"text-align: right;\">\n",
       "      <th></th>\n",
       "      <th>id</th>\n",
       "      <th>name</th>\n",
       "      <th>price</th>\n",
       "      <th>rating</th>\n",
       "      <th>review_count</th>\n",
       "      <th>open_pass_midnight</th>\n",
       "      <th>state</th>\n",
       "    </tr>\n",
       "  </thead>\n",
       "  <tbody>\n",
       "    <tr>\n",
       "      <th>0</th>\n",
       "      <td>-0EptA8Ci4gad0arJph4VQ</td>\n",
       "      <td>California Pizza Kitchen at Tysons Corner</td>\n",
       "      <td>$$</td>\n",
       "      <td>3.5</td>\n",
       "      <td>192</td>\n",
       "      <td>False</td>\n",
       "      <td>VA</td>\n",
       "    </tr>\n",
       "    <tr>\n",
       "      <th>1</th>\n",
       "      <td>-34O36suTEIwy0DIvpW8PA</td>\n",
       "      <td>Dunkin’ Donuts</td>\n",
       "      <td>$</td>\n",
       "      <td>4.5</td>\n",
       "      <td>2</td>\n",
       "      <td>False</td>\n",
       "      <td>VA</td>\n",
       "    </tr>\n",
       "    <tr>\n",
       "      <th>2</th>\n",
       "      <td>-4S7XMRABeCDOvJ7lKqgtw</td>\n",
       "      <td>Twist Cafe &amp; Deli</td>\n",
       "      <td>$</td>\n",
       "      <td>4.5</td>\n",
       "      <td>29</td>\n",
       "      <td>False</td>\n",
       "      <td>VA</td>\n",
       "    </tr>\n",
       "    <tr>\n",
       "      <th>3</th>\n",
       "      <td>-8E7ufgStmiNHW25NwOUGA</td>\n",
       "      <td>Five Guys</td>\n",
       "      <td>$</td>\n",
       "      <td>4.0</td>\n",
       "      <td>85</td>\n",
       "      <td>False</td>\n",
       "      <td>VA</td>\n",
       "    </tr>\n",
       "    <tr>\n",
       "      <th>4</th>\n",
       "      <td>-9XZ1B_p6j8HBnSzqdMzJQ</td>\n",
       "      <td>Chicken House</td>\n",
       "      <td>$</td>\n",
       "      <td>3.0</td>\n",
       "      <td>14</td>\n",
       "      <td>False</td>\n",
       "      <td>VA</td>\n",
       "    </tr>\n",
       "  </tbody>\n",
       "</table>\n",
       "</div>"
      ],
      "text/plain": [
       "                       id                                       name price  \\\n",
       "0  -0EptA8Ci4gad0arJph4VQ  California Pizza Kitchen at Tysons Corner    $$   \n",
       "1  -34O36suTEIwy0DIvpW8PA                             Dunkin’ Donuts     $   \n",
       "2  -4S7XMRABeCDOvJ7lKqgtw                          Twist Cafe & Deli     $   \n",
       "3  -8E7ufgStmiNHW25NwOUGA                                  Five Guys     $   \n",
       "4  -9XZ1B_p6j8HBnSzqdMzJQ                              Chicken House     $   \n",
       "\n",
       "   rating  review_count  open_pass_midnight state  \n",
       "0     3.5           192               False    VA  \n",
       "1     4.5             2               False    VA  \n",
       "2     4.5            29               False    VA  \n",
       "3     4.0            85               False    VA  \n",
       "4     3.0            14               False    VA  "
      ]
     },
     "execution_count": 17,
     "metadata": {},
     "output_type": "execute_result"
    }
   ],
   "source": [
    "va_is_close = va[va.open_pass_midnight == False]\n",
    "va_is_close.reset_index(inplace=True, drop=True)\n",
    "print(len(va_is_close))\n",
    "va_is_close.head()"
   ]
  },
  {
   "cell_type": "code",
   "execution_count": 18,
   "metadata": {},
   "outputs": [],
   "source": [
    "va_is_close_review_count = va_is_close.review_count"
   ]
  },
  {
   "cell_type": "code",
   "execution_count": 19,
   "metadata": {},
   "outputs": [
    {
     "data": {
      "text/plain": [
       "(0.7312374114990234, 3.6642662253808003e-22)"
      ]
     },
     "execution_count": 19,
     "metadata": {},
     "output_type": "execute_result"
    }
   ],
   "source": [
    "stats.shapiro(va_is_open_review_count)"
   ]
  },
  {
   "cell_type": "code",
   "execution_count": 20,
   "metadata": {},
   "outputs": [
    {
     "data": {
      "text/plain": [
       "(0.652064323425293, 0.0)"
      ]
     },
     "execution_count": 20,
     "metadata": {},
     "output_type": "execute_result"
    }
   ],
   "source": [
    "stats.shapiro(va_is_close_review_count)"
   ]
  },
  {
   "cell_type": "code",
   "execution_count": 21,
   "metadata": {},
   "outputs": [],
   "source": [
    "np.random.seed(784518)\n",
    "va_is_open_review_count_bs = sampling(va_is_open_review_count, 100000, 1000)\n",
    "va_is_close_review_count_bs = sampling(va_is_close_review_count, 100000, 1000)"
   ]
  },
  {
   "cell_type": "code",
   "execution_count": 22,
   "metadata": {},
   "outputs": [
    {
     "data": {
      "text/plain": [
       "(0.9986493587493896, 0.6543724536895752)"
      ]
     },
     "execution_count": 22,
     "metadata": {},
     "output_type": "execute_result"
    }
   ],
   "source": [
    "stats.shapiro(va_is_open_review_count_bs)"
   ]
  },
  {
   "cell_type": "markdown",
   "metadata": {},
   "source": [
    "(0.9986493587493896, 0.6543724536895752)"
   ]
  },
  {
   "cell_type": "code",
   "execution_count": 23,
   "metadata": {},
   "outputs": [
    {
     "data": {
      "text/plain": [
       "(0.9983330368995667, 0.4506615102291107)"
      ]
     },
     "execution_count": 23,
     "metadata": {},
     "output_type": "execute_result"
    }
   ],
   "source": [
    "stats.shapiro(va_is_close_review_count_bs)"
   ]
  },
  {
   "cell_type": "markdown",
   "metadata": {},
   "source": [
    "(0.9983330368995667, 0.4506615102291107)"
   ]
  },
  {
   "cell_type": "code",
   "execution_count": 24,
   "metadata": {},
   "outputs": [
    {
     "data": {
      "text/plain": [
       "Ttest_indResult(statistic=2309.274185339508, pvalue=0.0)"
      ]
     },
     "execution_count": 24,
     "metadata": {},
     "output_type": "execute_result"
    }
   ],
   "source": [
    "stats.ttest_ind(va_is_open_review_count_bs, va_is_close_review_count_bs, equal_var=False)"
   ]
  },
  {
   "cell_type": "code",
   "execution_count": null,
   "metadata": {},
   "outputs": [],
   "source": []
  },
  {
   "cell_type": "code",
   "execution_count": null,
   "metadata": {},
   "outputs": [],
   "source": []
  },
  {
   "cell_type": "markdown",
   "metadata": {},
   "source": [
    "### MD"
   ]
  },
  {
   "cell_type": "code",
   "execution_count": 25,
   "metadata": {},
   "outputs": [
    {
     "name": "stdout",
     "output_type": "stream",
     "text": [
      "277\n"
     ]
    },
    {
     "data": {
      "text/html": [
       "<div>\n",
       "<style scoped>\n",
       "    .dataframe tbody tr th:only-of-type {\n",
       "        vertical-align: middle;\n",
       "    }\n",
       "\n",
       "    .dataframe tbody tr th {\n",
       "        vertical-align: top;\n",
       "    }\n",
       "\n",
       "    .dataframe thead th {\n",
       "        text-align: right;\n",
       "    }\n",
       "</style>\n",
       "<table border=\"1\" class=\"dataframe\">\n",
       "  <thead>\n",
       "    <tr style=\"text-align: right;\">\n",
       "      <th></th>\n",
       "      <th>id</th>\n",
       "      <th>name</th>\n",
       "      <th>price</th>\n",
       "      <th>rating</th>\n",
       "      <th>review_count</th>\n",
       "      <th>open_pass_midnight</th>\n",
       "      <th>state</th>\n",
       "    </tr>\n",
       "  </thead>\n",
       "  <tbody>\n",
       "    <tr>\n",
       "      <th>0</th>\n",
       "      <td>-1Jfl_zix9l1RRWOPmzSEQ</td>\n",
       "      <td>IHOP</td>\n",
       "      <td>$$</td>\n",
       "      <td>2.5</td>\n",
       "      <td>125</td>\n",
       "      <td>True</td>\n",
       "      <td>MD</td>\n",
       "    </tr>\n",
       "    <tr>\n",
       "      <th>1</th>\n",
       "      <td>-4B2Bm0hXrr043xOj85dog</td>\n",
       "      <td>Cancun Grill Restaurant</td>\n",
       "      <td>$$</td>\n",
       "      <td>2.5</td>\n",
       "      <td>2</td>\n",
       "      <td>True</td>\n",
       "      <td>MD</td>\n",
       "    </tr>\n",
       "    <tr>\n",
       "      <th>2</th>\n",
       "      <td>-EbZgoRwfoHtYkGN2VVbVw</td>\n",
       "      <td>Amo Los Tacos</td>\n",
       "      <td>$$</td>\n",
       "      <td>2.5</td>\n",
       "      <td>34</td>\n",
       "      <td>True</td>\n",
       "      <td>MD</td>\n",
       "    </tr>\n",
       "    <tr>\n",
       "      <th>3</th>\n",
       "      <td>-HFG7EOMJ_no-rKdYxbojg</td>\n",
       "      <td>Clyde's of Chevy Chase</td>\n",
       "      <td>$$</td>\n",
       "      <td>3.0</td>\n",
       "      <td>421</td>\n",
       "      <td>True</td>\n",
       "      <td>MD</td>\n",
       "    </tr>\n",
       "    <tr>\n",
       "      <th>4</th>\n",
       "      <td>-NVpjIM1b0_4PbdX1d4wXw</td>\n",
       "      <td>Balagger Ethiopian Restaurant and Bar</td>\n",
       "      <td>$$</td>\n",
       "      <td>3.0</td>\n",
       "      <td>26</td>\n",
       "      <td>True</td>\n",
       "      <td>MD</td>\n",
       "    </tr>\n",
       "  </tbody>\n",
       "</table>\n",
       "</div>"
      ],
      "text/plain": [
       "                       id                                   name price  \\\n",
       "0  -1Jfl_zix9l1RRWOPmzSEQ                                   IHOP    $$   \n",
       "1  -4B2Bm0hXrr043xOj85dog                Cancun Grill Restaurant    $$   \n",
       "2  -EbZgoRwfoHtYkGN2VVbVw                          Amo Los Tacos    $$   \n",
       "3  -HFG7EOMJ_no-rKdYxbojg                 Clyde's of Chevy Chase    $$   \n",
       "4  -NVpjIM1b0_4PbdX1d4wXw  Balagger Ethiopian Restaurant and Bar    $$   \n",
       "\n",
       "   rating  review_count  open_pass_midnight state  \n",
       "0     2.5           125                True    MD  \n",
       "1     2.5             2                True    MD  \n",
       "2     2.5            34                True    MD  \n",
       "3     3.0           421                True    MD  \n",
       "4     3.0            26                True    MD  "
      ]
     },
     "execution_count": 25,
     "metadata": {},
     "output_type": "execute_result"
    }
   ],
   "source": [
    "md_is_open = md[md.open_pass_midnight == True]\n",
    "md_is_open.reset_index(inplace=True, drop=True)\n",
    "print(len(md_is_open))\n",
    "md_is_open.head()"
   ]
  },
  {
   "cell_type": "code",
   "execution_count": 26,
   "metadata": {},
   "outputs": [],
   "source": [
    "md_is_open_review_count = md_is_open.review_count"
   ]
  },
  {
   "cell_type": "code",
   "execution_count": 27,
   "metadata": {},
   "outputs": [
    {
     "name": "stdout",
     "output_type": "stream",
     "text": [
      "1691\n"
     ]
    },
    {
     "data": {
      "text/html": [
       "<div>\n",
       "<style scoped>\n",
       "    .dataframe tbody tr th:only-of-type {\n",
       "        vertical-align: middle;\n",
       "    }\n",
       "\n",
       "    .dataframe tbody tr th {\n",
       "        vertical-align: top;\n",
       "    }\n",
       "\n",
       "    .dataframe thead th {\n",
       "        text-align: right;\n",
       "    }\n",
       "</style>\n",
       "<table border=\"1\" class=\"dataframe\">\n",
       "  <thead>\n",
       "    <tr style=\"text-align: right;\">\n",
       "      <th></th>\n",
       "      <th>id</th>\n",
       "      <th>name</th>\n",
       "      <th>price</th>\n",
       "      <th>rating</th>\n",
       "      <th>review_count</th>\n",
       "      <th>open_pass_midnight</th>\n",
       "      <th>state</th>\n",
       "    </tr>\n",
       "  </thead>\n",
       "  <tbody>\n",
       "    <tr>\n",
       "      <th>0</th>\n",
       "      <td>--saaXOpXBfC6-pvmTP5mw</td>\n",
       "      <td>Not Your Average Joe's</td>\n",
       "      <td>$$</td>\n",
       "      <td>3.5</td>\n",
       "      <td>372</td>\n",
       "      <td>False</td>\n",
       "      <td>MD</td>\n",
       "    </tr>\n",
       "    <tr>\n",
       "      <th>1</th>\n",
       "      <td>-34232Z9Njha7auSGehjdQ</td>\n",
       "      <td>Capitol Seafood &amp; Crab</td>\n",
       "      <td>$</td>\n",
       "      <td>4.0</td>\n",
       "      <td>13</td>\n",
       "      <td>False</td>\n",
       "      <td>MD</td>\n",
       "    </tr>\n",
       "    <tr>\n",
       "      <th>2</th>\n",
       "      <td>-41K7K3wDEpHSeJtbgKMNQ</td>\n",
       "      <td>The Spot Mini</td>\n",
       "      <td>NaN</td>\n",
       "      <td>3.5</td>\n",
       "      <td>3</td>\n",
       "      <td>False</td>\n",
       "      <td>MD</td>\n",
       "    </tr>\n",
       "    <tr>\n",
       "      <th>3</th>\n",
       "      <td>-5nB1PYtZLJgmrOtHrWt0A</td>\n",
       "      <td>Taco Rico</td>\n",
       "      <td>$</td>\n",
       "      <td>4.5</td>\n",
       "      <td>18</td>\n",
       "      <td>False</td>\n",
       "      <td>MD</td>\n",
       "    </tr>\n",
       "    <tr>\n",
       "      <th>4</th>\n",
       "      <td>-7s50sIf1d1MizIOIMqcDQ</td>\n",
       "      <td>Conservatory Cafe</td>\n",
       "      <td>$$</td>\n",
       "      <td>3.0</td>\n",
       "      <td>4</td>\n",
       "      <td>False</td>\n",
       "      <td>MD</td>\n",
       "    </tr>\n",
       "  </tbody>\n",
       "</table>\n",
       "</div>"
      ],
      "text/plain": [
       "                       id                    name price  rating  review_count  \\\n",
       "0  --saaXOpXBfC6-pvmTP5mw  Not Your Average Joe's    $$     3.5           372   \n",
       "1  -34232Z9Njha7auSGehjdQ  Capitol Seafood & Crab     $     4.0            13   \n",
       "2  -41K7K3wDEpHSeJtbgKMNQ           The Spot Mini   NaN     3.5             3   \n",
       "3  -5nB1PYtZLJgmrOtHrWt0A               Taco Rico     $     4.5            18   \n",
       "4  -7s50sIf1d1MizIOIMqcDQ       Conservatory Cafe    $$     3.0             4   \n",
       "\n",
       "   open_pass_midnight state  \n",
       "0               False    MD  \n",
       "1               False    MD  \n",
       "2               False    MD  \n",
       "3               False    MD  \n",
       "4               False    MD  "
      ]
     },
     "execution_count": 27,
     "metadata": {},
     "output_type": "execute_result"
    }
   ],
   "source": [
    "md_is_close = md[md.open_pass_midnight == False]\n",
    "md_is_close.reset_index(inplace=True, drop=True)\n",
    "print(len(md_is_close))\n",
    "md_is_close.head()"
   ]
  },
  {
   "cell_type": "code",
   "execution_count": 28,
   "metadata": {},
   "outputs": [],
   "source": [
    "md_is_close_review_count = md_is_close.review_count"
   ]
  },
  {
   "cell_type": "code",
   "execution_count": 29,
   "metadata": {},
   "outputs": [
    {
     "data": {
      "text/plain": [
       "(0.6407667398452759, 9.523610841841145e-24)"
      ]
     },
     "execution_count": 29,
     "metadata": {},
     "output_type": "execute_result"
    }
   ],
   "source": [
    "stats.shapiro(md_is_open_review_count)"
   ]
  },
  {
   "cell_type": "code",
   "execution_count": 30,
   "metadata": {},
   "outputs": [
    {
     "data": {
      "text/plain": [
       "(0.5718902945518494, 0.0)"
      ]
     },
     "execution_count": 30,
     "metadata": {},
     "output_type": "execute_result"
    }
   ],
   "source": [
    "stats.shapiro(md_is_close_review_count)"
   ]
  },
  {
   "cell_type": "code",
   "execution_count": 31,
   "metadata": {},
   "outputs": [],
   "source": [
    "np.random.seed(954545)\n",
    "md_is_open_review_count_bs = sampling(md_is_open_review_count, 100000, 1000)\n",
    "md_is_close_review_count_bs = sampling(md_is_close_review_count, 100000, 1000)"
   ]
  },
  {
   "cell_type": "code",
   "execution_count": 32,
   "metadata": {},
   "outputs": [
    {
     "data": {
      "text/plain": [
       "(0.9979653358459473, 0.2684260904788971)"
      ]
     },
     "execution_count": 32,
     "metadata": {},
     "output_type": "execute_result"
    }
   ],
   "source": [
    "stats.shapiro(md_is_open_review_count_bs)"
   ]
  },
  {
   "cell_type": "markdown",
   "metadata": {},
   "source": [
    "(0.9979653358459473, 0.2684260904788971)"
   ]
  },
  {
   "cell_type": "code",
   "execution_count": 33,
   "metadata": {},
   "outputs": [
    {
     "data": {
      "text/plain": [
       "(0.9987289905548096, 0.7080173492431641)"
      ]
     },
     "execution_count": 33,
     "metadata": {},
     "output_type": "execute_result"
    }
   ],
   "source": [
    "stats.shapiro(md_is_close_review_count_bs)"
   ]
  },
  {
   "cell_type": "markdown",
   "metadata": {},
   "source": [
    "(0.9987289905548096, 0.7080173492431641)"
   ]
  },
  {
   "cell_type": "code",
   "execution_count": 34,
   "metadata": {},
   "outputs": [
    {
     "data": {
      "text/plain": [
       "Ttest_indResult(statistic=130.7624749763433, pvalue=0.0)"
      ]
     },
     "execution_count": 34,
     "metadata": {},
     "output_type": "execute_result"
    }
   ],
   "source": [
    "stats.ttest_ind(md_is_open_review_count_bs, md_is_close_review_count_bs, equal_var=False)"
   ]
  },
  {
   "cell_type": "code",
   "execution_count": null,
   "metadata": {},
   "outputs": [],
   "source": []
  }
 ],
 "metadata": {
  "kernelspec": {
   "display_name": "Python 3",
   "language": "python",
   "name": "python3"
  },
  "language_info": {
   "codemirror_mode": {
    "name": "ipython",
    "version": 3
   },
   "file_extension": ".py",
   "mimetype": "text/x-python",
   "name": "python",
   "nbconvert_exporter": "python",
   "pygments_lexer": "ipython3",
   "version": "3.7.3"
  }
 },
 "nbformat": 4,
 "nbformat_minor": 2
}
